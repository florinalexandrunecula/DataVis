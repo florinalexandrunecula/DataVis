{
 "cells": [
  {
   "cell_type": "code",
   "execution_count": 25,
   "id": "8b687ec6",
   "metadata": {},
   "outputs": [],
   "source": [
    "import pandas as pd\n",
    "import matplotlib.pyplot as plt\n",
    "import seaborn as sns\n",
    "import numpy as np\n",
    "import plotly.express as px\n",
    "import plotly.graph_objects as go\n",
    "import plotly.figure_factory as ff\n",
    "\n",
    "df = pd.read_csv(\"spotify_top_music.csv\")"
   ]
  },
  {
   "cell_type": "markdown",
   "id": "4484eace",
   "metadata": {},
   "source": [
    "# Quick look at the data"
   ]
  },
  {
   "cell_type": "code",
   "execution_count": 6,
   "id": "3d7f9270",
   "metadata": {},
   "outputs": [
    {
     "data": {
      "text/html": [
       "<div>\n",
       "<style scoped>\n",
       "    .dataframe tbody tr th:only-of-type {\n",
       "        vertical-align: middle;\n",
       "    }\n",
       "\n",
       "    .dataframe tbody tr th {\n",
       "        vertical-align: top;\n",
       "    }\n",
       "\n",
       "    .dataframe thead th {\n",
       "        text-align: right;\n",
       "    }\n",
       "</style>\n",
       "<table border=\"1\" class=\"dataframe\">\n",
       "  <thead>\n",
       "    <tr style=\"text-align: right;\">\n",
       "      <th></th>\n",
       "      <th>title</th>\n",
       "      <th>artist</th>\n",
       "      <th>top genre</th>\n",
       "      <th>year</th>\n",
       "      <th>bpm</th>\n",
       "      <th>nrgy</th>\n",
       "      <th>dnce</th>\n",
       "      <th>dB</th>\n",
       "      <th>live</th>\n",
       "      <th>val</th>\n",
       "      <th>dur</th>\n",
       "      <th>acous</th>\n",
       "      <th>spch</th>\n",
       "      <th>pop</th>\n",
       "    </tr>\n",
       "  </thead>\n",
       "  <tbody>\n",
       "    <tr>\n",
       "      <th>0</th>\n",
       "      <td>Hey, Soul Sister</td>\n",
       "      <td>Train</td>\n",
       "      <td>neo mellow</td>\n",
       "      <td>2010</td>\n",
       "      <td>97</td>\n",
       "      <td>89</td>\n",
       "      <td>67</td>\n",
       "      <td>-4</td>\n",
       "      <td>8</td>\n",
       "      <td>80</td>\n",
       "      <td>217</td>\n",
       "      <td>19</td>\n",
       "      <td>4</td>\n",
       "      <td>83</td>\n",
       "    </tr>\n",
       "    <tr>\n",
       "      <th>1</th>\n",
       "      <td>Love The Way You Lie</td>\n",
       "      <td>Eminem</td>\n",
       "      <td>detroit hip hop</td>\n",
       "      <td>2010</td>\n",
       "      <td>87</td>\n",
       "      <td>93</td>\n",
       "      <td>75</td>\n",
       "      <td>-5</td>\n",
       "      <td>52</td>\n",
       "      <td>64</td>\n",
       "      <td>263</td>\n",
       "      <td>24</td>\n",
       "      <td>23</td>\n",
       "      <td>82</td>\n",
       "    </tr>\n",
       "    <tr>\n",
       "      <th>2</th>\n",
       "      <td>TiK ToK</td>\n",
       "      <td>Kesha</td>\n",
       "      <td>dance pop</td>\n",
       "      <td>2010</td>\n",
       "      <td>120</td>\n",
       "      <td>84</td>\n",
       "      <td>76</td>\n",
       "      <td>-3</td>\n",
       "      <td>29</td>\n",
       "      <td>71</td>\n",
       "      <td>200</td>\n",
       "      <td>10</td>\n",
       "      <td>14</td>\n",
       "      <td>80</td>\n",
       "    </tr>\n",
       "    <tr>\n",
       "      <th>3</th>\n",
       "      <td>Bad Romance</td>\n",
       "      <td>Lady Gaga</td>\n",
       "      <td>dance pop</td>\n",
       "      <td>2010</td>\n",
       "      <td>119</td>\n",
       "      <td>92</td>\n",
       "      <td>70</td>\n",
       "      <td>-4</td>\n",
       "      <td>8</td>\n",
       "      <td>71</td>\n",
       "      <td>295</td>\n",
       "      <td>0</td>\n",
       "      <td>4</td>\n",
       "      <td>79</td>\n",
       "    </tr>\n",
       "    <tr>\n",
       "      <th>4</th>\n",
       "      <td>Just the Way You Are</td>\n",
       "      <td>Bruno Mars</td>\n",
       "      <td>pop</td>\n",
       "      <td>2010</td>\n",
       "      <td>109</td>\n",
       "      <td>84</td>\n",
       "      <td>64</td>\n",
       "      <td>-5</td>\n",
       "      <td>9</td>\n",
       "      <td>43</td>\n",
       "      <td>221</td>\n",
       "      <td>2</td>\n",
       "      <td>4</td>\n",
       "      <td>78</td>\n",
       "    </tr>\n",
       "  </tbody>\n",
       "</table>\n",
       "</div>"
      ],
      "text/plain": [
       "                  title      artist        top genre  year  bpm  nrgy  dnce   \n",
       "0      Hey, Soul Sister       Train       neo mellow  2010   97    89    67  \\\n",
       "1  Love The Way You Lie      Eminem  detroit hip hop  2010   87    93    75   \n",
       "2               TiK ToK       Kesha        dance pop  2010  120    84    76   \n",
       "3           Bad Romance   Lady Gaga        dance pop  2010  119    92    70   \n",
       "4  Just the Way You Are  Bruno Mars              pop  2010  109    84    64   \n",
       "\n",
       "   dB  live  val  dur  acous  spch  pop  \n",
       "0  -4     8   80  217     19     4   83  \n",
       "1  -5    52   64  263     24    23   82  \n",
       "2  -3    29   71  200     10    14   80  \n",
       "3  -4     8   71  295      0     4   79  \n",
       "4  -5     9   43  221      2     4   78  "
      ]
     },
     "execution_count": 6,
     "metadata": {},
     "output_type": "execute_result"
    }
   ],
   "source": [
    "df.head()"
   ]
  },
  {
   "cell_type": "code",
   "execution_count": 7,
   "id": "33774fd2",
   "metadata": {},
   "outputs": [
    {
     "data": {
      "text/html": [
       "<div>\n",
       "<style scoped>\n",
       "    .dataframe tbody tr th:only-of-type {\n",
       "        vertical-align: middle;\n",
       "    }\n",
       "\n",
       "    .dataframe tbody tr th {\n",
       "        vertical-align: top;\n",
       "    }\n",
       "\n",
       "    .dataframe thead th {\n",
       "        text-align: right;\n",
       "    }\n",
       "</style>\n",
       "<table border=\"1\" class=\"dataframe\">\n",
       "  <thead>\n",
       "    <tr style=\"text-align: right;\">\n",
       "      <th></th>\n",
       "      <th>year</th>\n",
       "      <th>bpm</th>\n",
       "      <th>nrgy</th>\n",
       "      <th>dnce</th>\n",
       "      <th>dB</th>\n",
       "      <th>live</th>\n",
       "      <th>val</th>\n",
       "      <th>dur</th>\n",
       "      <th>acous</th>\n",
       "      <th>spch</th>\n",
       "      <th>pop</th>\n",
       "    </tr>\n",
       "  </thead>\n",
       "  <tbody>\n",
       "    <tr>\n",
       "      <th>count</th>\n",
       "      <td>603.000000</td>\n",
       "      <td>603.000000</td>\n",
       "      <td>603.000000</td>\n",
       "      <td>603.000000</td>\n",
       "      <td>603.000000</td>\n",
       "      <td>603.000000</td>\n",
       "      <td>603.000000</td>\n",
       "      <td>603.000000</td>\n",
       "      <td>603.000000</td>\n",
       "      <td>603.000000</td>\n",
       "      <td>603.000000</td>\n",
       "    </tr>\n",
       "    <tr>\n",
       "      <th>mean</th>\n",
       "      <td>2014.592040</td>\n",
       "      <td>118.545605</td>\n",
       "      <td>70.504146</td>\n",
       "      <td>64.379768</td>\n",
       "      <td>-5.578773</td>\n",
       "      <td>17.774461</td>\n",
       "      <td>52.225539</td>\n",
       "      <td>224.674959</td>\n",
       "      <td>14.326700</td>\n",
       "      <td>8.358209</td>\n",
       "      <td>66.520730</td>\n",
       "    </tr>\n",
       "    <tr>\n",
       "      <th>std</th>\n",
       "      <td>2.607057</td>\n",
       "      <td>24.795358</td>\n",
       "      <td>16.310664</td>\n",
       "      <td>13.378718</td>\n",
       "      <td>2.798020</td>\n",
       "      <td>13.102543</td>\n",
       "      <td>22.513020</td>\n",
       "      <td>34.130059</td>\n",
       "      <td>20.766165</td>\n",
       "      <td>7.483162</td>\n",
       "      <td>14.517746</td>\n",
       "    </tr>\n",
       "    <tr>\n",
       "      <th>min</th>\n",
       "      <td>2010.000000</td>\n",
       "      <td>0.000000</td>\n",
       "      <td>0.000000</td>\n",
       "      <td>0.000000</td>\n",
       "      <td>-60.000000</td>\n",
       "      <td>0.000000</td>\n",
       "      <td>0.000000</td>\n",
       "      <td>134.000000</td>\n",
       "      <td>0.000000</td>\n",
       "      <td>0.000000</td>\n",
       "      <td>0.000000</td>\n",
       "    </tr>\n",
       "    <tr>\n",
       "      <th>25%</th>\n",
       "      <td>2013.000000</td>\n",
       "      <td>100.000000</td>\n",
       "      <td>61.000000</td>\n",
       "      <td>57.000000</td>\n",
       "      <td>-6.000000</td>\n",
       "      <td>9.000000</td>\n",
       "      <td>35.000000</td>\n",
       "      <td>202.000000</td>\n",
       "      <td>2.000000</td>\n",
       "      <td>4.000000</td>\n",
       "      <td>60.000000</td>\n",
       "    </tr>\n",
       "    <tr>\n",
       "      <th>50%</th>\n",
       "      <td>2015.000000</td>\n",
       "      <td>120.000000</td>\n",
       "      <td>74.000000</td>\n",
       "      <td>66.000000</td>\n",
       "      <td>-5.000000</td>\n",
       "      <td>12.000000</td>\n",
       "      <td>52.000000</td>\n",
       "      <td>221.000000</td>\n",
       "      <td>6.000000</td>\n",
       "      <td>5.000000</td>\n",
       "      <td>69.000000</td>\n",
       "    </tr>\n",
       "    <tr>\n",
       "      <th>75%</th>\n",
       "      <td>2017.000000</td>\n",
       "      <td>129.000000</td>\n",
       "      <td>82.000000</td>\n",
       "      <td>73.000000</td>\n",
       "      <td>-4.000000</td>\n",
       "      <td>24.000000</td>\n",
       "      <td>69.000000</td>\n",
       "      <td>239.500000</td>\n",
       "      <td>17.000000</td>\n",
       "      <td>9.000000</td>\n",
       "      <td>76.000000</td>\n",
       "    </tr>\n",
       "    <tr>\n",
       "      <th>max</th>\n",
       "      <td>2019.000000</td>\n",
       "      <td>206.000000</td>\n",
       "      <td>98.000000</td>\n",
       "      <td>97.000000</td>\n",
       "      <td>-2.000000</td>\n",
       "      <td>74.000000</td>\n",
       "      <td>98.000000</td>\n",
       "      <td>424.000000</td>\n",
       "      <td>99.000000</td>\n",
       "      <td>48.000000</td>\n",
       "      <td>99.000000</td>\n",
       "    </tr>\n",
       "  </tbody>\n",
       "</table>\n",
       "</div>"
      ],
      "text/plain": [
       "              year         bpm        nrgy        dnce          dB   \n",
       "count   603.000000  603.000000  603.000000  603.000000  603.000000  \\\n",
       "mean   2014.592040  118.545605   70.504146   64.379768   -5.578773   \n",
       "std       2.607057   24.795358   16.310664   13.378718    2.798020   \n",
       "min    2010.000000    0.000000    0.000000    0.000000  -60.000000   \n",
       "25%    2013.000000  100.000000   61.000000   57.000000   -6.000000   \n",
       "50%    2015.000000  120.000000   74.000000   66.000000   -5.000000   \n",
       "75%    2017.000000  129.000000   82.000000   73.000000   -4.000000   \n",
       "max    2019.000000  206.000000   98.000000   97.000000   -2.000000   \n",
       "\n",
       "             live         val         dur       acous        spch         pop  \n",
       "count  603.000000  603.000000  603.000000  603.000000  603.000000  603.000000  \n",
       "mean    17.774461   52.225539  224.674959   14.326700    8.358209   66.520730  \n",
       "std     13.102543   22.513020   34.130059   20.766165    7.483162   14.517746  \n",
       "min      0.000000    0.000000  134.000000    0.000000    0.000000    0.000000  \n",
       "25%      9.000000   35.000000  202.000000    2.000000    4.000000   60.000000  \n",
       "50%     12.000000   52.000000  221.000000    6.000000    5.000000   69.000000  \n",
       "75%     24.000000   69.000000  239.500000   17.000000    9.000000   76.000000  \n",
       "max     74.000000   98.000000  424.000000   99.000000   48.000000   99.000000  "
      ]
     },
     "execution_count": 7,
     "metadata": {},
     "output_type": "execute_result"
    }
   ],
   "source": [
    "df.describe()"
   ]
  },
  {
   "cell_type": "markdown",
   "id": "f129cf37",
   "metadata": {},
   "source": [
    "# Initial Data Analysis"
   ]
  },
  {
   "cell_type": "markdown",
   "id": "63edd36d",
   "metadata": {},
   "source": [
    "Firstly, we'll look at the top 5 genres in our dataset:"
   ]
  },
  {
   "cell_type": "code",
   "execution_count": 12,
   "id": "e2fe9324",
   "metadata": {
    "scrolled": false
   },
   "outputs": [
    {
     "data": {
      "application/vnd.plotly.v1+json": {
       "config": {
        "plotlyServerURL": "https://plot.ly"
       },
       "data": [
        {
         "alignmentgroup": "True",
         "hovertemplate": "Genre=%{x}<br>Number of Songs=%{y}<extra></extra>",
         "legendgroup": "",
         "marker": {
          "color": "#636efa",
          "pattern": {
           "shape": ""
          }
         },
         "name": "",
         "offsetgroup": "",
         "orientation": "v",
         "showlegend": false,
         "textposition": "auto",
         "type": "bar",
         "x": [
          "dance pop",
          "pop",
          "canadian pop",
          "barbadian pop",
          "boy band"
         ],
         "xaxis": "x",
         "y": [
          327,
          60,
          34,
          15,
          15
         ],
         "yaxis": "y"
        }
       ],
       "layout": {
        "barmode": "relative",
        "legend": {
         "tracegroupgap": 0
        },
        "template": {
         "data": {
          "bar": [
           {
            "error_x": {
             "color": "#2a3f5f"
            },
            "error_y": {
             "color": "#2a3f5f"
            },
            "marker": {
             "line": {
              "color": "#E5ECF6",
              "width": 0.5
             },
             "pattern": {
              "fillmode": "overlay",
              "size": 10,
              "solidity": 0.2
             }
            },
            "type": "bar"
           }
          ],
          "barpolar": [
           {
            "marker": {
             "line": {
              "color": "#E5ECF6",
              "width": 0.5
             },
             "pattern": {
              "fillmode": "overlay",
              "size": 10,
              "solidity": 0.2
             }
            },
            "type": "barpolar"
           }
          ],
          "carpet": [
           {
            "aaxis": {
             "endlinecolor": "#2a3f5f",
             "gridcolor": "white",
             "linecolor": "white",
             "minorgridcolor": "white",
             "startlinecolor": "#2a3f5f"
            },
            "baxis": {
             "endlinecolor": "#2a3f5f",
             "gridcolor": "white",
             "linecolor": "white",
             "minorgridcolor": "white",
             "startlinecolor": "#2a3f5f"
            },
            "type": "carpet"
           }
          ],
          "choropleth": [
           {
            "colorbar": {
             "outlinewidth": 0,
             "ticks": ""
            },
            "type": "choropleth"
           }
          ],
          "contour": [
           {
            "colorbar": {
             "outlinewidth": 0,
             "ticks": ""
            },
            "colorscale": [
             [
              0,
              "#0d0887"
             ],
             [
              0.1111111111111111,
              "#46039f"
             ],
             [
              0.2222222222222222,
              "#7201a8"
             ],
             [
              0.3333333333333333,
              "#9c179e"
             ],
             [
              0.4444444444444444,
              "#bd3786"
             ],
             [
              0.5555555555555556,
              "#d8576b"
             ],
             [
              0.6666666666666666,
              "#ed7953"
             ],
             [
              0.7777777777777778,
              "#fb9f3a"
             ],
             [
              0.8888888888888888,
              "#fdca26"
             ],
             [
              1,
              "#f0f921"
             ]
            ],
            "type": "contour"
           }
          ],
          "contourcarpet": [
           {
            "colorbar": {
             "outlinewidth": 0,
             "ticks": ""
            },
            "type": "contourcarpet"
           }
          ],
          "heatmap": [
           {
            "colorbar": {
             "outlinewidth": 0,
             "ticks": ""
            },
            "colorscale": [
             [
              0,
              "#0d0887"
             ],
             [
              0.1111111111111111,
              "#46039f"
             ],
             [
              0.2222222222222222,
              "#7201a8"
             ],
             [
              0.3333333333333333,
              "#9c179e"
             ],
             [
              0.4444444444444444,
              "#bd3786"
             ],
             [
              0.5555555555555556,
              "#d8576b"
             ],
             [
              0.6666666666666666,
              "#ed7953"
             ],
             [
              0.7777777777777778,
              "#fb9f3a"
             ],
             [
              0.8888888888888888,
              "#fdca26"
             ],
             [
              1,
              "#f0f921"
             ]
            ],
            "type": "heatmap"
           }
          ],
          "heatmapgl": [
           {
            "colorbar": {
             "outlinewidth": 0,
             "ticks": ""
            },
            "colorscale": [
             [
              0,
              "#0d0887"
             ],
             [
              0.1111111111111111,
              "#46039f"
             ],
             [
              0.2222222222222222,
              "#7201a8"
             ],
             [
              0.3333333333333333,
              "#9c179e"
             ],
             [
              0.4444444444444444,
              "#bd3786"
             ],
             [
              0.5555555555555556,
              "#d8576b"
             ],
             [
              0.6666666666666666,
              "#ed7953"
             ],
             [
              0.7777777777777778,
              "#fb9f3a"
             ],
             [
              0.8888888888888888,
              "#fdca26"
             ],
             [
              1,
              "#f0f921"
             ]
            ],
            "type": "heatmapgl"
           }
          ],
          "histogram": [
           {
            "marker": {
             "pattern": {
              "fillmode": "overlay",
              "size": 10,
              "solidity": 0.2
             }
            },
            "type": "histogram"
           }
          ],
          "histogram2d": [
           {
            "colorbar": {
             "outlinewidth": 0,
             "ticks": ""
            },
            "colorscale": [
             [
              0,
              "#0d0887"
             ],
             [
              0.1111111111111111,
              "#46039f"
             ],
             [
              0.2222222222222222,
              "#7201a8"
             ],
             [
              0.3333333333333333,
              "#9c179e"
             ],
             [
              0.4444444444444444,
              "#bd3786"
             ],
             [
              0.5555555555555556,
              "#d8576b"
             ],
             [
              0.6666666666666666,
              "#ed7953"
             ],
             [
              0.7777777777777778,
              "#fb9f3a"
             ],
             [
              0.8888888888888888,
              "#fdca26"
             ],
             [
              1,
              "#f0f921"
             ]
            ],
            "type": "histogram2d"
           }
          ],
          "histogram2dcontour": [
           {
            "colorbar": {
             "outlinewidth": 0,
             "ticks": ""
            },
            "colorscale": [
             [
              0,
              "#0d0887"
             ],
             [
              0.1111111111111111,
              "#46039f"
             ],
             [
              0.2222222222222222,
              "#7201a8"
             ],
             [
              0.3333333333333333,
              "#9c179e"
             ],
             [
              0.4444444444444444,
              "#bd3786"
             ],
             [
              0.5555555555555556,
              "#d8576b"
             ],
             [
              0.6666666666666666,
              "#ed7953"
             ],
             [
              0.7777777777777778,
              "#fb9f3a"
             ],
             [
              0.8888888888888888,
              "#fdca26"
             ],
             [
              1,
              "#f0f921"
             ]
            ],
            "type": "histogram2dcontour"
           }
          ],
          "mesh3d": [
           {
            "colorbar": {
             "outlinewidth": 0,
             "ticks": ""
            },
            "type": "mesh3d"
           }
          ],
          "parcoords": [
           {
            "line": {
             "colorbar": {
              "outlinewidth": 0,
              "ticks": ""
             }
            },
            "type": "parcoords"
           }
          ],
          "pie": [
           {
            "automargin": true,
            "type": "pie"
           }
          ],
          "scatter": [
           {
            "fillpattern": {
             "fillmode": "overlay",
             "size": 10,
             "solidity": 0.2
            },
            "type": "scatter"
           }
          ],
          "scatter3d": [
           {
            "line": {
             "colorbar": {
              "outlinewidth": 0,
              "ticks": ""
             }
            },
            "marker": {
             "colorbar": {
              "outlinewidth": 0,
              "ticks": ""
             }
            },
            "type": "scatter3d"
           }
          ],
          "scattercarpet": [
           {
            "marker": {
             "colorbar": {
              "outlinewidth": 0,
              "ticks": ""
             }
            },
            "type": "scattercarpet"
           }
          ],
          "scattergeo": [
           {
            "marker": {
             "colorbar": {
              "outlinewidth": 0,
              "ticks": ""
             }
            },
            "type": "scattergeo"
           }
          ],
          "scattergl": [
           {
            "marker": {
             "colorbar": {
              "outlinewidth": 0,
              "ticks": ""
             }
            },
            "type": "scattergl"
           }
          ],
          "scattermapbox": [
           {
            "marker": {
             "colorbar": {
              "outlinewidth": 0,
              "ticks": ""
             }
            },
            "type": "scattermapbox"
           }
          ],
          "scatterpolar": [
           {
            "marker": {
             "colorbar": {
              "outlinewidth": 0,
              "ticks": ""
             }
            },
            "type": "scatterpolar"
           }
          ],
          "scatterpolargl": [
           {
            "marker": {
             "colorbar": {
              "outlinewidth": 0,
              "ticks": ""
             }
            },
            "type": "scatterpolargl"
           }
          ],
          "scatterternary": [
           {
            "marker": {
             "colorbar": {
              "outlinewidth": 0,
              "ticks": ""
             }
            },
            "type": "scatterternary"
           }
          ],
          "surface": [
           {
            "colorbar": {
             "outlinewidth": 0,
             "ticks": ""
            },
            "colorscale": [
             [
              0,
              "#0d0887"
             ],
             [
              0.1111111111111111,
              "#46039f"
             ],
             [
              0.2222222222222222,
              "#7201a8"
             ],
             [
              0.3333333333333333,
              "#9c179e"
             ],
             [
              0.4444444444444444,
              "#bd3786"
             ],
             [
              0.5555555555555556,
              "#d8576b"
             ],
             [
              0.6666666666666666,
              "#ed7953"
             ],
             [
              0.7777777777777778,
              "#fb9f3a"
             ],
             [
              0.8888888888888888,
              "#fdca26"
             ],
             [
              1,
              "#f0f921"
             ]
            ],
            "type": "surface"
           }
          ],
          "table": [
           {
            "cells": {
             "fill": {
              "color": "#EBF0F8"
             },
             "line": {
              "color": "white"
             }
            },
            "header": {
             "fill": {
              "color": "#C8D4E3"
             },
             "line": {
              "color": "white"
             }
            },
            "type": "table"
           }
          ]
         },
         "layout": {
          "annotationdefaults": {
           "arrowcolor": "#2a3f5f",
           "arrowhead": 0,
           "arrowwidth": 1
          },
          "autotypenumbers": "strict",
          "coloraxis": {
           "colorbar": {
            "outlinewidth": 0,
            "ticks": ""
           }
          },
          "colorscale": {
           "diverging": [
            [
             0,
             "#8e0152"
            ],
            [
             0.1,
             "#c51b7d"
            ],
            [
             0.2,
             "#de77ae"
            ],
            [
             0.3,
             "#f1b6da"
            ],
            [
             0.4,
             "#fde0ef"
            ],
            [
             0.5,
             "#f7f7f7"
            ],
            [
             0.6,
             "#e6f5d0"
            ],
            [
             0.7,
             "#b8e186"
            ],
            [
             0.8,
             "#7fbc41"
            ],
            [
             0.9,
             "#4d9221"
            ],
            [
             1,
             "#276419"
            ]
           ],
           "sequential": [
            [
             0,
             "#0d0887"
            ],
            [
             0.1111111111111111,
             "#46039f"
            ],
            [
             0.2222222222222222,
             "#7201a8"
            ],
            [
             0.3333333333333333,
             "#9c179e"
            ],
            [
             0.4444444444444444,
             "#bd3786"
            ],
            [
             0.5555555555555556,
             "#d8576b"
            ],
            [
             0.6666666666666666,
             "#ed7953"
            ],
            [
             0.7777777777777778,
             "#fb9f3a"
            ],
            [
             0.8888888888888888,
             "#fdca26"
            ],
            [
             1,
             "#f0f921"
            ]
           ],
           "sequentialminus": [
            [
             0,
             "#0d0887"
            ],
            [
             0.1111111111111111,
             "#46039f"
            ],
            [
             0.2222222222222222,
             "#7201a8"
            ],
            [
             0.3333333333333333,
             "#9c179e"
            ],
            [
             0.4444444444444444,
             "#bd3786"
            ],
            [
             0.5555555555555556,
             "#d8576b"
            ],
            [
             0.6666666666666666,
             "#ed7953"
            ],
            [
             0.7777777777777778,
             "#fb9f3a"
            ],
            [
             0.8888888888888888,
             "#fdca26"
            ],
            [
             1,
             "#f0f921"
            ]
           ]
          },
          "colorway": [
           "#636efa",
           "#EF553B",
           "#00cc96",
           "#ab63fa",
           "#FFA15A",
           "#19d3f3",
           "#FF6692",
           "#B6E880",
           "#FF97FF",
           "#FECB52"
          ],
          "font": {
           "color": "#2a3f5f"
          },
          "geo": {
           "bgcolor": "white",
           "lakecolor": "white",
           "landcolor": "#E5ECF6",
           "showlakes": true,
           "showland": true,
           "subunitcolor": "white"
          },
          "hoverlabel": {
           "align": "left"
          },
          "hovermode": "closest",
          "mapbox": {
           "style": "light"
          },
          "paper_bgcolor": "white",
          "plot_bgcolor": "#E5ECF6",
          "polar": {
           "angularaxis": {
            "gridcolor": "white",
            "linecolor": "white",
            "ticks": ""
           },
           "bgcolor": "#E5ECF6",
           "radialaxis": {
            "gridcolor": "white",
            "linecolor": "white",
            "ticks": ""
           }
          },
          "scene": {
           "xaxis": {
            "backgroundcolor": "#E5ECF6",
            "gridcolor": "white",
            "gridwidth": 2,
            "linecolor": "white",
            "showbackground": true,
            "ticks": "",
            "zerolinecolor": "white"
           },
           "yaxis": {
            "backgroundcolor": "#E5ECF6",
            "gridcolor": "white",
            "gridwidth": 2,
            "linecolor": "white",
            "showbackground": true,
            "ticks": "",
            "zerolinecolor": "white"
           },
           "zaxis": {
            "backgroundcolor": "#E5ECF6",
            "gridcolor": "white",
            "gridwidth": 2,
            "linecolor": "white",
            "showbackground": true,
            "ticks": "",
            "zerolinecolor": "white"
           }
          },
          "shapedefaults": {
           "line": {
            "color": "#2a3f5f"
           }
          },
          "ternary": {
           "aaxis": {
            "gridcolor": "white",
            "linecolor": "white",
            "ticks": ""
           },
           "baxis": {
            "gridcolor": "white",
            "linecolor": "white",
            "ticks": ""
           },
           "bgcolor": "#E5ECF6",
           "caxis": {
            "gridcolor": "white",
            "linecolor": "white",
            "ticks": ""
           }
          },
          "title": {
           "x": 0.05
          },
          "xaxis": {
           "automargin": true,
           "gridcolor": "white",
           "linecolor": "white",
           "ticks": "",
           "title": {
            "standoff": 15
           },
           "zerolinecolor": "white",
           "zerolinewidth": 2
          },
          "yaxis": {
           "automargin": true,
           "gridcolor": "white",
           "linecolor": "white",
           "ticks": "",
           "title": {
            "standoff": 15
           },
           "zerolinecolor": "white",
           "zerolinewidth": 2
          }
         }
        },
        "title": {
         "text": "Top 5 Most Popular Genres"
        },
        "xaxis": {
         "anchor": "y",
         "domain": [
          0,
          1
         ],
         "title": {
          "text": "Genre"
         }
        },
        "yaxis": {
         "anchor": "x",
         "domain": [
          0,
          1
         ],
         "title": {
          "text": "Number of Songs"
         }
        }
       }
      },
      "text/html": [
       "<div>                            <div id=\"9d7c50cf-51aa-4ea2-960d-40f7db6c5eb6\" class=\"plotly-graph-div\" style=\"height:525px; width:100%;\"></div>            <script type=\"text/javascript\">                require([\"plotly\"], function(Plotly) {                    window.PLOTLYENV=window.PLOTLYENV || {};                                    if (document.getElementById(\"9d7c50cf-51aa-4ea2-960d-40f7db6c5eb6\")) {                    Plotly.newPlot(                        \"9d7c50cf-51aa-4ea2-960d-40f7db6c5eb6\",                        [{\"alignmentgroup\":\"True\",\"hovertemplate\":\"Genre=%{x}<br>Number of Songs=%{y}<extra></extra>\",\"legendgroup\":\"\",\"marker\":{\"color\":\"#636efa\",\"pattern\":{\"shape\":\"\"}},\"name\":\"\",\"offsetgroup\":\"\",\"orientation\":\"v\",\"showlegend\":false,\"textposition\":\"auto\",\"x\":[\"dance pop\",\"pop\",\"canadian pop\",\"barbadian pop\",\"boy band\"],\"xaxis\":\"x\",\"y\":[327,60,34,15,15],\"yaxis\":\"y\",\"type\":\"bar\"}],                        {\"template\":{\"data\":{\"histogram2dcontour\":[{\"type\":\"histogram2dcontour\",\"colorbar\":{\"outlinewidth\":0,\"ticks\":\"\"},\"colorscale\":[[0.0,\"#0d0887\"],[0.1111111111111111,\"#46039f\"],[0.2222222222222222,\"#7201a8\"],[0.3333333333333333,\"#9c179e\"],[0.4444444444444444,\"#bd3786\"],[0.5555555555555556,\"#d8576b\"],[0.6666666666666666,\"#ed7953\"],[0.7777777777777778,\"#fb9f3a\"],[0.8888888888888888,\"#fdca26\"],[1.0,\"#f0f921\"]]}],\"choropleth\":[{\"type\":\"choropleth\",\"colorbar\":{\"outlinewidth\":0,\"ticks\":\"\"}}],\"histogram2d\":[{\"type\":\"histogram2d\",\"colorbar\":{\"outlinewidth\":0,\"ticks\":\"\"},\"colorscale\":[[0.0,\"#0d0887\"],[0.1111111111111111,\"#46039f\"],[0.2222222222222222,\"#7201a8\"],[0.3333333333333333,\"#9c179e\"],[0.4444444444444444,\"#bd3786\"],[0.5555555555555556,\"#d8576b\"],[0.6666666666666666,\"#ed7953\"],[0.7777777777777778,\"#fb9f3a\"],[0.8888888888888888,\"#fdca26\"],[1.0,\"#f0f921\"]]}],\"heatmap\":[{\"type\":\"heatmap\",\"colorbar\":{\"outlinewidth\":0,\"ticks\":\"\"},\"colorscale\":[[0.0,\"#0d0887\"],[0.1111111111111111,\"#46039f\"],[0.2222222222222222,\"#7201a8\"],[0.3333333333333333,\"#9c179e\"],[0.4444444444444444,\"#bd3786\"],[0.5555555555555556,\"#d8576b\"],[0.6666666666666666,\"#ed7953\"],[0.7777777777777778,\"#fb9f3a\"],[0.8888888888888888,\"#fdca26\"],[1.0,\"#f0f921\"]]}],\"heatmapgl\":[{\"type\":\"heatmapgl\",\"colorbar\":{\"outlinewidth\":0,\"ticks\":\"\"},\"colorscale\":[[0.0,\"#0d0887\"],[0.1111111111111111,\"#46039f\"],[0.2222222222222222,\"#7201a8\"],[0.3333333333333333,\"#9c179e\"],[0.4444444444444444,\"#bd3786\"],[0.5555555555555556,\"#d8576b\"],[0.6666666666666666,\"#ed7953\"],[0.7777777777777778,\"#fb9f3a\"],[0.8888888888888888,\"#fdca26\"],[1.0,\"#f0f921\"]]}],\"contourcarpet\":[{\"type\":\"contourcarpet\",\"colorbar\":{\"outlinewidth\":0,\"ticks\":\"\"}}],\"contour\":[{\"type\":\"contour\",\"colorbar\":{\"outlinewidth\":0,\"ticks\":\"\"},\"colorscale\":[[0.0,\"#0d0887\"],[0.1111111111111111,\"#46039f\"],[0.2222222222222222,\"#7201a8\"],[0.3333333333333333,\"#9c179e\"],[0.4444444444444444,\"#bd3786\"],[0.5555555555555556,\"#d8576b\"],[0.6666666666666666,\"#ed7953\"],[0.7777777777777778,\"#fb9f3a\"],[0.8888888888888888,\"#fdca26\"],[1.0,\"#f0f921\"]]}],\"surface\":[{\"type\":\"surface\",\"colorbar\":{\"outlinewidth\":0,\"ticks\":\"\"},\"colorscale\":[[0.0,\"#0d0887\"],[0.1111111111111111,\"#46039f\"],[0.2222222222222222,\"#7201a8\"],[0.3333333333333333,\"#9c179e\"],[0.4444444444444444,\"#bd3786\"],[0.5555555555555556,\"#d8576b\"],[0.6666666666666666,\"#ed7953\"],[0.7777777777777778,\"#fb9f3a\"],[0.8888888888888888,\"#fdca26\"],[1.0,\"#f0f921\"]]}],\"mesh3d\":[{\"type\":\"mesh3d\",\"colorbar\":{\"outlinewidth\":0,\"ticks\":\"\"}}],\"scatter\":[{\"fillpattern\":{\"fillmode\":\"overlay\",\"size\":10,\"solidity\":0.2},\"type\":\"scatter\"}],\"parcoords\":[{\"type\":\"parcoords\",\"line\":{\"colorbar\":{\"outlinewidth\":0,\"ticks\":\"\"}}}],\"scatterpolargl\":[{\"type\":\"scatterpolargl\",\"marker\":{\"colorbar\":{\"outlinewidth\":0,\"ticks\":\"\"}}}],\"bar\":[{\"error_x\":{\"color\":\"#2a3f5f\"},\"error_y\":{\"color\":\"#2a3f5f\"},\"marker\":{\"line\":{\"color\":\"#E5ECF6\",\"width\":0.5},\"pattern\":{\"fillmode\":\"overlay\",\"size\":10,\"solidity\":0.2}},\"type\":\"bar\"}],\"scattergeo\":[{\"type\":\"scattergeo\",\"marker\":{\"colorbar\":{\"outlinewidth\":0,\"ticks\":\"\"}}}],\"scatterpolar\":[{\"type\":\"scatterpolar\",\"marker\":{\"colorbar\":{\"outlinewidth\":0,\"ticks\":\"\"}}}],\"histogram\":[{\"marker\":{\"pattern\":{\"fillmode\":\"overlay\",\"size\":10,\"solidity\":0.2}},\"type\":\"histogram\"}],\"scattergl\":[{\"type\":\"scattergl\",\"marker\":{\"colorbar\":{\"outlinewidth\":0,\"ticks\":\"\"}}}],\"scatter3d\":[{\"type\":\"scatter3d\",\"line\":{\"colorbar\":{\"outlinewidth\":0,\"ticks\":\"\"}},\"marker\":{\"colorbar\":{\"outlinewidth\":0,\"ticks\":\"\"}}}],\"scattermapbox\":[{\"type\":\"scattermapbox\",\"marker\":{\"colorbar\":{\"outlinewidth\":0,\"ticks\":\"\"}}}],\"scatterternary\":[{\"type\":\"scatterternary\",\"marker\":{\"colorbar\":{\"outlinewidth\":0,\"ticks\":\"\"}}}],\"scattercarpet\":[{\"type\":\"scattercarpet\",\"marker\":{\"colorbar\":{\"outlinewidth\":0,\"ticks\":\"\"}}}],\"carpet\":[{\"aaxis\":{\"endlinecolor\":\"#2a3f5f\",\"gridcolor\":\"white\",\"linecolor\":\"white\",\"minorgridcolor\":\"white\",\"startlinecolor\":\"#2a3f5f\"},\"baxis\":{\"endlinecolor\":\"#2a3f5f\",\"gridcolor\":\"white\",\"linecolor\":\"white\",\"minorgridcolor\":\"white\",\"startlinecolor\":\"#2a3f5f\"},\"type\":\"carpet\"}],\"table\":[{\"cells\":{\"fill\":{\"color\":\"#EBF0F8\"},\"line\":{\"color\":\"white\"}},\"header\":{\"fill\":{\"color\":\"#C8D4E3\"},\"line\":{\"color\":\"white\"}},\"type\":\"table\"}],\"barpolar\":[{\"marker\":{\"line\":{\"color\":\"#E5ECF6\",\"width\":0.5},\"pattern\":{\"fillmode\":\"overlay\",\"size\":10,\"solidity\":0.2}},\"type\":\"barpolar\"}],\"pie\":[{\"automargin\":true,\"type\":\"pie\"}]},\"layout\":{\"autotypenumbers\":\"strict\",\"colorway\":[\"#636efa\",\"#EF553B\",\"#00cc96\",\"#ab63fa\",\"#FFA15A\",\"#19d3f3\",\"#FF6692\",\"#B6E880\",\"#FF97FF\",\"#FECB52\"],\"font\":{\"color\":\"#2a3f5f\"},\"hovermode\":\"closest\",\"hoverlabel\":{\"align\":\"left\"},\"paper_bgcolor\":\"white\",\"plot_bgcolor\":\"#E5ECF6\",\"polar\":{\"bgcolor\":\"#E5ECF6\",\"angularaxis\":{\"gridcolor\":\"white\",\"linecolor\":\"white\",\"ticks\":\"\"},\"radialaxis\":{\"gridcolor\":\"white\",\"linecolor\":\"white\",\"ticks\":\"\"}},\"ternary\":{\"bgcolor\":\"#E5ECF6\",\"aaxis\":{\"gridcolor\":\"white\",\"linecolor\":\"white\",\"ticks\":\"\"},\"baxis\":{\"gridcolor\":\"white\",\"linecolor\":\"white\",\"ticks\":\"\"},\"caxis\":{\"gridcolor\":\"white\",\"linecolor\":\"white\",\"ticks\":\"\"}},\"coloraxis\":{\"colorbar\":{\"outlinewidth\":0,\"ticks\":\"\"}},\"colorscale\":{\"sequential\":[[0.0,\"#0d0887\"],[0.1111111111111111,\"#46039f\"],[0.2222222222222222,\"#7201a8\"],[0.3333333333333333,\"#9c179e\"],[0.4444444444444444,\"#bd3786\"],[0.5555555555555556,\"#d8576b\"],[0.6666666666666666,\"#ed7953\"],[0.7777777777777778,\"#fb9f3a\"],[0.8888888888888888,\"#fdca26\"],[1.0,\"#f0f921\"]],\"sequentialminus\":[[0.0,\"#0d0887\"],[0.1111111111111111,\"#46039f\"],[0.2222222222222222,\"#7201a8\"],[0.3333333333333333,\"#9c179e\"],[0.4444444444444444,\"#bd3786\"],[0.5555555555555556,\"#d8576b\"],[0.6666666666666666,\"#ed7953\"],[0.7777777777777778,\"#fb9f3a\"],[0.8888888888888888,\"#fdca26\"],[1.0,\"#f0f921\"]],\"diverging\":[[0,\"#8e0152\"],[0.1,\"#c51b7d\"],[0.2,\"#de77ae\"],[0.3,\"#f1b6da\"],[0.4,\"#fde0ef\"],[0.5,\"#f7f7f7\"],[0.6,\"#e6f5d0\"],[0.7,\"#b8e186\"],[0.8,\"#7fbc41\"],[0.9,\"#4d9221\"],[1,\"#276419\"]]},\"xaxis\":{\"gridcolor\":\"white\",\"linecolor\":\"white\",\"ticks\":\"\",\"title\":{\"standoff\":15},\"zerolinecolor\":\"white\",\"automargin\":true,\"zerolinewidth\":2},\"yaxis\":{\"gridcolor\":\"white\",\"linecolor\":\"white\",\"ticks\":\"\",\"title\":{\"standoff\":15},\"zerolinecolor\":\"white\",\"automargin\":true,\"zerolinewidth\":2},\"scene\":{\"xaxis\":{\"backgroundcolor\":\"#E5ECF6\",\"gridcolor\":\"white\",\"linecolor\":\"white\",\"showbackground\":true,\"ticks\":\"\",\"zerolinecolor\":\"white\",\"gridwidth\":2},\"yaxis\":{\"backgroundcolor\":\"#E5ECF6\",\"gridcolor\":\"white\",\"linecolor\":\"white\",\"showbackground\":true,\"ticks\":\"\",\"zerolinecolor\":\"white\",\"gridwidth\":2},\"zaxis\":{\"backgroundcolor\":\"#E5ECF6\",\"gridcolor\":\"white\",\"linecolor\":\"white\",\"showbackground\":true,\"ticks\":\"\",\"zerolinecolor\":\"white\",\"gridwidth\":2}},\"shapedefaults\":{\"line\":{\"color\":\"#2a3f5f\"}},\"annotationdefaults\":{\"arrowcolor\":\"#2a3f5f\",\"arrowhead\":0,\"arrowwidth\":1},\"geo\":{\"bgcolor\":\"white\",\"landcolor\":\"#E5ECF6\",\"subunitcolor\":\"white\",\"showland\":true,\"showlakes\":true,\"lakecolor\":\"white\"},\"title\":{\"x\":0.05},\"mapbox\":{\"style\":\"light\"}}},\"xaxis\":{\"anchor\":\"y\",\"domain\":[0.0,1.0],\"title\":{\"text\":\"Genre\"}},\"yaxis\":{\"anchor\":\"x\",\"domain\":[0.0,1.0],\"title\":{\"text\":\"Number of Songs\"}},\"legend\":{\"tracegroupgap\":0},\"title\":{\"text\":\"Top 5 Most Popular Genres\"},\"barmode\":\"relative\"},                        {\"responsive\": true}                    ).then(function(){\n",
       "                            \n",
       "var gd = document.getElementById('9d7c50cf-51aa-4ea2-960d-40f7db6c5eb6');\n",
       "var x = new MutationObserver(function (mutations, observer) {{\n",
       "        var display = window.getComputedStyle(gd).display;\n",
       "        if (!display || display === 'none') {{\n",
       "            console.log([gd, 'removed!']);\n",
       "            Plotly.purge(gd);\n",
       "            observer.disconnect();\n",
       "        }}\n",
       "}});\n",
       "\n",
       "// Listen for the removal of the full notebook cells\n",
       "var notebookContainer = gd.closest('#notebook-container');\n",
       "if (notebookContainer) {{\n",
       "    x.observe(notebookContainer, {childList: true});\n",
       "}}\n",
       "\n",
       "// Listen for the clearing of the current output cell\n",
       "var outputEl = gd.closest('.output');\n",
       "if (outputEl) {{\n",
       "    x.observe(outputEl, {childList: true});\n",
       "}}\n",
       "\n",
       "                        })                };                });            </script>        </div>"
      ]
     },
     "metadata": {},
     "output_type": "display_data"
    }
   ],
   "source": [
    "# Load the data\n",
    "df = pd.read_csv(\"spotify_top_music.csv\")\n",
    "\n",
    "# Count the number of songs in each genre\n",
    "genre_counts = df[\"top genre\"].value_counts()\n",
    "\n",
    "# Get the top 5 genres as a DataFrame\n",
    "top_genres = genre_counts[:5].reset_index()\n",
    "top_genres.columns = ['Genre', 'Number of Songs']\n",
    "\n",
    "# Create a bar plot\n",
    "fig = px.bar(top_genres, x='Genre', y='Number of Songs', title='Top 5 Most Popular Genres')\n",
    "fig.update_layout(xaxis_title=\"Genre\", yaxis_title=\"Number of Songs\")\n",
    "\n",
    "# Show the plot\n",
    "fig.show()\n"
   ]
  },
  {
   "cell_type": "markdown",
   "id": "9a90fcee",
   "metadata": {},
   "source": [
    "As we can see, the top 4 genres are subgenres of pop music. We can deduce that the pop music is indeed the most popular, as seen below:"
   ]
  },
  {
   "cell_type": "code",
   "execution_count": 14,
   "id": "3c1bd09d",
   "metadata": {},
   "outputs": [
    {
     "data": {
      "application/vnd.plotly.v1+json": {
       "config": {
        "plotlyServerURL": "https://plot.ly"
       },
       "data": [
        {
         "domain": {
          "x": [
           0,
           1
          ],
          "y": [
           0,
           1
          ]
         },
         "hovertemplate": "Genre=%{label}<br>Count=%{value}<extra></extra>",
         "labels": [
          true,
          false
         ],
         "legendgroup": "",
         "name": "",
         "showlegend": true,
         "type": "pie",
         "values": [
          485,
          118
         ]
        }
       ],
       "layout": {
        "legend": {
         "tracegroupgap": 0
        },
        "template": {
         "data": {
          "bar": [
           {
            "error_x": {
             "color": "#2a3f5f"
            },
            "error_y": {
             "color": "#2a3f5f"
            },
            "marker": {
             "line": {
              "color": "#E5ECF6",
              "width": 0.5
             },
             "pattern": {
              "fillmode": "overlay",
              "size": 10,
              "solidity": 0.2
             }
            },
            "type": "bar"
           }
          ],
          "barpolar": [
           {
            "marker": {
             "line": {
              "color": "#E5ECF6",
              "width": 0.5
             },
             "pattern": {
              "fillmode": "overlay",
              "size": 10,
              "solidity": 0.2
             }
            },
            "type": "barpolar"
           }
          ],
          "carpet": [
           {
            "aaxis": {
             "endlinecolor": "#2a3f5f",
             "gridcolor": "white",
             "linecolor": "white",
             "minorgridcolor": "white",
             "startlinecolor": "#2a3f5f"
            },
            "baxis": {
             "endlinecolor": "#2a3f5f",
             "gridcolor": "white",
             "linecolor": "white",
             "minorgridcolor": "white",
             "startlinecolor": "#2a3f5f"
            },
            "type": "carpet"
           }
          ],
          "choropleth": [
           {
            "colorbar": {
             "outlinewidth": 0,
             "ticks": ""
            },
            "type": "choropleth"
           }
          ],
          "contour": [
           {
            "colorbar": {
             "outlinewidth": 0,
             "ticks": ""
            },
            "colorscale": [
             [
              0,
              "#0d0887"
             ],
             [
              0.1111111111111111,
              "#46039f"
             ],
             [
              0.2222222222222222,
              "#7201a8"
             ],
             [
              0.3333333333333333,
              "#9c179e"
             ],
             [
              0.4444444444444444,
              "#bd3786"
             ],
             [
              0.5555555555555556,
              "#d8576b"
             ],
             [
              0.6666666666666666,
              "#ed7953"
             ],
             [
              0.7777777777777778,
              "#fb9f3a"
             ],
             [
              0.8888888888888888,
              "#fdca26"
             ],
             [
              1,
              "#f0f921"
             ]
            ],
            "type": "contour"
           }
          ],
          "contourcarpet": [
           {
            "colorbar": {
             "outlinewidth": 0,
             "ticks": ""
            },
            "type": "contourcarpet"
           }
          ],
          "heatmap": [
           {
            "colorbar": {
             "outlinewidth": 0,
             "ticks": ""
            },
            "colorscale": [
             [
              0,
              "#0d0887"
             ],
             [
              0.1111111111111111,
              "#46039f"
             ],
             [
              0.2222222222222222,
              "#7201a8"
             ],
             [
              0.3333333333333333,
              "#9c179e"
             ],
             [
              0.4444444444444444,
              "#bd3786"
             ],
             [
              0.5555555555555556,
              "#d8576b"
             ],
             [
              0.6666666666666666,
              "#ed7953"
             ],
             [
              0.7777777777777778,
              "#fb9f3a"
             ],
             [
              0.8888888888888888,
              "#fdca26"
             ],
             [
              1,
              "#f0f921"
             ]
            ],
            "type": "heatmap"
           }
          ],
          "heatmapgl": [
           {
            "colorbar": {
             "outlinewidth": 0,
             "ticks": ""
            },
            "colorscale": [
             [
              0,
              "#0d0887"
             ],
             [
              0.1111111111111111,
              "#46039f"
             ],
             [
              0.2222222222222222,
              "#7201a8"
             ],
             [
              0.3333333333333333,
              "#9c179e"
             ],
             [
              0.4444444444444444,
              "#bd3786"
             ],
             [
              0.5555555555555556,
              "#d8576b"
             ],
             [
              0.6666666666666666,
              "#ed7953"
             ],
             [
              0.7777777777777778,
              "#fb9f3a"
             ],
             [
              0.8888888888888888,
              "#fdca26"
             ],
             [
              1,
              "#f0f921"
             ]
            ],
            "type": "heatmapgl"
           }
          ],
          "histogram": [
           {
            "marker": {
             "pattern": {
              "fillmode": "overlay",
              "size": 10,
              "solidity": 0.2
             }
            },
            "type": "histogram"
           }
          ],
          "histogram2d": [
           {
            "colorbar": {
             "outlinewidth": 0,
             "ticks": ""
            },
            "colorscale": [
             [
              0,
              "#0d0887"
             ],
             [
              0.1111111111111111,
              "#46039f"
             ],
             [
              0.2222222222222222,
              "#7201a8"
             ],
             [
              0.3333333333333333,
              "#9c179e"
             ],
             [
              0.4444444444444444,
              "#bd3786"
             ],
             [
              0.5555555555555556,
              "#d8576b"
             ],
             [
              0.6666666666666666,
              "#ed7953"
             ],
             [
              0.7777777777777778,
              "#fb9f3a"
             ],
             [
              0.8888888888888888,
              "#fdca26"
             ],
             [
              1,
              "#f0f921"
             ]
            ],
            "type": "histogram2d"
           }
          ],
          "histogram2dcontour": [
           {
            "colorbar": {
             "outlinewidth": 0,
             "ticks": ""
            },
            "colorscale": [
             [
              0,
              "#0d0887"
             ],
             [
              0.1111111111111111,
              "#46039f"
             ],
             [
              0.2222222222222222,
              "#7201a8"
             ],
             [
              0.3333333333333333,
              "#9c179e"
             ],
             [
              0.4444444444444444,
              "#bd3786"
             ],
             [
              0.5555555555555556,
              "#d8576b"
             ],
             [
              0.6666666666666666,
              "#ed7953"
             ],
             [
              0.7777777777777778,
              "#fb9f3a"
             ],
             [
              0.8888888888888888,
              "#fdca26"
             ],
             [
              1,
              "#f0f921"
             ]
            ],
            "type": "histogram2dcontour"
           }
          ],
          "mesh3d": [
           {
            "colorbar": {
             "outlinewidth": 0,
             "ticks": ""
            },
            "type": "mesh3d"
           }
          ],
          "parcoords": [
           {
            "line": {
             "colorbar": {
              "outlinewidth": 0,
              "ticks": ""
             }
            },
            "type": "parcoords"
           }
          ],
          "pie": [
           {
            "automargin": true,
            "type": "pie"
           }
          ],
          "scatter": [
           {
            "fillpattern": {
             "fillmode": "overlay",
             "size": 10,
             "solidity": 0.2
            },
            "type": "scatter"
           }
          ],
          "scatter3d": [
           {
            "line": {
             "colorbar": {
              "outlinewidth": 0,
              "ticks": ""
             }
            },
            "marker": {
             "colorbar": {
              "outlinewidth": 0,
              "ticks": ""
             }
            },
            "type": "scatter3d"
           }
          ],
          "scattercarpet": [
           {
            "marker": {
             "colorbar": {
              "outlinewidth": 0,
              "ticks": ""
             }
            },
            "type": "scattercarpet"
           }
          ],
          "scattergeo": [
           {
            "marker": {
             "colorbar": {
              "outlinewidth": 0,
              "ticks": ""
             }
            },
            "type": "scattergeo"
           }
          ],
          "scattergl": [
           {
            "marker": {
             "colorbar": {
              "outlinewidth": 0,
              "ticks": ""
             }
            },
            "type": "scattergl"
           }
          ],
          "scattermapbox": [
           {
            "marker": {
             "colorbar": {
              "outlinewidth": 0,
              "ticks": ""
             }
            },
            "type": "scattermapbox"
           }
          ],
          "scatterpolar": [
           {
            "marker": {
             "colorbar": {
              "outlinewidth": 0,
              "ticks": ""
             }
            },
            "type": "scatterpolar"
           }
          ],
          "scatterpolargl": [
           {
            "marker": {
             "colorbar": {
              "outlinewidth": 0,
              "ticks": ""
             }
            },
            "type": "scatterpolargl"
           }
          ],
          "scatterternary": [
           {
            "marker": {
             "colorbar": {
              "outlinewidth": 0,
              "ticks": ""
             }
            },
            "type": "scatterternary"
           }
          ],
          "surface": [
           {
            "colorbar": {
             "outlinewidth": 0,
             "ticks": ""
            },
            "colorscale": [
             [
              0,
              "#0d0887"
             ],
             [
              0.1111111111111111,
              "#46039f"
             ],
             [
              0.2222222222222222,
              "#7201a8"
             ],
             [
              0.3333333333333333,
              "#9c179e"
             ],
             [
              0.4444444444444444,
              "#bd3786"
             ],
             [
              0.5555555555555556,
              "#d8576b"
             ],
             [
              0.6666666666666666,
              "#ed7953"
             ],
             [
              0.7777777777777778,
              "#fb9f3a"
             ],
             [
              0.8888888888888888,
              "#fdca26"
             ],
             [
              1,
              "#f0f921"
             ]
            ],
            "type": "surface"
           }
          ],
          "table": [
           {
            "cells": {
             "fill": {
              "color": "#EBF0F8"
             },
             "line": {
              "color": "white"
             }
            },
            "header": {
             "fill": {
              "color": "#C8D4E3"
             },
             "line": {
              "color": "white"
             }
            },
            "type": "table"
           }
          ]
         },
         "layout": {
          "annotationdefaults": {
           "arrowcolor": "#2a3f5f",
           "arrowhead": 0,
           "arrowwidth": 1
          },
          "autotypenumbers": "strict",
          "coloraxis": {
           "colorbar": {
            "outlinewidth": 0,
            "ticks": ""
           }
          },
          "colorscale": {
           "diverging": [
            [
             0,
             "#8e0152"
            ],
            [
             0.1,
             "#c51b7d"
            ],
            [
             0.2,
             "#de77ae"
            ],
            [
             0.3,
             "#f1b6da"
            ],
            [
             0.4,
             "#fde0ef"
            ],
            [
             0.5,
             "#f7f7f7"
            ],
            [
             0.6,
             "#e6f5d0"
            ],
            [
             0.7,
             "#b8e186"
            ],
            [
             0.8,
             "#7fbc41"
            ],
            [
             0.9,
             "#4d9221"
            ],
            [
             1,
             "#276419"
            ]
           ],
           "sequential": [
            [
             0,
             "#0d0887"
            ],
            [
             0.1111111111111111,
             "#46039f"
            ],
            [
             0.2222222222222222,
             "#7201a8"
            ],
            [
             0.3333333333333333,
             "#9c179e"
            ],
            [
             0.4444444444444444,
             "#bd3786"
            ],
            [
             0.5555555555555556,
             "#d8576b"
            ],
            [
             0.6666666666666666,
             "#ed7953"
            ],
            [
             0.7777777777777778,
             "#fb9f3a"
            ],
            [
             0.8888888888888888,
             "#fdca26"
            ],
            [
             1,
             "#f0f921"
            ]
           ],
           "sequentialminus": [
            [
             0,
             "#0d0887"
            ],
            [
             0.1111111111111111,
             "#46039f"
            ],
            [
             0.2222222222222222,
             "#7201a8"
            ],
            [
             0.3333333333333333,
             "#9c179e"
            ],
            [
             0.4444444444444444,
             "#bd3786"
            ],
            [
             0.5555555555555556,
             "#d8576b"
            ],
            [
             0.6666666666666666,
             "#ed7953"
            ],
            [
             0.7777777777777778,
             "#fb9f3a"
            ],
            [
             0.8888888888888888,
             "#fdca26"
            ],
            [
             1,
             "#f0f921"
            ]
           ]
          },
          "colorway": [
           "#636efa",
           "#EF553B",
           "#00cc96",
           "#ab63fa",
           "#FFA15A",
           "#19d3f3",
           "#FF6692",
           "#B6E880",
           "#FF97FF",
           "#FECB52"
          ],
          "font": {
           "color": "#2a3f5f"
          },
          "geo": {
           "bgcolor": "white",
           "lakecolor": "white",
           "landcolor": "#E5ECF6",
           "showlakes": true,
           "showland": true,
           "subunitcolor": "white"
          },
          "hoverlabel": {
           "align": "left"
          },
          "hovermode": "closest",
          "mapbox": {
           "style": "light"
          },
          "paper_bgcolor": "white",
          "plot_bgcolor": "#E5ECF6",
          "polar": {
           "angularaxis": {
            "gridcolor": "white",
            "linecolor": "white",
            "ticks": ""
           },
           "bgcolor": "#E5ECF6",
           "radialaxis": {
            "gridcolor": "white",
            "linecolor": "white",
            "ticks": ""
           }
          },
          "scene": {
           "xaxis": {
            "backgroundcolor": "#E5ECF6",
            "gridcolor": "white",
            "gridwidth": 2,
            "linecolor": "white",
            "showbackground": true,
            "ticks": "",
            "zerolinecolor": "white"
           },
           "yaxis": {
            "backgroundcolor": "#E5ECF6",
            "gridcolor": "white",
            "gridwidth": 2,
            "linecolor": "white",
            "showbackground": true,
            "ticks": "",
            "zerolinecolor": "white"
           },
           "zaxis": {
            "backgroundcolor": "#E5ECF6",
            "gridcolor": "white",
            "gridwidth": 2,
            "linecolor": "white",
            "showbackground": true,
            "ticks": "",
            "zerolinecolor": "white"
           }
          },
          "shapedefaults": {
           "line": {
            "color": "#2a3f5f"
           }
          },
          "ternary": {
           "aaxis": {
            "gridcolor": "white",
            "linecolor": "white",
            "ticks": ""
           },
           "baxis": {
            "gridcolor": "white",
            "linecolor": "white",
            "ticks": ""
           },
           "bgcolor": "#E5ECF6",
           "caxis": {
            "gridcolor": "white",
            "linecolor": "white",
            "ticks": ""
           }
          },
          "title": {
           "x": 0.05
          },
          "xaxis": {
           "automargin": true,
           "gridcolor": "white",
           "linecolor": "white",
           "ticks": "",
           "title": {
            "standoff": 15
           },
           "zerolinecolor": "white",
           "zerolinewidth": 2
          },
          "yaxis": {
           "automargin": true,
           "gridcolor": "white",
           "linecolor": "white",
           "ticks": "",
           "title": {
            "standoff": 15
           },
           "zerolinecolor": "white",
           "zerolinewidth": 2
          }
         }
        },
        "title": {
         "text": "Music Genres"
        }
       }
      },
      "text/html": [
       "<div>                            <div id=\"8a206464-b51c-475e-9b56-f0a6f80ff67f\" class=\"plotly-graph-div\" style=\"height:525px; width:100%;\"></div>            <script type=\"text/javascript\">                require([\"plotly\"], function(Plotly) {                    window.PLOTLYENV=window.PLOTLYENV || {};                                    if (document.getElementById(\"8a206464-b51c-475e-9b56-f0a6f80ff67f\")) {                    Plotly.newPlot(                        \"8a206464-b51c-475e-9b56-f0a6f80ff67f\",                        [{\"domain\":{\"x\":[0.0,1.0],\"y\":[0.0,1.0]},\"hovertemplate\":\"Genre=%{label}<br>Count=%{value}<extra></extra>\",\"labels\":[true,false],\"legendgroup\":\"\",\"name\":\"\",\"showlegend\":true,\"values\":[485,118],\"type\":\"pie\"}],                        {\"template\":{\"data\":{\"histogram2dcontour\":[{\"type\":\"histogram2dcontour\",\"colorbar\":{\"outlinewidth\":0,\"ticks\":\"\"},\"colorscale\":[[0.0,\"#0d0887\"],[0.1111111111111111,\"#46039f\"],[0.2222222222222222,\"#7201a8\"],[0.3333333333333333,\"#9c179e\"],[0.4444444444444444,\"#bd3786\"],[0.5555555555555556,\"#d8576b\"],[0.6666666666666666,\"#ed7953\"],[0.7777777777777778,\"#fb9f3a\"],[0.8888888888888888,\"#fdca26\"],[1.0,\"#f0f921\"]]}],\"choropleth\":[{\"type\":\"choropleth\",\"colorbar\":{\"outlinewidth\":0,\"ticks\":\"\"}}],\"histogram2d\":[{\"type\":\"histogram2d\",\"colorbar\":{\"outlinewidth\":0,\"ticks\":\"\"},\"colorscale\":[[0.0,\"#0d0887\"],[0.1111111111111111,\"#46039f\"],[0.2222222222222222,\"#7201a8\"],[0.3333333333333333,\"#9c179e\"],[0.4444444444444444,\"#bd3786\"],[0.5555555555555556,\"#d8576b\"],[0.6666666666666666,\"#ed7953\"],[0.7777777777777778,\"#fb9f3a\"],[0.8888888888888888,\"#fdca26\"],[1.0,\"#f0f921\"]]}],\"heatmap\":[{\"type\":\"heatmap\",\"colorbar\":{\"outlinewidth\":0,\"ticks\":\"\"},\"colorscale\":[[0.0,\"#0d0887\"],[0.1111111111111111,\"#46039f\"],[0.2222222222222222,\"#7201a8\"],[0.3333333333333333,\"#9c179e\"],[0.4444444444444444,\"#bd3786\"],[0.5555555555555556,\"#d8576b\"],[0.6666666666666666,\"#ed7953\"],[0.7777777777777778,\"#fb9f3a\"],[0.8888888888888888,\"#fdca26\"],[1.0,\"#f0f921\"]]}],\"heatmapgl\":[{\"type\":\"heatmapgl\",\"colorbar\":{\"outlinewidth\":0,\"ticks\":\"\"},\"colorscale\":[[0.0,\"#0d0887\"],[0.1111111111111111,\"#46039f\"],[0.2222222222222222,\"#7201a8\"],[0.3333333333333333,\"#9c179e\"],[0.4444444444444444,\"#bd3786\"],[0.5555555555555556,\"#d8576b\"],[0.6666666666666666,\"#ed7953\"],[0.7777777777777778,\"#fb9f3a\"],[0.8888888888888888,\"#fdca26\"],[1.0,\"#f0f921\"]]}],\"contourcarpet\":[{\"type\":\"contourcarpet\",\"colorbar\":{\"outlinewidth\":0,\"ticks\":\"\"}}],\"contour\":[{\"type\":\"contour\",\"colorbar\":{\"outlinewidth\":0,\"ticks\":\"\"},\"colorscale\":[[0.0,\"#0d0887\"],[0.1111111111111111,\"#46039f\"],[0.2222222222222222,\"#7201a8\"],[0.3333333333333333,\"#9c179e\"],[0.4444444444444444,\"#bd3786\"],[0.5555555555555556,\"#d8576b\"],[0.6666666666666666,\"#ed7953\"],[0.7777777777777778,\"#fb9f3a\"],[0.8888888888888888,\"#fdca26\"],[1.0,\"#f0f921\"]]}],\"surface\":[{\"type\":\"surface\",\"colorbar\":{\"outlinewidth\":0,\"ticks\":\"\"},\"colorscale\":[[0.0,\"#0d0887\"],[0.1111111111111111,\"#46039f\"],[0.2222222222222222,\"#7201a8\"],[0.3333333333333333,\"#9c179e\"],[0.4444444444444444,\"#bd3786\"],[0.5555555555555556,\"#d8576b\"],[0.6666666666666666,\"#ed7953\"],[0.7777777777777778,\"#fb9f3a\"],[0.8888888888888888,\"#fdca26\"],[1.0,\"#f0f921\"]]}],\"mesh3d\":[{\"type\":\"mesh3d\",\"colorbar\":{\"outlinewidth\":0,\"ticks\":\"\"}}],\"scatter\":[{\"fillpattern\":{\"fillmode\":\"overlay\",\"size\":10,\"solidity\":0.2},\"type\":\"scatter\"}],\"parcoords\":[{\"type\":\"parcoords\",\"line\":{\"colorbar\":{\"outlinewidth\":0,\"ticks\":\"\"}}}],\"scatterpolargl\":[{\"type\":\"scatterpolargl\",\"marker\":{\"colorbar\":{\"outlinewidth\":0,\"ticks\":\"\"}}}],\"bar\":[{\"error_x\":{\"color\":\"#2a3f5f\"},\"error_y\":{\"color\":\"#2a3f5f\"},\"marker\":{\"line\":{\"color\":\"#E5ECF6\",\"width\":0.5},\"pattern\":{\"fillmode\":\"overlay\",\"size\":10,\"solidity\":0.2}},\"type\":\"bar\"}],\"scattergeo\":[{\"type\":\"scattergeo\",\"marker\":{\"colorbar\":{\"outlinewidth\":0,\"ticks\":\"\"}}}],\"scatterpolar\":[{\"type\":\"scatterpolar\",\"marker\":{\"colorbar\":{\"outlinewidth\":0,\"ticks\":\"\"}}}],\"histogram\":[{\"marker\":{\"pattern\":{\"fillmode\":\"overlay\",\"size\":10,\"solidity\":0.2}},\"type\":\"histogram\"}],\"scattergl\":[{\"type\":\"scattergl\",\"marker\":{\"colorbar\":{\"outlinewidth\":0,\"ticks\":\"\"}}}],\"scatter3d\":[{\"type\":\"scatter3d\",\"line\":{\"colorbar\":{\"outlinewidth\":0,\"ticks\":\"\"}},\"marker\":{\"colorbar\":{\"outlinewidth\":0,\"ticks\":\"\"}}}],\"scattermapbox\":[{\"type\":\"scattermapbox\",\"marker\":{\"colorbar\":{\"outlinewidth\":0,\"ticks\":\"\"}}}],\"scatterternary\":[{\"type\":\"scatterternary\",\"marker\":{\"colorbar\":{\"outlinewidth\":0,\"ticks\":\"\"}}}],\"scattercarpet\":[{\"type\":\"scattercarpet\",\"marker\":{\"colorbar\":{\"outlinewidth\":0,\"ticks\":\"\"}}}],\"carpet\":[{\"aaxis\":{\"endlinecolor\":\"#2a3f5f\",\"gridcolor\":\"white\",\"linecolor\":\"white\",\"minorgridcolor\":\"white\",\"startlinecolor\":\"#2a3f5f\"},\"baxis\":{\"endlinecolor\":\"#2a3f5f\",\"gridcolor\":\"white\",\"linecolor\":\"white\",\"minorgridcolor\":\"white\",\"startlinecolor\":\"#2a3f5f\"},\"type\":\"carpet\"}],\"table\":[{\"cells\":{\"fill\":{\"color\":\"#EBF0F8\"},\"line\":{\"color\":\"white\"}},\"header\":{\"fill\":{\"color\":\"#C8D4E3\"},\"line\":{\"color\":\"white\"}},\"type\":\"table\"}],\"barpolar\":[{\"marker\":{\"line\":{\"color\":\"#E5ECF6\",\"width\":0.5},\"pattern\":{\"fillmode\":\"overlay\",\"size\":10,\"solidity\":0.2}},\"type\":\"barpolar\"}],\"pie\":[{\"automargin\":true,\"type\":\"pie\"}]},\"layout\":{\"autotypenumbers\":\"strict\",\"colorway\":[\"#636efa\",\"#EF553B\",\"#00cc96\",\"#ab63fa\",\"#FFA15A\",\"#19d3f3\",\"#FF6692\",\"#B6E880\",\"#FF97FF\",\"#FECB52\"],\"font\":{\"color\":\"#2a3f5f\"},\"hovermode\":\"closest\",\"hoverlabel\":{\"align\":\"left\"},\"paper_bgcolor\":\"white\",\"plot_bgcolor\":\"#E5ECF6\",\"polar\":{\"bgcolor\":\"#E5ECF6\",\"angularaxis\":{\"gridcolor\":\"white\",\"linecolor\":\"white\",\"ticks\":\"\"},\"radialaxis\":{\"gridcolor\":\"white\",\"linecolor\":\"white\",\"ticks\":\"\"}},\"ternary\":{\"bgcolor\":\"#E5ECF6\",\"aaxis\":{\"gridcolor\":\"white\",\"linecolor\":\"white\",\"ticks\":\"\"},\"baxis\":{\"gridcolor\":\"white\",\"linecolor\":\"white\",\"ticks\":\"\"},\"caxis\":{\"gridcolor\":\"white\",\"linecolor\":\"white\",\"ticks\":\"\"}},\"coloraxis\":{\"colorbar\":{\"outlinewidth\":0,\"ticks\":\"\"}},\"colorscale\":{\"sequential\":[[0.0,\"#0d0887\"],[0.1111111111111111,\"#46039f\"],[0.2222222222222222,\"#7201a8\"],[0.3333333333333333,\"#9c179e\"],[0.4444444444444444,\"#bd3786\"],[0.5555555555555556,\"#d8576b\"],[0.6666666666666666,\"#ed7953\"],[0.7777777777777778,\"#fb9f3a\"],[0.8888888888888888,\"#fdca26\"],[1.0,\"#f0f921\"]],\"sequentialminus\":[[0.0,\"#0d0887\"],[0.1111111111111111,\"#46039f\"],[0.2222222222222222,\"#7201a8\"],[0.3333333333333333,\"#9c179e\"],[0.4444444444444444,\"#bd3786\"],[0.5555555555555556,\"#d8576b\"],[0.6666666666666666,\"#ed7953\"],[0.7777777777777778,\"#fb9f3a\"],[0.8888888888888888,\"#fdca26\"],[1.0,\"#f0f921\"]],\"diverging\":[[0,\"#8e0152\"],[0.1,\"#c51b7d\"],[0.2,\"#de77ae\"],[0.3,\"#f1b6da\"],[0.4,\"#fde0ef\"],[0.5,\"#f7f7f7\"],[0.6,\"#e6f5d0\"],[0.7,\"#b8e186\"],[0.8,\"#7fbc41\"],[0.9,\"#4d9221\"],[1,\"#276419\"]]},\"xaxis\":{\"gridcolor\":\"white\",\"linecolor\":\"white\",\"ticks\":\"\",\"title\":{\"standoff\":15},\"zerolinecolor\":\"white\",\"automargin\":true,\"zerolinewidth\":2},\"yaxis\":{\"gridcolor\":\"white\",\"linecolor\":\"white\",\"ticks\":\"\",\"title\":{\"standoff\":15},\"zerolinecolor\":\"white\",\"automargin\":true,\"zerolinewidth\":2},\"scene\":{\"xaxis\":{\"backgroundcolor\":\"#E5ECF6\",\"gridcolor\":\"white\",\"linecolor\":\"white\",\"showbackground\":true,\"ticks\":\"\",\"zerolinecolor\":\"white\",\"gridwidth\":2},\"yaxis\":{\"backgroundcolor\":\"#E5ECF6\",\"gridcolor\":\"white\",\"linecolor\":\"white\",\"showbackground\":true,\"ticks\":\"\",\"zerolinecolor\":\"white\",\"gridwidth\":2},\"zaxis\":{\"backgroundcolor\":\"#E5ECF6\",\"gridcolor\":\"white\",\"linecolor\":\"white\",\"showbackground\":true,\"ticks\":\"\",\"zerolinecolor\":\"white\",\"gridwidth\":2}},\"shapedefaults\":{\"line\":{\"color\":\"#2a3f5f\"}},\"annotationdefaults\":{\"arrowcolor\":\"#2a3f5f\",\"arrowhead\":0,\"arrowwidth\":1},\"geo\":{\"bgcolor\":\"white\",\"landcolor\":\"#E5ECF6\",\"subunitcolor\":\"white\",\"showland\":true,\"showlakes\":true,\"lakecolor\":\"white\"},\"title\":{\"x\":0.05},\"mapbox\":{\"style\":\"light\"}}},\"legend\":{\"tracegroupgap\":0},\"title\":{\"text\":\"Music Genres\"}},                        {\"responsive\": true}                    ).then(function(){\n",
       "                            \n",
       "var gd = document.getElementById('8a206464-b51c-475e-9b56-f0a6f80ff67f');\n",
       "var x = new MutationObserver(function (mutations, observer) {{\n",
       "        var display = window.getComputedStyle(gd).display;\n",
       "        if (!display || display === 'none') {{\n",
       "            console.log([gd, 'removed!']);\n",
       "            Plotly.purge(gd);\n",
       "            observer.disconnect();\n",
       "        }}\n",
       "}});\n",
       "\n",
       "// Listen for the removal of the full notebook cells\n",
       "var notebookContainer = gd.closest('#notebook-container');\n",
       "if (notebookContainer) {{\n",
       "    x.observe(notebookContainer, {childList: true});\n",
       "}}\n",
       "\n",
       "// Listen for the clearing of the current output cell\n",
       "var outputEl = gd.closest('.output');\n",
       "if (outputEl) {{\n",
       "    x.observe(outputEl, {childList: true});\n",
       "}}\n",
       "\n",
       "                        })                };                });            </script>        </div>"
      ]
     },
     "metadata": {},
     "output_type": "display_data"
    }
   ],
   "source": [
    "# Load the data\n",
    "df = pd.read_csv(\"spotify_top_music.csv\")\n",
    "\n",
    "df['is_pop'] = df['top genre'].apply(lambda x: 'pop' in x.lower())\n",
    "\n",
    "# Count the number of pop and non-pop genres\n",
    "genre_counts = df['is_pop'].value_counts().reset_index()\n",
    "\n",
    "# Rename the columns for the plot\n",
    "genre_counts.columns = ['Genre', 'Count']\n",
    "\n",
    "# Create the interactive pie chart\n",
    "fig = px.pie(genre_counts, values='Count', names='Genre', title='Music Genres')\n",
    "fig.show()"
   ]
  },
  {
   "cell_type": "markdown",
   "id": "a049eb45",
   "metadata": {},
   "source": [
    "We can also look at the most popular artists:"
   ]
  },
  {
   "cell_type": "code",
   "execution_count": 23,
   "id": "25fb02ee",
   "metadata": {},
   "outputs": [
    {
     "data": {
      "application/vnd.plotly.v1+json": {
       "config": {
        "plotlyServerURL": "https://plot.ly"
       },
       "data": [
        {
         "alignmentgroup": "True",
         "hovertemplate": "Artist=%{x}<br>Number of Songs=%{y}<extra></extra>",
         "legendgroup": "",
         "marker": {
          "color": "#636efa",
          "pattern": {
           "shape": ""
          }
         },
         "name": "",
         "offsetgroup": "",
         "orientation": "v",
         "showlegend": false,
         "textposition": "auto",
         "type": "bar",
         "x": [
          "Katy Perry",
          "Justin Bieber",
          "Rihanna",
          "Maroon 5",
          "Lady Gaga"
         ],
         "xaxis": "x",
         "y": [
          17,
          16,
          15,
          15,
          14
         ],
         "yaxis": "y"
        }
       ],
       "layout": {
        "barmode": "relative",
        "legend": {
         "tracegroupgap": 0
        },
        "template": {
         "data": {
          "bar": [
           {
            "error_x": {
             "color": "#2a3f5f"
            },
            "error_y": {
             "color": "#2a3f5f"
            },
            "marker": {
             "line": {
              "color": "#E5ECF6",
              "width": 0.5
             },
             "pattern": {
              "fillmode": "overlay",
              "size": 10,
              "solidity": 0.2
             }
            },
            "type": "bar"
           }
          ],
          "barpolar": [
           {
            "marker": {
             "line": {
              "color": "#E5ECF6",
              "width": 0.5
             },
             "pattern": {
              "fillmode": "overlay",
              "size": 10,
              "solidity": 0.2
             }
            },
            "type": "barpolar"
           }
          ],
          "carpet": [
           {
            "aaxis": {
             "endlinecolor": "#2a3f5f",
             "gridcolor": "white",
             "linecolor": "white",
             "minorgridcolor": "white",
             "startlinecolor": "#2a3f5f"
            },
            "baxis": {
             "endlinecolor": "#2a3f5f",
             "gridcolor": "white",
             "linecolor": "white",
             "minorgridcolor": "white",
             "startlinecolor": "#2a3f5f"
            },
            "type": "carpet"
           }
          ],
          "choropleth": [
           {
            "colorbar": {
             "outlinewidth": 0,
             "ticks": ""
            },
            "type": "choropleth"
           }
          ],
          "contour": [
           {
            "colorbar": {
             "outlinewidth": 0,
             "ticks": ""
            },
            "colorscale": [
             [
              0,
              "#0d0887"
             ],
             [
              0.1111111111111111,
              "#46039f"
             ],
             [
              0.2222222222222222,
              "#7201a8"
             ],
             [
              0.3333333333333333,
              "#9c179e"
             ],
             [
              0.4444444444444444,
              "#bd3786"
             ],
             [
              0.5555555555555556,
              "#d8576b"
             ],
             [
              0.6666666666666666,
              "#ed7953"
             ],
             [
              0.7777777777777778,
              "#fb9f3a"
             ],
             [
              0.8888888888888888,
              "#fdca26"
             ],
             [
              1,
              "#f0f921"
             ]
            ],
            "type": "contour"
           }
          ],
          "contourcarpet": [
           {
            "colorbar": {
             "outlinewidth": 0,
             "ticks": ""
            },
            "type": "contourcarpet"
           }
          ],
          "heatmap": [
           {
            "colorbar": {
             "outlinewidth": 0,
             "ticks": ""
            },
            "colorscale": [
             [
              0,
              "#0d0887"
             ],
             [
              0.1111111111111111,
              "#46039f"
             ],
             [
              0.2222222222222222,
              "#7201a8"
             ],
             [
              0.3333333333333333,
              "#9c179e"
             ],
             [
              0.4444444444444444,
              "#bd3786"
             ],
             [
              0.5555555555555556,
              "#d8576b"
             ],
             [
              0.6666666666666666,
              "#ed7953"
             ],
             [
              0.7777777777777778,
              "#fb9f3a"
             ],
             [
              0.8888888888888888,
              "#fdca26"
             ],
             [
              1,
              "#f0f921"
             ]
            ],
            "type": "heatmap"
           }
          ],
          "heatmapgl": [
           {
            "colorbar": {
             "outlinewidth": 0,
             "ticks": ""
            },
            "colorscale": [
             [
              0,
              "#0d0887"
             ],
             [
              0.1111111111111111,
              "#46039f"
             ],
             [
              0.2222222222222222,
              "#7201a8"
             ],
             [
              0.3333333333333333,
              "#9c179e"
             ],
             [
              0.4444444444444444,
              "#bd3786"
             ],
             [
              0.5555555555555556,
              "#d8576b"
             ],
             [
              0.6666666666666666,
              "#ed7953"
             ],
             [
              0.7777777777777778,
              "#fb9f3a"
             ],
             [
              0.8888888888888888,
              "#fdca26"
             ],
             [
              1,
              "#f0f921"
             ]
            ],
            "type": "heatmapgl"
           }
          ],
          "histogram": [
           {
            "marker": {
             "pattern": {
              "fillmode": "overlay",
              "size": 10,
              "solidity": 0.2
             }
            },
            "type": "histogram"
           }
          ],
          "histogram2d": [
           {
            "colorbar": {
             "outlinewidth": 0,
             "ticks": ""
            },
            "colorscale": [
             [
              0,
              "#0d0887"
             ],
             [
              0.1111111111111111,
              "#46039f"
             ],
             [
              0.2222222222222222,
              "#7201a8"
             ],
             [
              0.3333333333333333,
              "#9c179e"
             ],
             [
              0.4444444444444444,
              "#bd3786"
             ],
             [
              0.5555555555555556,
              "#d8576b"
             ],
             [
              0.6666666666666666,
              "#ed7953"
             ],
             [
              0.7777777777777778,
              "#fb9f3a"
             ],
             [
              0.8888888888888888,
              "#fdca26"
             ],
             [
              1,
              "#f0f921"
             ]
            ],
            "type": "histogram2d"
           }
          ],
          "histogram2dcontour": [
           {
            "colorbar": {
             "outlinewidth": 0,
             "ticks": ""
            },
            "colorscale": [
             [
              0,
              "#0d0887"
             ],
             [
              0.1111111111111111,
              "#46039f"
             ],
             [
              0.2222222222222222,
              "#7201a8"
             ],
             [
              0.3333333333333333,
              "#9c179e"
             ],
             [
              0.4444444444444444,
              "#bd3786"
             ],
             [
              0.5555555555555556,
              "#d8576b"
             ],
             [
              0.6666666666666666,
              "#ed7953"
             ],
             [
              0.7777777777777778,
              "#fb9f3a"
             ],
             [
              0.8888888888888888,
              "#fdca26"
             ],
             [
              1,
              "#f0f921"
             ]
            ],
            "type": "histogram2dcontour"
           }
          ],
          "mesh3d": [
           {
            "colorbar": {
             "outlinewidth": 0,
             "ticks": ""
            },
            "type": "mesh3d"
           }
          ],
          "parcoords": [
           {
            "line": {
             "colorbar": {
              "outlinewidth": 0,
              "ticks": ""
             }
            },
            "type": "parcoords"
           }
          ],
          "pie": [
           {
            "automargin": true,
            "type": "pie"
           }
          ],
          "scatter": [
           {
            "fillpattern": {
             "fillmode": "overlay",
             "size": 10,
             "solidity": 0.2
            },
            "type": "scatter"
           }
          ],
          "scatter3d": [
           {
            "line": {
             "colorbar": {
              "outlinewidth": 0,
              "ticks": ""
             }
            },
            "marker": {
             "colorbar": {
              "outlinewidth": 0,
              "ticks": ""
             }
            },
            "type": "scatter3d"
           }
          ],
          "scattercarpet": [
           {
            "marker": {
             "colorbar": {
              "outlinewidth": 0,
              "ticks": ""
             }
            },
            "type": "scattercarpet"
           }
          ],
          "scattergeo": [
           {
            "marker": {
             "colorbar": {
              "outlinewidth": 0,
              "ticks": ""
             }
            },
            "type": "scattergeo"
           }
          ],
          "scattergl": [
           {
            "marker": {
             "colorbar": {
              "outlinewidth": 0,
              "ticks": ""
             }
            },
            "type": "scattergl"
           }
          ],
          "scattermapbox": [
           {
            "marker": {
             "colorbar": {
              "outlinewidth": 0,
              "ticks": ""
             }
            },
            "type": "scattermapbox"
           }
          ],
          "scatterpolar": [
           {
            "marker": {
             "colorbar": {
              "outlinewidth": 0,
              "ticks": ""
             }
            },
            "type": "scatterpolar"
           }
          ],
          "scatterpolargl": [
           {
            "marker": {
             "colorbar": {
              "outlinewidth": 0,
              "ticks": ""
             }
            },
            "type": "scatterpolargl"
           }
          ],
          "scatterternary": [
           {
            "marker": {
             "colorbar": {
              "outlinewidth": 0,
              "ticks": ""
             }
            },
            "type": "scatterternary"
           }
          ],
          "surface": [
           {
            "colorbar": {
             "outlinewidth": 0,
             "ticks": ""
            },
            "colorscale": [
             [
              0,
              "#0d0887"
             ],
             [
              0.1111111111111111,
              "#46039f"
             ],
             [
              0.2222222222222222,
              "#7201a8"
             ],
             [
              0.3333333333333333,
              "#9c179e"
             ],
             [
              0.4444444444444444,
              "#bd3786"
             ],
             [
              0.5555555555555556,
              "#d8576b"
             ],
             [
              0.6666666666666666,
              "#ed7953"
             ],
             [
              0.7777777777777778,
              "#fb9f3a"
             ],
             [
              0.8888888888888888,
              "#fdca26"
             ],
             [
              1,
              "#f0f921"
             ]
            ],
            "type": "surface"
           }
          ],
          "table": [
           {
            "cells": {
             "fill": {
              "color": "#EBF0F8"
             },
             "line": {
              "color": "white"
             }
            },
            "header": {
             "fill": {
              "color": "#C8D4E3"
             },
             "line": {
              "color": "white"
             }
            },
            "type": "table"
           }
          ]
         },
         "layout": {
          "annotationdefaults": {
           "arrowcolor": "#2a3f5f",
           "arrowhead": 0,
           "arrowwidth": 1
          },
          "autotypenumbers": "strict",
          "coloraxis": {
           "colorbar": {
            "outlinewidth": 0,
            "ticks": ""
           }
          },
          "colorscale": {
           "diverging": [
            [
             0,
             "#8e0152"
            ],
            [
             0.1,
             "#c51b7d"
            ],
            [
             0.2,
             "#de77ae"
            ],
            [
             0.3,
             "#f1b6da"
            ],
            [
             0.4,
             "#fde0ef"
            ],
            [
             0.5,
             "#f7f7f7"
            ],
            [
             0.6,
             "#e6f5d0"
            ],
            [
             0.7,
             "#b8e186"
            ],
            [
             0.8,
             "#7fbc41"
            ],
            [
             0.9,
             "#4d9221"
            ],
            [
             1,
             "#276419"
            ]
           ],
           "sequential": [
            [
             0,
             "#0d0887"
            ],
            [
             0.1111111111111111,
             "#46039f"
            ],
            [
             0.2222222222222222,
             "#7201a8"
            ],
            [
             0.3333333333333333,
             "#9c179e"
            ],
            [
             0.4444444444444444,
             "#bd3786"
            ],
            [
             0.5555555555555556,
             "#d8576b"
            ],
            [
             0.6666666666666666,
             "#ed7953"
            ],
            [
             0.7777777777777778,
             "#fb9f3a"
            ],
            [
             0.8888888888888888,
             "#fdca26"
            ],
            [
             1,
             "#f0f921"
            ]
           ],
           "sequentialminus": [
            [
             0,
             "#0d0887"
            ],
            [
             0.1111111111111111,
             "#46039f"
            ],
            [
             0.2222222222222222,
             "#7201a8"
            ],
            [
             0.3333333333333333,
             "#9c179e"
            ],
            [
             0.4444444444444444,
             "#bd3786"
            ],
            [
             0.5555555555555556,
             "#d8576b"
            ],
            [
             0.6666666666666666,
             "#ed7953"
            ],
            [
             0.7777777777777778,
             "#fb9f3a"
            ],
            [
             0.8888888888888888,
             "#fdca26"
            ],
            [
             1,
             "#f0f921"
            ]
           ]
          },
          "colorway": [
           "#636efa",
           "#EF553B",
           "#00cc96",
           "#ab63fa",
           "#FFA15A",
           "#19d3f3",
           "#FF6692",
           "#B6E880",
           "#FF97FF",
           "#FECB52"
          ],
          "font": {
           "color": "#2a3f5f"
          },
          "geo": {
           "bgcolor": "white",
           "lakecolor": "white",
           "landcolor": "#E5ECF6",
           "showlakes": true,
           "showland": true,
           "subunitcolor": "white"
          },
          "hoverlabel": {
           "align": "left"
          },
          "hovermode": "closest",
          "mapbox": {
           "style": "light"
          },
          "paper_bgcolor": "white",
          "plot_bgcolor": "#E5ECF6",
          "polar": {
           "angularaxis": {
            "gridcolor": "white",
            "linecolor": "white",
            "ticks": ""
           },
           "bgcolor": "#E5ECF6",
           "radialaxis": {
            "gridcolor": "white",
            "linecolor": "white",
            "ticks": ""
           }
          },
          "scene": {
           "xaxis": {
            "backgroundcolor": "#E5ECF6",
            "gridcolor": "white",
            "gridwidth": 2,
            "linecolor": "white",
            "showbackground": true,
            "ticks": "",
            "zerolinecolor": "white"
           },
           "yaxis": {
            "backgroundcolor": "#E5ECF6",
            "gridcolor": "white",
            "gridwidth": 2,
            "linecolor": "white",
            "showbackground": true,
            "ticks": "",
            "zerolinecolor": "white"
           },
           "zaxis": {
            "backgroundcolor": "#E5ECF6",
            "gridcolor": "white",
            "gridwidth": 2,
            "linecolor": "white",
            "showbackground": true,
            "ticks": "",
            "zerolinecolor": "white"
           }
          },
          "shapedefaults": {
           "line": {
            "color": "#2a3f5f"
           }
          },
          "ternary": {
           "aaxis": {
            "gridcolor": "white",
            "linecolor": "white",
            "ticks": ""
           },
           "baxis": {
            "gridcolor": "white",
            "linecolor": "white",
            "ticks": ""
           },
           "bgcolor": "#E5ECF6",
           "caxis": {
            "gridcolor": "white",
            "linecolor": "white",
            "ticks": ""
           }
          },
          "title": {
           "x": 0.05
          },
          "xaxis": {
           "automargin": true,
           "gridcolor": "white",
           "linecolor": "white",
           "ticks": "",
           "title": {
            "standoff": 15
           },
           "zerolinecolor": "white",
           "zerolinewidth": 2
          },
          "yaxis": {
           "automargin": true,
           "gridcolor": "white",
           "linecolor": "white",
           "ticks": "",
           "title": {
            "standoff": 15
           },
           "zerolinecolor": "white",
           "zerolinewidth": 2
          }
         }
        },
        "title": {
         "text": "Top 5 Most Popular Artists"
        },
        "xaxis": {
         "anchor": "y",
         "domain": [
          0,
          1
         ],
         "title": {
          "text": "Artist"
         }
        },
        "yaxis": {
         "anchor": "x",
         "domain": [
          0,
          1
         ],
         "title": {
          "text": "Number of Songs"
         }
        }
       }
      },
      "text/html": [
       "<div>                            <div id=\"0cd91d83-3999-47b9-ab66-b2f21122324f\" class=\"plotly-graph-div\" style=\"height:525px; width:100%;\"></div>            <script type=\"text/javascript\">                require([\"plotly\"], function(Plotly) {                    window.PLOTLYENV=window.PLOTLYENV || {};                                    if (document.getElementById(\"0cd91d83-3999-47b9-ab66-b2f21122324f\")) {                    Plotly.newPlot(                        \"0cd91d83-3999-47b9-ab66-b2f21122324f\",                        [{\"alignmentgroup\":\"True\",\"hovertemplate\":\"Artist=%{x}<br>Number of Songs=%{y}<extra></extra>\",\"legendgroup\":\"\",\"marker\":{\"color\":\"#636efa\",\"pattern\":{\"shape\":\"\"}},\"name\":\"\",\"offsetgroup\":\"\",\"orientation\":\"v\",\"showlegend\":false,\"textposition\":\"auto\",\"x\":[\"Katy Perry\",\"Justin Bieber\",\"Rihanna\",\"Maroon 5\",\"Lady Gaga\"],\"xaxis\":\"x\",\"y\":[17,16,15,15,14],\"yaxis\":\"y\",\"type\":\"bar\"}],                        {\"template\":{\"data\":{\"histogram2dcontour\":[{\"type\":\"histogram2dcontour\",\"colorbar\":{\"outlinewidth\":0,\"ticks\":\"\"},\"colorscale\":[[0.0,\"#0d0887\"],[0.1111111111111111,\"#46039f\"],[0.2222222222222222,\"#7201a8\"],[0.3333333333333333,\"#9c179e\"],[0.4444444444444444,\"#bd3786\"],[0.5555555555555556,\"#d8576b\"],[0.6666666666666666,\"#ed7953\"],[0.7777777777777778,\"#fb9f3a\"],[0.8888888888888888,\"#fdca26\"],[1.0,\"#f0f921\"]]}],\"choropleth\":[{\"type\":\"choropleth\",\"colorbar\":{\"outlinewidth\":0,\"ticks\":\"\"}}],\"histogram2d\":[{\"type\":\"histogram2d\",\"colorbar\":{\"outlinewidth\":0,\"ticks\":\"\"},\"colorscale\":[[0.0,\"#0d0887\"],[0.1111111111111111,\"#46039f\"],[0.2222222222222222,\"#7201a8\"],[0.3333333333333333,\"#9c179e\"],[0.4444444444444444,\"#bd3786\"],[0.5555555555555556,\"#d8576b\"],[0.6666666666666666,\"#ed7953\"],[0.7777777777777778,\"#fb9f3a\"],[0.8888888888888888,\"#fdca26\"],[1.0,\"#f0f921\"]]}],\"heatmap\":[{\"type\":\"heatmap\",\"colorbar\":{\"outlinewidth\":0,\"ticks\":\"\"},\"colorscale\":[[0.0,\"#0d0887\"],[0.1111111111111111,\"#46039f\"],[0.2222222222222222,\"#7201a8\"],[0.3333333333333333,\"#9c179e\"],[0.4444444444444444,\"#bd3786\"],[0.5555555555555556,\"#d8576b\"],[0.6666666666666666,\"#ed7953\"],[0.7777777777777778,\"#fb9f3a\"],[0.8888888888888888,\"#fdca26\"],[1.0,\"#f0f921\"]]}],\"heatmapgl\":[{\"type\":\"heatmapgl\",\"colorbar\":{\"outlinewidth\":0,\"ticks\":\"\"},\"colorscale\":[[0.0,\"#0d0887\"],[0.1111111111111111,\"#46039f\"],[0.2222222222222222,\"#7201a8\"],[0.3333333333333333,\"#9c179e\"],[0.4444444444444444,\"#bd3786\"],[0.5555555555555556,\"#d8576b\"],[0.6666666666666666,\"#ed7953\"],[0.7777777777777778,\"#fb9f3a\"],[0.8888888888888888,\"#fdca26\"],[1.0,\"#f0f921\"]]}],\"contourcarpet\":[{\"type\":\"contourcarpet\",\"colorbar\":{\"outlinewidth\":0,\"ticks\":\"\"}}],\"contour\":[{\"type\":\"contour\",\"colorbar\":{\"outlinewidth\":0,\"ticks\":\"\"},\"colorscale\":[[0.0,\"#0d0887\"],[0.1111111111111111,\"#46039f\"],[0.2222222222222222,\"#7201a8\"],[0.3333333333333333,\"#9c179e\"],[0.4444444444444444,\"#bd3786\"],[0.5555555555555556,\"#d8576b\"],[0.6666666666666666,\"#ed7953\"],[0.7777777777777778,\"#fb9f3a\"],[0.8888888888888888,\"#fdca26\"],[1.0,\"#f0f921\"]]}],\"surface\":[{\"type\":\"surface\",\"colorbar\":{\"outlinewidth\":0,\"ticks\":\"\"},\"colorscale\":[[0.0,\"#0d0887\"],[0.1111111111111111,\"#46039f\"],[0.2222222222222222,\"#7201a8\"],[0.3333333333333333,\"#9c179e\"],[0.4444444444444444,\"#bd3786\"],[0.5555555555555556,\"#d8576b\"],[0.6666666666666666,\"#ed7953\"],[0.7777777777777778,\"#fb9f3a\"],[0.8888888888888888,\"#fdca26\"],[1.0,\"#f0f921\"]]}],\"mesh3d\":[{\"type\":\"mesh3d\",\"colorbar\":{\"outlinewidth\":0,\"ticks\":\"\"}}],\"scatter\":[{\"fillpattern\":{\"fillmode\":\"overlay\",\"size\":10,\"solidity\":0.2},\"type\":\"scatter\"}],\"parcoords\":[{\"type\":\"parcoords\",\"line\":{\"colorbar\":{\"outlinewidth\":0,\"ticks\":\"\"}}}],\"scatterpolargl\":[{\"type\":\"scatterpolargl\",\"marker\":{\"colorbar\":{\"outlinewidth\":0,\"ticks\":\"\"}}}],\"bar\":[{\"error_x\":{\"color\":\"#2a3f5f\"},\"error_y\":{\"color\":\"#2a3f5f\"},\"marker\":{\"line\":{\"color\":\"#E5ECF6\",\"width\":0.5},\"pattern\":{\"fillmode\":\"overlay\",\"size\":10,\"solidity\":0.2}},\"type\":\"bar\"}],\"scattergeo\":[{\"type\":\"scattergeo\",\"marker\":{\"colorbar\":{\"outlinewidth\":0,\"ticks\":\"\"}}}],\"scatterpolar\":[{\"type\":\"scatterpolar\",\"marker\":{\"colorbar\":{\"outlinewidth\":0,\"ticks\":\"\"}}}],\"histogram\":[{\"marker\":{\"pattern\":{\"fillmode\":\"overlay\",\"size\":10,\"solidity\":0.2}},\"type\":\"histogram\"}],\"scattergl\":[{\"type\":\"scattergl\",\"marker\":{\"colorbar\":{\"outlinewidth\":0,\"ticks\":\"\"}}}],\"scatter3d\":[{\"type\":\"scatter3d\",\"line\":{\"colorbar\":{\"outlinewidth\":0,\"ticks\":\"\"}},\"marker\":{\"colorbar\":{\"outlinewidth\":0,\"ticks\":\"\"}}}],\"scattermapbox\":[{\"type\":\"scattermapbox\",\"marker\":{\"colorbar\":{\"outlinewidth\":0,\"ticks\":\"\"}}}],\"scatterternary\":[{\"type\":\"scatterternary\",\"marker\":{\"colorbar\":{\"outlinewidth\":0,\"ticks\":\"\"}}}],\"scattercarpet\":[{\"type\":\"scattercarpet\",\"marker\":{\"colorbar\":{\"outlinewidth\":0,\"ticks\":\"\"}}}],\"carpet\":[{\"aaxis\":{\"endlinecolor\":\"#2a3f5f\",\"gridcolor\":\"white\",\"linecolor\":\"white\",\"minorgridcolor\":\"white\",\"startlinecolor\":\"#2a3f5f\"},\"baxis\":{\"endlinecolor\":\"#2a3f5f\",\"gridcolor\":\"white\",\"linecolor\":\"white\",\"minorgridcolor\":\"white\",\"startlinecolor\":\"#2a3f5f\"},\"type\":\"carpet\"}],\"table\":[{\"cells\":{\"fill\":{\"color\":\"#EBF0F8\"},\"line\":{\"color\":\"white\"}},\"header\":{\"fill\":{\"color\":\"#C8D4E3\"},\"line\":{\"color\":\"white\"}},\"type\":\"table\"}],\"barpolar\":[{\"marker\":{\"line\":{\"color\":\"#E5ECF6\",\"width\":0.5},\"pattern\":{\"fillmode\":\"overlay\",\"size\":10,\"solidity\":0.2}},\"type\":\"barpolar\"}],\"pie\":[{\"automargin\":true,\"type\":\"pie\"}]},\"layout\":{\"autotypenumbers\":\"strict\",\"colorway\":[\"#636efa\",\"#EF553B\",\"#00cc96\",\"#ab63fa\",\"#FFA15A\",\"#19d3f3\",\"#FF6692\",\"#B6E880\",\"#FF97FF\",\"#FECB52\"],\"font\":{\"color\":\"#2a3f5f\"},\"hovermode\":\"closest\",\"hoverlabel\":{\"align\":\"left\"},\"paper_bgcolor\":\"white\",\"plot_bgcolor\":\"#E5ECF6\",\"polar\":{\"bgcolor\":\"#E5ECF6\",\"angularaxis\":{\"gridcolor\":\"white\",\"linecolor\":\"white\",\"ticks\":\"\"},\"radialaxis\":{\"gridcolor\":\"white\",\"linecolor\":\"white\",\"ticks\":\"\"}},\"ternary\":{\"bgcolor\":\"#E5ECF6\",\"aaxis\":{\"gridcolor\":\"white\",\"linecolor\":\"white\",\"ticks\":\"\"},\"baxis\":{\"gridcolor\":\"white\",\"linecolor\":\"white\",\"ticks\":\"\"},\"caxis\":{\"gridcolor\":\"white\",\"linecolor\":\"white\",\"ticks\":\"\"}},\"coloraxis\":{\"colorbar\":{\"outlinewidth\":0,\"ticks\":\"\"}},\"colorscale\":{\"sequential\":[[0.0,\"#0d0887\"],[0.1111111111111111,\"#46039f\"],[0.2222222222222222,\"#7201a8\"],[0.3333333333333333,\"#9c179e\"],[0.4444444444444444,\"#bd3786\"],[0.5555555555555556,\"#d8576b\"],[0.6666666666666666,\"#ed7953\"],[0.7777777777777778,\"#fb9f3a\"],[0.8888888888888888,\"#fdca26\"],[1.0,\"#f0f921\"]],\"sequentialminus\":[[0.0,\"#0d0887\"],[0.1111111111111111,\"#46039f\"],[0.2222222222222222,\"#7201a8\"],[0.3333333333333333,\"#9c179e\"],[0.4444444444444444,\"#bd3786\"],[0.5555555555555556,\"#d8576b\"],[0.6666666666666666,\"#ed7953\"],[0.7777777777777778,\"#fb9f3a\"],[0.8888888888888888,\"#fdca26\"],[1.0,\"#f0f921\"]],\"diverging\":[[0,\"#8e0152\"],[0.1,\"#c51b7d\"],[0.2,\"#de77ae\"],[0.3,\"#f1b6da\"],[0.4,\"#fde0ef\"],[0.5,\"#f7f7f7\"],[0.6,\"#e6f5d0\"],[0.7,\"#b8e186\"],[0.8,\"#7fbc41\"],[0.9,\"#4d9221\"],[1,\"#276419\"]]},\"xaxis\":{\"gridcolor\":\"white\",\"linecolor\":\"white\",\"ticks\":\"\",\"title\":{\"standoff\":15},\"zerolinecolor\":\"white\",\"automargin\":true,\"zerolinewidth\":2},\"yaxis\":{\"gridcolor\":\"white\",\"linecolor\":\"white\",\"ticks\":\"\",\"title\":{\"standoff\":15},\"zerolinecolor\":\"white\",\"automargin\":true,\"zerolinewidth\":2},\"scene\":{\"xaxis\":{\"backgroundcolor\":\"#E5ECF6\",\"gridcolor\":\"white\",\"linecolor\":\"white\",\"showbackground\":true,\"ticks\":\"\",\"zerolinecolor\":\"white\",\"gridwidth\":2},\"yaxis\":{\"backgroundcolor\":\"#E5ECF6\",\"gridcolor\":\"white\",\"linecolor\":\"white\",\"showbackground\":true,\"ticks\":\"\",\"zerolinecolor\":\"white\",\"gridwidth\":2},\"zaxis\":{\"backgroundcolor\":\"#E5ECF6\",\"gridcolor\":\"white\",\"linecolor\":\"white\",\"showbackground\":true,\"ticks\":\"\",\"zerolinecolor\":\"white\",\"gridwidth\":2}},\"shapedefaults\":{\"line\":{\"color\":\"#2a3f5f\"}},\"annotationdefaults\":{\"arrowcolor\":\"#2a3f5f\",\"arrowhead\":0,\"arrowwidth\":1},\"geo\":{\"bgcolor\":\"white\",\"landcolor\":\"#E5ECF6\",\"subunitcolor\":\"white\",\"showland\":true,\"showlakes\":true,\"lakecolor\":\"white\"},\"title\":{\"x\":0.05},\"mapbox\":{\"style\":\"light\"}}},\"xaxis\":{\"anchor\":\"y\",\"domain\":[0.0,1.0],\"title\":{\"text\":\"Artist\"}},\"yaxis\":{\"anchor\":\"x\",\"domain\":[0.0,1.0],\"title\":{\"text\":\"Number of Songs\"}},\"legend\":{\"tracegroupgap\":0},\"title\":{\"text\":\"Top 5 Most Popular Artists\"},\"barmode\":\"relative\"},                        {\"responsive\": true}                    ).then(function(){\n",
       "                            \n",
       "var gd = document.getElementById('0cd91d83-3999-47b9-ab66-b2f21122324f');\n",
       "var x = new MutationObserver(function (mutations, observer) {{\n",
       "        var display = window.getComputedStyle(gd).display;\n",
       "        if (!display || display === 'none') {{\n",
       "            console.log([gd, 'removed!']);\n",
       "            Plotly.purge(gd);\n",
       "            observer.disconnect();\n",
       "        }}\n",
       "}});\n",
       "\n",
       "// Listen for the removal of the full notebook cells\n",
       "var notebookContainer = gd.closest('#notebook-container');\n",
       "if (notebookContainer) {{\n",
       "    x.observe(notebookContainer, {childList: true});\n",
       "}}\n",
       "\n",
       "// Listen for the clearing of the current output cell\n",
       "var outputEl = gd.closest('.output');\n",
       "if (outputEl) {{\n",
       "    x.observe(outputEl, {childList: true});\n",
       "}}\n",
       "\n",
       "                        })                };                });            </script>        </div>"
      ]
     },
     "metadata": {},
     "output_type": "display_data"
    }
   ],
   "source": [
    "# Load the data\n",
    "df = pd.read_csv(\"spotify_top_music.csv\")\n",
    "\n",
    "# Count the number of songs for each artist\n",
    "artist_counts = df[\"artist\"].value_counts()\n",
    "\n",
    "# Get the top 5 artists as a DataFrame\n",
    "top_artists = artist_counts[:5].reset_index()\n",
    "top_artists.columns = ['Artist', 'Number of Songs']\n",
    "\n",
    "# Create a bar plot\n",
    "fig = px.bar(top_artists, x='Artist', y='Number of Songs', title='Top 5 Most Popular Artists')\n",
    "fig.update_layout(xaxis_title=\"Artist\", yaxis_title=\"Number of Songs\")\n",
    "\n",
    "# Show the plot\n",
    "fig.show()\n"
   ]
  },
  {
   "cell_type": "markdown",
   "id": "6945cc07",
   "metadata": {},
   "source": [
    "Let's analyse the data in another way (data variation over the years):"
   ]
  },
  {
   "cell_type": "code",
   "execution_count": 24,
   "id": "79a7e0db",
   "metadata": {},
   "outputs": [
    {
     "data": {
      "application/vnd.plotly.v1+json": {
       "config": {
        "plotlyServerURL": "https://plot.ly"
       },
       "data": [
        {
         "hovertemplate": "year=%{x}<br>dur=%{y}<extra></extra>",
         "legendgroup": "",
         "line": {
          "color": "#636efa",
          "dash": "solid"
         },
         "marker": {
          "symbol": "circle"
         },
         "mode": "lines",
         "name": "",
         "orientation": "v",
         "showlegend": false,
         "type": "scatter",
         "x": [
          "2010-01-01T00:00:00",
          "2011-01-01T00:00:00",
          "2012-01-01T00:00:00",
          "2013-01-01T00:00:00",
          "2014-01-01T00:00:00",
          "2015-01-01T00:00:00",
          "2016-01-01T00:00:00",
          "2017-01-01T00:00:00",
          "2018-01-01T00:00:00",
          "2019-01-01T00:00:00"
         ],
         "xaxis": "x",
         "y": [
          229.80392156862746,
          242.56603773584905,
          224.4,
          234.49295774647888,
          224.1551724137931,
          223.3684210526316,
          220.225,
          222.16923076923078,
          217.1875,
          200.6451612903226
         ],
         "yaxis": "y"
        }
       ],
       "layout": {
        "legend": {
         "tracegroupgap": 0
        },
        "template": {
         "data": {
          "bar": [
           {
            "error_x": {
             "color": "#2a3f5f"
            },
            "error_y": {
             "color": "#2a3f5f"
            },
            "marker": {
             "line": {
              "color": "#E5ECF6",
              "width": 0.5
             },
             "pattern": {
              "fillmode": "overlay",
              "size": 10,
              "solidity": 0.2
             }
            },
            "type": "bar"
           }
          ],
          "barpolar": [
           {
            "marker": {
             "line": {
              "color": "#E5ECF6",
              "width": 0.5
             },
             "pattern": {
              "fillmode": "overlay",
              "size": 10,
              "solidity": 0.2
             }
            },
            "type": "barpolar"
           }
          ],
          "carpet": [
           {
            "aaxis": {
             "endlinecolor": "#2a3f5f",
             "gridcolor": "white",
             "linecolor": "white",
             "minorgridcolor": "white",
             "startlinecolor": "#2a3f5f"
            },
            "baxis": {
             "endlinecolor": "#2a3f5f",
             "gridcolor": "white",
             "linecolor": "white",
             "minorgridcolor": "white",
             "startlinecolor": "#2a3f5f"
            },
            "type": "carpet"
           }
          ],
          "choropleth": [
           {
            "colorbar": {
             "outlinewidth": 0,
             "ticks": ""
            },
            "type": "choropleth"
           }
          ],
          "contour": [
           {
            "colorbar": {
             "outlinewidth": 0,
             "ticks": ""
            },
            "colorscale": [
             [
              0,
              "#0d0887"
             ],
             [
              0.1111111111111111,
              "#46039f"
             ],
             [
              0.2222222222222222,
              "#7201a8"
             ],
             [
              0.3333333333333333,
              "#9c179e"
             ],
             [
              0.4444444444444444,
              "#bd3786"
             ],
             [
              0.5555555555555556,
              "#d8576b"
             ],
             [
              0.6666666666666666,
              "#ed7953"
             ],
             [
              0.7777777777777778,
              "#fb9f3a"
             ],
             [
              0.8888888888888888,
              "#fdca26"
             ],
             [
              1,
              "#f0f921"
             ]
            ],
            "type": "contour"
           }
          ],
          "contourcarpet": [
           {
            "colorbar": {
             "outlinewidth": 0,
             "ticks": ""
            },
            "type": "contourcarpet"
           }
          ],
          "heatmap": [
           {
            "colorbar": {
             "outlinewidth": 0,
             "ticks": ""
            },
            "colorscale": [
             [
              0,
              "#0d0887"
             ],
             [
              0.1111111111111111,
              "#46039f"
             ],
             [
              0.2222222222222222,
              "#7201a8"
             ],
             [
              0.3333333333333333,
              "#9c179e"
             ],
             [
              0.4444444444444444,
              "#bd3786"
             ],
             [
              0.5555555555555556,
              "#d8576b"
             ],
             [
              0.6666666666666666,
              "#ed7953"
             ],
             [
              0.7777777777777778,
              "#fb9f3a"
             ],
             [
              0.8888888888888888,
              "#fdca26"
             ],
             [
              1,
              "#f0f921"
             ]
            ],
            "type": "heatmap"
           }
          ],
          "heatmapgl": [
           {
            "colorbar": {
             "outlinewidth": 0,
             "ticks": ""
            },
            "colorscale": [
             [
              0,
              "#0d0887"
             ],
             [
              0.1111111111111111,
              "#46039f"
             ],
             [
              0.2222222222222222,
              "#7201a8"
             ],
             [
              0.3333333333333333,
              "#9c179e"
             ],
             [
              0.4444444444444444,
              "#bd3786"
             ],
             [
              0.5555555555555556,
              "#d8576b"
             ],
             [
              0.6666666666666666,
              "#ed7953"
             ],
             [
              0.7777777777777778,
              "#fb9f3a"
             ],
             [
              0.8888888888888888,
              "#fdca26"
             ],
             [
              1,
              "#f0f921"
             ]
            ],
            "type": "heatmapgl"
           }
          ],
          "histogram": [
           {
            "marker": {
             "pattern": {
              "fillmode": "overlay",
              "size": 10,
              "solidity": 0.2
             }
            },
            "type": "histogram"
           }
          ],
          "histogram2d": [
           {
            "colorbar": {
             "outlinewidth": 0,
             "ticks": ""
            },
            "colorscale": [
             [
              0,
              "#0d0887"
             ],
             [
              0.1111111111111111,
              "#46039f"
             ],
             [
              0.2222222222222222,
              "#7201a8"
             ],
             [
              0.3333333333333333,
              "#9c179e"
             ],
             [
              0.4444444444444444,
              "#bd3786"
             ],
             [
              0.5555555555555556,
              "#d8576b"
             ],
             [
              0.6666666666666666,
              "#ed7953"
             ],
             [
              0.7777777777777778,
              "#fb9f3a"
             ],
             [
              0.8888888888888888,
              "#fdca26"
             ],
             [
              1,
              "#f0f921"
             ]
            ],
            "type": "histogram2d"
           }
          ],
          "histogram2dcontour": [
           {
            "colorbar": {
             "outlinewidth": 0,
             "ticks": ""
            },
            "colorscale": [
             [
              0,
              "#0d0887"
             ],
             [
              0.1111111111111111,
              "#46039f"
             ],
             [
              0.2222222222222222,
              "#7201a8"
             ],
             [
              0.3333333333333333,
              "#9c179e"
             ],
             [
              0.4444444444444444,
              "#bd3786"
             ],
             [
              0.5555555555555556,
              "#d8576b"
             ],
             [
              0.6666666666666666,
              "#ed7953"
             ],
             [
              0.7777777777777778,
              "#fb9f3a"
             ],
             [
              0.8888888888888888,
              "#fdca26"
             ],
             [
              1,
              "#f0f921"
             ]
            ],
            "type": "histogram2dcontour"
           }
          ],
          "mesh3d": [
           {
            "colorbar": {
             "outlinewidth": 0,
             "ticks": ""
            },
            "type": "mesh3d"
           }
          ],
          "parcoords": [
           {
            "line": {
             "colorbar": {
              "outlinewidth": 0,
              "ticks": ""
             }
            },
            "type": "parcoords"
           }
          ],
          "pie": [
           {
            "automargin": true,
            "type": "pie"
           }
          ],
          "scatter": [
           {
            "fillpattern": {
             "fillmode": "overlay",
             "size": 10,
             "solidity": 0.2
            },
            "type": "scatter"
           }
          ],
          "scatter3d": [
           {
            "line": {
             "colorbar": {
              "outlinewidth": 0,
              "ticks": ""
             }
            },
            "marker": {
             "colorbar": {
              "outlinewidth": 0,
              "ticks": ""
             }
            },
            "type": "scatter3d"
           }
          ],
          "scattercarpet": [
           {
            "marker": {
             "colorbar": {
              "outlinewidth": 0,
              "ticks": ""
             }
            },
            "type": "scattercarpet"
           }
          ],
          "scattergeo": [
           {
            "marker": {
             "colorbar": {
              "outlinewidth": 0,
              "ticks": ""
             }
            },
            "type": "scattergeo"
           }
          ],
          "scattergl": [
           {
            "marker": {
             "colorbar": {
              "outlinewidth": 0,
              "ticks": ""
             }
            },
            "type": "scattergl"
           }
          ],
          "scattermapbox": [
           {
            "marker": {
             "colorbar": {
              "outlinewidth": 0,
              "ticks": ""
             }
            },
            "type": "scattermapbox"
           }
          ],
          "scatterpolar": [
           {
            "marker": {
             "colorbar": {
              "outlinewidth": 0,
              "ticks": ""
             }
            },
            "type": "scatterpolar"
           }
          ],
          "scatterpolargl": [
           {
            "marker": {
             "colorbar": {
              "outlinewidth": 0,
              "ticks": ""
             }
            },
            "type": "scatterpolargl"
           }
          ],
          "scatterternary": [
           {
            "marker": {
             "colorbar": {
              "outlinewidth": 0,
              "ticks": ""
             }
            },
            "type": "scatterternary"
           }
          ],
          "surface": [
           {
            "colorbar": {
             "outlinewidth": 0,
             "ticks": ""
            },
            "colorscale": [
             [
              0,
              "#0d0887"
             ],
             [
              0.1111111111111111,
              "#46039f"
             ],
             [
              0.2222222222222222,
              "#7201a8"
             ],
             [
              0.3333333333333333,
              "#9c179e"
             ],
             [
              0.4444444444444444,
              "#bd3786"
             ],
             [
              0.5555555555555556,
              "#d8576b"
             ],
             [
              0.6666666666666666,
              "#ed7953"
             ],
             [
              0.7777777777777778,
              "#fb9f3a"
             ],
             [
              0.8888888888888888,
              "#fdca26"
             ],
             [
              1,
              "#f0f921"
             ]
            ],
            "type": "surface"
           }
          ],
          "table": [
           {
            "cells": {
             "fill": {
              "color": "#EBF0F8"
             },
             "line": {
              "color": "white"
             }
            },
            "header": {
             "fill": {
              "color": "#C8D4E3"
             },
             "line": {
              "color": "white"
             }
            },
            "type": "table"
           }
          ]
         },
         "layout": {
          "annotationdefaults": {
           "arrowcolor": "#2a3f5f",
           "arrowhead": 0,
           "arrowwidth": 1
          },
          "autotypenumbers": "strict",
          "coloraxis": {
           "colorbar": {
            "outlinewidth": 0,
            "ticks": ""
           }
          },
          "colorscale": {
           "diverging": [
            [
             0,
             "#8e0152"
            ],
            [
             0.1,
             "#c51b7d"
            ],
            [
             0.2,
             "#de77ae"
            ],
            [
             0.3,
             "#f1b6da"
            ],
            [
             0.4,
             "#fde0ef"
            ],
            [
             0.5,
             "#f7f7f7"
            ],
            [
             0.6,
             "#e6f5d0"
            ],
            [
             0.7,
             "#b8e186"
            ],
            [
             0.8,
             "#7fbc41"
            ],
            [
             0.9,
             "#4d9221"
            ],
            [
             1,
             "#276419"
            ]
           ],
           "sequential": [
            [
             0,
             "#0d0887"
            ],
            [
             0.1111111111111111,
             "#46039f"
            ],
            [
             0.2222222222222222,
             "#7201a8"
            ],
            [
             0.3333333333333333,
             "#9c179e"
            ],
            [
             0.4444444444444444,
             "#bd3786"
            ],
            [
             0.5555555555555556,
             "#d8576b"
            ],
            [
             0.6666666666666666,
             "#ed7953"
            ],
            [
             0.7777777777777778,
             "#fb9f3a"
            ],
            [
             0.8888888888888888,
             "#fdca26"
            ],
            [
             1,
             "#f0f921"
            ]
           ],
           "sequentialminus": [
            [
             0,
             "#0d0887"
            ],
            [
             0.1111111111111111,
             "#46039f"
            ],
            [
             0.2222222222222222,
             "#7201a8"
            ],
            [
             0.3333333333333333,
             "#9c179e"
            ],
            [
             0.4444444444444444,
             "#bd3786"
            ],
            [
             0.5555555555555556,
             "#d8576b"
            ],
            [
             0.6666666666666666,
             "#ed7953"
            ],
            [
             0.7777777777777778,
             "#fb9f3a"
            ],
            [
             0.8888888888888888,
             "#fdca26"
            ],
            [
             1,
             "#f0f921"
            ]
           ]
          },
          "colorway": [
           "#636efa",
           "#EF553B",
           "#00cc96",
           "#ab63fa",
           "#FFA15A",
           "#19d3f3",
           "#FF6692",
           "#B6E880",
           "#FF97FF",
           "#FECB52"
          ],
          "font": {
           "color": "#2a3f5f"
          },
          "geo": {
           "bgcolor": "white",
           "lakecolor": "white",
           "landcolor": "#E5ECF6",
           "showlakes": true,
           "showland": true,
           "subunitcolor": "white"
          },
          "hoverlabel": {
           "align": "left"
          },
          "hovermode": "closest",
          "mapbox": {
           "style": "light"
          },
          "paper_bgcolor": "white",
          "plot_bgcolor": "#E5ECF6",
          "polar": {
           "angularaxis": {
            "gridcolor": "white",
            "linecolor": "white",
            "ticks": ""
           },
           "bgcolor": "#E5ECF6",
           "radialaxis": {
            "gridcolor": "white",
            "linecolor": "white",
            "ticks": ""
           }
          },
          "scene": {
           "xaxis": {
            "backgroundcolor": "#E5ECF6",
            "gridcolor": "white",
            "gridwidth": 2,
            "linecolor": "white",
            "showbackground": true,
            "ticks": "",
            "zerolinecolor": "white"
           },
           "yaxis": {
            "backgroundcolor": "#E5ECF6",
            "gridcolor": "white",
            "gridwidth": 2,
            "linecolor": "white",
            "showbackground": true,
            "ticks": "",
            "zerolinecolor": "white"
           },
           "zaxis": {
            "backgroundcolor": "#E5ECF6",
            "gridcolor": "white",
            "gridwidth": 2,
            "linecolor": "white",
            "showbackground": true,
            "ticks": "",
            "zerolinecolor": "white"
           }
          },
          "shapedefaults": {
           "line": {
            "color": "#2a3f5f"
           }
          },
          "ternary": {
           "aaxis": {
            "gridcolor": "white",
            "linecolor": "white",
            "ticks": ""
           },
           "baxis": {
            "gridcolor": "white",
            "linecolor": "white",
            "ticks": ""
           },
           "bgcolor": "#E5ECF6",
           "caxis": {
            "gridcolor": "white",
            "linecolor": "white",
            "ticks": ""
           }
          },
          "title": {
           "x": 0.05
          },
          "xaxis": {
           "automargin": true,
           "gridcolor": "white",
           "linecolor": "white",
           "ticks": "",
           "title": {
            "standoff": 15
           },
           "zerolinecolor": "white",
           "zerolinewidth": 2
          },
          "yaxis": {
           "automargin": true,
           "gridcolor": "white",
           "linecolor": "white",
           "ticks": "",
           "title": {
            "standoff": 15
           },
           "zerolinecolor": "white",
           "zerolinewidth": 2
          }
         }
        },
        "title": {
         "text": "Duration Time-Series by Year"
        },
        "xaxis": {
         "anchor": "y",
         "domain": [
          0,
          1
         ],
         "title": {
          "text": "Year"
         }
        },
        "yaxis": {
         "anchor": "x",
         "domain": [
          0,
          1
         ],
         "title": {
          "text": "Duration (minutes)"
         }
        }
       }
      },
      "text/html": [
       "<div>                            <div id=\"7aa794bd-de3f-42b5-9a0f-8b2b713bed99\" class=\"plotly-graph-div\" style=\"height:525px; width:100%;\"></div>            <script type=\"text/javascript\">                require([\"plotly\"], function(Plotly) {                    window.PLOTLYENV=window.PLOTLYENV || {};                                    if (document.getElementById(\"7aa794bd-de3f-42b5-9a0f-8b2b713bed99\")) {                    Plotly.newPlot(                        \"7aa794bd-de3f-42b5-9a0f-8b2b713bed99\",                        [{\"hovertemplate\":\"year=%{x}<br>dur=%{y}<extra></extra>\",\"legendgroup\":\"\",\"line\":{\"color\":\"#636efa\",\"dash\":\"solid\"},\"marker\":{\"symbol\":\"circle\"},\"mode\":\"lines\",\"name\":\"\",\"orientation\":\"v\",\"showlegend\":false,\"x\":[\"2010-01-01T00:00:00\",\"2011-01-01T00:00:00\",\"2012-01-01T00:00:00\",\"2013-01-01T00:00:00\",\"2014-01-01T00:00:00\",\"2015-01-01T00:00:00\",\"2016-01-01T00:00:00\",\"2017-01-01T00:00:00\",\"2018-01-01T00:00:00\",\"2019-01-01T00:00:00\"],\"xaxis\":\"x\",\"y\":[229.80392156862746,242.56603773584905,224.4,234.49295774647888,224.1551724137931,223.3684210526316,220.225,222.16923076923078,217.1875,200.6451612903226],\"yaxis\":\"y\",\"type\":\"scatter\"}],                        {\"template\":{\"data\":{\"histogram2dcontour\":[{\"type\":\"histogram2dcontour\",\"colorbar\":{\"outlinewidth\":0,\"ticks\":\"\"},\"colorscale\":[[0.0,\"#0d0887\"],[0.1111111111111111,\"#46039f\"],[0.2222222222222222,\"#7201a8\"],[0.3333333333333333,\"#9c179e\"],[0.4444444444444444,\"#bd3786\"],[0.5555555555555556,\"#d8576b\"],[0.6666666666666666,\"#ed7953\"],[0.7777777777777778,\"#fb9f3a\"],[0.8888888888888888,\"#fdca26\"],[1.0,\"#f0f921\"]]}],\"choropleth\":[{\"type\":\"choropleth\",\"colorbar\":{\"outlinewidth\":0,\"ticks\":\"\"}}],\"histogram2d\":[{\"type\":\"histogram2d\",\"colorbar\":{\"outlinewidth\":0,\"ticks\":\"\"},\"colorscale\":[[0.0,\"#0d0887\"],[0.1111111111111111,\"#46039f\"],[0.2222222222222222,\"#7201a8\"],[0.3333333333333333,\"#9c179e\"],[0.4444444444444444,\"#bd3786\"],[0.5555555555555556,\"#d8576b\"],[0.6666666666666666,\"#ed7953\"],[0.7777777777777778,\"#fb9f3a\"],[0.8888888888888888,\"#fdca26\"],[1.0,\"#f0f921\"]]}],\"heatmap\":[{\"type\":\"heatmap\",\"colorbar\":{\"outlinewidth\":0,\"ticks\":\"\"},\"colorscale\":[[0.0,\"#0d0887\"],[0.1111111111111111,\"#46039f\"],[0.2222222222222222,\"#7201a8\"],[0.3333333333333333,\"#9c179e\"],[0.4444444444444444,\"#bd3786\"],[0.5555555555555556,\"#d8576b\"],[0.6666666666666666,\"#ed7953\"],[0.7777777777777778,\"#fb9f3a\"],[0.8888888888888888,\"#fdca26\"],[1.0,\"#f0f921\"]]}],\"heatmapgl\":[{\"type\":\"heatmapgl\",\"colorbar\":{\"outlinewidth\":0,\"ticks\":\"\"},\"colorscale\":[[0.0,\"#0d0887\"],[0.1111111111111111,\"#46039f\"],[0.2222222222222222,\"#7201a8\"],[0.3333333333333333,\"#9c179e\"],[0.4444444444444444,\"#bd3786\"],[0.5555555555555556,\"#d8576b\"],[0.6666666666666666,\"#ed7953\"],[0.7777777777777778,\"#fb9f3a\"],[0.8888888888888888,\"#fdca26\"],[1.0,\"#f0f921\"]]}],\"contourcarpet\":[{\"type\":\"contourcarpet\",\"colorbar\":{\"outlinewidth\":0,\"ticks\":\"\"}}],\"contour\":[{\"type\":\"contour\",\"colorbar\":{\"outlinewidth\":0,\"ticks\":\"\"},\"colorscale\":[[0.0,\"#0d0887\"],[0.1111111111111111,\"#46039f\"],[0.2222222222222222,\"#7201a8\"],[0.3333333333333333,\"#9c179e\"],[0.4444444444444444,\"#bd3786\"],[0.5555555555555556,\"#d8576b\"],[0.6666666666666666,\"#ed7953\"],[0.7777777777777778,\"#fb9f3a\"],[0.8888888888888888,\"#fdca26\"],[1.0,\"#f0f921\"]]}],\"surface\":[{\"type\":\"surface\",\"colorbar\":{\"outlinewidth\":0,\"ticks\":\"\"},\"colorscale\":[[0.0,\"#0d0887\"],[0.1111111111111111,\"#46039f\"],[0.2222222222222222,\"#7201a8\"],[0.3333333333333333,\"#9c179e\"],[0.4444444444444444,\"#bd3786\"],[0.5555555555555556,\"#d8576b\"],[0.6666666666666666,\"#ed7953\"],[0.7777777777777778,\"#fb9f3a\"],[0.8888888888888888,\"#fdca26\"],[1.0,\"#f0f921\"]]}],\"mesh3d\":[{\"type\":\"mesh3d\",\"colorbar\":{\"outlinewidth\":0,\"ticks\":\"\"}}],\"scatter\":[{\"fillpattern\":{\"fillmode\":\"overlay\",\"size\":10,\"solidity\":0.2},\"type\":\"scatter\"}],\"parcoords\":[{\"type\":\"parcoords\",\"line\":{\"colorbar\":{\"outlinewidth\":0,\"ticks\":\"\"}}}],\"scatterpolargl\":[{\"type\":\"scatterpolargl\",\"marker\":{\"colorbar\":{\"outlinewidth\":0,\"ticks\":\"\"}}}],\"bar\":[{\"error_x\":{\"color\":\"#2a3f5f\"},\"error_y\":{\"color\":\"#2a3f5f\"},\"marker\":{\"line\":{\"color\":\"#E5ECF6\",\"width\":0.5},\"pattern\":{\"fillmode\":\"overlay\",\"size\":10,\"solidity\":0.2}},\"type\":\"bar\"}],\"scattergeo\":[{\"type\":\"scattergeo\",\"marker\":{\"colorbar\":{\"outlinewidth\":0,\"ticks\":\"\"}}}],\"scatterpolar\":[{\"type\":\"scatterpolar\",\"marker\":{\"colorbar\":{\"outlinewidth\":0,\"ticks\":\"\"}}}],\"histogram\":[{\"marker\":{\"pattern\":{\"fillmode\":\"overlay\",\"size\":10,\"solidity\":0.2}},\"type\":\"histogram\"}],\"scattergl\":[{\"type\":\"scattergl\",\"marker\":{\"colorbar\":{\"outlinewidth\":0,\"ticks\":\"\"}}}],\"scatter3d\":[{\"type\":\"scatter3d\",\"line\":{\"colorbar\":{\"outlinewidth\":0,\"ticks\":\"\"}},\"marker\":{\"colorbar\":{\"outlinewidth\":0,\"ticks\":\"\"}}}],\"scattermapbox\":[{\"type\":\"scattermapbox\",\"marker\":{\"colorbar\":{\"outlinewidth\":0,\"ticks\":\"\"}}}],\"scatterternary\":[{\"type\":\"scatterternary\",\"marker\":{\"colorbar\":{\"outlinewidth\":0,\"ticks\":\"\"}}}],\"scattercarpet\":[{\"type\":\"scattercarpet\",\"marker\":{\"colorbar\":{\"outlinewidth\":0,\"ticks\":\"\"}}}],\"carpet\":[{\"aaxis\":{\"endlinecolor\":\"#2a3f5f\",\"gridcolor\":\"white\",\"linecolor\":\"white\",\"minorgridcolor\":\"white\",\"startlinecolor\":\"#2a3f5f\"},\"baxis\":{\"endlinecolor\":\"#2a3f5f\",\"gridcolor\":\"white\",\"linecolor\":\"white\",\"minorgridcolor\":\"white\",\"startlinecolor\":\"#2a3f5f\"},\"type\":\"carpet\"}],\"table\":[{\"cells\":{\"fill\":{\"color\":\"#EBF0F8\"},\"line\":{\"color\":\"white\"}},\"header\":{\"fill\":{\"color\":\"#C8D4E3\"},\"line\":{\"color\":\"white\"}},\"type\":\"table\"}],\"barpolar\":[{\"marker\":{\"line\":{\"color\":\"#E5ECF6\",\"width\":0.5},\"pattern\":{\"fillmode\":\"overlay\",\"size\":10,\"solidity\":0.2}},\"type\":\"barpolar\"}],\"pie\":[{\"automargin\":true,\"type\":\"pie\"}]},\"layout\":{\"autotypenumbers\":\"strict\",\"colorway\":[\"#636efa\",\"#EF553B\",\"#00cc96\",\"#ab63fa\",\"#FFA15A\",\"#19d3f3\",\"#FF6692\",\"#B6E880\",\"#FF97FF\",\"#FECB52\"],\"font\":{\"color\":\"#2a3f5f\"},\"hovermode\":\"closest\",\"hoverlabel\":{\"align\":\"left\"},\"paper_bgcolor\":\"white\",\"plot_bgcolor\":\"#E5ECF6\",\"polar\":{\"bgcolor\":\"#E5ECF6\",\"angularaxis\":{\"gridcolor\":\"white\",\"linecolor\":\"white\",\"ticks\":\"\"},\"radialaxis\":{\"gridcolor\":\"white\",\"linecolor\":\"white\",\"ticks\":\"\"}},\"ternary\":{\"bgcolor\":\"#E5ECF6\",\"aaxis\":{\"gridcolor\":\"white\",\"linecolor\":\"white\",\"ticks\":\"\"},\"baxis\":{\"gridcolor\":\"white\",\"linecolor\":\"white\",\"ticks\":\"\"},\"caxis\":{\"gridcolor\":\"white\",\"linecolor\":\"white\",\"ticks\":\"\"}},\"coloraxis\":{\"colorbar\":{\"outlinewidth\":0,\"ticks\":\"\"}},\"colorscale\":{\"sequential\":[[0.0,\"#0d0887\"],[0.1111111111111111,\"#46039f\"],[0.2222222222222222,\"#7201a8\"],[0.3333333333333333,\"#9c179e\"],[0.4444444444444444,\"#bd3786\"],[0.5555555555555556,\"#d8576b\"],[0.6666666666666666,\"#ed7953\"],[0.7777777777777778,\"#fb9f3a\"],[0.8888888888888888,\"#fdca26\"],[1.0,\"#f0f921\"]],\"sequentialminus\":[[0.0,\"#0d0887\"],[0.1111111111111111,\"#46039f\"],[0.2222222222222222,\"#7201a8\"],[0.3333333333333333,\"#9c179e\"],[0.4444444444444444,\"#bd3786\"],[0.5555555555555556,\"#d8576b\"],[0.6666666666666666,\"#ed7953\"],[0.7777777777777778,\"#fb9f3a\"],[0.8888888888888888,\"#fdca26\"],[1.0,\"#f0f921\"]],\"diverging\":[[0,\"#8e0152\"],[0.1,\"#c51b7d\"],[0.2,\"#de77ae\"],[0.3,\"#f1b6da\"],[0.4,\"#fde0ef\"],[0.5,\"#f7f7f7\"],[0.6,\"#e6f5d0\"],[0.7,\"#b8e186\"],[0.8,\"#7fbc41\"],[0.9,\"#4d9221\"],[1,\"#276419\"]]},\"xaxis\":{\"gridcolor\":\"white\",\"linecolor\":\"white\",\"ticks\":\"\",\"title\":{\"standoff\":15},\"zerolinecolor\":\"white\",\"automargin\":true,\"zerolinewidth\":2},\"yaxis\":{\"gridcolor\":\"white\",\"linecolor\":\"white\",\"ticks\":\"\",\"title\":{\"standoff\":15},\"zerolinecolor\":\"white\",\"automargin\":true,\"zerolinewidth\":2},\"scene\":{\"xaxis\":{\"backgroundcolor\":\"#E5ECF6\",\"gridcolor\":\"white\",\"linecolor\":\"white\",\"showbackground\":true,\"ticks\":\"\",\"zerolinecolor\":\"white\",\"gridwidth\":2},\"yaxis\":{\"backgroundcolor\":\"#E5ECF6\",\"gridcolor\":\"white\",\"linecolor\":\"white\",\"showbackground\":true,\"ticks\":\"\",\"zerolinecolor\":\"white\",\"gridwidth\":2},\"zaxis\":{\"backgroundcolor\":\"#E5ECF6\",\"gridcolor\":\"white\",\"linecolor\":\"white\",\"showbackground\":true,\"ticks\":\"\",\"zerolinecolor\":\"white\",\"gridwidth\":2}},\"shapedefaults\":{\"line\":{\"color\":\"#2a3f5f\"}},\"annotationdefaults\":{\"arrowcolor\":\"#2a3f5f\",\"arrowhead\":0,\"arrowwidth\":1},\"geo\":{\"bgcolor\":\"white\",\"landcolor\":\"#E5ECF6\",\"subunitcolor\":\"white\",\"showland\":true,\"showlakes\":true,\"lakecolor\":\"white\"},\"title\":{\"x\":0.05},\"mapbox\":{\"style\":\"light\"}}},\"xaxis\":{\"anchor\":\"y\",\"domain\":[0.0,1.0],\"title\":{\"text\":\"Year\"}},\"yaxis\":{\"anchor\":\"x\",\"domain\":[0.0,1.0],\"title\":{\"text\":\"Duration (minutes)\"}},\"legend\":{\"tracegroupgap\":0},\"title\":{\"text\":\"Duration Time-Series by Year\"}},                        {\"responsive\": true}                    ).then(function(){\n",
       "                            \n",
       "var gd = document.getElementById('7aa794bd-de3f-42b5-9a0f-8b2b713bed99');\n",
       "var x = new MutationObserver(function (mutations, observer) {{\n",
       "        var display = window.getComputedStyle(gd).display;\n",
       "        if (!display || display === 'none') {{\n",
       "            console.log([gd, 'removed!']);\n",
       "            Plotly.purge(gd);\n",
       "            observer.disconnect();\n",
       "        }}\n",
       "}});\n",
       "\n",
       "// Listen for the removal of the full notebook cells\n",
       "var notebookContainer = gd.closest('#notebook-container');\n",
       "if (notebookContainer) {{\n",
       "    x.observe(notebookContainer, {childList: true});\n",
       "}}\n",
       "\n",
       "// Listen for the clearing of the current output cell\n",
       "var outputEl = gd.closest('.output');\n",
       "if (outputEl) {{\n",
       "    x.observe(outputEl, {childList: true});\n",
       "}}\n",
       "\n",
       "                        })                };                });            </script>        </div>"
      ]
     },
     "metadata": {},
     "output_type": "display_data"
    }
   ],
   "source": [
    "# Load the data\n",
    "df = pd.read_csv(\"spotify_top_music.csv\")\n",
    "\n",
    "# Convert year column to datetime format\n",
    "df['year'] = pd.to_datetime(df['year'], format='%Y')\n",
    "\n",
    "# Group by year and calculate mean of numeric columns\n",
    "yearly_data = df.groupby('year').mean(numeric_only=True)\n",
    "\n",
    "yearly_data['dur'] = yearly_data['dur']\n",
    "\n",
    "# Reset index so that year is a column (needed for Plotly)\n",
    "yearly_data.reset_index(inplace=True)\n",
    "\n",
    "# Create a line plot\n",
    "fig = px.line(yearly_data, x='year', y='dur', title='Duration Time-Series by Year')\n",
    "fig.update_layout(xaxis_title=\"Year\", yaxis_title=\"Duration (minutes)\")\n",
    "\n",
    "# Show the plot\n",
    "fig.show()\n"
   ]
  },
  {
   "cell_type": "code",
   "execution_count": 17,
   "id": "5f726024",
   "metadata": {},
   "outputs": [
    {
     "data": {
      "application/vnd.plotly.v1+json": {
       "config": {
        "plotlyServerURL": "https://plot.ly"
       },
       "data": [
        {
         "hovertemplate": "year=%{x}<br>dnce=%{y}<extra></extra>",
         "legendgroup": "",
         "line": {
          "color": "#636efa",
          "dash": "solid"
         },
         "marker": {
          "symbol": "circle"
         },
         "mode": "lines",
         "name": "",
         "orientation": "v",
         "showlegend": false,
         "type": "scatter",
         "x": [
          "2010-01-01T00:00:00",
          "2011-01-01T00:00:00",
          "2012-01-01T00:00:00",
          "2013-01-01T00:00:00",
          "2014-01-01T00:00:00",
          "2015-01-01T00:00:00",
          "2016-01-01T00:00:00",
          "2017-01-01T00:00:00",
          "2018-01-01T00:00:00",
          "2019-01-01T00:00:00"
         ],
         "xaxis": "x",
         "y": [
          64.52941176470588,
          63.64150943396226,
          65.71428571428571,
          62.04225352112676,
          62.53448275862069,
          63.66315789473684,
          63.325,
          65.36923076923077,
          67.203125,
          69.70967741935483
         ],
         "yaxis": "y"
        }
       ],
       "layout": {
        "legend": {
         "tracegroupgap": 0
        },
        "template": {
         "data": {
          "bar": [
           {
            "error_x": {
             "color": "#2a3f5f"
            },
            "error_y": {
             "color": "#2a3f5f"
            },
            "marker": {
             "line": {
              "color": "#E5ECF6",
              "width": 0.5
             },
             "pattern": {
              "fillmode": "overlay",
              "size": 10,
              "solidity": 0.2
             }
            },
            "type": "bar"
           }
          ],
          "barpolar": [
           {
            "marker": {
             "line": {
              "color": "#E5ECF6",
              "width": 0.5
             },
             "pattern": {
              "fillmode": "overlay",
              "size": 10,
              "solidity": 0.2
             }
            },
            "type": "barpolar"
           }
          ],
          "carpet": [
           {
            "aaxis": {
             "endlinecolor": "#2a3f5f",
             "gridcolor": "white",
             "linecolor": "white",
             "minorgridcolor": "white",
             "startlinecolor": "#2a3f5f"
            },
            "baxis": {
             "endlinecolor": "#2a3f5f",
             "gridcolor": "white",
             "linecolor": "white",
             "minorgridcolor": "white",
             "startlinecolor": "#2a3f5f"
            },
            "type": "carpet"
           }
          ],
          "choropleth": [
           {
            "colorbar": {
             "outlinewidth": 0,
             "ticks": ""
            },
            "type": "choropleth"
           }
          ],
          "contour": [
           {
            "colorbar": {
             "outlinewidth": 0,
             "ticks": ""
            },
            "colorscale": [
             [
              0,
              "#0d0887"
             ],
             [
              0.1111111111111111,
              "#46039f"
             ],
             [
              0.2222222222222222,
              "#7201a8"
             ],
             [
              0.3333333333333333,
              "#9c179e"
             ],
             [
              0.4444444444444444,
              "#bd3786"
             ],
             [
              0.5555555555555556,
              "#d8576b"
             ],
             [
              0.6666666666666666,
              "#ed7953"
             ],
             [
              0.7777777777777778,
              "#fb9f3a"
             ],
             [
              0.8888888888888888,
              "#fdca26"
             ],
             [
              1,
              "#f0f921"
             ]
            ],
            "type": "contour"
           }
          ],
          "contourcarpet": [
           {
            "colorbar": {
             "outlinewidth": 0,
             "ticks": ""
            },
            "type": "contourcarpet"
           }
          ],
          "heatmap": [
           {
            "colorbar": {
             "outlinewidth": 0,
             "ticks": ""
            },
            "colorscale": [
             [
              0,
              "#0d0887"
             ],
             [
              0.1111111111111111,
              "#46039f"
             ],
             [
              0.2222222222222222,
              "#7201a8"
             ],
             [
              0.3333333333333333,
              "#9c179e"
             ],
             [
              0.4444444444444444,
              "#bd3786"
             ],
             [
              0.5555555555555556,
              "#d8576b"
             ],
             [
              0.6666666666666666,
              "#ed7953"
             ],
             [
              0.7777777777777778,
              "#fb9f3a"
             ],
             [
              0.8888888888888888,
              "#fdca26"
             ],
             [
              1,
              "#f0f921"
             ]
            ],
            "type": "heatmap"
           }
          ],
          "heatmapgl": [
           {
            "colorbar": {
             "outlinewidth": 0,
             "ticks": ""
            },
            "colorscale": [
             [
              0,
              "#0d0887"
             ],
             [
              0.1111111111111111,
              "#46039f"
             ],
             [
              0.2222222222222222,
              "#7201a8"
             ],
             [
              0.3333333333333333,
              "#9c179e"
             ],
             [
              0.4444444444444444,
              "#bd3786"
             ],
             [
              0.5555555555555556,
              "#d8576b"
             ],
             [
              0.6666666666666666,
              "#ed7953"
             ],
             [
              0.7777777777777778,
              "#fb9f3a"
             ],
             [
              0.8888888888888888,
              "#fdca26"
             ],
             [
              1,
              "#f0f921"
             ]
            ],
            "type": "heatmapgl"
           }
          ],
          "histogram": [
           {
            "marker": {
             "pattern": {
              "fillmode": "overlay",
              "size": 10,
              "solidity": 0.2
             }
            },
            "type": "histogram"
           }
          ],
          "histogram2d": [
           {
            "colorbar": {
             "outlinewidth": 0,
             "ticks": ""
            },
            "colorscale": [
             [
              0,
              "#0d0887"
             ],
             [
              0.1111111111111111,
              "#46039f"
             ],
             [
              0.2222222222222222,
              "#7201a8"
             ],
             [
              0.3333333333333333,
              "#9c179e"
             ],
             [
              0.4444444444444444,
              "#bd3786"
             ],
             [
              0.5555555555555556,
              "#d8576b"
             ],
             [
              0.6666666666666666,
              "#ed7953"
             ],
             [
              0.7777777777777778,
              "#fb9f3a"
             ],
             [
              0.8888888888888888,
              "#fdca26"
             ],
             [
              1,
              "#f0f921"
             ]
            ],
            "type": "histogram2d"
           }
          ],
          "histogram2dcontour": [
           {
            "colorbar": {
             "outlinewidth": 0,
             "ticks": ""
            },
            "colorscale": [
             [
              0,
              "#0d0887"
             ],
             [
              0.1111111111111111,
              "#46039f"
             ],
             [
              0.2222222222222222,
              "#7201a8"
             ],
             [
              0.3333333333333333,
              "#9c179e"
             ],
             [
              0.4444444444444444,
              "#bd3786"
             ],
             [
              0.5555555555555556,
              "#d8576b"
             ],
             [
              0.6666666666666666,
              "#ed7953"
             ],
             [
              0.7777777777777778,
              "#fb9f3a"
             ],
             [
              0.8888888888888888,
              "#fdca26"
             ],
             [
              1,
              "#f0f921"
             ]
            ],
            "type": "histogram2dcontour"
           }
          ],
          "mesh3d": [
           {
            "colorbar": {
             "outlinewidth": 0,
             "ticks": ""
            },
            "type": "mesh3d"
           }
          ],
          "parcoords": [
           {
            "line": {
             "colorbar": {
              "outlinewidth": 0,
              "ticks": ""
             }
            },
            "type": "parcoords"
           }
          ],
          "pie": [
           {
            "automargin": true,
            "type": "pie"
           }
          ],
          "scatter": [
           {
            "fillpattern": {
             "fillmode": "overlay",
             "size": 10,
             "solidity": 0.2
            },
            "type": "scatter"
           }
          ],
          "scatter3d": [
           {
            "line": {
             "colorbar": {
              "outlinewidth": 0,
              "ticks": ""
             }
            },
            "marker": {
             "colorbar": {
              "outlinewidth": 0,
              "ticks": ""
             }
            },
            "type": "scatter3d"
           }
          ],
          "scattercarpet": [
           {
            "marker": {
             "colorbar": {
              "outlinewidth": 0,
              "ticks": ""
             }
            },
            "type": "scattercarpet"
           }
          ],
          "scattergeo": [
           {
            "marker": {
             "colorbar": {
              "outlinewidth": 0,
              "ticks": ""
             }
            },
            "type": "scattergeo"
           }
          ],
          "scattergl": [
           {
            "marker": {
             "colorbar": {
              "outlinewidth": 0,
              "ticks": ""
             }
            },
            "type": "scattergl"
           }
          ],
          "scattermapbox": [
           {
            "marker": {
             "colorbar": {
              "outlinewidth": 0,
              "ticks": ""
             }
            },
            "type": "scattermapbox"
           }
          ],
          "scatterpolar": [
           {
            "marker": {
             "colorbar": {
              "outlinewidth": 0,
              "ticks": ""
             }
            },
            "type": "scatterpolar"
           }
          ],
          "scatterpolargl": [
           {
            "marker": {
             "colorbar": {
              "outlinewidth": 0,
              "ticks": ""
             }
            },
            "type": "scatterpolargl"
           }
          ],
          "scatterternary": [
           {
            "marker": {
             "colorbar": {
              "outlinewidth": 0,
              "ticks": ""
             }
            },
            "type": "scatterternary"
           }
          ],
          "surface": [
           {
            "colorbar": {
             "outlinewidth": 0,
             "ticks": ""
            },
            "colorscale": [
             [
              0,
              "#0d0887"
             ],
             [
              0.1111111111111111,
              "#46039f"
             ],
             [
              0.2222222222222222,
              "#7201a8"
             ],
             [
              0.3333333333333333,
              "#9c179e"
             ],
             [
              0.4444444444444444,
              "#bd3786"
             ],
             [
              0.5555555555555556,
              "#d8576b"
             ],
             [
              0.6666666666666666,
              "#ed7953"
             ],
             [
              0.7777777777777778,
              "#fb9f3a"
             ],
             [
              0.8888888888888888,
              "#fdca26"
             ],
             [
              1,
              "#f0f921"
             ]
            ],
            "type": "surface"
           }
          ],
          "table": [
           {
            "cells": {
             "fill": {
              "color": "#EBF0F8"
             },
             "line": {
              "color": "white"
             }
            },
            "header": {
             "fill": {
              "color": "#C8D4E3"
             },
             "line": {
              "color": "white"
             }
            },
            "type": "table"
           }
          ]
         },
         "layout": {
          "annotationdefaults": {
           "arrowcolor": "#2a3f5f",
           "arrowhead": 0,
           "arrowwidth": 1
          },
          "autotypenumbers": "strict",
          "coloraxis": {
           "colorbar": {
            "outlinewidth": 0,
            "ticks": ""
           }
          },
          "colorscale": {
           "diverging": [
            [
             0,
             "#8e0152"
            ],
            [
             0.1,
             "#c51b7d"
            ],
            [
             0.2,
             "#de77ae"
            ],
            [
             0.3,
             "#f1b6da"
            ],
            [
             0.4,
             "#fde0ef"
            ],
            [
             0.5,
             "#f7f7f7"
            ],
            [
             0.6,
             "#e6f5d0"
            ],
            [
             0.7,
             "#b8e186"
            ],
            [
             0.8,
             "#7fbc41"
            ],
            [
             0.9,
             "#4d9221"
            ],
            [
             1,
             "#276419"
            ]
           ],
           "sequential": [
            [
             0,
             "#0d0887"
            ],
            [
             0.1111111111111111,
             "#46039f"
            ],
            [
             0.2222222222222222,
             "#7201a8"
            ],
            [
             0.3333333333333333,
             "#9c179e"
            ],
            [
             0.4444444444444444,
             "#bd3786"
            ],
            [
             0.5555555555555556,
             "#d8576b"
            ],
            [
             0.6666666666666666,
             "#ed7953"
            ],
            [
             0.7777777777777778,
             "#fb9f3a"
            ],
            [
             0.8888888888888888,
             "#fdca26"
            ],
            [
             1,
             "#f0f921"
            ]
           ],
           "sequentialminus": [
            [
             0,
             "#0d0887"
            ],
            [
             0.1111111111111111,
             "#46039f"
            ],
            [
             0.2222222222222222,
             "#7201a8"
            ],
            [
             0.3333333333333333,
             "#9c179e"
            ],
            [
             0.4444444444444444,
             "#bd3786"
            ],
            [
             0.5555555555555556,
             "#d8576b"
            ],
            [
             0.6666666666666666,
             "#ed7953"
            ],
            [
             0.7777777777777778,
             "#fb9f3a"
            ],
            [
             0.8888888888888888,
             "#fdca26"
            ],
            [
             1,
             "#f0f921"
            ]
           ]
          },
          "colorway": [
           "#636efa",
           "#EF553B",
           "#00cc96",
           "#ab63fa",
           "#FFA15A",
           "#19d3f3",
           "#FF6692",
           "#B6E880",
           "#FF97FF",
           "#FECB52"
          ],
          "font": {
           "color": "#2a3f5f"
          },
          "geo": {
           "bgcolor": "white",
           "lakecolor": "white",
           "landcolor": "#E5ECF6",
           "showlakes": true,
           "showland": true,
           "subunitcolor": "white"
          },
          "hoverlabel": {
           "align": "left"
          },
          "hovermode": "closest",
          "mapbox": {
           "style": "light"
          },
          "paper_bgcolor": "white",
          "plot_bgcolor": "#E5ECF6",
          "polar": {
           "angularaxis": {
            "gridcolor": "white",
            "linecolor": "white",
            "ticks": ""
           },
           "bgcolor": "#E5ECF6",
           "radialaxis": {
            "gridcolor": "white",
            "linecolor": "white",
            "ticks": ""
           }
          },
          "scene": {
           "xaxis": {
            "backgroundcolor": "#E5ECF6",
            "gridcolor": "white",
            "gridwidth": 2,
            "linecolor": "white",
            "showbackground": true,
            "ticks": "",
            "zerolinecolor": "white"
           },
           "yaxis": {
            "backgroundcolor": "#E5ECF6",
            "gridcolor": "white",
            "gridwidth": 2,
            "linecolor": "white",
            "showbackground": true,
            "ticks": "",
            "zerolinecolor": "white"
           },
           "zaxis": {
            "backgroundcolor": "#E5ECF6",
            "gridcolor": "white",
            "gridwidth": 2,
            "linecolor": "white",
            "showbackground": true,
            "ticks": "",
            "zerolinecolor": "white"
           }
          },
          "shapedefaults": {
           "line": {
            "color": "#2a3f5f"
           }
          },
          "ternary": {
           "aaxis": {
            "gridcolor": "white",
            "linecolor": "white",
            "ticks": ""
           },
           "baxis": {
            "gridcolor": "white",
            "linecolor": "white",
            "ticks": ""
           },
           "bgcolor": "#E5ECF6",
           "caxis": {
            "gridcolor": "white",
            "linecolor": "white",
            "ticks": ""
           }
          },
          "title": {
           "x": 0.05
          },
          "xaxis": {
           "automargin": true,
           "gridcolor": "white",
           "linecolor": "white",
           "ticks": "",
           "title": {
            "standoff": 15
           },
           "zerolinecolor": "white",
           "zerolinewidth": 2
          },
          "yaxis": {
           "automargin": true,
           "gridcolor": "white",
           "linecolor": "white",
           "ticks": "",
           "title": {
            "standoff": 15
           },
           "zerolinecolor": "white",
           "zerolinewidth": 2
          }
         }
        },
        "title": {
         "text": "Danceability Time-Series by Year"
        },
        "xaxis": {
         "anchor": "y",
         "domain": [
          0,
          1
         ],
         "title": {
          "text": "Year"
         }
        },
        "yaxis": {
         "anchor": "x",
         "domain": [
          0,
          1
         ],
         "title": {
          "text": "Danceability"
         }
        }
       }
      },
      "text/html": [
       "<div>                            <div id=\"6ab4635f-58cf-4ee9-923d-9c4b592e384f\" class=\"plotly-graph-div\" style=\"height:525px; width:100%;\"></div>            <script type=\"text/javascript\">                require([\"plotly\"], function(Plotly) {                    window.PLOTLYENV=window.PLOTLYENV || {};                                    if (document.getElementById(\"6ab4635f-58cf-4ee9-923d-9c4b592e384f\")) {                    Plotly.newPlot(                        \"6ab4635f-58cf-4ee9-923d-9c4b592e384f\",                        [{\"hovertemplate\":\"year=%{x}<br>dnce=%{y}<extra></extra>\",\"legendgroup\":\"\",\"line\":{\"color\":\"#636efa\",\"dash\":\"solid\"},\"marker\":{\"symbol\":\"circle\"},\"mode\":\"lines\",\"name\":\"\",\"orientation\":\"v\",\"showlegend\":false,\"x\":[\"2010-01-01T00:00:00\",\"2011-01-01T00:00:00\",\"2012-01-01T00:00:00\",\"2013-01-01T00:00:00\",\"2014-01-01T00:00:00\",\"2015-01-01T00:00:00\",\"2016-01-01T00:00:00\",\"2017-01-01T00:00:00\",\"2018-01-01T00:00:00\",\"2019-01-01T00:00:00\"],\"xaxis\":\"x\",\"y\":[64.52941176470588,63.64150943396226,65.71428571428571,62.04225352112676,62.53448275862069,63.66315789473684,63.325,65.36923076923077,67.203125,69.70967741935483],\"yaxis\":\"y\",\"type\":\"scatter\"}],                        {\"template\":{\"data\":{\"histogram2dcontour\":[{\"type\":\"histogram2dcontour\",\"colorbar\":{\"outlinewidth\":0,\"ticks\":\"\"},\"colorscale\":[[0.0,\"#0d0887\"],[0.1111111111111111,\"#46039f\"],[0.2222222222222222,\"#7201a8\"],[0.3333333333333333,\"#9c179e\"],[0.4444444444444444,\"#bd3786\"],[0.5555555555555556,\"#d8576b\"],[0.6666666666666666,\"#ed7953\"],[0.7777777777777778,\"#fb9f3a\"],[0.8888888888888888,\"#fdca26\"],[1.0,\"#f0f921\"]]}],\"choropleth\":[{\"type\":\"choropleth\",\"colorbar\":{\"outlinewidth\":0,\"ticks\":\"\"}}],\"histogram2d\":[{\"type\":\"histogram2d\",\"colorbar\":{\"outlinewidth\":0,\"ticks\":\"\"},\"colorscale\":[[0.0,\"#0d0887\"],[0.1111111111111111,\"#46039f\"],[0.2222222222222222,\"#7201a8\"],[0.3333333333333333,\"#9c179e\"],[0.4444444444444444,\"#bd3786\"],[0.5555555555555556,\"#d8576b\"],[0.6666666666666666,\"#ed7953\"],[0.7777777777777778,\"#fb9f3a\"],[0.8888888888888888,\"#fdca26\"],[1.0,\"#f0f921\"]]}],\"heatmap\":[{\"type\":\"heatmap\",\"colorbar\":{\"outlinewidth\":0,\"ticks\":\"\"},\"colorscale\":[[0.0,\"#0d0887\"],[0.1111111111111111,\"#46039f\"],[0.2222222222222222,\"#7201a8\"],[0.3333333333333333,\"#9c179e\"],[0.4444444444444444,\"#bd3786\"],[0.5555555555555556,\"#d8576b\"],[0.6666666666666666,\"#ed7953\"],[0.7777777777777778,\"#fb9f3a\"],[0.8888888888888888,\"#fdca26\"],[1.0,\"#f0f921\"]]}],\"heatmapgl\":[{\"type\":\"heatmapgl\",\"colorbar\":{\"outlinewidth\":0,\"ticks\":\"\"},\"colorscale\":[[0.0,\"#0d0887\"],[0.1111111111111111,\"#46039f\"],[0.2222222222222222,\"#7201a8\"],[0.3333333333333333,\"#9c179e\"],[0.4444444444444444,\"#bd3786\"],[0.5555555555555556,\"#d8576b\"],[0.6666666666666666,\"#ed7953\"],[0.7777777777777778,\"#fb9f3a\"],[0.8888888888888888,\"#fdca26\"],[1.0,\"#f0f921\"]]}],\"contourcarpet\":[{\"type\":\"contourcarpet\",\"colorbar\":{\"outlinewidth\":0,\"ticks\":\"\"}}],\"contour\":[{\"type\":\"contour\",\"colorbar\":{\"outlinewidth\":0,\"ticks\":\"\"},\"colorscale\":[[0.0,\"#0d0887\"],[0.1111111111111111,\"#46039f\"],[0.2222222222222222,\"#7201a8\"],[0.3333333333333333,\"#9c179e\"],[0.4444444444444444,\"#bd3786\"],[0.5555555555555556,\"#d8576b\"],[0.6666666666666666,\"#ed7953\"],[0.7777777777777778,\"#fb9f3a\"],[0.8888888888888888,\"#fdca26\"],[1.0,\"#f0f921\"]]}],\"surface\":[{\"type\":\"surface\",\"colorbar\":{\"outlinewidth\":0,\"ticks\":\"\"},\"colorscale\":[[0.0,\"#0d0887\"],[0.1111111111111111,\"#46039f\"],[0.2222222222222222,\"#7201a8\"],[0.3333333333333333,\"#9c179e\"],[0.4444444444444444,\"#bd3786\"],[0.5555555555555556,\"#d8576b\"],[0.6666666666666666,\"#ed7953\"],[0.7777777777777778,\"#fb9f3a\"],[0.8888888888888888,\"#fdca26\"],[1.0,\"#f0f921\"]]}],\"mesh3d\":[{\"type\":\"mesh3d\",\"colorbar\":{\"outlinewidth\":0,\"ticks\":\"\"}}],\"scatter\":[{\"fillpattern\":{\"fillmode\":\"overlay\",\"size\":10,\"solidity\":0.2},\"type\":\"scatter\"}],\"parcoords\":[{\"type\":\"parcoords\",\"line\":{\"colorbar\":{\"outlinewidth\":0,\"ticks\":\"\"}}}],\"scatterpolargl\":[{\"type\":\"scatterpolargl\",\"marker\":{\"colorbar\":{\"outlinewidth\":0,\"ticks\":\"\"}}}],\"bar\":[{\"error_x\":{\"color\":\"#2a3f5f\"},\"error_y\":{\"color\":\"#2a3f5f\"},\"marker\":{\"line\":{\"color\":\"#E5ECF6\",\"width\":0.5},\"pattern\":{\"fillmode\":\"overlay\",\"size\":10,\"solidity\":0.2}},\"type\":\"bar\"}],\"scattergeo\":[{\"type\":\"scattergeo\",\"marker\":{\"colorbar\":{\"outlinewidth\":0,\"ticks\":\"\"}}}],\"scatterpolar\":[{\"type\":\"scatterpolar\",\"marker\":{\"colorbar\":{\"outlinewidth\":0,\"ticks\":\"\"}}}],\"histogram\":[{\"marker\":{\"pattern\":{\"fillmode\":\"overlay\",\"size\":10,\"solidity\":0.2}},\"type\":\"histogram\"}],\"scattergl\":[{\"type\":\"scattergl\",\"marker\":{\"colorbar\":{\"outlinewidth\":0,\"ticks\":\"\"}}}],\"scatter3d\":[{\"type\":\"scatter3d\",\"line\":{\"colorbar\":{\"outlinewidth\":0,\"ticks\":\"\"}},\"marker\":{\"colorbar\":{\"outlinewidth\":0,\"ticks\":\"\"}}}],\"scattermapbox\":[{\"type\":\"scattermapbox\",\"marker\":{\"colorbar\":{\"outlinewidth\":0,\"ticks\":\"\"}}}],\"scatterternary\":[{\"type\":\"scatterternary\",\"marker\":{\"colorbar\":{\"outlinewidth\":0,\"ticks\":\"\"}}}],\"scattercarpet\":[{\"type\":\"scattercarpet\",\"marker\":{\"colorbar\":{\"outlinewidth\":0,\"ticks\":\"\"}}}],\"carpet\":[{\"aaxis\":{\"endlinecolor\":\"#2a3f5f\",\"gridcolor\":\"white\",\"linecolor\":\"white\",\"minorgridcolor\":\"white\",\"startlinecolor\":\"#2a3f5f\"},\"baxis\":{\"endlinecolor\":\"#2a3f5f\",\"gridcolor\":\"white\",\"linecolor\":\"white\",\"minorgridcolor\":\"white\",\"startlinecolor\":\"#2a3f5f\"},\"type\":\"carpet\"}],\"table\":[{\"cells\":{\"fill\":{\"color\":\"#EBF0F8\"},\"line\":{\"color\":\"white\"}},\"header\":{\"fill\":{\"color\":\"#C8D4E3\"},\"line\":{\"color\":\"white\"}},\"type\":\"table\"}],\"barpolar\":[{\"marker\":{\"line\":{\"color\":\"#E5ECF6\",\"width\":0.5},\"pattern\":{\"fillmode\":\"overlay\",\"size\":10,\"solidity\":0.2}},\"type\":\"barpolar\"}],\"pie\":[{\"automargin\":true,\"type\":\"pie\"}]},\"layout\":{\"autotypenumbers\":\"strict\",\"colorway\":[\"#636efa\",\"#EF553B\",\"#00cc96\",\"#ab63fa\",\"#FFA15A\",\"#19d3f3\",\"#FF6692\",\"#B6E880\",\"#FF97FF\",\"#FECB52\"],\"font\":{\"color\":\"#2a3f5f\"},\"hovermode\":\"closest\",\"hoverlabel\":{\"align\":\"left\"},\"paper_bgcolor\":\"white\",\"plot_bgcolor\":\"#E5ECF6\",\"polar\":{\"bgcolor\":\"#E5ECF6\",\"angularaxis\":{\"gridcolor\":\"white\",\"linecolor\":\"white\",\"ticks\":\"\"},\"radialaxis\":{\"gridcolor\":\"white\",\"linecolor\":\"white\",\"ticks\":\"\"}},\"ternary\":{\"bgcolor\":\"#E5ECF6\",\"aaxis\":{\"gridcolor\":\"white\",\"linecolor\":\"white\",\"ticks\":\"\"},\"baxis\":{\"gridcolor\":\"white\",\"linecolor\":\"white\",\"ticks\":\"\"},\"caxis\":{\"gridcolor\":\"white\",\"linecolor\":\"white\",\"ticks\":\"\"}},\"coloraxis\":{\"colorbar\":{\"outlinewidth\":0,\"ticks\":\"\"}},\"colorscale\":{\"sequential\":[[0.0,\"#0d0887\"],[0.1111111111111111,\"#46039f\"],[0.2222222222222222,\"#7201a8\"],[0.3333333333333333,\"#9c179e\"],[0.4444444444444444,\"#bd3786\"],[0.5555555555555556,\"#d8576b\"],[0.6666666666666666,\"#ed7953\"],[0.7777777777777778,\"#fb9f3a\"],[0.8888888888888888,\"#fdca26\"],[1.0,\"#f0f921\"]],\"sequentialminus\":[[0.0,\"#0d0887\"],[0.1111111111111111,\"#46039f\"],[0.2222222222222222,\"#7201a8\"],[0.3333333333333333,\"#9c179e\"],[0.4444444444444444,\"#bd3786\"],[0.5555555555555556,\"#d8576b\"],[0.6666666666666666,\"#ed7953\"],[0.7777777777777778,\"#fb9f3a\"],[0.8888888888888888,\"#fdca26\"],[1.0,\"#f0f921\"]],\"diverging\":[[0,\"#8e0152\"],[0.1,\"#c51b7d\"],[0.2,\"#de77ae\"],[0.3,\"#f1b6da\"],[0.4,\"#fde0ef\"],[0.5,\"#f7f7f7\"],[0.6,\"#e6f5d0\"],[0.7,\"#b8e186\"],[0.8,\"#7fbc41\"],[0.9,\"#4d9221\"],[1,\"#276419\"]]},\"xaxis\":{\"gridcolor\":\"white\",\"linecolor\":\"white\",\"ticks\":\"\",\"title\":{\"standoff\":15},\"zerolinecolor\":\"white\",\"automargin\":true,\"zerolinewidth\":2},\"yaxis\":{\"gridcolor\":\"white\",\"linecolor\":\"white\",\"ticks\":\"\",\"title\":{\"standoff\":15},\"zerolinecolor\":\"white\",\"automargin\":true,\"zerolinewidth\":2},\"scene\":{\"xaxis\":{\"backgroundcolor\":\"#E5ECF6\",\"gridcolor\":\"white\",\"linecolor\":\"white\",\"showbackground\":true,\"ticks\":\"\",\"zerolinecolor\":\"white\",\"gridwidth\":2},\"yaxis\":{\"backgroundcolor\":\"#E5ECF6\",\"gridcolor\":\"white\",\"linecolor\":\"white\",\"showbackground\":true,\"ticks\":\"\",\"zerolinecolor\":\"white\",\"gridwidth\":2},\"zaxis\":{\"backgroundcolor\":\"#E5ECF6\",\"gridcolor\":\"white\",\"linecolor\":\"white\",\"showbackground\":true,\"ticks\":\"\",\"zerolinecolor\":\"white\",\"gridwidth\":2}},\"shapedefaults\":{\"line\":{\"color\":\"#2a3f5f\"}},\"annotationdefaults\":{\"arrowcolor\":\"#2a3f5f\",\"arrowhead\":0,\"arrowwidth\":1},\"geo\":{\"bgcolor\":\"white\",\"landcolor\":\"#E5ECF6\",\"subunitcolor\":\"white\",\"showland\":true,\"showlakes\":true,\"lakecolor\":\"white\"},\"title\":{\"x\":0.05},\"mapbox\":{\"style\":\"light\"}}},\"xaxis\":{\"anchor\":\"y\",\"domain\":[0.0,1.0],\"title\":{\"text\":\"Year\"}},\"yaxis\":{\"anchor\":\"x\",\"domain\":[0.0,1.0],\"title\":{\"text\":\"Danceability\"}},\"legend\":{\"tracegroupgap\":0},\"title\":{\"text\":\"Danceability Time-Series by Year\"}},                        {\"responsive\": true}                    ).then(function(){\n",
       "                            \n",
       "var gd = document.getElementById('6ab4635f-58cf-4ee9-923d-9c4b592e384f');\n",
       "var x = new MutationObserver(function (mutations, observer) {{\n",
       "        var display = window.getComputedStyle(gd).display;\n",
       "        if (!display || display === 'none') {{\n",
       "            console.log([gd, 'removed!']);\n",
       "            Plotly.purge(gd);\n",
       "            observer.disconnect();\n",
       "        }}\n",
       "}});\n",
       "\n",
       "// Listen for the removal of the full notebook cells\n",
       "var notebookContainer = gd.closest('#notebook-container');\n",
       "if (notebookContainer) {{\n",
       "    x.observe(notebookContainer, {childList: true});\n",
       "}}\n",
       "\n",
       "// Listen for the clearing of the current output cell\n",
       "var outputEl = gd.closest('.output');\n",
       "if (outputEl) {{\n",
       "    x.observe(outputEl, {childList: true});\n",
       "}}\n",
       "\n",
       "                        })                };                });            </script>        </div>"
      ]
     },
     "metadata": {},
     "output_type": "display_data"
    }
   ],
   "source": [
    "import pandas as pd\n",
    "import plotly.express as px\n",
    "\n",
    "# Load the data\n",
    "df = pd.read_csv(\"spotify_top_music.csv\")\n",
    "\n",
    "# Convert year column to datetime format\n",
    "df['year'] = pd.to_datetime(df['year'], format='%Y')\n",
    "\n",
    "# Group by year and calculate mean of numeric columns\n",
    "yearly_data = df.groupby('year').mean(numeric_only=True)\n",
    "\n",
    "# Reset index so that year is a column (needed for Plotly)\n",
    "yearly_data.reset_index(inplace=True)\n",
    "\n",
    "# Create a line plot\n",
    "fig = px.line(yearly_data, x='year', y='dnce', title='Danceability Time-Series by Year')\n",
    "fig.update_layout(xaxis_title=\"Year\", yaxis_title=\"Danceability\")\n",
    "\n",
    "# Show the plot\n",
    "fig.show()\n"
   ]
  },
  {
   "cell_type": "markdown",
   "id": "96fb31df",
   "metadata": {},
   "source": [
    "As we can see in the 2 graphs, the song average duration is lower in recent times. This is due to the fact that all songs in 2018 and 2019 are pop subgenres and those songs have a lower duration on average."
   ]
  },
  {
   "cell_type": "code",
   "execution_count": 19,
   "id": "98f85efc",
   "metadata": {},
   "outputs": [
    {
     "data": {
      "text/html": [
       "<div>\n",
       "<style scoped>\n",
       "    .dataframe tbody tr th:only-of-type {\n",
       "        vertical-align: middle;\n",
       "    }\n",
       "\n",
       "    .dataframe tbody tr th {\n",
       "        vertical-align: top;\n",
       "    }\n",
       "\n",
       "    .dataframe thead th {\n",
       "        text-align: right;\n",
       "    }\n",
       "</style>\n",
       "<table border=\"1\" class=\"dataframe\">\n",
       "  <thead>\n",
       "    <tr style=\"text-align: right;\">\n",
       "      <th></th>\n",
       "      <th>title</th>\n",
       "      <th>artist</th>\n",
       "      <th>top genre</th>\n",
       "      <th>year</th>\n",
       "      <th>bpm</th>\n",
       "      <th>nrgy</th>\n",
       "      <th>dnce</th>\n",
       "      <th>dB</th>\n",
       "      <th>live</th>\n",
       "      <th>val</th>\n",
       "      <th>dur</th>\n",
       "      <th>acous</th>\n",
       "      <th>spch</th>\n",
       "      <th>pop</th>\n",
       "    </tr>\n",
       "  </thead>\n",
       "  <tbody>\n",
       "    <tr>\n",
       "      <th>508</th>\n",
       "      <td>One Kiss (with Dua Lipa)</td>\n",
       "      <td>Calvin Harris</td>\n",
       "      <td>dance pop</td>\n",
       "      <td>2018</td>\n",
       "      <td>124</td>\n",
       "      <td>86</td>\n",
       "      <td>79</td>\n",
       "      <td>-3</td>\n",
       "      <td>8</td>\n",
       "      <td>59</td>\n",
       "      <td>215</td>\n",
       "      <td>4</td>\n",
       "      <td>11</td>\n",
       "      <td>86</td>\n",
       "    </tr>\n",
       "    <tr>\n",
       "      <th>509</th>\n",
       "      <td>Havana (feat. Young Thug)</td>\n",
       "      <td>Camila Cabello</td>\n",
       "      <td>dance pop</td>\n",
       "      <td>2018</td>\n",
       "      <td>105</td>\n",
       "      <td>52</td>\n",
       "      <td>77</td>\n",
       "      <td>-4</td>\n",
       "      <td>13</td>\n",
       "      <td>39</td>\n",
       "      <td>217</td>\n",
       "      <td>18</td>\n",
       "      <td>3</td>\n",
       "      <td>85</td>\n",
       "    </tr>\n",
       "    <tr>\n",
       "      <th>510</th>\n",
       "      <td>I Like It</td>\n",
       "      <td>Cardi B</td>\n",
       "      <td>pop</td>\n",
       "      <td>2018</td>\n",
       "      <td>136</td>\n",
       "      <td>73</td>\n",
       "      <td>82</td>\n",
       "      <td>-4</td>\n",
       "      <td>37</td>\n",
       "      <td>65</td>\n",
       "      <td>253</td>\n",
       "      <td>10</td>\n",
       "      <td>13</td>\n",
       "      <td>85</td>\n",
       "    </tr>\n",
       "    <tr>\n",
       "      <th>511</th>\n",
       "      <td>New Rules</td>\n",
       "      <td>Dua Lipa</td>\n",
       "      <td>dance pop</td>\n",
       "      <td>2018</td>\n",
       "      <td>116</td>\n",
       "      <td>70</td>\n",
       "      <td>76</td>\n",
       "      <td>-6</td>\n",
       "      <td>15</td>\n",
       "      <td>61</td>\n",
       "      <td>209</td>\n",
       "      <td>0</td>\n",
       "      <td>7</td>\n",
       "      <td>84</td>\n",
       "    </tr>\n",
       "    <tr>\n",
       "      <th>512</th>\n",
       "      <td>There's Nothing Holdin' Me Back</td>\n",
       "      <td>Shawn Mendes</td>\n",
       "      <td>canadian pop</td>\n",
       "      <td>2018</td>\n",
       "      <td>122</td>\n",
       "      <td>81</td>\n",
       "      <td>87</td>\n",
       "      <td>-4</td>\n",
       "      <td>8</td>\n",
       "      <td>97</td>\n",
       "      <td>199</td>\n",
       "      <td>38</td>\n",
       "      <td>6</td>\n",
       "      <td>84</td>\n",
       "    </tr>\n",
       "    <tr>\n",
       "      <th>...</th>\n",
       "      <td>...</td>\n",
       "      <td>...</td>\n",
       "      <td>...</td>\n",
       "      <td>...</td>\n",
       "      <td>...</td>\n",
       "      <td>...</td>\n",
       "      <td>...</td>\n",
       "      <td>...</td>\n",
       "      <td>...</td>\n",
       "      <td>...</td>\n",
       "      <td>...</td>\n",
       "      <td>...</td>\n",
       "      <td>...</td>\n",
       "      <td>...</td>\n",
       "    </tr>\n",
       "    <tr>\n",
       "      <th>598</th>\n",
       "      <td>Find U Again (feat. Camila Cabello)</td>\n",
       "      <td>Mark Ronson</td>\n",
       "      <td>dance pop</td>\n",
       "      <td>2019</td>\n",
       "      <td>104</td>\n",
       "      <td>66</td>\n",
       "      <td>61</td>\n",
       "      <td>-7</td>\n",
       "      <td>20</td>\n",
       "      <td>16</td>\n",
       "      <td>176</td>\n",
       "      <td>1</td>\n",
       "      <td>3</td>\n",
       "      <td>75</td>\n",
       "    </tr>\n",
       "    <tr>\n",
       "      <th>599</th>\n",
       "      <td>Cross Me (feat. Chance the Rapper &amp; PnB Rock)</td>\n",
       "      <td>Ed Sheeran</td>\n",
       "      <td>pop</td>\n",
       "      <td>2019</td>\n",
       "      <td>95</td>\n",
       "      <td>79</td>\n",
       "      <td>75</td>\n",
       "      <td>-6</td>\n",
       "      <td>7</td>\n",
       "      <td>61</td>\n",
       "      <td>206</td>\n",
       "      <td>21</td>\n",
       "      <td>12</td>\n",
       "      <td>75</td>\n",
       "    </tr>\n",
       "    <tr>\n",
       "      <th>600</th>\n",
       "      <td>No Brainer (feat. Justin Bieber, Chance the Ra...</td>\n",
       "      <td>DJ Khaled</td>\n",
       "      <td>dance pop</td>\n",
       "      <td>2019</td>\n",
       "      <td>136</td>\n",
       "      <td>76</td>\n",
       "      <td>53</td>\n",
       "      <td>-5</td>\n",
       "      <td>9</td>\n",
       "      <td>65</td>\n",
       "      <td>260</td>\n",
       "      <td>7</td>\n",
       "      <td>34</td>\n",
       "      <td>70</td>\n",
       "    </tr>\n",
       "    <tr>\n",
       "      <th>601</th>\n",
       "      <td>Nothing Breaks Like a Heart (feat. Miley Cyrus)</td>\n",
       "      <td>Mark Ronson</td>\n",
       "      <td>dance pop</td>\n",
       "      <td>2019</td>\n",
       "      <td>114</td>\n",
       "      <td>79</td>\n",
       "      <td>60</td>\n",
       "      <td>-6</td>\n",
       "      <td>42</td>\n",
       "      <td>24</td>\n",
       "      <td>217</td>\n",
       "      <td>1</td>\n",
       "      <td>7</td>\n",
       "      <td>69</td>\n",
       "    </tr>\n",
       "    <tr>\n",
       "      <th>602</th>\n",
       "      <td>Kills You Slowly</td>\n",
       "      <td>The Chainsmokers</td>\n",
       "      <td>electropop</td>\n",
       "      <td>2019</td>\n",
       "      <td>150</td>\n",
       "      <td>44</td>\n",
       "      <td>70</td>\n",
       "      <td>-9</td>\n",
       "      <td>13</td>\n",
       "      <td>23</td>\n",
       "      <td>213</td>\n",
       "      <td>6</td>\n",
       "      <td>6</td>\n",
       "      <td>67</td>\n",
       "    </tr>\n",
       "  </tbody>\n",
       "</table>\n",
       "<p>95 rows × 14 columns</p>\n",
       "</div>"
      ],
      "text/plain": [
       "                                                 title            artist   \n",
       "508                           One Kiss (with Dua Lipa)     Calvin Harris  \\\n",
       "509                          Havana (feat. Young Thug)    Camila Cabello   \n",
       "510                                          I Like It           Cardi B   \n",
       "511                                          New Rules          Dua Lipa   \n",
       "512                    There's Nothing Holdin' Me Back      Shawn Mendes   \n",
       "..                                                 ...               ...   \n",
       "598                Find U Again (feat. Camila Cabello)       Mark Ronson   \n",
       "599      Cross Me (feat. Chance the Rapper & PnB Rock)        Ed Sheeran   \n",
       "600  No Brainer (feat. Justin Bieber, Chance the Ra...         DJ Khaled   \n",
       "601    Nothing Breaks Like a Heart (feat. Miley Cyrus)       Mark Ronson   \n",
       "602                                   Kills You Slowly  The Chainsmokers   \n",
       "\n",
       "        top genre  year  bpm  nrgy  dnce  dB  live  val  dur  acous  spch  pop  \n",
       "508     dance pop  2018  124    86    79  -3     8   59  215      4    11   86  \n",
       "509     dance pop  2018  105    52    77  -4    13   39  217     18     3   85  \n",
       "510           pop  2018  136    73    82  -4    37   65  253     10    13   85  \n",
       "511     dance pop  2018  116    70    76  -6    15   61  209      0     7   84  \n",
       "512  canadian pop  2018  122    81    87  -4     8   97  199     38     6   84  \n",
       "..            ...   ...  ...   ...   ...  ..   ...  ...  ...    ...   ...  ...  \n",
       "598     dance pop  2019  104    66    61  -7    20   16  176      1     3   75  \n",
       "599           pop  2019   95    79    75  -6     7   61  206     21    12   75  \n",
       "600     dance pop  2019  136    76    53  -5     9   65  260      7    34   70  \n",
       "601     dance pop  2019  114    79    60  -6    42   24  217      1     7   69  \n",
       "602    electropop  2019  150    44    70  -9    13   23  213      6     6   67  \n",
       "\n",
       "[95 rows x 14 columns]"
      ]
     },
     "execution_count": 19,
     "metadata": {},
     "output_type": "execute_result"
    }
   ],
   "source": [
    "# Load the data\n",
    "df = pd.read_csv(\"spotify_top_music.csv\")\n",
    "\n",
    "df[df[\"year\"] >= 2018]"
   ]
  },
  {
   "cell_type": "markdown",
   "id": "f35677c0",
   "metadata": {},
   "source": [
    "Another thing we can observe is that danceability had also increased in recent times, because most songs in 2018-2019 are easy to dance to (dance pop genre / electropop genre)"
   ]
  },
  {
   "cell_type": "markdown",
   "id": "99680451",
   "metadata": {},
   "source": [
    "# Data correlation\n",
    "\n",
    "We can start with a simple correlation matrix to gather some insights on how some variables are correlated to one another"
   ]
  },
  {
   "cell_type": "code",
   "execution_count": 26,
   "id": "b4416eb3",
   "metadata": {},
   "outputs": [
    {
     "data": {
      "application/vnd.plotly.v1+json": {
       "config": {
        "plotlyServerURL": "https://plot.ly"
       },
       "data": [
        {
         "colorscale": [
          [
           0,
           "#440154"
          ],
          [
           0.1111111111111111,
           "#482878"
          ],
          [
           0.2222222222222222,
           "#3e4989"
          ],
          [
           0.3333333333333333,
           "#31688e"
          ],
          [
           0.4444444444444444,
           "#26828e"
          ],
          [
           0.5555555555555556,
           "#1f9e89"
          ],
          [
           0.6666666666666666,
           "#35b779"
          ],
          [
           0.7777777777777778,
           "#6ece58"
          ],
          [
           0.8888888888888888,
           "#b5de2b"
          ],
          [
           1,
           "#fde725"
          ]
         ],
         "reversescale": false,
         "showscale": false,
         "type": "heatmap",
         "x": [
          "year",
          "bpm",
          "nrgy",
          "dnce",
          "dB",
          "live",
          "val",
          "dur",
          "acous",
          "spch",
          "pop"
         ],
         "y": [
          "year",
          "bpm",
          "nrgy",
          "dnce",
          "dB",
          "live",
          "val",
          "dur",
          "acous",
          "spch",
          "pop"
         ],
         "z": [
          [
           1,
           -0.10424713701618873,
           -0.22559620584250212,
           0.07926877357952829,
           -0.12647097101836832,
           -0.13633119273241126,
           -0.12202514422031742,
           -0.21534361959049905,
           0.10172516591894995,
           0.0047783815525311015,
           0.2412611369950949
          ],
          [
           -0.10424713701618873,
           1,
           0.12617006494310237,
           -0.13130067104198875,
           0.18386982912017436,
           0.08157927768549537,
           0.016020943349025388,
           -0.029359073909432445,
           -0.11325676496802561,
           0.05899880322391055,
           0.018982982132633868
          ],
          [
           -0.22559620584250212,
           0.12617006494310237,
           1,
           0.16720892660416942,
           0.5375280390654401,
           0.18673760666851577,
           0.40957729716105373,
           -0.14361020264953228,
           -0.5622874424326892,
           0.10731344575710797,
           -0.0576450361776659
          ],
          [
           0.07926877357952829,
           -0.13130067104198875,
           0.16720892660416942,
           1,
           0.23317005692972567,
           -0.0288014516208165,
           0.5016961890764092,
           -0.17684087200297682,
           -0.24006401650758824,
           -0.028041305215216538,
           0.11605444461442134
          ],
          [
           -0.12647097101836832,
           0.18386982912017436,
           0.5375280390654401,
           0.23317005692972567,
           1,
           0.0819340472674587,
           0.28292186875680025,
           -0.10472341680361119,
           -0.19040107025558098,
           -0.00110951268537522,
           0.15689721632507792
          ],
          [
           -0.13633119273241126,
           0.08157927768549537,
           0.18673760666851577,
           -0.0288014516208165,
           0.0819340472674587,
           1,
           0.020226045899496694,
           0.09833929181199241,
           -0.09816711336205151,
           0.1441032113125341,
           -0.07574905467401397
          ],
          [
           -0.12202514422031742,
           0.016020943349025388,
           0.40957729716105373,
           0.5016961890764092,
           0.28292186875680025,
           0.020226045899496694,
           1,
           -0.2622557298954818,
           -0.24903820134072505,
           0.12201258781435814,
           0.03895258663575992
          ],
          [
           -0.21534361959049905,
           -0.029359073909432445,
           -0.14361020264953228,
           -0.17684087200297682,
           -0.10472341680361119,
           0.09833929181199241,
           -0.2622557298954818,
           1,
           0.09180218338638188,
           0.054563511066113304,
           -0.1043627531548543
          ],
          [
           0.10172516591894995,
           -0.11325676496802561,
           -0.5622874424326892,
           -0.24006401650758824,
           -0.19040107025558098,
           -0.09816711336205151,
           -0.24903820134072505,
           0.09180218338638188,
           1,
           0.002762547324119262,
           0.026703533646161508
          ],
          [
           0.0047783815525311015,
           0.05899880322391055,
           0.10731344575710797,
           -0.028041305215216538,
           -0.00110951268537522,
           0.1441032113125341,
           0.12201258781435814,
           0.054563511066113304,
           0.002762547324119262,
           1,
           -0.04149018806161329
          ],
          [
           0.2412611369950949,
           0.018982982132633868,
           -0.0576450361776659,
           0.11605444461442134,
           0.15689721632507792,
           -0.07574905467401397,
           0.03895258663575992,
           -0.1043627531548543,
           0.026703533646161508,
           -0.04149018806161329,
           1
          ]
         ]
        }
       ],
       "layout": {
        "annotations": [
         {
          "font": {
           "color": "#000000"
          },
          "showarrow": false,
          "text": "1.0",
          "x": "year",
          "xref": "x",
          "y": "year",
          "yref": "y"
         },
         {
          "font": {
           "color": "#FFFFFF"
          },
          "showarrow": false,
          "text": "-0.1",
          "x": "bpm",
          "xref": "x",
          "y": "year",
          "yref": "y"
         },
         {
          "font": {
           "color": "#FFFFFF"
          },
          "showarrow": false,
          "text": "-0.23",
          "x": "nrgy",
          "xref": "x",
          "y": "year",
          "yref": "y"
         },
         {
          "font": {
           "color": "#FFFFFF"
          },
          "showarrow": false,
          "text": "0.08",
          "x": "dnce",
          "xref": "x",
          "y": "year",
          "yref": "y"
         },
         {
          "font": {
           "color": "#FFFFFF"
          },
          "showarrow": false,
          "text": "-0.13",
          "x": "dB",
          "xref": "x",
          "y": "year",
          "yref": "y"
         },
         {
          "font": {
           "color": "#FFFFFF"
          },
          "showarrow": false,
          "text": "-0.14",
          "x": "live",
          "xref": "x",
          "y": "year",
          "yref": "y"
         },
         {
          "font": {
           "color": "#FFFFFF"
          },
          "showarrow": false,
          "text": "-0.12",
          "x": "val",
          "xref": "x",
          "y": "year",
          "yref": "y"
         },
         {
          "font": {
           "color": "#FFFFFF"
          },
          "showarrow": false,
          "text": "-0.22",
          "x": "dur",
          "xref": "x",
          "y": "year",
          "yref": "y"
         },
         {
          "font": {
           "color": "#FFFFFF"
          },
          "showarrow": false,
          "text": "0.1",
          "x": "acous",
          "xref": "x",
          "y": "year",
          "yref": "y"
         },
         {
          "font": {
           "color": "#FFFFFF"
          },
          "showarrow": false,
          "text": "0.0",
          "x": "spch",
          "xref": "x",
          "y": "year",
          "yref": "y"
         },
         {
          "font": {
           "color": "#000000"
          },
          "showarrow": false,
          "text": "0.24",
          "x": "pop",
          "xref": "x",
          "y": "year",
          "yref": "y"
         },
         {
          "font": {
           "color": "#FFFFFF"
          },
          "showarrow": false,
          "text": "-0.1",
          "x": "year",
          "xref": "x",
          "y": "bpm",
          "yref": "y"
         },
         {
          "font": {
           "color": "#000000"
          },
          "showarrow": false,
          "text": "1.0",
          "x": "bpm",
          "xref": "x",
          "y": "bpm",
          "yref": "y"
         },
         {
          "font": {
           "color": "#FFFFFF"
          },
          "showarrow": false,
          "text": "0.13",
          "x": "nrgy",
          "xref": "x",
          "y": "bpm",
          "yref": "y"
         },
         {
          "font": {
           "color": "#FFFFFF"
          },
          "showarrow": false,
          "text": "-0.13",
          "x": "dnce",
          "xref": "x",
          "y": "bpm",
          "yref": "y"
         },
         {
          "font": {
           "color": "#FFFFFF"
          },
          "showarrow": false,
          "text": "0.18",
          "x": "dB",
          "xref": "x",
          "y": "bpm",
          "yref": "y"
         },
         {
          "font": {
           "color": "#FFFFFF"
          },
          "showarrow": false,
          "text": "0.08",
          "x": "live",
          "xref": "x",
          "y": "bpm",
          "yref": "y"
         },
         {
          "font": {
           "color": "#FFFFFF"
          },
          "showarrow": false,
          "text": "0.02",
          "x": "val",
          "xref": "x",
          "y": "bpm",
          "yref": "y"
         },
         {
          "font": {
           "color": "#FFFFFF"
          },
          "showarrow": false,
          "text": "-0.03",
          "x": "dur",
          "xref": "x",
          "y": "bpm",
          "yref": "y"
         },
         {
          "font": {
           "color": "#FFFFFF"
          },
          "showarrow": false,
          "text": "-0.11",
          "x": "acous",
          "xref": "x",
          "y": "bpm",
          "yref": "y"
         },
         {
          "font": {
           "color": "#FFFFFF"
          },
          "showarrow": false,
          "text": "0.06",
          "x": "spch",
          "xref": "x",
          "y": "bpm",
          "yref": "y"
         },
         {
          "font": {
           "color": "#FFFFFF"
          },
          "showarrow": false,
          "text": "0.02",
          "x": "pop",
          "xref": "x",
          "y": "bpm",
          "yref": "y"
         },
         {
          "font": {
           "color": "#FFFFFF"
          },
          "showarrow": false,
          "text": "-0.23",
          "x": "year",
          "xref": "x",
          "y": "nrgy",
          "yref": "y"
         },
         {
          "font": {
           "color": "#FFFFFF"
          },
          "showarrow": false,
          "text": "0.13",
          "x": "bpm",
          "xref": "x",
          "y": "nrgy",
          "yref": "y"
         },
         {
          "font": {
           "color": "#000000"
          },
          "showarrow": false,
          "text": "1.0",
          "x": "nrgy",
          "xref": "x",
          "y": "nrgy",
          "yref": "y"
         },
         {
          "font": {
           "color": "#FFFFFF"
          },
          "showarrow": false,
          "text": "0.17",
          "x": "dnce",
          "xref": "x",
          "y": "nrgy",
          "yref": "y"
         },
         {
          "font": {
           "color": "#000000"
          },
          "showarrow": false,
          "text": "0.54",
          "x": "dB",
          "xref": "x",
          "y": "nrgy",
          "yref": "y"
         },
         {
          "font": {
           "color": "#FFFFFF"
          },
          "showarrow": false,
          "text": "0.19",
          "x": "live",
          "xref": "x",
          "y": "nrgy",
          "yref": "y"
         },
         {
          "font": {
           "color": "#000000"
          },
          "showarrow": false,
          "text": "0.41",
          "x": "val",
          "xref": "x",
          "y": "nrgy",
          "yref": "y"
         },
         {
          "font": {
           "color": "#FFFFFF"
          },
          "showarrow": false,
          "text": "-0.14",
          "x": "dur",
          "xref": "x",
          "y": "nrgy",
          "yref": "y"
         },
         {
          "font": {
           "color": "#FFFFFF"
          },
          "showarrow": false,
          "text": "-0.56",
          "x": "acous",
          "xref": "x",
          "y": "nrgy",
          "yref": "y"
         },
         {
          "font": {
           "color": "#FFFFFF"
          },
          "showarrow": false,
          "text": "0.11",
          "x": "spch",
          "xref": "x",
          "y": "nrgy",
          "yref": "y"
         },
         {
          "font": {
           "color": "#FFFFFF"
          },
          "showarrow": false,
          "text": "-0.06",
          "x": "pop",
          "xref": "x",
          "y": "nrgy",
          "yref": "y"
         },
         {
          "font": {
           "color": "#FFFFFF"
          },
          "showarrow": false,
          "text": "0.08",
          "x": "year",
          "xref": "x",
          "y": "dnce",
          "yref": "y"
         },
         {
          "font": {
           "color": "#FFFFFF"
          },
          "showarrow": false,
          "text": "-0.13",
          "x": "bpm",
          "xref": "x",
          "y": "dnce",
          "yref": "y"
         },
         {
          "font": {
           "color": "#FFFFFF"
          },
          "showarrow": false,
          "text": "0.17",
          "x": "nrgy",
          "xref": "x",
          "y": "dnce",
          "yref": "y"
         },
         {
          "font": {
           "color": "#000000"
          },
          "showarrow": false,
          "text": "1.0",
          "x": "dnce",
          "xref": "x",
          "y": "dnce",
          "yref": "y"
         },
         {
          "font": {
           "color": "#000000"
          },
          "showarrow": false,
          "text": "0.23",
          "x": "dB",
          "xref": "x",
          "y": "dnce",
          "yref": "y"
         },
         {
          "font": {
           "color": "#FFFFFF"
          },
          "showarrow": false,
          "text": "-0.03",
          "x": "live",
          "xref": "x",
          "y": "dnce",
          "yref": "y"
         },
         {
          "font": {
           "color": "#000000"
          },
          "showarrow": false,
          "text": "0.5",
          "x": "val",
          "xref": "x",
          "y": "dnce",
          "yref": "y"
         },
         {
          "font": {
           "color": "#FFFFFF"
          },
          "showarrow": false,
          "text": "-0.18",
          "x": "dur",
          "xref": "x",
          "y": "dnce",
          "yref": "y"
         },
         {
          "font": {
           "color": "#FFFFFF"
          },
          "showarrow": false,
          "text": "-0.24",
          "x": "acous",
          "xref": "x",
          "y": "dnce",
          "yref": "y"
         },
         {
          "font": {
           "color": "#FFFFFF"
          },
          "showarrow": false,
          "text": "-0.03",
          "x": "spch",
          "xref": "x",
          "y": "dnce",
          "yref": "y"
         },
         {
          "font": {
           "color": "#FFFFFF"
          },
          "showarrow": false,
          "text": "0.12",
          "x": "pop",
          "xref": "x",
          "y": "dnce",
          "yref": "y"
         },
         {
          "font": {
           "color": "#FFFFFF"
          },
          "showarrow": false,
          "text": "-0.13",
          "x": "year",
          "xref": "x",
          "y": "dB",
          "yref": "y"
         },
         {
          "font": {
           "color": "#FFFFFF"
          },
          "showarrow": false,
          "text": "0.18",
          "x": "bpm",
          "xref": "x",
          "y": "dB",
          "yref": "y"
         },
         {
          "font": {
           "color": "#000000"
          },
          "showarrow": false,
          "text": "0.54",
          "x": "nrgy",
          "xref": "x",
          "y": "dB",
          "yref": "y"
         },
         {
          "font": {
           "color": "#000000"
          },
          "showarrow": false,
          "text": "0.23",
          "x": "dnce",
          "xref": "x",
          "y": "dB",
          "yref": "y"
         },
         {
          "font": {
           "color": "#000000"
          },
          "showarrow": false,
          "text": "1.0",
          "x": "dB",
          "xref": "x",
          "y": "dB",
          "yref": "y"
         },
         {
          "font": {
           "color": "#FFFFFF"
          },
          "showarrow": false,
          "text": "0.08",
          "x": "live",
          "xref": "x",
          "y": "dB",
          "yref": "y"
         },
         {
          "font": {
           "color": "#000000"
          },
          "showarrow": false,
          "text": "0.28",
          "x": "val",
          "xref": "x",
          "y": "dB",
          "yref": "y"
         },
         {
          "font": {
           "color": "#FFFFFF"
          },
          "showarrow": false,
          "text": "-0.1",
          "x": "dur",
          "xref": "x",
          "y": "dB",
          "yref": "y"
         },
         {
          "font": {
           "color": "#FFFFFF"
          },
          "showarrow": false,
          "text": "-0.19",
          "x": "acous",
          "xref": "x",
          "y": "dB",
          "yref": "y"
         },
         {
          "font": {
           "color": "#FFFFFF"
          },
          "showarrow": false,
          "text": "-0.0",
          "x": "spch",
          "xref": "x",
          "y": "dB",
          "yref": "y"
         },
         {
          "font": {
           "color": "#FFFFFF"
          },
          "showarrow": false,
          "text": "0.16",
          "x": "pop",
          "xref": "x",
          "y": "dB",
          "yref": "y"
         },
         {
          "font": {
           "color": "#FFFFFF"
          },
          "showarrow": false,
          "text": "-0.14",
          "x": "year",
          "xref": "x",
          "y": "live",
          "yref": "y"
         },
         {
          "font": {
           "color": "#FFFFFF"
          },
          "showarrow": false,
          "text": "0.08",
          "x": "bpm",
          "xref": "x",
          "y": "live",
          "yref": "y"
         },
         {
          "font": {
           "color": "#FFFFFF"
          },
          "showarrow": false,
          "text": "0.19",
          "x": "nrgy",
          "xref": "x",
          "y": "live",
          "yref": "y"
         },
         {
          "font": {
           "color": "#FFFFFF"
          },
          "showarrow": false,
          "text": "-0.03",
          "x": "dnce",
          "xref": "x",
          "y": "live",
          "yref": "y"
         },
         {
          "font": {
           "color": "#FFFFFF"
          },
          "showarrow": false,
          "text": "0.08",
          "x": "dB",
          "xref": "x",
          "y": "live",
          "yref": "y"
         },
         {
          "font": {
           "color": "#000000"
          },
          "showarrow": false,
          "text": "1.0",
          "x": "live",
          "xref": "x",
          "y": "live",
          "yref": "y"
         },
         {
          "font": {
           "color": "#FFFFFF"
          },
          "showarrow": false,
          "text": "0.02",
          "x": "val",
          "xref": "x",
          "y": "live",
          "yref": "y"
         },
         {
          "font": {
           "color": "#FFFFFF"
          },
          "showarrow": false,
          "text": "0.1",
          "x": "dur",
          "xref": "x",
          "y": "live",
          "yref": "y"
         },
         {
          "font": {
           "color": "#FFFFFF"
          },
          "showarrow": false,
          "text": "-0.1",
          "x": "acous",
          "xref": "x",
          "y": "live",
          "yref": "y"
         },
         {
          "font": {
           "color": "#FFFFFF"
          },
          "showarrow": false,
          "text": "0.14",
          "x": "spch",
          "xref": "x",
          "y": "live",
          "yref": "y"
         },
         {
          "font": {
           "color": "#FFFFFF"
          },
          "showarrow": false,
          "text": "-0.08",
          "x": "pop",
          "xref": "x",
          "y": "live",
          "yref": "y"
         },
         {
          "font": {
           "color": "#FFFFFF"
          },
          "showarrow": false,
          "text": "-0.12",
          "x": "year",
          "xref": "x",
          "y": "val",
          "yref": "y"
         },
         {
          "font": {
           "color": "#FFFFFF"
          },
          "showarrow": false,
          "text": "0.02",
          "x": "bpm",
          "xref": "x",
          "y": "val",
          "yref": "y"
         },
         {
          "font": {
           "color": "#000000"
          },
          "showarrow": false,
          "text": "0.41",
          "x": "nrgy",
          "xref": "x",
          "y": "val",
          "yref": "y"
         },
         {
          "font": {
           "color": "#000000"
          },
          "showarrow": false,
          "text": "0.5",
          "x": "dnce",
          "xref": "x",
          "y": "val",
          "yref": "y"
         },
         {
          "font": {
           "color": "#000000"
          },
          "showarrow": false,
          "text": "0.28",
          "x": "dB",
          "xref": "x",
          "y": "val",
          "yref": "y"
         },
         {
          "font": {
           "color": "#FFFFFF"
          },
          "showarrow": false,
          "text": "0.02",
          "x": "live",
          "xref": "x",
          "y": "val",
          "yref": "y"
         },
         {
          "font": {
           "color": "#000000"
          },
          "showarrow": false,
          "text": "1.0",
          "x": "val",
          "xref": "x",
          "y": "val",
          "yref": "y"
         },
         {
          "font": {
           "color": "#FFFFFF"
          },
          "showarrow": false,
          "text": "-0.26",
          "x": "dur",
          "xref": "x",
          "y": "val",
          "yref": "y"
         },
         {
          "font": {
           "color": "#FFFFFF"
          },
          "showarrow": false,
          "text": "-0.25",
          "x": "acous",
          "xref": "x",
          "y": "val",
          "yref": "y"
         },
         {
          "font": {
           "color": "#FFFFFF"
          },
          "showarrow": false,
          "text": "0.12",
          "x": "spch",
          "xref": "x",
          "y": "val",
          "yref": "y"
         },
         {
          "font": {
           "color": "#FFFFFF"
          },
          "showarrow": false,
          "text": "0.04",
          "x": "pop",
          "xref": "x",
          "y": "val",
          "yref": "y"
         },
         {
          "font": {
           "color": "#FFFFFF"
          },
          "showarrow": false,
          "text": "-0.22",
          "x": "year",
          "xref": "x",
          "y": "dur",
          "yref": "y"
         },
         {
          "font": {
           "color": "#FFFFFF"
          },
          "showarrow": false,
          "text": "-0.03",
          "x": "bpm",
          "xref": "x",
          "y": "dur",
          "yref": "y"
         },
         {
          "font": {
           "color": "#FFFFFF"
          },
          "showarrow": false,
          "text": "-0.14",
          "x": "nrgy",
          "xref": "x",
          "y": "dur",
          "yref": "y"
         },
         {
          "font": {
           "color": "#FFFFFF"
          },
          "showarrow": false,
          "text": "-0.18",
          "x": "dnce",
          "xref": "x",
          "y": "dur",
          "yref": "y"
         },
         {
          "font": {
           "color": "#FFFFFF"
          },
          "showarrow": false,
          "text": "-0.1",
          "x": "dB",
          "xref": "x",
          "y": "dur",
          "yref": "y"
         },
         {
          "font": {
           "color": "#FFFFFF"
          },
          "showarrow": false,
          "text": "0.1",
          "x": "live",
          "xref": "x",
          "y": "dur",
          "yref": "y"
         },
         {
          "font": {
           "color": "#FFFFFF"
          },
          "showarrow": false,
          "text": "-0.26",
          "x": "val",
          "xref": "x",
          "y": "dur",
          "yref": "y"
         },
         {
          "font": {
           "color": "#000000"
          },
          "showarrow": false,
          "text": "1.0",
          "x": "dur",
          "xref": "x",
          "y": "dur",
          "yref": "y"
         },
         {
          "font": {
           "color": "#FFFFFF"
          },
          "showarrow": false,
          "text": "0.09",
          "x": "acous",
          "xref": "x",
          "y": "dur",
          "yref": "y"
         },
         {
          "font": {
           "color": "#FFFFFF"
          },
          "showarrow": false,
          "text": "0.05",
          "x": "spch",
          "xref": "x",
          "y": "dur",
          "yref": "y"
         },
         {
          "font": {
           "color": "#FFFFFF"
          },
          "showarrow": false,
          "text": "-0.1",
          "x": "pop",
          "xref": "x",
          "y": "dur",
          "yref": "y"
         },
         {
          "font": {
           "color": "#FFFFFF"
          },
          "showarrow": false,
          "text": "0.1",
          "x": "year",
          "xref": "x",
          "y": "acous",
          "yref": "y"
         },
         {
          "font": {
           "color": "#FFFFFF"
          },
          "showarrow": false,
          "text": "-0.11",
          "x": "bpm",
          "xref": "x",
          "y": "acous",
          "yref": "y"
         },
         {
          "font": {
           "color": "#FFFFFF"
          },
          "showarrow": false,
          "text": "-0.56",
          "x": "nrgy",
          "xref": "x",
          "y": "acous",
          "yref": "y"
         },
         {
          "font": {
           "color": "#FFFFFF"
          },
          "showarrow": false,
          "text": "-0.24",
          "x": "dnce",
          "xref": "x",
          "y": "acous",
          "yref": "y"
         },
         {
          "font": {
           "color": "#FFFFFF"
          },
          "showarrow": false,
          "text": "-0.19",
          "x": "dB",
          "xref": "x",
          "y": "acous",
          "yref": "y"
         },
         {
          "font": {
           "color": "#FFFFFF"
          },
          "showarrow": false,
          "text": "-0.1",
          "x": "live",
          "xref": "x",
          "y": "acous",
          "yref": "y"
         },
         {
          "font": {
           "color": "#FFFFFF"
          },
          "showarrow": false,
          "text": "-0.25",
          "x": "val",
          "xref": "x",
          "y": "acous",
          "yref": "y"
         },
         {
          "font": {
           "color": "#FFFFFF"
          },
          "showarrow": false,
          "text": "0.09",
          "x": "dur",
          "xref": "x",
          "y": "acous",
          "yref": "y"
         },
         {
          "font": {
           "color": "#000000"
          },
          "showarrow": false,
          "text": "1.0",
          "x": "acous",
          "xref": "x",
          "y": "acous",
          "yref": "y"
         },
         {
          "font": {
           "color": "#FFFFFF"
          },
          "showarrow": false,
          "text": "0.0",
          "x": "spch",
          "xref": "x",
          "y": "acous",
          "yref": "y"
         },
         {
          "font": {
           "color": "#FFFFFF"
          },
          "showarrow": false,
          "text": "0.03",
          "x": "pop",
          "xref": "x",
          "y": "acous",
          "yref": "y"
         },
         {
          "font": {
           "color": "#FFFFFF"
          },
          "showarrow": false,
          "text": "0.0",
          "x": "year",
          "xref": "x",
          "y": "spch",
          "yref": "y"
         },
         {
          "font": {
           "color": "#FFFFFF"
          },
          "showarrow": false,
          "text": "0.06",
          "x": "bpm",
          "xref": "x",
          "y": "spch",
          "yref": "y"
         },
         {
          "font": {
           "color": "#FFFFFF"
          },
          "showarrow": false,
          "text": "0.11",
          "x": "nrgy",
          "xref": "x",
          "y": "spch",
          "yref": "y"
         },
         {
          "font": {
           "color": "#FFFFFF"
          },
          "showarrow": false,
          "text": "-0.03",
          "x": "dnce",
          "xref": "x",
          "y": "spch",
          "yref": "y"
         },
         {
          "font": {
           "color": "#FFFFFF"
          },
          "showarrow": false,
          "text": "-0.0",
          "x": "dB",
          "xref": "x",
          "y": "spch",
          "yref": "y"
         },
         {
          "font": {
           "color": "#FFFFFF"
          },
          "showarrow": false,
          "text": "0.14",
          "x": "live",
          "xref": "x",
          "y": "spch",
          "yref": "y"
         },
         {
          "font": {
           "color": "#FFFFFF"
          },
          "showarrow": false,
          "text": "0.12",
          "x": "val",
          "xref": "x",
          "y": "spch",
          "yref": "y"
         },
         {
          "font": {
           "color": "#FFFFFF"
          },
          "showarrow": false,
          "text": "0.05",
          "x": "dur",
          "xref": "x",
          "y": "spch",
          "yref": "y"
         },
         {
          "font": {
           "color": "#FFFFFF"
          },
          "showarrow": false,
          "text": "0.0",
          "x": "acous",
          "xref": "x",
          "y": "spch",
          "yref": "y"
         },
         {
          "font": {
           "color": "#000000"
          },
          "showarrow": false,
          "text": "1.0",
          "x": "spch",
          "xref": "x",
          "y": "spch",
          "yref": "y"
         },
         {
          "font": {
           "color": "#FFFFFF"
          },
          "showarrow": false,
          "text": "-0.04",
          "x": "pop",
          "xref": "x",
          "y": "spch",
          "yref": "y"
         },
         {
          "font": {
           "color": "#000000"
          },
          "showarrow": false,
          "text": "0.24",
          "x": "year",
          "xref": "x",
          "y": "pop",
          "yref": "y"
         },
         {
          "font": {
           "color": "#FFFFFF"
          },
          "showarrow": false,
          "text": "0.02",
          "x": "bpm",
          "xref": "x",
          "y": "pop",
          "yref": "y"
         },
         {
          "font": {
           "color": "#FFFFFF"
          },
          "showarrow": false,
          "text": "-0.06",
          "x": "nrgy",
          "xref": "x",
          "y": "pop",
          "yref": "y"
         },
         {
          "font": {
           "color": "#FFFFFF"
          },
          "showarrow": false,
          "text": "0.12",
          "x": "dnce",
          "xref": "x",
          "y": "pop",
          "yref": "y"
         },
         {
          "font": {
           "color": "#FFFFFF"
          },
          "showarrow": false,
          "text": "0.16",
          "x": "dB",
          "xref": "x",
          "y": "pop",
          "yref": "y"
         },
         {
          "font": {
           "color": "#FFFFFF"
          },
          "showarrow": false,
          "text": "-0.08",
          "x": "live",
          "xref": "x",
          "y": "pop",
          "yref": "y"
         },
         {
          "font": {
           "color": "#FFFFFF"
          },
          "showarrow": false,
          "text": "0.04",
          "x": "val",
          "xref": "x",
          "y": "pop",
          "yref": "y"
         },
         {
          "font": {
           "color": "#FFFFFF"
          },
          "showarrow": false,
          "text": "-0.1",
          "x": "dur",
          "xref": "x",
          "y": "pop",
          "yref": "y"
         },
         {
          "font": {
           "color": "#FFFFFF"
          },
          "showarrow": false,
          "text": "0.03",
          "x": "acous",
          "xref": "x",
          "y": "pop",
          "yref": "y"
         },
         {
          "font": {
           "color": "#FFFFFF"
          },
          "showarrow": false,
          "text": "-0.04",
          "x": "spch",
          "xref": "x",
          "y": "pop",
          "yref": "y"
         },
         {
          "font": {
           "color": "#000000"
          },
          "showarrow": false,
          "text": "1.0",
          "x": "pop",
          "xref": "x",
          "y": "pop",
          "yref": "y"
         }
        ],
        "template": {
         "data": {
          "bar": [
           {
            "error_x": {
             "color": "#2a3f5f"
            },
            "error_y": {
             "color": "#2a3f5f"
            },
            "marker": {
             "line": {
              "color": "#E5ECF6",
              "width": 0.5
             },
             "pattern": {
              "fillmode": "overlay",
              "size": 10,
              "solidity": 0.2
             }
            },
            "type": "bar"
           }
          ],
          "barpolar": [
           {
            "marker": {
             "line": {
              "color": "#E5ECF6",
              "width": 0.5
             },
             "pattern": {
              "fillmode": "overlay",
              "size": 10,
              "solidity": 0.2
             }
            },
            "type": "barpolar"
           }
          ],
          "carpet": [
           {
            "aaxis": {
             "endlinecolor": "#2a3f5f",
             "gridcolor": "white",
             "linecolor": "white",
             "minorgridcolor": "white",
             "startlinecolor": "#2a3f5f"
            },
            "baxis": {
             "endlinecolor": "#2a3f5f",
             "gridcolor": "white",
             "linecolor": "white",
             "minorgridcolor": "white",
             "startlinecolor": "#2a3f5f"
            },
            "type": "carpet"
           }
          ],
          "choropleth": [
           {
            "colorbar": {
             "outlinewidth": 0,
             "ticks": ""
            },
            "type": "choropleth"
           }
          ],
          "contour": [
           {
            "colorbar": {
             "outlinewidth": 0,
             "ticks": ""
            },
            "colorscale": [
             [
              0,
              "#0d0887"
             ],
             [
              0.1111111111111111,
              "#46039f"
             ],
             [
              0.2222222222222222,
              "#7201a8"
             ],
             [
              0.3333333333333333,
              "#9c179e"
             ],
             [
              0.4444444444444444,
              "#bd3786"
             ],
             [
              0.5555555555555556,
              "#d8576b"
             ],
             [
              0.6666666666666666,
              "#ed7953"
             ],
             [
              0.7777777777777778,
              "#fb9f3a"
             ],
             [
              0.8888888888888888,
              "#fdca26"
             ],
             [
              1,
              "#f0f921"
             ]
            ],
            "type": "contour"
           }
          ],
          "contourcarpet": [
           {
            "colorbar": {
             "outlinewidth": 0,
             "ticks": ""
            },
            "type": "contourcarpet"
           }
          ],
          "heatmap": [
           {
            "colorbar": {
             "outlinewidth": 0,
             "ticks": ""
            },
            "colorscale": [
             [
              0,
              "#0d0887"
             ],
             [
              0.1111111111111111,
              "#46039f"
             ],
             [
              0.2222222222222222,
              "#7201a8"
             ],
             [
              0.3333333333333333,
              "#9c179e"
             ],
             [
              0.4444444444444444,
              "#bd3786"
             ],
             [
              0.5555555555555556,
              "#d8576b"
             ],
             [
              0.6666666666666666,
              "#ed7953"
             ],
             [
              0.7777777777777778,
              "#fb9f3a"
             ],
             [
              0.8888888888888888,
              "#fdca26"
             ],
             [
              1,
              "#f0f921"
             ]
            ],
            "type": "heatmap"
           }
          ],
          "heatmapgl": [
           {
            "colorbar": {
             "outlinewidth": 0,
             "ticks": ""
            },
            "colorscale": [
             [
              0,
              "#0d0887"
             ],
             [
              0.1111111111111111,
              "#46039f"
             ],
             [
              0.2222222222222222,
              "#7201a8"
             ],
             [
              0.3333333333333333,
              "#9c179e"
             ],
             [
              0.4444444444444444,
              "#bd3786"
             ],
             [
              0.5555555555555556,
              "#d8576b"
             ],
             [
              0.6666666666666666,
              "#ed7953"
             ],
             [
              0.7777777777777778,
              "#fb9f3a"
             ],
             [
              0.8888888888888888,
              "#fdca26"
             ],
             [
              1,
              "#f0f921"
             ]
            ],
            "type": "heatmapgl"
           }
          ],
          "histogram": [
           {
            "marker": {
             "pattern": {
              "fillmode": "overlay",
              "size": 10,
              "solidity": 0.2
             }
            },
            "type": "histogram"
           }
          ],
          "histogram2d": [
           {
            "colorbar": {
             "outlinewidth": 0,
             "ticks": ""
            },
            "colorscale": [
             [
              0,
              "#0d0887"
             ],
             [
              0.1111111111111111,
              "#46039f"
             ],
             [
              0.2222222222222222,
              "#7201a8"
             ],
             [
              0.3333333333333333,
              "#9c179e"
             ],
             [
              0.4444444444444444,
              "#bd3786"
             ],
             [
              0.5555555555555556,
              "#d8576b"
             ],
             [
              0.6666666666666666,
              "#ed7953"
             ],
             [
              0.7777777777777778,
              "#fb9f3a"
             ],
             [
              0.8888888888888888,
              "#fdca26"
             ],
             [
              1,
              "#f0f921"
             ]
            ],
            "type": "histogram2d"
           }
          ],
          "histogram2dcontour": [
           {
            "colorbar": {
             "outlinewidth": 0,
             "ticks": ""
            },
            "colorscale": [
             [
              0,
              "#0d0887"
             ],
             [
              0.1111111111111111,
              "#46039f"
             ],
             [
              0.2222222222222222,
              "#7201a8"
             ],
             [
              0.3333333333333333,
              "#9c179e"
             ],
             [
              0.4444444444444444,
              "#bd3786"
             ],
             [
              0.5555555555555556,
              "#d8576b"
             ],
             [
              0.6666666666666666,
              "#ed7953"
             ],
             [
              0.7777777777777778,
              "#fb9f3a"
             ],
             [
              0.8888888888888888,
              "#fdca26"
             ],
             [
              1,
              "#f0f921"
             ]
            ],
            "type": "histogram2dcontour"
           }
          ],
          "mesh3d": [
           {
            "colorbar": {
             "outlinewidth": 0,
             "ticks": ""
            },
            "type": "mesh3d"
           }
          ],
          "parcoords": [
           {
            "line": {
             "colorbar": {
              "outlinewidth": 0,
              "ticks": ""
             }
            },
            "type": "parcoords"
           }
          ],
          "pie": [
           {
            "automargin": true,
            "type": "pie"
           }
          ],
          "scatter": [
           {
            "fillpattern": {
             "fillmode": "overlay",
             "size": 10,
             "solidity": 0.2
            },
            "type": "scatter"
           }
          ],
          "scatter3d": [
           {
            "line": {
             "colorbar": {
              "outlinewidth": 0,
              "ticks": ""
             }
            },
            "marker": {
             "colorbar": {
              "outlinewidth": 0,
              "ticks": ""
             }
            },
            "type": "scatter3d"
           }
          ],
          "scattercarpet": [
           {
            "marker": {
             "colorbar": {
              "outlinewidth": 0,
              "ticks": ""
             }
            },
            "type": "scattercarpet"
           }
          ],
          "scattergeo": [
           {
            "marker": {
             "colorbar": {
              "outlinewidth": 0,
              "ticks": ""
             }
            },
            "type": "scattergeo"
           }
          ],
          "scattergl": [
           {
            "marker": {
             "colorbar": {
              "outlinewidth": 0,
              "ticks": ""
             }
            },
            "type": "scattergl"
           }
          ],
          "scattermapbox": [
           {
            "marker": {
             "colorbar": {
              "outlinewidth": 0,
              "ticks": ""
             }
            },
            "type": "scattermapbox"
           }
          ],
          "scatterpolar": [
           {
            "marker": {
             "colorbar": {
              "outlinewidth": 0,
              "ticks": ""
             }
            },
            "type": "scatterpolar"
           }
          ],
          "scatterpolargl": [
           {
            "marker": {
             "colorbar": {
              "outlinewidth": 0,
              "ticks": ""
             }
            },
            "type": "scatterpolargl"
           }
          ],
          "scatterternary": [
           {
            "marker": {
             "colorbar": {
              "outlinewidth": 0,
              "ticks": ""
             }
            },
            "type": "scatterternary"
           }
          ],
          "surface": [
           {
            "colorbar": {
             "outlinewidth": 0,
             "ticks": ""
            },
            "colorscale": [
             [
              0,
              "#0d0887"
             ],
             [
              0.1111111111111111,
              "#46039f"
             ],
             [
              0.2222222222222222,
              "#7201a8"
             ],
             [
              0.3333333333333333,
              "#9c179e"
             ],
             [
              0.4444444444444444,
              "#bd3786"
             ],
             [
              0.5555555555555556,
              "#d8576b"
             ],
             [
              0.6666666666666666,
              "#ed7953"
             ],
             [
              0.7777777777777778,
              "#fb9f3a"
             ],
             [
              0.8888888888888888,
              "#fdca26"
             ],
             [
              1,
              "#f0f921"
             ]
            ],
            "type": "surface"
           }
          ],
          "table": [
           {
            "cells": {
             "fill": {
              "color": "#EBF0F8"
             },
             "line": {
              "color": "white"
             }
            },
            "header": {
             "fill": {
              "color": "#C8D4E3"
             },
             "line": {
              "color": "white"
             }
            },
            "type": "table"
           }
          ]
         },
         "layout": {
          "annotationdefaults": {
           "arrowcolor": "#2a3f5f",
           "arrowhead": 0,
           "arrowwidth": 1
          },
          "autotypenumbers": "strict",
          "coloraxis": {
           "colorbar": {
            "outlinewidth": 0,
            "ticks": ""
           }
          },
          "colorscale": {
           "diverging": [
            [
             0,
             "#8e0152"
            ],
            [
             0.1,
             "#c51b7d"
            ],
            [
             0.2,
             "#de77ae"
            ],
            [
             0.3,
             "#f1b6da"
            ],
            [
             0.4,
             "#fde0ef"
            ],
            [
             0.5,
             "#f7f7f7"
            ],
            [
             0.6,
             "#e6f5d0"
            ],
            [
             0.7,
             "#b8e186"
            ],
            [
             0.8,
             "#7fbc41"
            ],
            [
             0.9,
             "#4d9221"
            ],
            [
             1,
             "#276419"
            ]
           ],
           "sequential": [
            [
             0,
             "#0d0887"
            ],
            [
             0.1111111111111111,
             "#46039f"
            ],
            [
             0.2222222222222222,
             "#7201a8"
            ],
            [
             0.3333333333333333,
             "#9c179e"
            ],
            [
             0.4444444444444444,
             "#bd3786"
            ],
            [
             0.5555555555555556,
             "#d8576b"
            ],
            [
             0.6666666666666666,
             "#ed7953"
            ],
            [
             0.7777777777777778,
             "#fb9f3a"
            ],
            [
             0.8888888888888888,
             "#fdca26"
            ],
            [
             1,
             "#f0f921"
            ]
           ],
           "sequentialminus": [
            [
             0,
             "#0d0887"
            ],
            [
             0.1111111111111111,
             "#46039f"
            ],
            [
             0.2222222222222222,
             "#7201a8"
            ],
            [
             0.3333333333333333,
             "#9c179e"
            ],
            [
             0.4444444444444444,
             "#bd3786"
            ],
            [
             0.5555555555555556,
             "#d8576b"
            ],
            [
             0.6666666666666666,
             "#ed7953"
            ],
            [
             0.7777777777777778,
             "#fb9f3a"
            ],
            [
             0.8888888888888888,
             "#fdca26"
            ],
            [
             1,
             "#f0f921"
            ]
           ]
          },
          "colorway": [
           "#636efa",
           "#EF553B",
           "#00cc96",
           "#ab63fa",
           "#FFA15A",
           "#19d3f3",
           "#FF6692",
           "#B6E880",
           "#FF97FF",
           "#FECB52"
          ],
          "font": {
           "color": "#2a3f5f"
          },
          "geo": {
           "bgcolor": "white",
           "lakecolor": "white",
           "landcolor": "#E5ECF6",
           "showlakes": true,
           "showland": true,
           "subunitcolor": "white"
          },
          "hoverlabel": {
           "align": "left"
          },
          "hovermode": "closest",
          "mapbox": {
           "style": "light"
          },
          "paper_bgcolor": "white",
          "plot_bgcolor": "#E5ECF6",
          "polar": {
           "angularaxis": {
            "gridcolor": "white",
            "linecolor": "white",
            "ticks": ""
           },
           "bgcolor": "#E5ECF6",
           "radialaxis": {
            "gridcolor": "white",
            "linecolor": "white",
            "ticks": ""
           }
          },
          "scene": {
           "xaxis": {
            "backgroundcolor": "#E5ECF6",
            "gridcolor": "white",
            "gridwidth": 2,
            "linecolor": "white",
            "showbackground": true,
            "ticks": "",
            "zerolinecolor": "white"
           },
           "yaxis": {
            "backgroundcolor": "#E5ECF6",
            "gridcolor": "white",
            "gridwidth": 2,
            "linecolor": "white",
            "showbackground": true,
            "ticks": "",
            "zerolinecolor": "white"
           },
           "zaxis": {
            "backgroundcolor": "#E5ECF6",
            "gridcolor": "white",
            "gridwidth": 2,
            "linecolor": "white",
            "showbackground": true,
            "ticks": "",
            "zerolinecolor": "white"
           }
          },
          "shapedefaults": {
           "line": {
            "color": "#2a3f5f"
           }
          },
          "ternary": {
           "aaxis": {
            "gridcolor": "white",
            "linecolor": "white",
            "ticks": ""
           },
           "baxis": {
            "gridcolor": "white",
            "linecolor": "white",
            "ticks": ""
           },
           "bgcolor": "#E5ECF6",
           "caxis": {
            "gridcolor": "white",
            "linecolor": "white",
            "ticks": ""
           }
          },
          "title": {
           "x": 0.05
          },
          "xaxis": {
           "automargin": true,
           "gridcolor": "white",
           "linecolor": "white",
           "ticks": "",
           "title": {
            "standoff": 15
           },
           "zerolinecolor": "white",
           "zerolinewidth": 2
          },
          "yaxis": {
           "automargin": true,
           "gridcolor": "white",
           "linecolor": "white",
           "ticks": "",
           "title": {
            "standoff": 15
           },
           "zerolinecolor": "white",
           "zerolinewidth": 2
          }
         }
        },
        "title": {
         "text": "Correlation Heatmap"
        },
        "xaxis": {
         "dtick": 1,
         "gridcolor": "rgb(0, 0, 0)",
         "side": "top",
         "ticks": "",
         "title": {
          "text": "Variable"
         }
        },
        "yaxis": {
         "dtick": 1,
         "ticks": "",
         "ticksuffix": "  ",
         "title": {
          "text": "Variable"
         }
        }
       }
      },
      "text/html": [
       "<div>                            <div id=\"11f531f0-6646-40be-bef1-b644b5d6ac85\" class=\"plotly-graph-div\" style=\"height:525px; width:100%;\"></div>            <script type=\"text/javascript\">                require([\"plotly\"], function(Plotly) {                    window.PLOTLYENV=window.PLOTLYENV || {};                                    if (document.getElementById(\"11f531f0-6646-40be-bef1-b644b5d6ac85\")) {                    Plotly.newPlot(                        \"11f531f0-6646-40be-bef1-b644b5d6ac85\",                        [{\"colorscale\":[[0.0,\"#440154\"],[0.1111111111111111,\"#482878\"],[0.2222222222222222,\"#3e4989\"],[0.3333333333333333,\"#31688e\"],[0.4444444444444444,\"#26828e\"],[0.5555555555555556,\"#1f9e89\"],[0.6666666666666666,\"#35b779\"],[0.7777777777777778,\"#6ece58\"],[0.8888888888888888,\"#b5de2b\"],[1.0,\"#fde725\"]],\"reversescale\":false,\"showscale\":false,\"x\":[\"year\",\"bpm\",\"nrgy\",\"dnce\",\"dB\",\"live\",\"val\",\"dur\",\"acous\",\"spch\",\"pop\"],\"y\":[\"year\",\"bpm\",\"nrgy\",\"dnce\",\"dB\",\"live\",\"val\",\"dur\",\"acous\",\"spch\",\"pop\"],\"z\":[[1.0,-0.10424713701618873,-0.22559620584250212,0.07926877357952829,-0.12647097101836832,-0.13633119273241126,-0.12202514422031742,-0.21534361959049905,0.10172516591894995,0.0047783815525311015,0.2412611369950949],[-0.10424713701618873,1.0,0.12617006494310237,-0.13130067104198875,0.18386982912017436,0.08157927768549537,0.016020943349025388,-0.029359073909432445,-0.11325676496802561,0.05899880322391055,0.018982982132633868],[-0.22559620584250212,0.12617006494310237,1.0,0.16720892660416942,0.5375280390654401,0.18673760666851577,0.40957729716105373,-0.14361020264953228,-0.5622874424326892,0.10731344575710797,-0.0576450361776659],[0.07926877357952829,-0.13130067104198875,0.16720892660416942,1.0,0.23317005692972567,-0.0288014516208165,0.5016961890764092,-0.17684087200297682,-0.24006401650758824,-0.028041305215216538,0.11605444461442134],[-0.12647097101836832,0.18386982912017436,0.5375280390654401,0.23317005692972567,1.0,0.0819340472674587,0.28292186875680025,-0.10472341680361119,-0.19040107025558098,-0.00110951268537522,0.15689721632507792],[-0.13633119273241126,0.08157927768549537,0.18673760666851577,-0.0288014516208165,0.0819340472674587,1.0,0.020226045899496694,0.09833929181199241,-0.09816711336205151,0.1441032113125341,-0.07574905467401397],[-0.12202514422031742,0.016020943349025388,0.40957729716105373,0.5016961890764092,0.28292186875680025,0.020226045899496694,1.0,-0.2622557298954818,-0.24903820134072505,0.12201258781435814,0.03895258663575992],[-0.21534361959049905,-0.029359073909432445,-0.14361020264953228,-0.17684087200297682,-0.10472341680361119,0.09833929181199241,-0.2622557298954818,1.0,0.09180218338638188,0.054563511066113304,-0.1043627531548543],[0.10172516591894995,-0.11325676496802561,-0.5622874424326892,-0.24006401650758824,-0.19040107025558098,-0.09816711336205151,-0.24903820134072505,0.09180218338638188,1.0,0.002762547324119262,0.026703533646161508],[0.0047783815525311015,0.05899880322391055,0.10731344575710797,-0.028041305215216538,-0.00110951268537522,0.1441032113125341,0.12201258781435814,0.054563511066113304,0.002762547324119262,1.0,-0.04149018806161329],[0.2412611369950949,0.018982982132633868,-0.0576450361776659,0.11605444461442134,0.15689721632507792,-0.07574905467401397,0.03895258663575992,-0.1043627531548543,0.026703533646161508,-0.04149018806161329,1.0]],\"type\":\"heatmap\"}],                        {\"annotations\":[{\"font\":{\"color\":\"#000000\"},\"showarrow\":false,\"text\":\"1.0\",\"x\":\"year\",\"xref\":\"x\",\"y\":\"year\",\"yref\":\"y\"},{\"font\":{\"color\":\"#FFFFFF\"},\"showarrow\":false,\"text\":\"-0.1\",\"x\":\"bpm\",\"xref\":\"x\",\"y\":\"year\",\"yref\":\"y\"},{\"font\":{\"color\":\"#FFFFFF\"},\"showarrow\":false,\"text\":\"-0.23\",\"x\":\"nrgy\",\"xref\":\"x\",\"y\":\"year\",\"yref\":\"y\"},{\"font\":{\"color\":\"#FFFFFF\"},\"showarrow\":false,\"text\":\"0.08\",\"x\":\"dnce\",\"xref\":\"x\",\"y\":\"year\",\"yref\":\"y\"},{\"font\":{\"color\":\"#FFFFFF\"},\"showarrow\":false,\"text\":\"-0.13\",\"x\":\"dB\",\"xref\":\"x\",\"y\":\"year\",\"yref\":\"y\"},{\"font\":{\"color\":\"#FFFFFF\"},\"showarrow\":false,\"text\":\"-0.14\",\"x\":\"live\",\"xref\":\"x\",\"y\":\"year\",\"yref\":\"y\"},{\"font\":{\"color\":\"#FFFFFF\"},\"showarrow\":false,\"text\":\"-0.12\",\"x\":\"val\",\"xref\":\"x\",\"y\":\"year\",\"yref\":\"y\"},{\"font\":{\"color\":\"#FFFFFF\"},\"showarrow\":false,\"text\":\"-0.22\",\"x\":\"dur\",\"xref\":\"x\",\"y\":\"year\",\"yref\":\"y\"},{\"font\":{\"color\":\"#FFFFFF\"},\"showarrow\":false,\"text\":\"0.1\",\"x\":\"acous\",\"xref\":\"x\",\"y\":\"year\",\"yref\":\"y\"},{\"font\":{\"color\":\"#FFFFFF\"},\"showarrow\":false,\"text\":\"0.0\",\"x\":\"spch\",\"xref\":\"x\",\"y\":\"year\",\"yref\":\"y\"},{\"font\":{\"color\":\"#000000\"},\"showarrow\":false,\"text\":\"0.24\",\"x\":\"pop\",\"xref\":\"x\",\"y\":\"year\",\"yref\":\"y\"},{\"font\":{\"color\":\"#FFFFFF\"},\"showarrow\":false,\"text\":\"-0.1\",\"x\":\"year\",\"xref\":\"x\",\"y\":\"bpm\",\"yref\":\"y\"},{\"font\":{\"color\":\"#000000\"},\"showarrow\":false,\"text\":\"1.0\",\"x\":\"bpm\",\"xref\":\"x\",\"y\":\"bpm\",\"yref\":\"y\"},{\"font\":{\"color\":\"#FFFFFF\"},\"showarrow\":false,\"text\":\"0.13\",\"x\":\"nrgy\",\"xref\":\"x\",\"y\":\"bpm\",\"yref\":\"y\"},{\"font\":{\"color\":\"#FFFFFF\"},\"showarrow\":false,\"text\":\"-0.13\",\"x\":\"dnce\",\"xref\":\"x\",\"y\":\"bpm\",\"yref\":\"y\"},{\"font\":{\"color\":\"#FFFFFF\"},\"showarrow\":false,\"text\":\"0.18\",\"x\":\"dB\",\"xref\":\"x\",\"y\":\"bpm\",\"yref\":\"y\"},{\"font\":{\"color\":\"#FFFFFF\"},\"showarrow\":false,\"text\":\"0.08\",\"x\":\"live\",\"xref\":\"x\",\"y\":\"bpm\",\"yref\":\"y\"},{\"font\":{\"color\":\"#FFFFFF\"},\"showarrow\":false,\"text\":\"0.02\",\"x\":\"val\",\"xref\":\"x\",\"y\":\"bpm\",\"yref\":\"y\"},{\"font\":{\"color\":\"#FFFFFF\"},\"showarrow\":false,\"text\":\"-0.03\",\"x\":\"dur\",\"xref\":\"x\",\"y\":\"bpm\",\"yref\":\"y\"},{\"font\":{\"color\":\"#FFFFFF\"},\"showarrow\":false,\"text\":\"-0.11\",\"x\":\"acous\",\"xref\":\"x\",\"y\":\"bpm\",\"yref\":\"y\"},{\"font\":{\"color\":\"#FFFFFF\"},\"showarrow\":false,\"text\":\"0.06\",\"x\":\"spch\",\"xref\":\"x\",\"y\":\"bpm\",\"yref\":\"y\"},{\"font\":{\"color\":\"#FFFFFF\"},\"showarrow\":false,\"text\":\"0.02\",\"x\":\"pop\",\"xref\":\"x\",\"y\":\"bpm\",\"yref\":\"y\"},{\"font\":{\"color\":\"#FFFFFF\"},\"showarrow\":false,\"text\":\"-0.23\",\"x\":\"year\",\"xref\":\"x\",\"y\":\"nrgy\",\"yref\":\"y\"},{\"font\":{\"color\":\"#FFFFFF\"},\"showarrow\":false,\"text\":\"0.13\",\"x\":\"bpm\",\"xref\":\"x\",\"y\":\"nrgy\",\"yref\":\"y\"},{\"font\":{\"color\":\"#000000\"},\"showarrow\":false,\"text\":\"1.0\",\"x\":\"nrgy\",\"xref\":\"x\",\"y\":\"nrgy\",\"yref\":\"y\"},{\"font\":{\"color\":\"#FFFFFF\"},\"showarrow\":false,\"text\":\"0.17\",\"x\":\"dnce\",\"xref\":\"x\",\"y\":\"nrgy\",\"yref\":\"y\"},{\"font\":{\"color\":\"#000000\"},\"showarrow\":false,\"text\":\"0.54\",\"x\":\"dB\",\"xref\":\"x\",\"y\":\"nrgy\",\"yref\":\"y\"},{\"font\":{\"color\":\"#FFFFFF\"},\"showarrow\":false,\"text\":\"0.19\",\"x\":\"live\",\"xref\":\"x\",\"y\":\"nrgy\",\"yref\":\"y\"},{\"font\":{\"color\":\"#000000\"},\"showarrow\":false,\"text\":\"0.41\",\"x\":\"val\",\"xref\":\"x\",\"y\":\"nrgy\",\"yref\":\"y\"},{\"font\":{\"color\":\"#FFFFFF\"},\"showarrow\":false,\"text\":\"-0.14\",\"x\":\"dur\",\"xref\":\"x\",\"y\":\"nrgy\",\"yref\":\"y\"},{\"font\":{\"color\":\"#FFFFFF\"},\"showarrow\":false,\"text\":\"-0.56\",\"x\":\"acous\",\"xref\":\"x\",\"y\":\"nrgy\",\"yref\":\"y\"},{\"font\":{\"color\":\"#FFFFFF\"},\"showarrow\":false,\"text\":\"0.11\",\"x\":\"spch\",\"xref\":\"x\",\"y\":\"nrgy\",\"yref\":\"y\"},{\"font\":{\"color\":\"#FFFFFF\"},\"showarrow\":false,\"text\":\"-0.06\",\"x\":\"pop\",\"xref\":\"x\",\"y\":\"nrgy\",\"yref\":\"y\"},{\"font\":{\"color\":\"#FFFFFF\"},\"showarrow\":false,\"text\":\"0.08\",\"x\":\"year\",\"xref\":\"x\",\"y\":\"dnce\",\"yref\":\"y\"},{\"font\":{\"color\":\"#FFFFFF\"},\"showarrow\":false,\"text\":\"-0.13\",\"x\":\"bpm\",\"xref\":\"x\",\"y\":\"dnce\",\"yref\":\"y\"},{\"font\":{\"color\":\"#FFFFFF\"},\"showarrow\":false,\"text\":\"0.17\",\"x\":\"nrgy\",\"xref\":\"x\",\"y\":\"dnce\",\"yref\":\"y\"},{\"font\":{\"color\":\"#000000\"},\"showarrow\":false,\"text\":\"1.0\",\"x\":\"dnce\",\"xref\":\"x\",\"y\":\"dnce\",\"yref\":\"y\"},{\"font\":{\"color\":\"#000000\"},\"showarrow\":false,\"text\":\"0.23\",\"x\":\"dB\",\"xref\":\"x\",\"y\":\"dnce\",\"yref\":\"y\"},{\"font\":{\"color\":\"#FFFFFF\"},\"showarrow\":false,\"text\":\"-0.03\",\"x\":\"live\",\"xref\":\"x\",\"y\":\"dnce\",\"yref\":\"y\"},{\"font\":{\"color\":\"#000000\"},\"showarrow\":false,\"text\":\"0.5\",\"x\":\"val\",\"xref\":\"x\",\"y\":\"dnce\",\"yref\":\"y\"},{\"font\":{\"color\":\"#FFFFFF\"},\"showarrow\":false,\"text\":\"-0.18\",\"x\":\"dur\",\"xref\":\"x\",\"y\":\"dnce\",\"yref\":\"y\"},{\"font\":{\"color\":\"#FFFFFF\"},\"showarrow\":false,\"text\":\"-0.24\",\"x\":\"acous\",\"xref\":\"x\",\"y\":\"dnce\",\"yref\":\"y\"},{\"font\":{\"color\":\"#FFFFFF\"},\"showarrow\":false,\"text\":\"-0.03\",\"x\":\"spch\",\"xref\":\"x\",\"y\":\"dnce\",\"yref\":\"y\"},{\"font\":{\"color\":\"#FFFFFF\"},\"showarrow\":false,\"text\":\"0.12\",\"x\":\"pop\",\"xref\":\"x\",\"y\":\"dnce\",\"yref\":\"y\"},{\"font\":{\"color\":\"#FFFFFF\"},\"showarrow\":false,\"text\":\"-0.13\",\"x\":\"year\",\"xref\":\"x\",\"y\":\"dB\",\"yref\":\"y\"},{\"font\":{\"color\":\"#FFFFFF\"},\"showarrow\":false,\"text\":\"0.18\",\"x\":\"bpm\",\"xref\":\"x\",\"y\":\"dB\",\"yref\":\"y\"},{\"font\":{\"color\":\"#000000\"},\"showarrow\":false,\"text\":\"0.54\",\"x\":\"nrgy\",\"xref\":\"x\",\"y\":\"dB\",\"yref\":\"y\"},{\"font\":{\"color\":\"#000000\"},\"showarrow\":false,\"text\":\"0.23\",\"x\":\"dnce\",\"xref\":\"x\",\"y\":\"dB\",\"yref\":\"y\"},{\"font\":{\"color\":\"#000000\"},\"showarrow\":false,\"text\":\"1.0\",\"x\":\"dB\",\"xref\":\"x\",\"y\":\"dB\",\"yref\":\"y\"},{\"font\":{\"color\":\"#FFFFFF\"},\"showarrow\":false,\"text\":\"0.08\",\"x\":\"live\",\"xref\":\"x\",\"y\":\"dB\",\"yref\":\"y\"},{\"font\":{\"color\":\"#000000\"},\"showarrow\":false,\"text\":\"0.28\",\"x\":\"val\",\"xref\":\"x\",\"y\":\"dB\",\"yref\":\"y\"},{\"font\":{\"color\":\"#FFFFFF\"},\"showarrow\":false,\"text\":\"-0.1\",\"x\":\"dur\",\"xref\":\"x\",\"y\":\"dB\",\"yref\":\"y\"},{\"font\":{\"color\":\"#FFFFFF\"},\"showarrow\":false,\"text\":\"-0.19\",\"x\":\"acous\",\"xref\":\"x\",\"y\":\"dB\",\"yref\":\"y\"},{\"font\":{\"color\":\"#FFFFFF\"},\"showarrow\":false,\"text\":\"-0.0\",\"x\":\"spch\",\"xref\":\"x\",\"y\":\"dB\",\"yref\":\"y\"},{\"font\":{\"color\":\"#FFFFFF\"},\"showarrow\":false,\"text\":\"0.16\",\"x\":\"pop\",\"xref\":\"x\",\"y\":\"dB\",\"yref\":\"y\"},{\"font\":{\"color\":\"#FFFFFF\"},\"showarrow\":false,\"text\":\"-0.14\",\"x\":\"year\",\"xref\":\"x\",\"y\":\"live\",\"yref\":\"y\"},{\"font\":{\"color\":\"#FFFFFF\"},\"showarrow\":false,\"text\":\"0.08\",\"x\":\"bpm\",\"xref\":\"x\",\"y\":\"live\",\"yref\":\"y\"},{\"font\":{\"color\":\"#FFFFFF\"},\"showarrow\":false,\"text\":\"0.19\",\"x\":\"nrgy\",\"xref\":\"x\",\"y\":\"live\",\"yref\":\"y\"},{\"font\":{\"color\":\"#FFFFFF\"},\"showarrow\":false,\"text\":\"-0.03\",\"x\":\"dnce\",\"xref\":\"x\",\"y\":\"live\",\"yref\":\"y\"},{\"font\":{\"color\":\"#FFFFFF\"},\"showarrow\":false,\"text\":\"0.08\",\"x\":\"dB\",\"xref\":\"x\",\"y\":\"live\",\"yref\":\"y\"},{\"font\":{\"color\":\"#000000\"},\"showarrow\":false,\"text\":\"1.0\",\"x\":\"live\",\"xref\":\"x\",\"y\":\"live\",\"yref\":\"y\"},{\"font\":{\"color\":\"#FFFFFF\"},\"showarrow\":false,\"text\":\"0.02\",\"x\":\"val\",\"xref\":\"x\",\"y\":\"live\",\"yref\":\"y\"},{\"font\":{\"color\":\"#FFFFFF\"},\"showarrow\":false,\"text\":\"0.1\",\"x\":\"dur\",\"xref\":\"x\",\"y\":\"live\",\"yref\":\"y\"},{\"font\":{\"color\":\"#FFFFFF\"},\"showarrow\":false,\"text\":\"-0.1\",\"x\":\"acous\",\"xref\":\"x\",\"y\":\"live\",\"yref\":\"y\"},{\"font\":{\"color\":\"#FFFFFF\"},\"showarrow\":false,\"text\":\"0.14\",\"x\":\"spch\",\"xref\":\"x\",\"y\":\"live\",\"yref\":\"y\"},{\"font\":{\"color\":\"#FFFFFF\"},\"showarrow\":false,\"text\":\"-0.08\",\"x\":\"pop\",\"xref\":\"x\",\"y\":\"live\",\"yref\":\"y\"},{\"font\":{\"color\":\"#FFFFFF\"},\"showarrow\":false,\"text\":\"-0.12\",\"x\":\"year\",\"xref\":\"x\",\"y\":\"val\",\"yref\":\"y\"},{\"font\":{\"color\":\"#FFFFFF\"},\"showarrow\":false,\"text\":\"0.02\",\"x\":\"bpm\",\"xref\":\"x\",\"y\":\"val\",\"yref\":\"y\"},{\"font\":{\"color\":\"#000000\"},\"showarrow\":false,\"text\":\"0.41\",\"x\":\"nrgy\",\"xref\":\"x\",\"y\":\"val\",\"yref\":\"y\"},{\"font\":{\"color\":\"#000000\"},\"showarrow\":false,\"text\":\"0.5\",\"x\":\"dnce\",\"xref\":\"x\",\"y\":\"val\",\"yref\":\"y\"},{\"font\":{\"color\":\"#000000\"},\"showarrow\":false,\"text\":\"0.28\",\"x\":\"dB\",\"xref\":\"x\",\"y\":\"val\",\"yref\":\"y\"},{\"font\":{\"color\":\"#FFFFFF\"},\"showarrow\":false,\"text\":\"0.02\",\"x\":\"live\",\"xref\":\"x\",\"y\":\"val\",\"yref\":\"y\"},{\"font\":{\"color\":\"#000000\"},\"showarrow\":false,\"text\":\"1.0\",\"x\":\"val\",\"xref\":\"x\",\"y\":\"val\",\"yref\":\"y\"},{\"font\":{\"color\":\"#FFFFFF\"},\"showarrow\":false,\"text\":\"-0.26\",\"x\":\"dur\",\"xref\":\"x\",\"y\":\"val\",\"yref\":\"y\"},{\"font\":{\"color\":\"#FFFFFF\"},\"showarrow\":false,\"text\":\"-0.25\",\"x\":\"acous\",\"xref\":\"x\",\"y\":\"val\",\"yref\":\"y\"},{\"font\":{\"color\":\"#FFFFFF\"},\"showarrow\":false,\"text\":\"0.12\",\"x\":\"spch\",\"xref\":\"x\",\"y\":\"val\",\"yref\":\"y\"},{\"font\":{\"color\":\"#FFFFFF\"},\"showarrow\":false,\"text\":\"0.04\",\"x\":\"pop\",\"xref\":\"x\",\"y\":\"val\",\"yref\":\"y\"},{\"font\":{\"color\":\"#FFFFFF\"},\"showarrow\":false,\"text\":\"-0.22\",\"x\":\"year\",\"xref\":\"x\",\"y\":\"dur\",\"yref\":\"y\"},{\"font\":{\"color\":\"#FFFFFF\"},\"showarrow\":false,\"text\":\"-0.03\",\"x\":\"bpm\",\"xref\":\"x\",\"y\":\"dur\",\"yref\":\"y\"},{\"font\":{\"color\":\"#FFFFFF\"},\"showarrow\":false,\"text\":\"-0.14\",\"x\":\"nrgy\",\"xref\":\"x\",\"y\":\"dur\",\"yref\":\"y\"},{\"font\":{\"color\":\"#FFFFFF\"},\"showarrow\":false,\"text\":\"-0.18\",\"x\":\"dnce\",\"xref\":\"x\",\"y\":\"dur\",\"yref\":\"y\"},{\"font\":{\"color\":\"#FFFFFF\"},\"showarrow\":false,\"text\":\"-0.1\",\"x\":\"dB\",\"xref\":\"x\",\"y\":\"dur\",\"yref\":\"y\"},{\"font\":{\"color\":\"#FFFFFF\"},\"showarrow\":false,\"text\":\"0.1\",\"x\":\"live\",\"xref\":\"x\",\"y\":\"dur\",\"yref\":\"y\"},{\"font\":{\"color\":\"#FFFFFF\"},\"showarrow\":false,\"text\":\"-0.26\",\"x\":\"val\",\"xref\":\"x\",\"y\":\"dur\",\"yref\":\"y\"},{\"font\":{\"color\":\"#000000\"},\"showarrow\":false,\"text\":\"1.0\",\"x\":\"dur\",\"xref\":\"x\",\"y\":\"dur\",\"yref\":\"y\"},{\"font\":{\"color\":\"#FFFFFF\"},\"showarrow\":false,\"text\":\"0.09\",\"x\":\"acous\",\"xref\":\"x\",\"y\":\"dur\",\"yref\":\"y\"},{\"font\":{\"color\":\"#FFFFFF\"},\"showarrow\":false,\"text\":\"0.05\",\"x\":\"spch\",\"xref\":\"x\",\"y\":\"dur\",\"yref\":\"y\"},{\"font\":{\"color\":\"#FFFFFF\"},\"showarrow\":false,\"text\":\"-0.1\",\"x\":\"pop\",\"xref\":\"x\",\"y\":\"dur\",\"yref\":\"y\"},{\"font\":{\"color\":\"#FFFFFF\"},\"showarrow\":false,\"text\":\"0.1\",\"x\":\"year\",\"xref\":\"x\",\"y\":\"acous\",\"yref\":\"y\"},{\"font\":{\"color\":\"#FFFFFF\"},\"showarrow\":false,\"text\":\"-0.11\",\"x\":\"bpm\",\"xref\":\"x\",\"y\":\"acous\",\"yref\":\"y\"},{\"font\":{\"color\":\"#FFFFFF\"},\"showarrow\":false,\"text\":\"-0.56\",\"x\":\"nrgy\",\"xref\":\"x\",\"y\":\"acous\",\"yref\":\"y\"},{\"font\":{\"color\":\"#FFFFFF\"},\"showarrow\":false,\"text\":\"-0.24\",\"x\":\"dnce\",\"xref\":\"x\",\"y\":\"acous\",\"yref\":\"y\"},{\"font\":{\"color\":\"#FFFFFF\"},\"showarrow\":false,\"text\":\"-0.19\",\"x\":\"dB\",\"xref\":\"x\",\"y\":\"acous\",\"yref\":\"y\"},{\"font\":{\"color\":\"#FFFFFF\"},\"showarrow\":false,\"text\":\"-0.1\",\"x\":\"live\",\"xref\":\"x\",\"y\":\"acous\",\"yref\":\"y\"},{\"font\":{\"color\":\"#FFFFFF\"},\"showarrow\":false,\"text\":\"-0.25\",\"x\":\"val\",\"xref\":\"x\",\"y\":\"acous\",\"yref\":\"y\"},{\"font\":{\"color\":\"#FFFFFF\"},\"showarrow\":false,\"text\":\"0.09\",\"x\":\"dur\",\"xref\":\"x\",\"y\":\"acous\",\"yref\":\"y\"},{\"font\":{\"color\":\"#000000\"},\"showarrow\":false,\"text\":\"1.0\",\"x\":\"acous\",\"xref\":\"x\",\"y\":\"acous\",\"yref\":\"y\"},{\"font\":{\"color\":\"#FFFFFF\"},\"showarrow\":false,\"text\":\"0.0\",\"x\":\"spch\",\"xref\":\"x\",\"y\":\"acous\",\"yref\":\"y\"},{\"font\":{\"color\":\"#FFFFFF\"},\"showarrow\":false,\"text\":\"0.03\",\"x\":\"pop\",\"xref\":\"x\",\"y\":\"acous\",\"yref\":\"y\"},{\"font\":{\"color\":\"#FFFFFF\"},\"showarrow\":false,\"text\":\"0.0\",\"x\":\"year\",\"xref\":\"x\",\"y\":\"spch\",\"yref\":\"y\"},{\"font\":{\"color\":\"#FFFFFF\"},\"showarrow\":false,\"text\":\"0.06\",\"x\":\"bpm\",\"xref\":\"x\",\"y\":\"spch\",\"yref\":\"y\"},{\"font\":{\"color\":\"#FFFFFF\"},\"showarrow\":false,\"text\":\"0.11\",\"x\":\"nrgy\",\"xref\":\"x\",\"y\":\"spch\",\"yref\":\"y\"},{\"font\":{\"color\":\"#FFFFFF\"},\"showarrow\":false,\"text\":\"-0.03\",\"x\":\"dnce\",\"xref\":\"x\",\"y\":\"spch\",\"yref\":\"y\"},{\"font\":{\"color\":\"#FFFFFF\"},\"showarrow\":false,\"text\":\"-0.0\",\"x\":\"dB\",\"xref\":\"x\",\"y\":\"spch\",\"yref\":\"y\"},{\"font\":{\"color\":\"#FFFFFF\"},\"showarrow\":false,\"text\":\"0.14\",\"x\":\"live\",\"xref\":\"x\",\"y\":\"spch\",\"yref\":\"y\"},{\"font\":{\"color\":\"#FFFFFF\"},\"showarrow\":false,\"text\":\"0.12\",\"x\":\"val\",\"xref\":\"x\",\"y\":\"spch\",\"yref\":\"y\"},{\"font\":{\"color\":\"#FFFFFF\"},\"showarrow\":false,\"text\":\"0.05\",\"x\":\"dur\",\"xref\":\"x\",\"y\":\"spch\",\"yref\":\"y\"},{\"font\":{\"color\":\"#FFFFFF\"},\"showarrow\":false,\"text\":\"0.0\",\"x\":\"acous\",\"xref\":\"x\",\"y\":\"spch\",\"yref\":\"y\"},{\"font\":{\"color\":\"#000000\"},\"showarrow\":false,\"text\":\"1.0\",\"x\":\"spch\",\"xref\":\"x\",\"y\":\"spch\",\"yref\":\"y\"},{\"font\":{\"color\":\"#FFFFFF\"},\"showarrow\":false,\"text\":\"-0.04\",\"x\":\"pop\",\"xref\":\"x\",\"y\":\"spch\",\"yref\":\"y\"},{\"font\":{\"color\":\"#000000\"},\"showarrow\":false,\"text\":\"0.24\",\"x\":\"year\",\"xref\":\"x\",\"y\":\"pop\",\"yref\":\"y\"},{\"font\":{\"color\":\"#FFFFFF\"},\"showarrow\":false,\"text\":\"0.02\",\"x\":\"bpm\",\"xref\":\"x\",\"y\":\"pop\",\"yref\":\"y\"},{\"font\":{\"color\":\"#FFFFFF\"},\"showarrow\":false,\"text\":\"-0.06\",\"x\":\"nrgy\",\"xref\":\"x\",\"y\":\"pop\",\"yref\":\"y\"},{\"font\":{\"color\":\"#FFFFFF\"},\"showarrow\":false,\"text\":\"0.12\",\"x\":\"dnce\",\"xref\":\"x\",\"y\":\"pop\",\"yref\":\"y\"},{\"font\":{\"color\":\"#FFFFFF\"},\"showarrow\":false,\"text\":\"0.16\",\"x\":\"dB\",\"xref\":\"x\",\"y\":\"pop\",\"yref\":\"y\"},{\"font\":{\"color\":\"#FFFFFF\"},\"showarrow\":false,\"text\":\"-0.08\",\"x\":\"live\",\"xref\":\"x\",\"y\":\"pop\",\"yref\":\"y\"},{\"font\":{\"color\":\"#FFFFFF\"},\"showarrow\":false,\"text\":\"0.04\",\"x\":\"val\",\"xref\":\"x\",\"y\":\"pop\",\"yref\":\"y\"},{\"font\":{\"color\":\"#FFFFFF\"},\"showarrow\":false,\"text\":\"-0.1\",\"x\":\"dur\",\"xref\":\"x\",\"y\":\"pop\",\"yref\":\"y\"},{\"font\":{\"color\":\"#FFFFFF\"},\"showarrow\":false,\"text\":\"0.03\",\"x\":\"acous\",\"xref\":\"x\",\"y\":\"pop\",\"yref\":\"y\"},{\"font\":{\"color\":\"#FFFFFF\"},\"showarrow\":false,\"text\":\"-0.04\",\"x\":\"spch\",\"xref\":\"x\",\"y\":\"pop\",\"yref\":\"y\"},{\"font\":{\"color\":\"#000000\"},\"showarrow\":false,\"text\":\"1.0\",\"x\":\"pop\",\"xref\":\"x\",\"y\":\"pop\",\"yref\":\"y\"}],\"xaxis\":{\"dtick\":1,\"gridcolor\":\"rgb(0, 0, 0)\",\"side\":\"top\",\"ticks\":\"\",\"title\":{\"text\":\"Variable\"}},\"yaxis\":{\"dtick\":1,\"ticks\":\"\",\"ticksuffix\":\"  \",\"title\":{\"text\":\"Variable\"}},\"template\":{\"data\":{\"histogram2dcontour\":[{\"type\":\"histogram2dcontour\",\"colorbar\":{\"outlinewidth\":0,\"ticks\":\"\"},\"colorscale\":[[0.0,\"#0d0887\"],[0.1111111111111111,\"#46039f\"],[0.2222222222222222,\"#7201a8\"],[0.3333333333333333,\"#9c179e\"],[0.4444444444444444,\"#bd3786\"],[0.5555555555555556,\"#d8576b\"],[0.6666666666666666,\"#ed7953\"],[0.7777777777777778,\"#fb9f3a\"],[0.8888888888888888,\"#fdca26\"],[1.0,\"#f0f921\"]]}],\"choropleth\":[{\"type\":\"choropleth\",\"colorbar\":{\"outlinewidth\":0,\"ticks\":\"\"}}],\"histogram2d\":[{\"type\":\"histogram2d\",\"colorbar\":{\"outlinewidth\":0,\"ticks\":\"\"},\"colorscale\":[[0.0,\"#0d0887\"],[0.1111111111111111,\"#46039f\"],[0.2222222222222222,\"#7201a8\"],[0.3333333333333333,\"#9c179e\"],[0.4444444444444444,\"#bd3786\"],[0.5555555555555556,\"#d8576b\"],[0.6666666666666666,\"#ed7953\"],[0.7777777777777778,\"#fb9f3a\"],[0.8888888888888888,\"#fdca26\"],[1.0,\"#f0f921\"]]}],\"heatmap\":[{\"type\":\"heatmap\",\"colorbar\":{\"outlinewidth\":0,\"ticks\":\"\"},\"colorscale\":[[0.0,\"#0d0887\"],[0.1111111111111111,\"#46039f\"],[0.2222222222222222,\"#7201a8\"],[0.3333333333333333,\"#9c179e\"],[0.4444444444444444,\"#bd3786\"],[0.5555555555555556,\"#d8576b\"],[0.6666666666666666,\"#ed7953\"],[0.7777777777777778,\"#fb9f3a\"],[0.8888888888888888,\"#fdca26\"],[1.0,\"#f0f921\"]]}],\"heatmapgl\":[{\"type\":\"heatmapgl\",\"colorbar\":{\"outlinewidth\":0,\"ticks\":\"\"},\"colorscale\":[[0.0,\"#0d0887\"],[0.1111111111111111,\"#46039f\"],[0.2222222222222222,\"#7201a8\"],[0.3333333333333333,\"#9c179e\"],[0.4444444444444444,\"#bd3786\"],[0.5555555555555556,\"#d8576b\"],[0.6666666666666666,\"#ed7953\"],[0.7777777777777778,\"#fb9f3a\"],[0.8888888888888888,\"#fdca26\"],[1.0,\"#f0f921\"]]}],\"contourcarpet\":[{\"type\":\"contourcarpet\",\"colorbar\":{\"outlinewidth\":0,\"ticks\":\"\"}}],\"contour\":[{\"type\":\"contour\",\"colorbar\":{\"outlinewidth\":0,\"ticks\":\"\"},\"colorscale\":[[0.0,\"#0d0887\"],[0.1111111111111111,\"#46039f\"],[0.2222222222222222,\"#7201a8\"],[0.3333333333333333,\"#9c179e\"],[0.4444444444444444,\"#bd3786\"],[0.5555555555555556,\"#d8576b\"],[0.6666666666666666,\"#ed7953\"],[0.7777777777777778,\"#fb9f3a\"],[0.8888888888888888,\"#fdca26\"],[1.0,\"#f0f921\"]]}],\"surface\":[{\"type\":\"surface\",\"colorbar\":{\"outlinewidth\":0,\"ticks\":\"\"},\"colorscale\":[[0.0,\"#0d0887\"],[0.1111111111111111,\"#46039f\"],[0.2222222222222222,\"#7201a8\"],[0.3333333333333333,\"#9c179e\"],[0.4444444444444444,\"#bd3786\"],[0.5555555555555556,\"#d8576b\"],[0.6666666666666666,\"#ed7953\"],[0.7777777777777778,\"#fb9f3a\"],[0.8888888888888888,\"#fdca26\"],[1.0,\"#f0f921\"]]}],\"mesh3d\":[{\"type\":\"mesh3d\",\"colorbar\":{\"outlinewidth\":0,\"ticks\":\"\"}}],\"scatter\":[{\"fillpattern\":{\"fillmode\":\"overlay\",\"size\":10,\"solidity\":0.2},\"type\":\"scatter\"}],\"parcoords\":[{\"type\":\"parcoords\",\"line\":{\"colorbar\":{\"outlinewidth\":0,\"ticks\":\"\"}}}],\"scatterpolargl\":[{\"type\":\"scatterpolargl\",\"marker\":{\"colorbar\":{\"outlinewidth\":0,\"ticks\":\"\"}}}],\"bar\":[{\"error_x\":{\"color\":\"#2a3f5f\"},\"error_y\":{\"color\":\"#2a3f5f\"},\"marker\":{\"line\":{\"color\":\"#E5ECF6\",\"width\":0.5},\"pattern\":{\"fillmode\":\"overlay\",\"size\":10,\"solidity\":0.2}},\"type\":\"bar\"}],\"scattergeo\":[{\"type\":\"scattergeo\",\"marker\":{\"colorbar\":{\"outlinewidth\":0,\"ticks\":\"\"}}}],\"scatterpolar\":[{\"type\":\"scatterpolar\",\"marker\":{\"colorbar\":{\"outlinewidth\":0,\"ticks\":\"\"}}}],\"histogram\":[{\"marker\":{\"pattern\":{\"fillmode\":\"overlay\",\"size\":10,\"solidity\":0.2}},\"type\":\"histogram\"}],\"scattergl\":[{\"type\":\"scattergl\",\"marker\":{\"colorbar\":{\"outlinewidth\":0,\"ticks\":\"\"}}}],\"scatter3d\":[{\"type\":\"scatter3d\",\"line\":{\"colorbar\":{\"outlinewidth\":0,\"ticks\":\"\"}},\"marker\":{\"colorbar\":{\"outlinewidth\":0,\"ticks\":\"\"}}}],\"scattermapbox\":[{\"type\":\"scattermapbox\",\"marker\":{\"colorbar\":{\"outlinewidth\":0,\"ticks\":\"\"}}}],\"scatterternary\":[{\"type\":\"scatterternary\",\"marker\":{\"colorbar\":{\"outlinewidth\":0,\"ticks\":\"\"}}}],\"scattercarpet\":[{\"type\":\"scattercarpet\",\"marker\":{\"colorbar\":{\"outlinewidth\":0,\"ticks\":\"\"}}}],\"carpet\":[{\"aaxis\":{\"endlinecolor\":\"#2a3f5f\",\"gridcolor\":\"white\",\"linecolor\":\"white\",\"minorgridcolor\":\"white\",\"startlinecolor\":\"#2a3f5f\"},\"baxis\":{\"endlinecolor\":\"#2a3f5f\",\"gridcolor\":\"white\",\"linecolor\":\"white\",\"minorgridcolor\":\"white\",\"startlinecolor\":\"#2a3f5f\"},\"type\":\"carpet\"}],\"table\":[{\"cells\":{\"fill\":{\"color\":\"#EBF0F8\"},\"line\":{\"color\":\"white\"}},\"header\":{\"fill\":{\"color\":\"#C8D4E3\"},\"line\":{\"color\":\"white\"}},\"type\":\"table\"}],\"barpolar\":[{\"marker\":{\"line\":{\"color\":\"#E5ECF6\",\"width\":0.5},\"pattern\":{\"fillmode\":\"overlay\",\"size\":10,\"solidity\":0.2}},\"type\":\"barpolar\"}],\"pie\":[{\"automargin\":true,\"type\":\"pie\"}]},\"layout\":{\"autotypenumbers\":\"strict\",\"colorway\":[\"#636efa\",\"#EF553B\",\"#00cc96\",\"#ab63fa\",\"#FFA15A\",\"#19d3f3\",\"#FF6692\",\"#B6E880\",\"#FF97FF\",\"#FECB52\"],\"font\":{\"color\":\"#2a3f5f\"},\"hovermode\":\"closest\",\"hoverlabel\":{\"align\":\"left\"},\"paper_bgcolor\":\"white\",\"plot_bgcolor\":\"#E5ECF6\",\"polar\":{\"bgcolor\":\"#E5ECF6\",\"angularaxis\":{\"gridcolor\":\"white\",\"linecolor\":\"white\",\"ticks\":\"\"},\"radialaxis\":{\"gridcolor\":\"white\",\"linecolor\":\"white\",\"ticks\":\"\"}},\"ternary\":{\"bgcolor\":\"#E5ECF6\",\"aaxis\":{\"gridcolor\":\"white\",\"linecolor\":\"white\",\"ticks\":\"\"},\"baxis\":{\"gridcolor\":\"white\",\"linecolor\":\"white\",\"ticks\":\"\"},\"caxis\":{\"gridcolor\":\"white\",\"linecolor\":\"white\",\"ticks\":\"\"}},\"coloraxis\":{\"colorbar\":{\"outlinewidth\":0,\"ticks\":\"\"}},\"colorscale\":{\"sequential\":[[0.0,\"#0d0887\"],[0.1111111111111111,\"#46039f\"],[0.2222222222222222,\"#7201a8\"],[0.3333333333333333,\"#9c179e\"],[0.4444444444444444,\"#bd3786\"],[0.5555555555555556,\"#d8576b\"],[0.6666666666666666,\"#ed7953\"],[0.7777777777777778,\"#fb9f3a\"],[0.8888888888888888,\"#fdca26\"],[1.0,\"#f0f921\"]],\"sequentialminus\":[[0.0,\"#0d0887\"],[0.1111111111111111,\"#46039f\"],[0.2222222222222222,\"#7201a8\"],[0.3333333333333333,\"#9c179e\"],[0.4444444444444444,\"#bd3786\"],[0.5555555555555556,\"#d8576b\"],[0.6666666666666666,\"#ed7953\"],[0.7777777777777778,\"#fb9f3a\"],[0.8888888888888888,\"#fdca26\"],[1.0,\"#f0f921\"]],\"diverging\":[[0,\"#8e0152\"],[0.1,\"#c51b7d\"],[0.2,\"#de77ae\"],[0.3,\"#f1b6da\"],[0.4,\"#fde0ef\"],[0.5,\"#f7f7f7\"],[0.6,\"#e6f5d0\"],[0.7,\"#b8e186\"],[0.8,\"#7fbc41\"],[0.9,\"#4d9221\"],[1,\"#276419\"]]},\"xaxis\":{\"gridcolor\":\"white\",\"linecolor\":\"white\",\"ticks\":\"\",\"title\":{\"standoff\":15},\"zerolinecolor\":\"white\",\"automargin\":true,\"zerolinewidth\":2},\"yaxis\":{\"gridcolor\":\"white\",\"linecolor\":\"white\",\"ticks\":\"\",\"title\":{\"standoff\":15},\"zerolinecolor\":\"white\",\"automargin\":true,\"zerolinewidth\":2},\"scene\":{\"xaxis\":{\"backgroundcolor\":\"#E5ECF6\",\"gridcolor\":\"white\",\"linecolor\":\"white\",\"showbackground\":true,\"ticks\":\"\",\"zerolinecolor\":\"white\",\"gridwidth\":2},\"yaxis\":{\"backgroundcolor\":\"#E5ECF6\",\"gridcolor\":\"white\",\"linecolor\":\"white\",\"showbackground\":true,\"ticks\":\"\",\"zerolinecolor\":\"white\",\"gridwidth\":2},\"zaxis\":{\"backgroundcolor\":\"#E5ECF6\",\"gridcolor\":\"white\",\"linecolor\":\"white\",\"showbackground\":true,\"ticks\":\"\",\"zerolinecolor\":\"white\",\"gridwidth\":2}},\"shapedefaults\":{\"line\":{\"color\":\"#2a3f5f\"}},\"annotationdefaults\":{\"arrowcolor\":\"#2a3f5f\",\"arrowhead\":0,\"arrowwidth\":1},\"geo\":{\"bgcolor\":\"white\",\"landcolor\":\"#E5ECF6\",\"subunitcolor\":\"white\",\"showland\":true,\"showlakes\":true,\"lakecolor\":\"white\"},\"title\":{\"x\":0.05},\"mapbox\":{\"style\":\"light\"}}},\"title\":{\"text\":\"Correlation Heatmap\"}},                        {\"responsive\": true}                    ).then(function(){\n",
       "                            \n",
       "var gd = document.getElementById('11f531f0-6646-40be-bef1-b644b5d6ac85');\n",
       "var x = new MutationObserver(function (mutations, observer) {{\n",
       "        var display = window.getComputedStyle(gd).display;\n",
       "        if (!display || display === 'none') {{\n",
       "            console.log([gd, 'removed!']);\n",
       "            Plotly.purge(gd);\n",
       "            observer.disconnect();\n",
       "        }}\n",
       "}});\n",
       "\n",
       "// Listen for the removal of the full notebook cells\n",
       "var notebookContainer = gd.closest('#notebook-container');\n",
       "if (notebookContainer) {{\n",
       "    x.observe(notebookContainer, {childList: true});\n",
       "}}\n",
       "\n",
       "// Listen for the clearing of the current output cell\n",
       "var outputEl = gd.closest('.output');\n",
       "if (outputEl) {{\n",
       "    x.observe(outputEl, {childList: true});\n",
       "}}\n",
       "\n",
       "                        })                };                });            </script>        </div>"
      ]
     },
     "metadata": {},
     "output_type": "display_data"
    }
   ],
   "source": [
    "# Load the data\n",
    "df = pd.read_csv(\"spotify_top_music.csv\")\n",
    "\n",
    "# Calculate correlation matrix\n",
    "corr_matrix = df.corr(numeric_only=True)\n",
    "\n",
    "# Generate a heatmap\n",
    "heatmap = ff.create_annotated_heatmap(z=corr_matrix.values, x=list(corr_matrix.columns), y=list(corr_matrix.index), \n",
    "                                      annotation_text=corr_matrix.round(2).values, colorscale='Viridis')\n",
    "\n",
    "heatmap.update_layout(title='Correlation Heatmap', xaxis_title='Variable', yaxis_title='Variable')\n",
    "heatmap.show()\n"
   ]
  },
  {
   "cell_type": "markdown",
   "id": "97f7954d",
   "metadata": {},
   "source": [
    "We can spot some high correlations between:\n",
    "\n",
    "- loudness (db) and energy (nrgy) - positive correlation\n",
    "- valence (val) and energy (nrgy) - positive correlation\n",
    "- valence (val) and danceability (dnce) - positive correlation\n",
    "- acousticness (acous) and energy (nrgy) - negative correlation"
   ]
  },
  {
   "cell_type": "code",
   "execution_count": 30,
   "id": "c4c10d94",
   "metadata": {},
   "outputs": [
    {
     "data": {
      "application/vnd.plotly.v1+json": {
       "config": {
        "plotlyServerURL": "https://plot.ly"
       },
       "data": [
        {
         "hovertemplate": "val=%{x}<br>nrgy=%{y}<extra></extra>",
         "legendgroup": "",
         "marker": {
          "color": "#636efa",
          "symbol": "circle"
         },
         "mode": "markers",
         "name": "",
         "orientation": "v",
         "showlegend": false,
         "type": "scatter",
         "x": [
          80,
          64,
          71,
          71,
          43,
          54,
          82,
          38,
          14,
          61,
          47,
          48,
          63,
          71,
          78,
          33,
          83,
          44,
          37,
          76,
          40,
          45,
          74,
          73,
          65,
          74,
          88,
          73,
          59,
          40,
          79,
          83,
          52,
          41,
          55,
          80,
          7,
          79,
          84,
          26,
          72,
          10,
          16,
          85,
          7,
          54,
          57,
          65,
          58,
          63,
          45,
          16,
          28,
          53,
          43,
          52,
          76,
          62,
          65,
          23,
          81,
          88,
          49,
          10,
          48,
          30,
          35,
          65,
          68,
          65,
          26,
          57,
          58,
          70,
          40,
          80,
          36,
          76,
          45,
          79,
          81,
          52,
          53,
          32,
          66,
          60,
          38,
          26,
          39,
          70,
          89,
          73,
          89,
          57,
          9,
          58,
          19,
          59,
          56,
          69,
          37,
          72,
          65,
          53,
          30,
          87,
          20,
          55,
          89,
          68,
          66,
          92,
          47,
          75,
          68,
          55,
          75,
          62,
          68,
          45,
          53,
          65,
          39,
          33,
          77,
          78,
          44,
          57,
          88,
          71,
          64,
          78,
          74,
          39,
          95,
          86,
          80,
          48,
          75,
          69,
          64,
          29,
          44,
          63,
          46,
          48,
          44,
          86,
          35,
          30,
          84,
          50,
          75,
          80,
          18,
          11,
          51,
          73,
          29,
          49,
          91,
          58,
          67,
          85,
          76,
          88,
          54,
          23,
          25,
          66,
          16,
          86,
          36,
          40,
          82,
          68,
          37,
          40,
          52,
          77,
          43,
          67,
          58,
          65,
          35,
          59,
          23,
          34,
          49,
          58,
          65,
          56,
          11,
          28,
          33,
          73,
          38,
          66,
          90,
          45,
          51,
          50,
          73,
          61,
          79,
          45,
          58,
          7,
          66,
          45,
          33,
          18,
          74,
          96,
          93,
          94,
          35,
          46,
          88,
          94,
          24,
          63,
          57,
          42,
          21,
          52,
          20,
          71,
          33,
          44,
          38,
          76,
          64,
          25,
          50,
          72,
          74,
          80,
          98,
          52,
          66,
          17,
          84,
          57,
          46,
          25,
          22,
          82,
          4,
          9,
          16,
          90,
          62,
          21,
          55,
          23,
          40,
          65,
          64,
          61,
          56,
          19,
          56,
          39,
          57,
          53,
          59,
          46,
          59,
          49,
          14,
          52,
          93,
          44,
          88,
          41,
          35,
          28,
          44,
          79,
          76,
          66,
          74,
          45,
          37,
          34,
          28,
          24,
          33,
          35,
          59,
          28,
          85,
          50,
          55,
          29,
          83,
          56,
          62,
          53,
          91,
          43,
          94,
          45,
          85,
          71,
          31,
          48,
          64,
          64,
          8,
          44,
          37,
          95,
          8,
          33,
          34,
          79,
          65,
          21,
          60,
          74,
          88,
          79,
          96,
          74,
          85,
          29,
          40,
          76,
          52,
          48,
          48,
          73,
          60,
          44,
          64,
          86,
          78,
          28,
          35,
          4,
          40,
          9,
          59,
          27,
          39,
          26,
          66,
          52,
          93,
          8,
          9,
          28,
          72,
          79,
          83,
          39,
          54,
          8,
          88,
          65,
          27,
          14,
          52,
          90,
          42,
          17,
          37,
          47,
          15,
          30,
          34,
          70,
          59,
          45,
          42,
          56,
          76,
          38,
          69,
          29,
          51,
          80,
          52,
          34,
          39,
          34,
          50,
          84,
          75,
          82,
          40,
          82,
          30,
          25,
          43,
          47,
          34,
          50,
          65,
          40,
          20,
          8,
          33,
          66,
          43,
          34,
          44,
          35,
          26,
          27,
          23,
          73,
          32,
          25,
          32,
          56,
          56,
          64,
          27,
          72,
          12,
          18,
          20,
          58,
          53,
          49,
          80,
          64,
          73,
          26,
          32,
          44,
          16,
          52,
          14,
          40,
          45,
          83,
          69,
          69,
          0,
          93,
          66,
          49,
          75,
          86,
          16,
          59,
          36,
          61,
          54,
          52,
          34,
          51,
          74,
          9,
          54,
          81,
          32,
          82,
          73,
          13,
          25,
          60,
          57,
          51,
          57,
          47,
          41,
          23,
          62,
          34,
          68,
          52,
          16,
          46,
          47,
          49,
          72,
          63,
          55,
          65,
          58,
          52,
          14,
          54,
          86,
          85,
          33,
          86,
          53,
          13,
          53,
          67,
          21,
          59,
          65,
          27,
          63,
          33,
          84,
          78,
          47,
          21,
          81,
          25,
          59,
          39,
          65,
          61,
          97,
          35,
          51,
          49,
          31,
          10,
          80,
          51,
          38,
          74,
          29,
          89,
          28,
          55,
          42,
          93,
          36,
          61,
          19,
          62,
          63,
          48,
          46,
          45,
          50,
          51,
          32,
          73,
          32,
          37,
          48,
          21,
          91,
          19,
          68,
          74,
          68,
          15,
          47,
          20,
          18,
          32,
          41,
          45,
          19,
          86,
          53,
          62,
          20,
          42,
          90,
          45,
          65,
          25,
          42,
          23,
          58,
          50,
          27,
          76,
          57,
          9,
          45,
          75,
          35,
          67,
          50,
          67,
          41,
          48,
          40,
          87,
          55,
          95,
          23,
          84,
          35,
          61,
          35,
          52,
          45,
          52,
          14,
          91,
          62,
          61,
          16,
          61,
          65,
          24,
          23
         ],
         "xaxis": "x",
         "y": [
          89,
          93,
          84,
          92,
          84,
          86,
          78,
          76,
          37,
          72,
          87,
          83,
          82,
          83,
          84,
          75,
          61,
          81,
          80,
          61,
          63,
          68,
          68,
          81,
          95,
          83,
          90,
          94,
          80,
          75,
          71,
          89,
          84,
          52,
          82,
          63,
          41,
          91,
          91,
          81,
          85,
          41,
          75,
          87,
          39,
          81,
          95,
          86,
          86,
          90,
          98,
          41,
          33,
          94,
          84,
          76,
          90,
          76,
          75,
          56,
          78,
          93,
          83,
          69,
          83,
          65,
          74,
          82,
          83,
          69,
          63,
          78,
          79,
          88,
          61,
          86,
          77,
          87,
          71,
          55,
          73,
          70,
          93,
          89,
          88,
          77,
          88,
          38,
          72,
          75,
          81,
          91,
          81,
          95,
          35,
          86,
          38,
          74,
          64,
          88,
          88,
          81,
          83,
          72,
          79,
          70,
          59,
          75,
          79,
          47,
          58,
          68,
          68,
          68,
          94,
          63,
          72,
          82,
          87,
          85,
          84,
          86,
          74,
          55,
          92,
          55,
          85,
          68,
          80,
          86,
          84,
          80,
          64,
          71,
          96,
          72,
          80,
          84,
          92,
          81,
          78,
          66,
          55,
          87,
          77,
          62,
          84,
          81,
          42,
          70,
          60,
          79,
          68,
          70,
          78,
          81,
          92,
          92,
          41,
          88,
          93,
          93,
          66,
          82,
          84,
          93,
          76,
          52,
          68,
          53,
          75,
          88,
          60,
          61,
          91,
          87,
          67,
          78,
          62,
          74,
          82,
          96,
          52,
          60,
          80,
          86,
          23,
          81,
          68,
          79,
          73,
          94,
          45,
          78,
          66,
          78,
          78,
          88,
          98,
          76,
          95,
          75,
          57,
          79,
          70,
          74,
          83,
          34,
          84,
          78,
          26,
          42,
          86,
          82,
          76,
          80,
          59,
          78,
          71,
          69,
          54,
          81,
          72,
          58,
          89,
          73,
          66,
          72,
          78,
          95,
          72,
          65,
          54,
          49,
          75,
          62,
          93,
          64,
          92,
          62,
          92,
          44,
          67,
          92,
          74,
          66,
          71,
          81,
          77,
          15,
          68,
          80,
          78,
          79,
          94,
          14,
          62,
          60,
          81,
          82,
          34,
          35,
          58,
          50,
          82,
          54,
          73,
          73,
          45,
          49,
          56,
          38,
          61,
          66,
          79,
          76,
          27,
          61,
          38,
          57,
          75,
          68,
          70,
          51,
          52,
          87,
          73,
          71,
          74,
          86,
          77,
          70,
          61,
          79,
          59,
          45,
          78,
          71,
          79,
          73,
          80,
          80,
          67,
          71,
          73,
          61,
          89,
          80,
          85,
          70,
          85,
          59,
          85,
          83,
          61,
          82,
          85,
          94,
          94,
          81,
          81,
          87,
          79,
          88,
          88,
          71,
          67,
          67,
          95,
          36,
          26,
          75,
          75,
          75,
          70,
          76,
          82,
          78,
          89,
          48,
          75,
          60,
          82,
          55,
          87,
          59,
          79,
          55,
          82,
          76,
          85,
          67,
          43,
          78,
          80,
          88,
          78,
          84,
          80,
          37,
          90,
          53,
          39,
          56,
          38,
          75,
          87,
          52,
          73,
          93,
          42,
          31,
          47,
          83,
          59,
          74,
          53,
          53,
          75,
          67,
          71,
          60,
          62,
          75,
          80,
          75,
          65,
          80,
          80,
          69,
          88,
          68,
          62,
          79,
          59,
          67,
          80,
          50,
          28,
          70,
          80,
          88,
          69,
          85,
          82,
          86,
          70,
          84,
          64,
          69,
          74,
          34,
          83,
          80,
          89,
          72,
          88,
          52,
          82,
          78,
          59,
          77,
          57,
          64,
          54,
          70,
          78,
          79,
          71,
          78,
          95,
          4,
          75,
          87,
          65,
          69,
          17,
          76,
          70,
          71,
          81,
          47,
          0,
          65,
          52,
          59,
          82,
          56,
          72,
          82,
          66,
          74,
          62,
          53,
          78,
          65,
          76,
          45,
          91,
          67,
          39,
          82,
          73,
          64,
          64,
          62,
          79,
          80,
          71,
          80,
          72,
          37,
          91,
          28,
          59,
          51,
          54,
          72,
          87,
          88,
          87,
          80,
          50,
          91,
          81,
          79,
          57,
          93,
          74,
          42,
          87,
          69,
          64,
          53,
          75,
          82,
          50,
          76,
          90,
          67,
          83,
          59,
          53,
          81,
          84,
          46,
          77,
          88,
          86,
          52,
          73,
          70,
          81,
          71,
          54,
          71,
          80,
          44,
          61,
          67,
          64,
          71,
          76,
          64,
          33,
          81,
          60,
          86,
          30,
          75,
          73,
          73,
          67,
          46,
          81,
          58,
          59,
          71,
          60,
          41,
          80,
          63,
          73,
          57,
          81,
          57,
          62,
          62,
          59,
          59,
          72,
          73,
          80,
          69,
          79,
          60,
          59,
          74,
          61,
          44,
          41,
          69,
          87,
          64,
          58,
          69,
          48,
          55,
          76,
          84,
          59,
          77,
          32,
          34,
          41,
          54,
          68,
          62,
          46,
          79,
          62,
          89,
          68,
          50,
          65,
          73,
          88,
          68,
          40,
          89,
          51,
          86,
          54,
          70,
          45,
          82,
          80,
          87,
          66,
          79,
          76,
          79,
          44
         ],
         "yaxis": "y"
        },
        {
         "hovertemplate": "<b>OLS trendline</b><br>nrgy = 0.296738 * val + 55.0068<br>R<sup>2</sup>=0.167754<br><br>val=%{x}<br>nrgy=%{y} <b>(trend)</b><extra></extra>",
         "legendgroup": "",
         "marker": {
          "color": "#636efa",
          "symbol": "circle"
         },
         "mode": "lines",
         "name": "",
         "showlegend": false,
         "type": "scatter",
         "x": [
          0,
          4,
          4,
          7,
          7,
          7,
          8,
          8,
          8,
          8,
          8,
          9,
          9,
          9,
          9,
          9,
          9,
          10,
          10,
          10,
          11,
          11,
          12,
          13,
          13,
          14,
          14,
          14,
          14,
          14,
          14,
          15,
          15,
          16,
          16,
          16,
          16,
          16,
          16,
          16,
          16,
          17,
          17,
          18,
          18,
          18,
          18,
          19,
          19,
          19,
          19,
          19,
          20,
          20,
          20,
          20,
          20,
          20,
          21,
          21,
          21,
          21,
          21,
          21,
          22,
          23,
          23,
          23,
          23,
          23,
          23,
          23,
          23,
          23,
          24,
          24,
          24,
          25,
          25,
          25,
          25,
          25,
          25,
          25,
          25,
          26,
          26,
          26,
          26,
          26,
          26,
          27,
          27,
          27,
          27,
          27,
          27,
          28,
          28,
          28,
          28,
          28,
          28,
          28,
          28,
          29,
          29,
          29,
          29,
          29,
          29,
          30,
          30,
          30,
          30,
          30,
          31,
          31,
          32,
          32,
          32,
          32,
          32,
          32,
          32,
          32,
          33,
          33,
          33,
          33,
          33,
          33,
          33,
          33,
          33,
          33,
          34,
          34,
          34,
          34,
          34,
          34,
          34,
          34,
          34,
          34,
          35,
          35,
          35,
          35,
          35,
          35,
          35,
          35,
          35,
          35,
          35,
          35,
          36,
          36,
          36,
          36,
          37,
          37,
          37,
          37,
          37,
          37,
          37,
          38,
          38,
          38,
          38,
          38,
          38,
          39,
          39,
          39,
          39,
          39,
          39,
          39,
          39,
          40,
          40,
          40,
          40,
          40,
          40,
          40,
          40,
          40,
          40,
          40,
          40,
          41,
          41,
          41,
          41,
          41,
          42,
          42,
          42,
          42,
          42,
          42,
          43,
          43,
          43,
          43,
          43,
          43,
          44,
          44,
          44,
          44,
          44,
          44,
          44,
          44,
          44,
          44,
          44,
          45,
          45,
          45,
          45,
          45,
          45,
          45,
          45,
          45,
          45,
          45,
          45,
          45,
          45,
          45,
          45,
          46,
          46,
          46,
          46,
          46,
          46,
          47,
          47,
          47,
          47,
          47,
          47,
          47,
          47,
          48,
          48,
          48,
          48,
          48,
          48,
          48,
          48,
          48,
          48,
          49,
          49,
          49,
          49,
          49,
          49,
          49,
          49,
          50,
          50,
          50,
          50,
          50,
          50,
          50,
          50,
          50,
          51,
          51,
          51,
          51,
          51,
          51,
          51,
          51,
          52,
          52,
          52,
          52,
          52,
          52,
          52,
          52,
          52,
          52,
          52,
          52,
          52,
          52,
          52,
          52,
          52,
          53,
          53,
          53,
          53,
          53,
          53,
          53,
          53,
          53,
          53,
          54,
          54,
          54,
          54,
          54,
          54,
          54,
          55,
          55,
          55,
          55,
          55,
          55,
          55,
          55,
          56,
          56,
          56,
          56,
          56,
          56,
          56,
          56,
          57,
          57,
          57,
          57,
          57,
          57,
          57,
          57,
          57,
          57,
          58,
          58,
          58,
          58,
          58,
          58,
          58,
          58,
          58,
          58,
          59,
          59,
          59,
          59,
          59,
          59,
          59,
          59,
          59,
          59,
          59,
          60,
          60,
          60,
          60,
          61,
          61,
          61,
          61,
          61,
          61,
          61,
          61,
          61,
          62,
          62,
          62,
          62,
          62,
          62,
          62,
          62,
          63,
          63,
          63,
          63,
          63,
          63,
          63,
          64,
          64,
          64,
          64,
          64,
          64,
          64,
          64,
          64,
          64,
          65,
          65,
          65,
          65,
          65,
          65,
          65,
          65,
          65,
          65,
          65,
          65,
          65,
          65,
          65,
          65,
          65,
          65,
          66,
          66,
          66,
          66,
          66,
          66,
          66,
          66,
          66,
          66,
          67,
          67,
          67,
          67,
          67,
          68,
          68,
          68,
          68,
          68,
          68,
          68,
          68,
          69,
          69,
          69,
          69,
          69,
          70,
          70,
          70,
          71,
          71,
          71,
          71,
          71,
          71,
          72,
          72,
          72,
          72,
          72,
          72,
          73,
          73,
          73,
          73,
          73,
          73,
          73,
          73,
          73,
          73,
          73,
          74,
          74,
          74,
          74,
          74,
          74,
          74,
          74,
          74,
          74,
          74,
          75,
          75,
          75,
          75,
          75,
          75,
          75,
          76,
          76,
          76,
          76,
          76,
          76,
          76,
          76,
          76,
          77,
          77,
          78,
          78,
          78,
          78,
          78,
          79,
          79,
          79,
          79,
          79,
          79,
          79,
          79,
          80,
          80,
          80,
          80,
          80,
          80,
          80,
          80,
          80,
          81,
          81,
          81,
          81,
          82,
          82,
          82,
          82,
          82,
          82,
          83,
          83,
          83,
          83,
          83,
          84,
          84,
          84,
          84,
          84,
          84,
          85,
          85,
          85,
          85,
          85,
          85,
          86,
          86,
          86,
          86,
          86,
          86,
          86,
          86,
          87,
          87,
          88,
          88,
          88,
          88,
          88,
          88,
          88,
          88,
          89,
          89,
          89,
          89,
          90,
          90,
          90,
          90,
          91,
          91,
          91,
          91,
          92,
          93,
          93,
          93,
          93,
          93,
          94,
          94,
          94,
          95,
          95,
          95,
          96,
          96,
          97,
          98
         ],
         "xaxis": "x",
         "y": [
          55.00682267100464,
          56.19377630105471,
          56.19377630105471,
          57.08399152359226,
          57.08399152359226,
          57.08399152359226,
          57.38072993110478,
          57.38072993110478,
          57.38072993110478,
          57.38072993110478,
          57.38072993110478,
          57.677468338617295,
          57.677468338617295,
          57.677468338617295,
          57.677468338617295,
          57.677468338617295,
          57.677468338617295,
          57.974206746129816,
          57.974206746129816,
          57.974206746129816,
          58.27094515364233,
          58.27094515364233,
          58.56768356115485,
          58.864421968667365,
          58.864421968667365,
          59.161160376179886,
          59.161160376179886,
          59.161160376179886,
          59.161160376179886,
          59.161160376179886,
          59.161160376179886,
          59.4578987836924,
          59.4578987836924,
          59.75463719120492,
          59.75463719120492,
          59.75463719120492,
          59.75463719120492,
          59.75463719120492,
          59.75463719120492,
          59.75463719120492,
          59.75463719120492,
          60.051375598717435,
          60.051375598717435,
          60.348114006229956,
          60.348114006229956,
          60.348114006229956,
          60.348114006229956,
          60.64485241374247,
          60.64485241374247,
          60.64485241374247,
          60.64485241374247,
          60.64485241374247,
          60.94159082125499,
          60.94159082125499,
          60.94159082125499,
          60.94159082125499,
          60.94159082125499,
          60.94159082125499,
          61.238329228767505,
          61.238329228767505,
          61.238329228767505,
          61.238329228767505,
          61.238329228767505,
          61.238329228767505,
          61.53506763628002,
          61.83180604379254,
          61.83180604379254,
          61.83180604379254,
          61.83180604379254,
          61.83180604379254,
          61.83180604379254,
          61.83180604379254,
          61.83180604379254,
          61.83180604379254,
          62.12854445130506,
          62.12854445130506,
          62.12854445130506,
          62.425282858817575,
          62.425282858817575,
          62.425282858817575,
          62.425282858817575,
          62.425282858817575,
          62.425282858817575,
          62.425282858817575,
          62.425282858817575,
          62.72202126633009,
          62.72202126633009,
          62.72202126633009,
          62.72202126633009,
          62.72202126633009,
          62.72202126633009,
          63.01875967384261,
          63.01875967384261,
          63.01875967384261,
          63.01875967384261,
          63.01875967384261,
          63.01875967384261,
          63.31549808135512,
          63.31549808135512,
          63.31549808135512,
          63.31549808135512,
          63.31549808135512,
          63.31549808135512,
          63.31549808135512,
          63.31549808135512,
          63.612236488867644,
          63.612236488867644,
          63.612236488867644,
          63.612236488867644,
          63.612236488867644,
          63.612236488867644,
          63.90897489638016,
          63.90897489638016,
          63.90897489638016,
          63.90897489638016,
          63.90897489638016,
          64.20571330389268,
          64.20571330389268,
          64.5024517114052,
          64.5024517114052,
          64.5024517114052,
          64.5024517114052,
          64.5024517114052,
          64.5024517114052,
          64.5024517114052,
          64.5024517114052,
          64.7991901189177,
          64.7991901189177,
          64.7991901189177,
          64.7991901189177,
          64.7991901189177,
          64.7991901189177,
          64.7991901189177,
          64.7991901189177,
          64.7991901189177,
          64.7991901189177,
          65.09592852643023,
          65.09592852643023,
          65.09592852643023,
          65.09592852643023,
          65.09592852643023,
          65.09592852643023,
          65.09592852643023,
          65.09592852643023,
          65.09592852643023,
          65.09592852643023,
          65.39266693394275,
          65.39266693394275,
          65.39266693394275,
          65.39266693394275,
          65.39266693394275,
          65.39266693394275,
          65.39266693394275,
          65.39266693394275,
          65.39266693394275,
          65.39266693394275,
          65.39266693394275,
          65.39266693394275,
          65.68940534145527,
          65.68940534145527,
          65.68940534145527,
          65.68940534145527,
          65.98614374896778,
          65.98614374896778,
          65.98614374896778,
          65.98614374896778,
          65.98614374896778,
          65.98614374896778,
          65.98614374896778,
          66.2828821564803,
          66.2828821564803,
          66.2828821564803,
          66.2828821564803,
          66.2828821564803,
          66.2828821564803,
          66.57962056399282,
          66.57962056399282,
          66.57962056399282,
          66.57962056399282,
          66.57962056399282,
          66.57962056399282,
          66.57962056399282,
          66.57962056399282,
          66.87635897150534,
          66.87635897150534,
          66.87635897150534,
          66.87635897150534,
          66.87635897150534,
          66.87635897150534,
          66.87635897150534,
          66.87635897150534,
          66.87635897150534,
          66.87635897150534,
          66.87635897150534,
          66.87635897150534,
          67.17309737901785,
          67.17309737901785,
          67.17309737901785,
          67.17309737901785,
          67.17309737901785,
          67.46983578653037,
          67.46983578653037,
          67.46983578653037,
          67.46983578653037,
          67.46983578653037,
          67.46983578653037,
          67.76657419404289,
          67.76657419404289,
          67.76657419404289,
          67.76657419404289,
          67.76657419404289,
          67.76657419404289,
          68.0633126015554,
          68.0633126015554,
          68.0633126015554,
          68.0633126015554,
          68.0633126015554,
          68.0633126015554,
          68.0633126015554,
          68.0633126015554,
          68.0633126015554,
          68.0633126015554,
          68.0633126015554,
          68.36005100906792,
          68.36005100906792,
          68.36005100906792,
          68.36005100906792,
          68.36005100906792,
          68.36005100906792,
          68.36005100906792,
          68.36005100906792,
          68.36005100906792,
          68.36005100906792,
          68.36005100906792,
          68.36005100906792,
          68.36005100906792,
          68.36005100906792,
          68.36005100906792,
          68.36005100906792,
          68.65678941658044,
          68.65678941658044,
          68.65678941658044,
          68.65678941658044,
          68.65678941658044,
          68.65678941658044,
          68.95352782409296,
          68.95352782409296,
          68.95352782409296,
          68.95352782409296,
          68.95352782409296,
          68.95352782409296,
          68.95352782409296,
          68.95352782409296,
          69.25026623160548,
          69.25026623160548,
          69.25026623160548,
          69.25026623160548,
          69.25026623160548,
          69.25026623160548,
          69.25026623160548,
          69.25026623160548,
          69.25026623160548,
          69.25026623160548,
          69.54700463911799,
          69.54700463911799,
          69.54700463911799,
          69.54700463911799,
          69.54700463911799,
          69.54700463911799,
          69.54700463911799,
          69.54700463911799,
          69.84374304663051,
          69.84374304663051,
          69.84374304663051,
          69.84374304663051,
          69.84374304663051,
          69.84374304663051,
          69.84374304663051,
          69.84374304663051,
          69.84374304663051,
          70.14048145414303,
          70.14048145414303,
          70.14048145414303,
          70.14048145414303,
          70.14048145414303,
          70.14048145414303,
          70.14048145414303,
          70.14048145414303,
          70.43721986165554,
          70.43721986165554,
          70.43721986165554,
          70.43721986165554,
          70.43721986165554,
          70.43721986165554,
          70.43721986165554,
          70.43721986165554,
          70.43721986165554,
          70.43721986165554,
          70.43721986165554,
          70.43721986165554,
          70.43721986165554,
          70.43721986165554,
          70.43721986165554,
          70.43721986165554,
          70.43721986165554,
          70.73395826916806,
          70.73395826916806,
          70.73395826916806,
          70.73395826916806,
          70.73395826916806,
          70.73395826916806,
          70.73395826916806,
          70.73395826916806,
          70.73395826916806,
          70.73395826916806,
          71.03069667668058,
          71.03069667668058,
          71.03069667668058,
          71.03069667668058,
          71.03069667668058,
          71.03069667668058,
          71.03069667668058,
          71.3274350841931,
          71.3274350841931,
          71.3274350841931,
          71.3274350841931,
          71.3274350841931,
          71.3274350841931,
          71.3274350841931,
          71.3274350841931,
          71.6241734917056,
          71.6241734917056,
          71.6241734917056,
          71.6241734917056,
          71.6241734917056,
          71.6241734917056,
          71.6241734917056,
          71.6241734917056,
          71.92091189921813,
          71.92091189921813,
          71.92091189921813,
          71.92091189921813,
          71.92091189921813,
          71.92091189921813,
          71.92091189921813,
          71.92091189921813,
          71.92091189921813,
          71.92091189921813,
          72.21765030673065,
          72.21765030673065,
          72.21765030673065,
          72.21765030673065,
          72.21765030673065,
          72.21765030673065,
          72.21765030673065,
          72.21765030673065,
          72.21765030673065,
          72.21765030673065,
          72.51438871424315,
          72.51438871424315,
          72.51438871424315,
          72.51438871424315,
          72.51438871424315,
          72.51438871424315,
          72.51438871424315,
          72.51438871424315,
          72.51438871424315,
          72.51438871424315,
          72.51438871424315,
          72.81112712175567,
          72.81112712175567,
          72.81112712175567,
          72.81112712175567,
          73.1078655292682,
          73.1078655292682,
          73.1078655292682,
          73.1078655292682,
          73.1078655292682,
          73.1078655292682,
          73.1078655292682,
          73.1078655292682,
          73.1078655292682,
          73.40460393678072,
          73.40460393678072,
          73.40460393678072,
          73.40460393678072,
          73.40460393678072,
          73.40460393678072,
          73.40460393678072,
          73.40460393678072,
          73.70134234429324,
          73.70134234429324,
          73.70134234429324,
          73.70134234429324,
          73.70134234429324,
          73.70134234429324,
          73.70134234429324,
          73.99808075180574,
          73.99808075180574,
          73.99808075180574,
          73.99808075180574,
          73.99808075180574,
          73.99808075180574,
          73.99808075180574,
          73.99808075180574,
          73.99808075180574,
          73.99808075180574,
          74.29481915931827,
          74.29481915931827,
          74.29481915931827,
          74.29481915931827,
          74.29481915931827,
          74.29481915931827,
          74.29481915931827,
          74.29481915931827,
          74.29481915931827,
          74.29481915931827,
          74.29481915931827,
          74.29481915931827,
          74.29481915931827,
          74.29481915931827,
          74.29481915931827,
          74.29481915931827,
          74.29481915931827,
          74.29481915931827,
          74.59155756683079,
          74.59155756683079,
          74.59155756683079,
          74.59155756683079,
          74.59155756683079,
          74.59155756683079,
          74.59155756683079,
          74.59155756683079,
          74.59155756683079,
          74.59155756683079,
          74.8882959743433,
          74.8882959743433,
          74.8882959743433,
          74.8882959743433,
          74.8882959743433,
          75.18503438185581,
          75.18503438185581,
          75.18503438185581,
          75.18503438185581,
          75.18503438185581,
          75.18503438185581,
          75.18503438185581,
          75.18503438185581,
          75.48177278936834,
          75.48177278936834,
          75.48177278936834,
          75.48177278936834,
          75.48177278936834,
          75.77851119688086,
          75.77851119688086,
          75.77851119688086,
          76.07524960439338,
          76.07524960439338,
          76.07524960439338,
          76.07524960439338,
          76.07524960439338,
          76.07524960439338,
          76.37198801190588,
          76.37198801190588,
          76.37198801190588,
          76.37198801190588,
          76.37198801190588,
          76.37198801190588,
          76.6687264194184,
          76.6687264194184,
          76.6687264194184,
          76.6687264194184,
          76.6687264194184,
          76.6687264194184,
          76.6687264194184,
          76.6687264194184,
          76.6687264194184,
          76.6687264194184,
          76.6687264194184,
          76.96546482693093,
          76.96546482693093,
          76.96546482693093,
          76.96546482693093,
          76.96546482693093,
          76.96546482693093,
          76.96546482693093,
          76.96546482693093,
          76.96546482693093,
          76.96546482693093,
          76.96546482693093,
          77.26220323444343,
          77.26220323444343,
          77.26220323444343,
          77.26220323444343,
          77.26220323444343,
          77.26220323444343,
          77.26220323444343,
          77.55894164195595,
          77.55894164195595,
          77.55894164195595,
          77.55894164195595,
          77.55894164195595,
          77.55894164195595,
          77.55894164195595,
          77.55894164195595,
          77.55894164195595,
          77.85568004946848,
          77.85568004946848,
          78.152418456981,
          78.152418456981,
          78.152418456981,
          78.152418456981,
          78.152418456981,
          78.4491568644935,
          78.4491568644935,
          78.4491568644935,
          78.4491568644935,
          78.4491568644935,
          78.4491568644935,
          78.4491568644935,
          78.4491568644935,
          78.74589527200602,
          78.74589527200602,
          78.74589527200602,
          78.74589527200602,
          78.74589527200602,
          78.74589527200602,
          78.74589527200602,
          78.74589527200602,
          78.74589527200602,
          79.04263367951854,
          79.04263367951854,
          79.04263367951854,
          79.04263367951854,
          79.33937208703105,
          79.33937208703105,
          79.33937208703105,
          79.33937208703105,
          79.33937208703105,
          79.33937208703105,
          79.63611049454357,
          79.63611049454357,
          79.63611049454357,
          79.63611049454357,
          79.63611049454357,
          79.9328489020561,
          79.9328489020561,
          79.9328489020561,
          79.9328489020561,
          79.9328489020561,
          79.9328489020561,
          80.22958730956861,
          80.22958730956861,
          80.22958730956861,
          80.22958730956861,
          80.22958730956861,
          80.22958730956861,
          80.52632571708114,
          80.52632571708114,
          80.52632571708114,
          80.52632571708114,
          80.52632571708114,
          80.52632571708114,
          80.52632571708114,
          80.52632571708114,
          80.82306412459364,
          80.82306412459364,
          81.11980253210616,
          81.11980253210616,
          81.11980253210616,
          81.11980253210616,
          81.11980253210616,
          81.11980253210616,
          81.11980253210616,
          81.11980253210616,
          81.41654093961868,
          81.41654093961868,
          81.41654093961868,
          81.41654093961868,
          81.71327934713119,
          81.71327934713119,
          81.71327934713119,
          81.71327934713119,
          82.01001775464371,
          82.01001775464371,
          82.01001775464371,
          82.01001775464371,
          82.30675616215623,
          82.60349456966875,
          82.60349456966875,
          82.60349456966875,
          82.60349456966875,
          82.60349456966875,
          82.90023297718128,
          82.90023297718128,
          82.90023297718128,
          83.19697138469378,
          83.19697138469378,
          83.19697138469378,
          83.4937097922063,
          83.4937097922063,
          83.79044819971881,
          84.08718660723133
         ],
         "yaxis": "y"
        }
       ],
       "layout": {
        "legend": {
         "tracegroupgap": 0
        },
        "template": {
         "data": {
          "bar": [
           {
            "error_x": {
             "color": "#2a3f5f"
            },
            "error_y": {
             "color": "#2a3f5f"
            },
            "marker": {
             "line": {
              "color": "#E5ECF6",
              "width": 0.5
             },
             "pattern": {
              "fillmode": "overlay",
              "size": 10,
              "solidity": 0.2
             }
            },
            "type": "bar"
           }
          ],
          "barpolar": [
           {
            "marker": {
             "line": {
              "color": "#E5ECF6",
              "width": 0.5
             },
             "pattern": {
              "fillmode": "overlay",
              "size": 10,
              "solidity": 0.2
             }
            },
            "type": "barpolar"
           }
          ],
          "carpet": [
           {
            "aaxis": {
             "endlinecolor": "#2a3f5f",
             "gridcolor": "white",
             "linecolor": "white",
             "minorgridcolor": "white",
             "startlinecolor": "#2a3f5f"
            },
            "baxis": {
             "endlinecolor": "#2a3f5f",
             "gridcolor": "white",
             "linecolor": "white",
             "minorgridcolor": "white",
             "startlinecolor": "#2a3f5f"
            },
            "type": "carpet"
           }
          ],
          "choropleth": [
           {
            "colorbar": {
             "outlinewidth": 0,
             "ticks": ""
            },
            "type": "choropleth"
           }
          ],
          "contour": [
           {
            "colorbar": {
             "outlinewidth": 0,
             "ticks": ""
            },
            "colorscale": [
             [
              0,
              "#0d0887"
             ],
             [
              0.1111111111111111,
              "#46039f"
             ],
             [
              0.2222222222222222,
              "#7201a8"
             ],
             [
              0.3333333333333333,
              "#9c179e"
             ],
             [
              0.4444444444444444,
              "#bd3786"
             ],
             [
              0.5555555555555556,
              "#d8576b"
             ],
             [
              0.6666666666666666,
              "#ed7953"
             ],
             [
              0.7777777777777778,
              "#fb9f3a"
             ],
             [
              0.8888888888888888,
              "#fdca26"
             ],
             [
              1,
              "#f0f921"
             ]
            ],
            "type": "contour"
           }
          ],
          "contourcarpet": [
           {
            "colorbar": {
             "outlinewidth": 0,
             "ticks": ""
            },
            "type": "contourcarpet"
           }
          ],
          "heatmap": [
           {
            "colorbar": {
             "outlinewidth": 0,
             "ticks": ""
            },
            "colorscale": [
             [
              0,
              "#0d0887"
             ],
             [
              0.1111111111111111,
              "#46039f"
             ],
             [
              0.2222222222222222,
              "#7201a8"
             ],
             [
              0.3333333333333333,
              "#9c179e"
             ],
             [
              0.4444444444444444,
              "#bd3786"
             ],
             [
              0.5555555555555556,
              "#d8576b"
             ],
             [
              0.6666666666666666,
              "#ed7953"
             ],
             [
              0.7777777777777778,
              "#fb9f3a"
             ],
             [
              0.8888888888888888,
              "#fdca26"
             ],
             [
              1,
              "#f0f921"
             ]
            ],
            "type": "heatmap"
           }
          ],
          "heatmapgl": [
           {
            "colorbar": {
             "outlinewidth": 0,
             "ticks": ""
            },
            "colorscale": [
             [
              0,
              "#0d0887"
             ],
             [
              0.1111111111111111,
              "#46039f"
             ],
             [
              0.2222222222222222,
              "#7201a8"
             ],
             [
              0.3333333333333333,
              "#9c179e"
             ],
             [
              0.4444444444444444,
              "#bd3786"
             ],
             [
              0.5555555555555556,
              "#d8576b"
             ],
             [
              0.6666666666666666,
              "#ed7953"
             ],
             [
              0.7777777777777778,
              "#fb9f3a"
             ],
             [
              0.8888888888888888,
              "#fdca26"
             ],
             [
              1,
              "#f0f921"
             ]
            ],
            "type": "heatmapgl"
           }
          ],
          "histogram": [
           {
            "marker": {
             "pattern": {
              "fillmode": "overlay",
              "size": 10,
              "solidity": 0.2
             }
            },
            "type": "histogram"
           }
          ],
          "histogram2d": [
           {
            "colorbar": {
             "outlinewidth": 0,
             "ticks": ""
            },
            "colorscale": [
             [
              0,
              "#0d0887"
             ],
             [
              0.1111111111111111,
              "#46039f"
             ],
             [
              0.2222222222222222,
              "#7201a8"
             ],
             [
              0.3333333333333333,
              "#9c179e"
             ],
             [
              0.4444444444444444,
              "#bd3786"
             ],
             [
              0.5555555555555556,
              "#d8576b"
             ],
             [
              0.6666666666666666,
              "#ed7953"
             ],
             [
              0.7777777777777778,
              "#fb9f3a"
             ],
             [
              0.8888888888888888,
              "#fdca26"
             ],
             [
              1,
              "#f0f921"
             ]
            ],
            "type": "histogram2d"
           }
          ],
          "histogram2dcontour": [
           {
            "colorbar": {
             "outlinewidth": 0,
             "ticks": ""
            },
            "colorscale": [
             [
              0,
              "#0d0887"
             ],
             [
              0.1111111111111111,
              "#46039f"
             ],
             [
              0.2222222222222222,
              "#7201a8"
             ],
             [
              0.3333333333333333,
              "#9c179e"
             ],
             [
              0.4444444444444444,
              "#bd3786"
             ],
             [
              0.5555555555555556,
              "#d8576b"
             ],
             [
              0.6666666666666666,
              "#ed7953"
             ],
             [
              0.7777777777777778,
              "#fb9f3a"
             ],
             [
              0.8888888888888888,
              "#fdca26"
             ],
             [
              1,
              "#f0f921"
             ]
            ],
            "type": "histogram2dcontour"
           }
          ],
          "mesh3d": [
           {
            "colorbar": {
             "outlinewidth": 0,
             "ticks": ""
            },
            "type": "mesh3d"
           }
          ],
          "parcoords": [
           {
            "line": {
             "colorbar": {
              "outlinewidth": 0,
              "ticks": ""
             }
            },
            "type": "parcoords"
           }
          ],
          "pie": [
           {
            "automargin": true,
            "type": "pie"
           }
          ],
          "scatter": [
           {
            "fillpattern": {
             "fillmode": "overlay",
             "size": 10,
             "solidity": 0.2
            },
            "type": "scatter"
           }
          ],
          "scatter3d": [
           {
            "line": {
             "colorbar": {
              "outlinewidth": 0,
              "ticks": ""
             }
            },
            "marker": {
             "colorbar": {
              "outlinewidth": 0,
              "ticks": ""
             }
            },
            "type": "scatter3d"
           }
          ],
          "scattercarpet": [
           {
            "marker": {
             "colorbar": {
              "outlinewidth": 0,
              "ticks": ""
             }
            },
            "type": "scattercarpet"
           }
          ],
          "scattergeo": [
           {
            "marker": {
             "colorbar": {
              "outlinewidth": 0,
              "ticks": ""
             }
            },
            "type": "scattergeo"
           }
          ],
          "scattergl": [
           {
            "marker": {
             "colorbar": {
              "outlinewidth": 0,
              "ticks": ""
             }
            },
            "type": "scattergl"
           }
          ],
          "scattermapbox": [
           {
            "marker": {
             "colorbar": {
              "outlinewidth": 0,
              "ticks": ""
             }
            },
            "type": "scattermapbox"
           }
          ],
          "scatterpolar": [
           {
            "marker": {
             "colorbar": {
              "outlinewidth": 0,
              "ticks": ""
             }
            },
            "type": "scatterpolar"
           }
          ],
          "scatterpolargl": [
           {
            "marker": {
             "colorbar": {
              "outlinewidth": 0,
              "ticks": ""
             }
            },
            "type": "scatterpolargl"
           }
          ],
          "scatterternary": [
           {
            "marker": {
             "colorbar": {
              "outlinewidth": 0,
              "ticks": ""
             }
            },
            "type": "scatterternary"
           }
          ],
          "surface": [
           {
            "colorbar": {
             "outlinewidth": 0,
             "ticks": ""
            },
            "colorscale": [
             [
              0,
              "#0d0887"
             ],
             [
              0.1111111111111111,
              "#46039f"
             ],
             [
              0.2222222222222222,
              "#7201a8"
             ],
             [
              0.3333333333333333,
              "#9c179e"
             ],
             [
              0.4444444444444444,
              "#bd3786"
             ],
             [
              0.5555555555555556,
              "#d8576b"
             ],
             [
              0.6666666666666666,
              "#ed7953"
             ],
             [
              0.7777777777777778,
              "#fb9f3a"
             ],
             [
              0.8888888888888888,
              "#fdca26"
             ],
             [
              1,
              "#f0f921"
             ]
            ],
            "type": "surface"
           }
          ],
          "table": [
           {
            "cells": {
             "fill": {
              "color": "#EBF0F8"
             },
             "line": {
              "color": "white"
             }
            },
            "header": {
             "fill": {
              "color": "#C8D4E3"
             },
             "line": {
              "color": "white"
             }
            },
            "type": "table"
           }
          ]
         },
         "layout": {
          "annotationdefaults": {
           "arrowcolor": "#2a3f5f",
           "arrowhead": 0,
           "arrowwidth": 1
          },
          "autotypenumbers": "strict",
          "coloraxis": {
           "colorbar": {
            "outlinewidth": 0,
            "ticks": ""
           }
          },
          "colorscale": {
           "diverging": [
            [
             0,
             "#8e0152"
            ],
            [
             0.1,
             "#c51b7d"
            ],
            [
             0.2,
             "#de77ae"
            ],
            [
             0.3,
             "#f1b6da"
            ],
            [
             0.4,
             "#fde0ef"
            ],
            [
             0.5,
             "#f7f7f7"
            ],
            [
             0.6,
             "#e6f5d0"
            ],
            [
             0.7,
             "#b8e186"
            ],
            [
             0.8,
             "#7fbc41"
            ],
            [
             0.9,
             "#4d9221"
            ],
            [
             1,
             "#276419"
            ]
           ],
           "sequential": [
            [
             0,
             "#0d0887"
            ],
            [
             0.1111111111111111,
             "#46039f"
            ],
            [
             0.2222222222222222,
             "#7201a8"
            ],
            [
             0.3333333333333333,
             "#9c179e"
            ],
            [
             0.4444444444444444,
             "#bd3786"
            ],
            [
             0.5555555555555556,
             "#d8576b"
            ],
            [
             0.6666666666666666,
             "#ed7953"
            ],
            [
             0.7777777777777778,
             "#fb9f3a"
            ],
            [
             0.8888888888888888,
             "#fdca26"
            ],
            [
             1,
             "#f0f921"
            ]
           ],
           "sequentialminus": [
            [
             0,
             "#0d0887"
            ],
            [
             0.1111111111111111,
             "#46039f"
            ],
            [
             0.2222222222222222,
             "#7201a8"
            ],
            [
             0.3333333333333333,
             "#9c179e"
            ],
            [
             0.4444444444444444,
             "#bd3786"
            ],
            [
             0.5555555555555556,
             "#d8576b"
            ],
            [
             0.6666666666666666,
             "#ed7953"
            ],
            [
             0.7777777777777778,
             "#fb9f3a"
            ],
            [
             0.8888888888888888,
             "#fdca26"
            ],
            [
             1,
             "#f0f921"
            ]
           ]
          },
          "colorway": [
           "#636efa",
           "#EF553B",
           "#00cc96",
           "#ab63fa",
           "#FFA15A",
           "#19d3f3",
           "#FF6692",
           "#B6E880",
           "#FF97FF",
           "#FECB52"
          ],
          "font": {
           "color": "#2a3f5f"
          },
          "geo": {
           "bgcolor": "white",
           "lakecolor": "white",
           "landcolor": "#E5ECF6",
           "showlakes": true,
           "showland": true,
           "subunitcolor": "white"
          },
          "hoverlabel": {
           "align": "left"
          },
          "hovermode": "closest",
          "mapbox": {
           "style": "light"
          },
          "paper_bgcolor": "white",
          "plot_bgcolor": "#E5ECF6",
          "polar": {
           "angularaxis": {
            "gridcolor": "white",
            "linecolor": "white",
            "ticks": ""
           },
           "bgcolor": "#E5ECF6",
           "radialaxis": {
            "gridcolor": "white",
            "linecolor": "white",
            "ticks": ""
           }
          },
          "scene": {
           "xaxis": {
            "backgroundcolor": "#E5ECF6",
            "gridcolor": "white",
            "gridwidth": 2,
            "linecolor": "white",
            "showbackground": true,
            "ticks": "",
            "zerolinecolor": "white"
           },
           "yaxis": {
            "backgroundcolor": "#E5ECF6",
            "gridcolor": "white",
            "gridwidth": 2,
            "linecolor": "white",
            "showbackground": true,
            "ticks": "",
            "zerolinecolor": "white"
           },
           "zaxis": {
            "backgroundcolor": "#E5ECF6",
            "gridcolor": "white",
            "gridwidth": 2,
            "linecolor": "white",
            "showbackground": true,
            "ticks": "",
            "zerolinecolor": "white"
           }
          },
          "shapedefaults": {
           "line": {
            "color": "#2a3f5f"
           }
          },
          "ternary": {
           "aaxis": {
            "gridcolor": "white",
            "linecolor": "white",
            "ticks": ""
           },
           "baxis": {
            "gridcolor": "white",
            "linecolor": "white",
            "ticks": ""
           },
           "bgcolor": "#E5ECF6",
           "caxis": {
            "gridcolor": "white",
            "linecolor": "white",
            "ticks": ""
           }
          },
          "title": {
           "x": 0.05
          },
          "xaxis": {
           "automargin": true,
           "gridcolor": "white",
           "linecolor": "white",
           "ticks": "",
           "title": {
            "standoff": 15
           },
           "zerolinecolor": "white",
           "zerolinewidth": 2
          },
          "yaxis": {
           "automargin": true,
           "gridcolor": "white",
           "linecolor": "white",
           "ticks": "",
           "title": {
            "standoff": 15
           },
           "zerolinecolor": "white",
           "zerolinewidth": 2
          }
         }
        },
        "title": {
         "text": "Valence vs Energy"
        },
        "xaxis": {
         "anchor": "y",
         "domain": [
          0,
          1
         ],
         "title": {
          "text": "val"
         }
        },
        "yaxis": {
         "anchor": "x",
         "domain": [
          0,
          1
         ],
         "title": {
          "text": "nrgy"
         }
        }
       }
      },
      "text/html": [
       "<div>                            <div id=\"aa416cb1-61f9-4979-8fcb-414bb23b6d10\" class=\"plotly-graph-div\" style=\"height:525px; width:100%;\"></div>            <script type=\"text/javascript\">                require([\"plotly\"], function(Plotly) {                    window.PLOTLYENV=window.PLOTLYENV || {};                                    if (document.getElementById(\"aa416cb1-61f9-4979-8fcb-414bb23b6d10\")) {                    Plotly.newPlot(                        \"aa416cb1-61f9-4979-8fcb-414bb23b6d10\",                        [{\"hovertemplate\":\"val=%{x}<br>nrgy=%{y}<extra></extra>\",\"legendgroup\":\"\",\"marker\":{\"color\":\"#636efa\",\"symbol\":\"circle\"},\"mode\":\"markers\",\"name\":\"\",\"orientation\":\"v\",\"showlegend\":false,\"x\":[80,64,71,71,43,54,82,38,14,61,47,48,63,71,78,33,83,44,37,76,40,45,74,73,65,74,88,73,59,40,79,83,52,41,55,80,7,79,84,26,72,10,16,85,7,54,57,65,58,63,45,16,28,53,43,52,76,62,65,23,81,88,49,10,48,30,35,65,68,65,26,57,58,70,40,80,36,76,45,79,81,52,53,32,66,60,38,26,39,70,89,73,89,57,9,58,19,59,56,69,37,72,65,53,30,87,20,55,89,68,66,92,47,75,68,55,75,62,68,45,53,65,39,33,77,78,44,57,88,71,64,78,74,39,95,86,80,48,75,69,64,29,44,63,46,48,44,86,35,30,84,50,75,80,18,11,51,73,29,49,91,58,67,85,76,88,54,23,25,66,16,86,36,40,82,68,37,40,52,77,43,67,58,65,35,59,23,34,49,58,65,56,11,28,33,73,38,66,90,45,51,50,73,61,79,45,58,7,66,45,33,18,74,96,93,94,35,46,88,94,24,63,57,42,21,52,20,71,33,44,38,76,64,25,50,72,74,80,98,52,66,17,84,57,46,25,22,82,4,9,16,90,62,21,55,23,40,65,64,61,56,19,56,39,57,53,59,46,59,49,14,52,93,44,88,41,35,28,44,79,76,66,74,45,37,34,28,24,33,35,59,28,85,50,55,29,83,56,62,53,91,43,94,45,85,71,31,48,64,64,8,44,37,95,8,33,34,79,65,21,60,74,88,79,96,74,85,29,40,76,52,48,48,73,60,44,64,86,78,28,35,4,40,9,59,27,39,26,66,52,93,8,9,28,72,79,83,39,54,8,88,65,27,14,52,90,42,17,37,47,15,30,34,70,59,45,42,56,76,38,69,29,51,80,52,34,39,34,50,84,75,82,40,82,30,25,43,47,34,50,65,40,20,8,33,66,43,34,44,35,26,27,23,73,32,25,32,56,56,64,27,72,12,18,20,58,53,49,80,64,73,26,32,44,16,52,14,40,45,83,69,69,0,93,66,49,75,86,16,59,36,61,54,52,34,51,74,9,54,81,32,82,73,13,25,60,57,51,57,47,41,23,62,34,68,52,16,46,47,49,72,63,55,65,58,52,14,54,86,85,33,86,53,13,53,67,21,59,65,27,63,33,84,78,47,21,81,25,59,39,65,61,97,35,51,49,31,10,80,51,38,74,29,89,28,55,42,93,36,61,19,62,63,48,46,45,50,51,32,73,32,37,48,21,91,19,68,74,68,15,47,20,18,32,41,45,19,86,53,62,20,42,90,45,65,25,42,23,58,50,27,76,57,9,45,75,35,67,50,67,41,48,40,87,55,95,23,84,35,61,35,52,45,52,14,91,62,61,16,61,65,24,23],\"xaxis\":\"x\",\"y\":[89,93,84,92,84,86,78,76,37,72,87,83,82,83,84,75,61,81,80,61,63,68,68,81,95,83,90,94,80,75,71,89,84,52,82,63,41,91,91,81,85,41,75,87,39,81,95,86,86,90,98,41,33,94,84,76,90,76,75,56,78,93,83,69,83,65,74,82,83,69,63,78,79,88,61,86,77,87,71,55,73,70,93,89,88,77,88,38,72,75,81,91,81,95,35,86,38,74,64,88,88,81,83,72,79,70,59,75,79,47,58,68,68,68,94,63,72,82,87,85,84,86,74,55,92,55,85,68,80,86,84,80,64,71,96,72,80,84,92,81,78,66,55,87,77,62,84,81,42,70,60,79,68,70,78,81,92,92,41,88,93,93,66,82,84,93,76,52,68,53,75,88,60,61,91,87,67,78,62,74,82,96,52,60,80,86,23,81,68,79,73,94,45,78,66,78,78,88,98,76,95,75,57,79,70,74,83,34,84,78,26,42,86,82,76,80,59,78,71,69,54,81,72,58,89,73,66,72,78,95,72,65,54,49,75,62,93,64,92,62,92,44,67,92,74,66,71,81,77,15,68,80,78,79,94,14,62,60,81,82,34,35,58,50,82,54,73,73,45,49,56,38,61,66,79,76,27,61,38,57,75,68,70,51,52,87,73,71,74,86,77,70,61,79,59,45,78,71,79,73,80,80,67,71,73,61,89,80,85,70,85,59,85,83,61,82,85,94,94,81,81,87,79,88,88,71,67,67,95,36,26,75,75,75,70,76,82,78,89,48,75,60,82,55,87,59,79,55,82,76,85,67,43,78,80,88,78,84,80,37,90,53,39,56,38,75,87,52,73,93,42,31,47,83,59,74,53,53,75,67,71,60,62,75,80,75,65,80,80,69,88,68,62,79,59,67,80,50,28,70,80,88,69,85,82,86,70,84,64,69,74,34,83,80,89,72,88,52,82,78,59,77,57,64,54,70,78,79,71,78,95,4,75,87,65,69,17,76,70,71,81,47,0,65,52,59,82,56,72,82,66,74,62,53,78,65,76,45,91,67,39,82,73,64,64,62,79,80,71,80,72,37,91,28,59,51,54,72,87,88,87,80,50,91,81,79,57,93,74,42,87,69,64,53,75,82,50,76,90,67,83,59,53,81,84,46,77,88,86,52,73,70,81,71,54,71,80,44,61,67,64,71,76,64,33,81,60,86,30,75,73,73,67,46,81,58,59,71,60,41,80,63,73,57,81,57,62,62,59,59,72,73,80,69,79,60,59,74,61,44,41,69,87,64,58,69,48,55,76,84,59,77,32,34,41,54,68,62,46,79,62,89,68,50,65,73,88,68,40,89,51,86,54,70,45,82,80,87,66,79,76,79,44],\"yaxis\":\"y\",\"type\":\"scatter\"},{\"hovertemplate\":\"<b>OLS trendline</b><br>nrgy = 0.296738 * val + 55.0068<br>R<sup>2</sup>=0.167754<br><br>val=%{x}<br>nrgy=%{y} <b>(trend)</b><extra></extra>\",\"legendgroup\":\"\",\"marker\":{\"color\":\"#636efa\",\"symbol\":\"circle\"},\"mode\":\"lines\",\"name\":\"\",\"showlegend\":false,\"x\":[0,4,4,7,7,7,8,8,8,8,8,9,9,9,9,9,9,10,10,10,11,11,12,13,13,14,14,14,14,14,14,15,15,16,16,16,16,16,16,16,16,17,17,18,18,18,18,19,19,19,19,19,20,20,20,20,20,20,21,21,21,21,21,21,22,23,23,23,23,23,23,23,23,23,24,24,24,25,25,25,25,25,25,25,25,26,26,26,26,26,26,27,27,27,27,27,27,28,28,28,28,28,28,28,28,29,29,29,29,29,29,30,30,30,30,30,31,31,32,32,32,32,32,32,32,32,33,33,33,33,33,33,33,33,33,33,34,34,34,34,34,34,34,34,34,34,35,35,35,35,35,35,35,35,35,35,35,35,36,36,36,36,37,37,37,37,37,37,37,38,38,38,38,38,38,39,39,39,39,39,39,39,39,40,40,40,40,40,40,40,40,40,40,40,40,41,41,41,41,41,42,42,42,42,42,42,43,43,43,43,43,43,44,44,44,44,44,44,44,44,44,44,44,45,45,45,45,45,45,45,45,45,45,45,45,45,45,45,45,46,46,46,46,46,46,47,47,47,47,47,47,47,47,48,48,48,48,48,48,48,48,48,48,49,49,49,49,49,49,49,49,50,50,50,50,50,50,50,50,50,51,51,51,51,51,51,51,51,52,52,52,52,52,52,52,52,52,52,52,52,52,52,52,52,52,53,53,53,53,53,53,53,53,53,53,54,54,54,54,54,54,54,55,55,55,55,55,55,55,55,56,56,56,56,56,56,56,56,57,57,57,57,57,57,57,57,57,57,58,58,58,58,58,58,58,58,58,58,59,59,59,59,59,59,59,59,59,59,59,60,60,60,60,61,61,61,61,61,61,61,61,61,62,62,62,62,62,62,62,62,63,63,63,63,63,63,63,64,64,64,64,64,64,64,64,64,64,65,65,65,65,65,65,65,65,65,65,65,65,65,65,65,65,65,65,66,66,66,66,66,66,66,66,66,66,67,67,67,67,67,68,68,68,68,68,68,68,68,69,69,69,69,69,70,70,70,71,71,71,71,71,71,72,72,72,72,72,72,73,73,73,73,73,73,73,73,73,73,73,74,74,74,74,74,74,74,74,74,74,74,75,75,75,75,75,75,75,76,76,76,76,76,76,76,76,76,77,77,78,78,78,78,78,79,79,79,79,79,79,79,79,80,80,80,80,80,80,80,80,80,81,81,81,81,82,82,82,82,82,82,83,83,83,83,83,84,84,84,84,84,84,85,85,85,85,85,85,86,86,86,86,86,86,86,86,87,87,88,88,88,88,88,88,88,88,89,89,89,89,90,90,90,90,91,91,91,91,92,93,93,93,93,93,94,94,94,95,95,95,96,96,97,98],\"xaxis\":\"x\",\"y\":[55.00682267100464,56.19377630105471,56.19377630105471,57.08399152359226,57.08399152359226,57.08399152359226,57.38072993110478,57.38072993110478,57.38072993110478,57.38072993110478,57.38072993110478,57.677468338617295,57.677468338617295,57.677468338617295,57.677468338617295,57.677468338617295,57.677468338617295,57.974206746129816,57.974206746129816,57.974206746129816,58.27094515364233,58.27094515364233,58.56768356115485,58.864421968667365,58.864421968667365,59.161160376179886,59.161160376179886,59.161160376179886,59.161160376179886,59.161160376179886,59.161160376179886,59.4578987836924,59.4578987836924,59.75463719120492,59.75463719120492,59.75463719120492,59.75463719120492,59.75463719120492,59.75463719120492,59.75463719120492,59.75463719120492,60.051375598717435,60.051375598717435,60.348114006229956,60.348114006229956,60.348114006229956,60.348114006229956,60.64485241374247,60.64485241374247,60.64485241374247,60.64485241374247,60.64485241374247,60.94159082125499,60.94159082125499,60.94159082125499,60.94159082125499,60.94159082125499,60.94159082125499,61.238329228767505,61.238329228767505,61.238329228767505,61.238329228767505,61.238329228767505,61.238329228767505,61.53506763628002,61.83180604379254,61.83180604379254,61.83180604379254,61.83180604379254,61.83180604379254,61.83180604379254,61.83180604379254,61.83180604379254,61.83180604379254,62.12854445130506,62.12854445130506,62.12854445130506,62.425282858817575,62.425282858817575,62.425282858817575,62.425282858817575,62.425282858817575,62.425282858817575,62.425282858817575,62.425282858817575,62.72202126633009,62.72202126633009,62.72202126633009,62.72202126633009,62.72202126633009,62.72202126633009,63.01875967384261,63.01875967384261,63.01875967384261,63.01875967384261,63.01875967384261,63.01875967384261,63.31549808135512,63.31549808135512,63.31549808135512,63.31549808135512,63.31549808135512,63.31549808135512,63.31549808135512,63.31549808135512,63.612236488867644,63.612236488867644,63.612236488867644,63.612236488867644,63.612236488867644,63.612236488867644,63.90897489638016,63.90897489638016,63.90897489638016,63.90897489638016,63.90897489638016,64.20571330389268,64.20571330389268,64.5024517114052,64.5024517114052,64.5024517114052,64.5024517114052,64.5024517114052,64.5024517114052,64.5024517114052,64.5024517114052,64.7991901189177,64.7991901189177,64.7991901189177,64.7991901189177,64.7991901189177,64.7991901189177,64.7991901189177,64.7991901189177,64.7991901189177,64.7991901189177,65.09592852643023,65.09592852643023,65.09592852643023,65.09592852643023,65.09592852643023,65.09592852643023,65.09592852643023,65.09592852643023,65.09592852643023,65.09592852643023,65.39266693394275,65.39266693394275,65.39266693394275,65.39266693394275,65.39266693394275,65.39266693394275,65.39266693394275,65.39266693394275,65.39266693394275,65.39266693394275,65.39266693394275,65.39266693394275,65.68940534145527,65.68940534145527,65.68940534145527,65.68940534145527,65.98614374896778,65.98614374896778,65.98614374896778,65.98614374896778,65.98614374896778,65.98614374896778,65.98614374896778,66.2828821564803,66.2828821564803,66.2828821564803,66.2828821564803,66.2828821564803,66.2828821564803,66.57962056399282,66.57962056399282,66.57962056399282,66.57962056399282,66.57962056399282,66.57962056399282,66.57962056399282,66.57962056399282,66.87635897150534,66.87635897150534,66.87635897150534,66.87635897150534,66.87635897150534,66.87635897150534,66.87635897150534,66.87635897150534,66.87635897150534,66.87635897150534,66.87635897150534,66.87635897150534,67.17309737901785,67.17309737901785,67.17309737901785,67.17309737901785,67.17309737901785,67.46983578653037,67.46983578653037,67.46983578653037,67.46983578653037,67.46983578653037,67.46983578653037,67.76657419404289,67.76657419404289,67.76657419404289,67.76657419404289,67.76657419404289,67.76657419404289,68.0633126015554,68.0633126015554,68.0633126015554,68.0633126015554,68.0633126015554,68.0633126015554,68.0633126015554,68.0633126015554,68.0633126015554,68.0633126015554,68.0633126015554,68.36005100906792,68.36005100906792,68.36005100906792,68.36005100906792,68.36005100906792,68.36005100906792,68.36005100906792,68.36005100906792,68.36005100906792,68.36005100906792,68.36005100906792,68.36005100906792,68.36005100906792,68.36005100906792,68.36005100906792,68.36005100906792,68.65678941658044,68.65678941658044,68.65678941658044,68.65678941658044,68.65678941658044,68.65678941658044,68.95352782409296,68.95352782409296,68.95352782409296,68.95352782409296,68.95352782409296,68.95352782409296,68.95352782409296,68.95352782409296,69.25026623160548,69.25026623160548,69.25026623160548,69.25026623160548,69.25026623160548,69.25026623160548,69.25026623160548,69.25026623160548,69.25026623160548,69.25026623160548,69.54700463911799,69.54700463911799,69.54700463911799,69.54700463911799,69.54700463911799,69.54700463911799,69.54700463911799,69.54700463911799,69.84374304663051,69.84374304663051,69.84374304663051,69.84374304663051,69.84374304663051,69.84374304663051,69.84374304663051,69.84374304663051,69.84374304663051,70.14048145414303,70.14048145414303,70.14048145414303,70.14048145414303,70.14048145414303,70.14048145414303,70.14048145414303,70.14048145414303,70.43721986165554,70.43721986165554,70.43721986165554,70.43721986165554,70.43721986165554,70.43721986165554,70.43721986165554,70.43721986165554,70.43721986165554,70.43721986165554,70.43721986165554,70.43721986165554,70.43721986165554,70.43721986165554,70.43721986165554,70.43721986165554,70.43721986165554,70.73395826916806,70.73395826916806,70.73395826916806,70.73395826916806,70.73395826916806,70.73395826916806,70.73395826916806,70.73395826916806,70.73395826916806,70.73395826916806,71.03069667668058,71.03069667668058,71.03069667668058,71.03069667668058,71.03069667668058,71.03069667668058,71.03069667668058,71.3274350841931,71.3274350841931,71.3274350841931,71.3274350841931,71.3274350841931,71.3274350841931,71.3274350841931,71.3274350841931,71.6241734917056,71.6241734917056,71.6241734917056,71.6241734917056,71.6241734917056,71.6241734917056,71.6241734917056,71.6241734917056,71.92091189921813,71.92091189921813,71.92091189921813,71.92091189921813,71.92091189921813,71.92091189921813,71.92091189921813,71.92091189921813,71.92091189921813,71.92091189921813,72.21765030673065,72.21765030673065,72.21765030673065,72.21765030673065,72.21765030673065,72.21765030673065,72.21765030673065,72.21765030673065,72.21765030673065,72.21765030673065,72.51438871424315,72.51438871424315,72.51438871424315,72.51438871424315,72.51438871424315,72.51438871424315,72.51438871424315,72.51438871424315,72.51438871424315,72.51438871424315,72.51438871424315,72.81112712175567,72.81112712175567,72.81112712175567,72.81112712175567,73.1078655292682,73.1078655292682,73.1078655292682,73.1078655292682,73.1078655292682,73.1078655292682,73.1078655292682,73.1078655292682,73.1078655292682,73.40460393678072,73.40460393678072,73.40460393678072,73.40460393678072,73.40460393678072,73.40460393678072,73.40460393678072,73.40460393678072,73.70134234429324,73.70134234429324,73.70134234429324,73.70134234429324,73.70134234429324,73.70134234429324,73.70134234429324,73.99808075180574,73.99808075180574,73.99808075180574,73.99808075180574,73.99808075180574,73.99808075180574,73.99808075180574,73.99808075180574,73.99808075180574,73.99808075180574,74.29481915931827,74.29481915931827,74.29481915931827,74.29481915931827,74.29481915931827,74.29481915931827,74.29481915931827,74.29481915931827,74.29481915931827,74.29481915931827,74.29481915931827,74.29481915931827,74.29481915931827,74.29481915931827,74.29481915931827,74.29481915931827,74.29481915931827,74.29481915931827,74.59155756683079,74.59155756683079,74.59155756683079,74.59155756683079,74.59155756683079,74.59155756683079,74.59155756683079,74.59155756683079,74.59155756683079,74.59155756683079,74.8882959743433,74.8882959743433,74.8882959743433,74.8882959743433,74.8882959743433,75.18503438185581,75.18503438185581,75.18503438185581,75.18503438185581,75.18503438185581,75.18503438185581,75.18503438185581,75.18503438185581,75.48177278936834,75.48177278936834,75.48177278936834,75.48177278936834,75.48177278936834,75.77851119688086,75.77851119688086,75.77851119688086,76.07524960439338,76.07524960439338,76.07524960439338,76.07524960439338,76.07524960439338,76.07524960439338,76.37198801190588,76.37198801190588,76.37198801190588,76.37198801190588,76.37198801190588,76.37198801190588,76.6687264194184,76.6687264194184,76.6687264194184,76.6687264194184,76.6687264194184,76.6687264194184,76.6687264194184,76.6687264194184,76.6687264194184,76.6687264194184,76.6687264194184,76.96546482693093,76.96546482693093,76.96546482693093,76.96546482693093,76.96546482693093,76.96546482693093,76.96546482693093,76.96546482693093,76.96546482693093,76.96546482693093,76.96546482693093,77.26220323444343,77.26220323444343,77.26220323444343,77.26220323444343,77.26220323444343,77.26220323444343,77.26220323444343,77.55894164195595,77.55894164195595,77.55894164195595,77.55894164195595,77.55894164195595,77.55894164195595,77.55894164195595,77.55894164195595,77.55894164195595,77.85568004946848,77.85568004946848,78.152418456981,78.152418456981,78.152418456981,78.152418456981,78.152418456981,78.4491568644935,78.4491568644935,78.4491568644935,78.4491568644935,78.4491568644935,78.4491568644935,78.4491568644935,78.4491568644935,78.74589527200602,78.74589527200602,78.74589527200602,78.74589527200602,78.74589527200602,78.74589527200602,78.74589527200602,78.74589527200602,78.74589527200602,79.04263367951854,79.04263367951854,79.04263367951854,79.04263367951854,79.33937208703105,79.33937208703105,79.33937208703105,79.33937208703105,79.33937208703105,79.33937208703105,79.63611049454357,79.63611049454357,79.63611049454357,79.63611049454357,79.63611049454357,79.9328489020561,79.9328489020561,79.9328489020561,79.9328489020561,79.9328489020561,79.9328489020561,80.22958730956861,80.22958730956861,80.22958730956861,80.22958730956861,80.22958730956861,80.22958730956861,80.52632571708114,80.52632571708114,80.52632571708114,80.52632571708114,80.52632571708114,80.52632571708114,80.52632571708114,80.52632571708114,80.82306412459364,80.82306412459364,81.11980253210616,81.11980253210616,81.11980253210616,81.11980253210616,81.11980253210616,81.11980253210616,81.11980253210616,81.11980253210616,81.41654093961868,81.41654093961868,81.41654093961868,81.41654093961868,81.71327934713119,81.71327934713119,81.71327934713119,81.71327934713119,82.01001775464371,82.01001775464371,82.01001775464371,82.01001775464371,82.30675616215623,82.60349456966875,82.60349456966875,82.60349456966875,82.60349456966875,82.60349456966875,82.90023297718128,82.90023297718128,82.90023297718128,83.19697138469378,83.19697138469378,83.19697138469378,83.4937097922063,83.4937097922063,83.79044819971881,84.08718660723133],\"yaxis\":\"y\",\"type\":\"scatter\"}],                        {\"template\":{\"data\":{\"histogram2dcontour\":[{\"type\":\"histogram2dcontour\",\"colorbar\":{\"outlinewidth\":0,\"ticks\":\"\"},\"colorscale\":[[0.0,\"#0d0887\"],[0.1111111111111111,\"#46039f\"],[0.2222222222222222,\"#7201a8\"],[0.3333333333333333,\"#9c179e\"],[0.4444444444444444,\"#bd3786\"],[0.5555555555555556,\"#d8576b\"],[0.6666666666666666,\"#ed7953\"],[0.7777777777777778,\"#fb9f3a\"],[0.8888888888888888,\"#fdca26\"],[1.0,\"#f0f921\"]]}],\"choropleth\":[{\"type\":\"choropleth\",\"colorbar\":{\"outlinewidth\":0,\"ticks\":\"\"}}],\"histogram2d\":[{\"type\":\"histogram2d\",\"colorbar\":{\"outlinewidth\":0,\"ticks\":\"\"},\"colorscale\":[[0.0,\"#0d0887\"],[0.1111111111111111,\"#46039f\"],[0.2222222222222222,\"#7201a8\"],[0.3333333333333333,\"#9c179e\"],[0.4444444444444444,\"#bd3786\"],[0.5555555555555556,\"#d8576b\"],[0.6666666666666666,\"#ed7953\"],[0.7777777777777778,\"#fb9f3a\"],[0.8888888888888888,\"#fdca26\"],[1.0,\"#f0f921\"]]}],\"heatmap\":[{\"type\":\"heatmap\",\"colorbar\":{\"outlinewidth\":0,\"ticks\":\"\"},\"colorscale\":[[0.0,\"#0d0887\"],[0.1111111111111111,\"#46039f\"],[0.2222222222222222,\"#7201a8\"],[0.3333333333333333,\"#9c179e\"],[0.4444444444444444,\"#bd3786\"],[0.5555555555555556,\"#d8576b\"],[0.6666666666666666,\"#ed7953\"],[0.7777777777777778,\"#fb9f3a\"],[0.8888888888888888,\"#fdca26\"],[1.0,\"#f0f921\"]]}],\"heatmapgl\":[{\"type\":\"heatmapgl\",\"colorbar\":{\"outlinewidth\":0,\"ticks\":\"\"},\"colorscale\":[[0.0,\"#0d0887\"],[0.1111111111111111,\"#46039f\"],[0.2222222222222222,\"#7201a8\"],[0.3333333333333333,\"#9c179e\"],[0.4444444444444444,\"#bd3786\"],[0.5555555555555556,\"#d8576b\"],[0.6666666666666666,\"#ed7953\"],[0.7777777777777778,\"#fb9f3a\"],[0.8888888888888888,\"#fdca26\"],[1.0,\"#f0f921\"]]}],\"contourcarpet\":[{\"type\":\"contourcarpet\",\"colorbar\":{\"outlinewidth\":0,\"ticks\":\"\"}}],\"contour\":[{\"type\":\"contour\",\"colorbar\":{\"outlinewidth\":0,\"ticks\":\"\"},\"colorscale\":[[0.0,\"#0d0887\"],[0.1111111111111111,\"#46039f\"],[0.2222222222222222,\"#7201a8\"],[0.3333333333333333,\"#9c179e\"],[0.4444444444444444,\"#bd3786\"],[0.5555555555555556,\"#d8576b\"],[0.6666666666666666,\"#ed7953\"],[0.7777777777777778,\"#fb9f3a\"],[0.8888888888888888,\"#fdca26\"],[1.0,\"#f0f921\"]]}],\"surface\":[{\"type\":\"surface\",\"colorbar\":{\"outlinewidth\":0,\"ticks\":\"\"},\"colorscale\":[[0.0,\"#0d0887\"],[0.1111111111111111,\"#46039f\"],[0.2222222222222222,\"#7201a8\"],[0.3333333333333333,\"#9c179e\"],[0.4444444444444444,\"#bd3786\"],[0.5555555555555556,\"#d8576b\"],[0.6666666666666666,\"#ed7953\"],[0.7777777777777778,\"#fb9f3a\"],[0.8888888888888888,\"#fdca26\"],[1.0,\"#f0f921\"]]}],\"mesh3d\":[{\"type\":\"mesh3d\",\"colorbar\":{\"outlinewidth\":0,\"ticks\":\"\"}}],\"scatter\":[{\"fillpattern\":{\"fillmode\":\"overlay\",\"size\":10,\"solidity\":0.2},\"type\":\"scatter\"}],\"parcoords\":[{\"type\":\"parcoords\",\"line\":{\"colorbar\":{\"outlinewidth\":0,\"ticks\":\"\"}}}],\"scatterpolargl\":[{\"type\":\"scatterpolargl\",\"marker\":{\"colorbar\":{\"outlinewidth\":0,\"ticks\":\"\"}}}],\"bar\":[{\"error_x\":{\"color\":\"#2a3f5f\"},\"error_y\":{\"color\":\"#2a3f5f\"},\"marker\":{\"line\":{\"color\":\"#E5ECF6\",\"width\":0.5},\"pattern\":{\"fillmode\":\"overlay\",\"size\":10,\"solidity\":0.2}},\"type\":\"bar\"}],\"scattergeo\":[{\"type\":\"scattergeo\",\"marker\":{\"colorbar\":{\"outlinewidth\":0,\"ticks\":\"\"}}}],\"scatterpolar\":[{\"type\":\"scatterpolar\",\"marker\":{\"colorbar\":{\"outlinewidth\":0,\"ticks\":\"\"}}}],\"histogram\":[{\"marker\":{\"pattern\":{\"fillmode\":\"overlay\",\"size\":10,\"solidity\":0.2}},\"type\":\"histogram\"}],\"scattergl\":[{\"type\":\"scattergl\",\"marker\":{\"colorbar\":{\"outlinewidth\":0,\"ticks\":\"\"}}}],\"scatter3d\":[{\"type\":\"scatter3d\",\"line\":{\"colorbar\":{\"outlinewidth\":0,\"ticks\":\"\"}},\"marker\":{\"colorbar\":{\"outlinewidth\":0,\"ticks\":\"\"}}}],\"scattermapbox\":[{\"type\":\"scattermapbox\",\"marker\":{\"colorbar\":{\"outlinewidth\":0,\"ticks\":\"\"}}}],\"scatterternary\":[{\"type\":\"scatterternary\",\"marker\":{\"colorbar\":{\"outlinewidth\":0,\"ticks\":\"\"}}}],\"scattercarpet\":[{\"type\":\"scattercarpet\",\"marker\":{\"colorbar\":{\"outlinewidth\":0,\"ticks\":\"\"}}}],\"carpet\":[{\"aaxis\":{\"endlinecolor\":\"#2a3f5f\",\"gridcolor\":\"white\",\"linecolor\":\"white\",\"minorgridcolor\":\"white\",\"startlinecolor\":\"#2a3f5f\"},\"baxis\":{\"endlinecolor\":\"#2a3f5f\",\"gridcolor\":\"white\",\"linecolor\":\"white\",\"minorgridcolor\":\"white\",\"startlinecolor\":\"#2a3f5f\"},\"type\":\"carpet\"}],\"table\":[{\"cells\":{\"fill\":{\"color\":\"#EBF0F8\"},\"line\":{\"color\":\"white\"}},\"header\":{\"fill\":{\"color\":\"#C8D4E3\"},\"line\":{\"color\":\"white\"}},\"type\":\"table\"}],\"barpolar\":[{\"marker\":{\"line\":{\"color\":\"#E5ECF6\",\"width\":0.5},\"pattern\":{\"fillmode\":\"overlay\",\"size\":10,\"solidity\":0.2}},\"type\":\"barpolar\"}],\"pie\":[{\"automargin\":true,\"type\":\"pie\"}]},\"layout\":{\"autotypenumbers\":\"strict\",\"colorway\":[\"#636efa\",\"#EF553B\",\"#00cc96\",\"#ab63fa\",\"#FFA15A\",\"#19d3f3\",\"#FF6692\",\"#B6E880\",\"#FF97FF\",\"#FECB52\"],\"font\":{\"color\":\"#2a3f5f\"},\"hovermode\":\"closest\",\"hoverlabel\":{\"align\":\"left\"},\"paper_bgcolor\":\"white\",\"plot_bgcolor\":\"#E5ECF6\",\"polar\":{\"bgcolor\":\"#E5ECF6\",\"angularaxis\":{\"gridcolor\":\"white\",\"linecolor\":\"white\",\"ticks\":\"\"},\"radialaxis\":{\"gridcolor\":\"white\",\"linecolor\":\"white\",\"ticks\":\"\"}},\"ternary\":{\"bgcolor\":\"#E5ECF6\",\"aaxis\":{\"gridcolor\":\"white\",\"linecolor\":\"white\",\"ticks\":\"\"},\"baxis\":{\"gridcolor\":\"white\",\"linecolor\":\"white\",\"ticks\":\"\"},\"caxis\":{\"gridcolor\":\"white\",\"linecolor\":\"white\",\"ticks\":\"\"}},\"coloraxis\":{\"colorbar\":{\"outlinewidth\":0,\"ticks\":\"\"}},\"colorscale\":{\"sequential\":[[0.0,\"#0d0887\"],[0.1111111111111111,\"#46039f\"],[0.2222222222222222,\"#7201a8\"],[0.3333333333333333,\"#9c179e\"],[0.4444444444444444,\"#bd3786\"],[0.5555555555555556,\"#d8576b\"],[0.6666666666666666,\"#ed7953\"],[0.7777777777777778,\"#fb9f3a\"],[0.8888888888888888,\"#fdca26\"],[1.0,\"#f0f921\"]],\"sequentialminus\":[[0.0,\"#0d0887\"],[0.1111111111111111,\"#46039f\"],[0.2222222222222222,\"#7201a8\"],[0.3333333333333333,\"#9c179e\"],[0.4444444444444444,\"#bd3786\"],[0.5555555555555556,\"#d8576b\"],[0.6666666666666666,\"#ed7953\"],[0.7777777777777778,\"#fb9f3a\"],[0.8888888888888888,\"#fdca26\"],[1.0,\"#f0f921\"]],\"diverging\":[[0,\"#8e0152\"],[0.1,\"#c51b7d\"],[0.2,\"#de77ae\"],[0.3,\"#f1b6da\"],[0.4,\"#fde0ef\"],[0.5,\"#f7f7f7\"],[0.6,\"#e6f5d0\"],[0.7,\"#b8e186\"],[0.8,\"#7fbc41\"],[0.9,\"#4d9221\"],[1,\"#276419\"]]},\"xaxis\":{\"gridcolor\":\"white\",\"linecolor\":\"white\",\"ticks\":\"\",\"title\":{\"standoff\":15},\"zerolinecolor\":\"white\",\"automargin\":true,\"zerolinewidth\":2},\"yaxis\":{\"gridcolor\":\"white\",\"linecolor\":\"white\",\"ticks\":\"\",\"title\":{\"standoff\":15},\"zerolinecolor\":\"white\",\"automargin\":true,\"zerolinewidth\":2},\"scene\":{\"xaxis\":{\"backgroundcolor\":\"#E5ECF6\",\"gridcolor\":\"white\",\"linecolor\":\"white\",\"showbackground\":true,\"ticks\":\"\",\"zerolinecolor\":\"white\",\"gridwidth\":2},\"yaxis\":{\"backgroundcolor\":\"#E5ECF6\",\"gridcolor\":\"white\",\"linecolor\":\"white\",\"showbackground\":true,\"ticks\":\"\",\"zerolinecolor\":\"white\",\"gridwidth\":2},\"zaxis\":{\"backgroundcolor\":\"#E5ECF6\",\"gridcolor\":\"white\",\"linecolor\":\"white\",\"showbackground\":true,\"ticks\":\"\",\"zerolinecolor\":\"white\",\"gridwidth\":2}},\"shapedefaults\":{\"line\":{\"color\":\"#2a3f5f\"}},\"annotationdefaults\":{\"arrowcolor\":\"#2a3f5f\",\"arrowhead\":0,\"arrowwidth\":1},\"geo\":{\"bgcolor\":\"white\",\"landcolor\":\"#E5ECF6\",\"subunitcolor\":\"white\",\"showland\":true,\"showlakes\":true,\"lakecolor\":\"white\"},\"title\":{\"x\":0.05},\"mapbox\":{\"style\":\"light\"}}},\"xaxis\":{\"anchor\":\"y\",\"domain\":[0.0,1.0],\"title\":{\"text\":\"val\"}},\"yaxis\":{\"anchor\":\"x\",\"domain\":[0.0,1.0],\"title\":{\"text\":\"nrgy\"}},\"legend\":{\"tracegroupgap\":0},\"title\":{\"text\":\"Valence vs Energy\"}},                        {\"responsive\": true}                    ).then(function(){\n",
       "                            \n",
       "var gd = document.getElementById('aa416cb1-61f9-4979-8fcb-414bb23b6d10');\n",
       "var x = new MutationObserver(function (mutations, observer) {{\n",
       "        var display = window.getComputedStyle(gd).display;\n",
       "        if (!display || display === 'none') {{\n",
       "            console.log([gd, 'removed!']);\n",
       "            Plotly.purge(gd);\n",
       "            observer.disconnect();\n",
       "        }}\n",
       "}});\n",
       "\n",
       "// Listen for the removal of the full notebook cells\n",
       "var notebookContainer = gd.closest('#notebook-container');\n",
       "if (notebookContainer) {{\n",
       "    x.observe(notebookContainer, {childList: true});\n",
       "}}\n",
       "\n",
       "// Listen for the clearing of the current output cell\n",
       "var outputEl = gd.closest('.output');\n",
       "if (outputEl) {{\n",
       "    x.observe(outputEl, {childList: true});\n",
       "}}\n",
       "\n",
       "                        })                };                });            </script>        </div>"
      ]
     },
     "metadata": {},
     "output_type": "display_data"
    }
   ],
   "source": [
    "# Load the data\n",
    "df = pd.read_csv(\"spotify_top_music.csv\")\n",
    "\n",
    "fig = px.scatter(df, x='val', y='nrgy', trendline='ols', title='Valence vs Energy')\n",
    "\n",
    "# Show the plot\n",
    "fig.show()\n"
   ]
  },
  {
   "cell_type": "markdown",
   "id": "b337cf1b",
   "metadata": {},
   "source": [
    "We can say that a positive song is also energetic"
   ]
  },
  {
   "cell_type": "code",
   "execution_count": 29,
   "id": "aee2a719",
   "metadata": {},
   "outputs": [
    {
     "data": {
      "application/vnd.plotly.v1+json": {
       "config": {
        "plotlyServerURL": "https://plot.ly"
       },
       "data": [
        {
         "hovertemplate": "val=%{x}<br>dnce=%{y}<extra></extra>",
         "legendgroup": "",
         "marker": {
          "color": "#636efa",
          "symbol": "circle"
         },
         "mode": "markers",
         "name": "",
         "orientation": "v",
         "showlegend": false,
         "type": "scatter",
         "x": [
          80,
          64,
          71,
          71,
          43,
          54,
          82,
          38,
          14,
          61,
          47,
          48,
          63,
          71,
          78,
          33,
          83,
          44,
          37,
          76,
          40,
          45,
          74,
          73,
          65,
          74,
          88,
          73,
          59,
          40,
          79,
          83,
          52,
          41,
          55,
          80,
          7,
          79,
          84,
          26,
          72,
          10,
          16,
          85,
          7,
          54,
          57,
          65,
          58,
          63,
          45,
          16,
          28,
          53,
          43,
          52,
          76,
          62,
          65,
          23,
          81,
          88,
          49,
          10,
          48,
          30,
          35,
          65,
          68,
          65,
          26,
          57,
          58,
          70,
          40,
          80,
          36,
          76,
          45,
          79,
          81,
          52,
          53,
          32,
          66,
          60,
          38,
          26,
          39,
          70,
          89,
          73,
          89,
          57,
          9,
          58,
          19,
          59,
          56,
          69,
          37,
          72,
          65,
          53,
          30,
          87,
          20,
          55,
          89,
          68,
          66,
          92,
          47,
          75,
          68,
          55,
          75,
          62,
          68,
          45,
          53,
          65,
          39,
          33,
          77,
          78,
          44,
          57,
          88,
          71,
          64,
          78,
          74,
          39,
          95,
          86,
          80,
          48,
          75,
          69,
          64,
          29,
          44,
          63,
          46,
          48,
          44,
          86,
          35,
          30,
          84,
          50,
          75,
          80,
          18,
          11,
          51,
          73,
          29,
          49,
          91,
          58,
          67,
          85,
          76,
          88,
          54,
          23,
          25,
          66,
          16,
          86,
          36,
          40,
          82,
          68,
          37,
          40,
          52,
          77,
          43,
          67,
          58,
          65,
          35,
          59,
          23,
          34,
          49,
          58,
          65,
          56,
          11,
          28,
          33,
          73,
          38,
          66,
          90,
          45,
          51,
          50,
          73,
          61,
          79,
          45,
          58,
          7,
          66,
          45,
          33,
          18,
          74,
          96,
          93,
          94,
          35,
          46,
          88,
          94,
          24,
          63,
          57,
          42,
          21,
          52,
          20,
          71,
          33,
          44,
          38,
          76,
          64,
          25,
          50,
          72,
          74,
          80,
          98,
          52,
          66,
          17,
          84,
          57,
          46,
          25,
          22,
          82,
          4,
          9,
          16,
          90,
          62,
          21,
          55,
          23,
          40,
          65,
          64,
          61,
          56,
          19,
          56,
          39,
          57,
          53,
          59,
          46,
          59,
          49,
          14,
          52,
          93,
          44,
          88,
          41,
          35,
          28,
          44,
          79,
          76,
          66,
          74,
          45,
          37,
          34,
          28,
          24,
          33,
          35,
          59,
          28,
          85,
          50,
          55,
          29,
          83,
          56,
          62,
          53,
          91,
          43,
          94,
          45,
          85,
          71,
          31,
          48,
          64,
          64,
          8,
          44,
          37,
          95,
          8,
          33,
          34,
          79,
          65,
          21,
          60,
          74,
          88,
          79,
          96,
          74,
          85,
          29,
          40,
          76,
          52,
          48,
          48,
          73,
          60,
          44,
          64,
          86,
          78,
          28,
          35,
          4,
          40,
          9,
          59,
          27,
          39,
          26,
          66,
          52,
          93,
          8,
          9,
          28,
          72,
          79,
          83,
          39,
          54,
          8,
          88,
          65,
          27,
          14,
          52,
          90,
          42,
          17,
          37,
          47,
          15,
          30,
          34,
          70,
          59,
          45,
          42,
          56,
          76,
          38,
          69,
          29,
          51,
          80,
          52,
          34,
          39,
          34,
          50,
          84,
          75,
          82,
          40,
          82,
          30,
          25,
          43,
          47,
          34,
          50,
          65,
          40,
          20,
          8,
          33,
          66,
          43,
          34,
          44,
          35,
          26,
          27,
          23,
          73,
          32,
          25,
          32,
          56,
          56,
          64,
          27,
          72,
          12,
          18,
          20,
          58,
          53,
          49,
          80,
          64,
          73,
          26,
          32,
          44,
          16,
          52,
          14,
          40,
          45,
          83,
          69,
          69,
          0,
          93,
          66,
          49,
          75,
          86,
          16,
          59,
          36,
          61,
          54,
          52,
          34,
          51,
          74,
          9,
          54,
          81,
          32,
          82,
          73,
          13,
          25,
          60,
          57,
          51,
          57,
          47,
          41,
          23,
          62,
          34,
          68,
          52,
          16,
          46,
          47,
          49,
          72,
          63,
          55,
          65,
          58,
          52,
          14,
          54,
          86,
          85,
          33,
          86,
          53,
          13,
          53,
          67,
          21,
          59,
          65,
          27,
          63,
          33,
          84,
          78,
          47,
          21,
          81,
          25,
          59,
          39,
          65,
          61,
          97,
          35,
          51,
          49,
          31,
          10,
          80,
          51,
          38,
          74,
          29,
          89,
          28,
          55,
          42,
          93,
          36,
          61,
          19,
          62,
          63,
          48,
          46,
          45,
          50,
          51,
          32,
          73,
          32,
          37,
          48,
          21,
          91,
          19,
          68,
          74,
          68,
          15,
          47,
          20,
          18,
          32,
          41,
          45,
          19,
          86,
          53,
          62,
          20,
          42,
          90,
          45,
          65,
          25,
          42,
          23,
          58,
          50,
          27,
          76,
          57,
          9,
          45,
          75,
          35,
          67,
          50,
          67,
          41,
          48,
          40,
          87,
          55,
          95,
          23,
          84,
          35,
          61,
          35,
          52,
          45,
          52,
          14,
          91,
          62,
          61,
          16,
          61,
          65,
          24,
          23
         ],
         "xaxis": "x",
         "y": [
          67,
          75,
          76,
          70,
          64,
          73,
          75,
          52,
          48,
          79,
          62,
          62,
          77,
          83,
          44,
          78,
          72,
          82,
          63,
          83,
          80,
          44,
          73,
          70,
          53,
          48,
          61,
          65,
          72,
          79,
          70,
          68,
          75,
          60,
          50,
          81,
          29,
          65,
          72,
          50,
          51,
          71,
          31,
          80,
          23,
          76,
          64,
          66,
          45,
          67,
          67,
          42,
          56,
          67,
          64,
          73,
          73,
          72,
          65,
          71,
          69,
          58,
          59,
          63,
          62,
          55,
          75,
          74,
          64,
          63,
          66,
          73,
          69,
          71,
          61,
          71,
          58,
          62,
          69,
          70,
          75,
          52,
          66,
          65,
          70,
          73,
          61,
          30,
          65,
          59,
          71,
          58,
          82,
          64,
          35,
          45,
          30,
          77,
          68,
          73,
          50,
          65,
          64,
          80,
          60,
          73,
          45,
          74,
          73,
          62,
          78,
          86,
          61,
          63,
          56,
          67,
          75,
          72,
          56,
          72,
          60,
          67,
          67,
          72,
          68,
          76,
          72,
          51,
          69,
          79,
          59,
          68,
          38,
          56,
          72,
          70,
          65,
          58,
          60,
          51,
          53,
          60,
          78,
          42,
          55,
          61,
          61,
          79,
          53,
          38,
          85,
          50,
          63,
          71,
          51,
          57,
          54,
          47,
          77,
          65,
          63,
          57,
          83,
          63,
          55,
          63,
          67,
          56,
          66,
          78,
          52,
          65,
          80,
          80,
          71,
          72,
          66,
          68,
          76,
          85,
          56,
          47,
          56,
          58,
          67,
          58,
          45,
          55,
          61,
          55,
          69,
          55,
          28,
          63,
          59,
          67,
          70,
          62,
          68,
          68,
          36,
          72,
          69,
          60,
          77,
          53,
          67,
          51,
          71,
          65,
          42,
          42,
          60,
          65,
          77,
          65,
          65,
          55,
          74,
          87,
          51,
          66,
          68,
          69,
          50,
          50,
          58,
          78,
          56,
          49,
          91,
          76,
          72,
          44,
          56,
          70,
          72,
          69,
          71,
          76,
          79,
          41,
          72,
          62,
          60,
          50,
          47,
          69,
          35,
          45,
          55,
          93,
          29,
          47,
          60,
          41,
          59,
          96,
          68,
          80,
          68,
          53,
          63,
          78,
          56,
          64,
          74,
          59,
          78,
          68,
          58,
          61,
          86,
          57,
          75,
          65,
          58,
          26,
          66,
          85,
          75,
          78,
          69,
          83,
          67,
          74,
          58,
          47,
          28,
          41,
          88,
          69,
          81,
          42,
          80,
          48,
          66,
          75,
          62,
          60,
          63,
          59,
          82,
          68,
          71,
          83,
          57,
          49,
          69,
          63,
          32,
          67,
          58,
          78,
          36,
          38,
          59,
          69,
          68,
          53,
          62,
          81,
          75,
          67,
          81,
          70,
          79,
          63,
          71,
          77,
          38,
          67,
          39,
          71,
          71,
          51,
          64,
          74,
          76,
          69,
          52,
          47,
          65,
          54,
          60,
          48,
          67,
          69,
          57,
          47,
          68,
          64,
          26,
          57,
          72,
          85,
          80,
          62,
          88,
          28,
          72,
          90,
          48,
          58,
          61,
          77,
          53,
          50,
          62,
          63,
          67,
          67,
          77,
          67,
          80,
          57,
          63,
          73,
          75,
          76,
          66,
          66,
          73,
          77,
          61,
          59,
          79,
          71,
          61,
          93,
          75,
          76,
          65,
          55,
          66,
          70,
          59,
          81,
          59,
          63,
          56,
          76,
          67,
          32,
          38,
          61,
          59,
          55,
          55,
          55,
          63,
          47,
          56,
          59,
          61,
          56,
          60,
          69,
          93,
          71,
          38,
          68,
          37,
          58,
          62,
          70,
          60,
          57,
          74,
          73,
          63,
          52,
          83,
          65,
          37,
          75,
          39,
          57,
          75,
          83,
          70,
          80,
          0,
          83,
          75,
          68,
          44,
          85,
          65,
          77,
          56,
          65,
          69,
          64,
          57,
          61,
          72,
          74,
          82,
          61,
          58,
          65,
          67,
          61,
          65,
          33,
          74,
          74,
          84,
          45,
          69,
          53,
          53,
          59,
          63,
          70,
          31,
          93,
          40,
          69,
          71,
          82,
          87,
          71,
          65,
          80,
          76,
          72,
          77,
          74,
          55,
          65,
          73,
          74,
          64,
          70,
          37,
          69,
          74,
          51,
          70,
          77,
          68,
          57,
          60,
          27,
          76,
          43,
          79,
          77,
          82,
          76,
          87,
          70,
          84,
          62,
          72,
          26,
          78,
          59,
          51,
          66,
          52,
          71,
          57,
          65,
          80,
          70,
          59,
          68,
          59,
          74,
          67,
          70,
          66,
          66,
          47,
          77,
          53,
          97,
          63,
          71,
          69,
          52,
          64,
          46,
          77,
          84,
          63,
          65,
          76,
          92,
          54,
          57,
          63,
          66,
          39,
          77,
          53,
          48,
          68,
          73,
          76,
          75,
          75,
          63,
          58,
          79,
          75,
          58,
          97,
          58,
          76,
          51,
          50,
          76,
          48,
          86,
          62,
          69,
          72,
          67,
          69,
          80,
          64,
          84,
          67,
          80,
          90,
          81,
          53,
          73,
          85,
          59,
          70,
          72,
          84,
          74,
          61,
          75,
          53,
          60,
          70
         ],
         "yaxis": "y"
        },
        {
         "hovertemplate": "<b>OLS trendline</b><br>dnce = 0.298141 * val + 48.8092<br>R<sup>2</sup>=0.251699<br><br>val=%{x}<br>dnce=%{y} <b>(trend)</b><extra></extra>",
         "legendgroup": "",
         "marker": {
          "color": "#636efa",
          "symbol": "circle"
         },
         "mode": "lines",
         "name": "",
         "showlegend": false,
         "type": "scatter",
         "x": [
          0,
          4,
          4,
          7,
          7,
          7,
          8,
          8,
          8,
          8,
          8,
          9,
          9,
          9,
          9,
          9,
          9,
          10,
          10,
          10,
          11,
          11,
          12,
          13,
          13,
          14,
          14,
          14,
          14,
          14,
          14,
          15,
          15,
          16,
          16,
          16,
          16,
          16,
          16,
          16,
          16,
          17,
          17,
          18,
          18,
          18,
          18,
          19,
          19,
          19,
          19,
          19,
          20,
          20,
          20,
          20,
          20,
          20,
          21,
          21,
          21,
          21,
          21,
          21,
          22,
          23,
          23,
          23,
          23,
          23,
          23,
          23,
          23,
          23,
          24,
          24,
          24,
          25,
          25,
          25,
          25,
          25,
          25,
          25,
          25,
          26,
          26,
          26,
          26,
          26,
          26,
          27,
          27,
          27,
          27,
          27,
          27,
          28,
          28,
          28,
          28,
          28,
          28,
          28,
          28,
          29,
          29,
          29,
          29,
          29,
          29,
          30,
          30,
          30,
          30,
          30,
          31,
          31,
          32,
          32,
          32,
          32,
          32,
          32,
          32,
          32,
          33,
          33,
          33,
          33,
          33,
          33,
          33,
          33,
          33,
          33,
          34,
          34,
          34,
          34,
          34,
          34,
          34,
          34,
          34,
          34,
          35,
          35,
          35,
          35,
          35,
          35,
          35,
          35,
          35,
          35,
          35,
          35,
          36,
          36,
          36,
          36,
          37,
          37,
          37,
          37,
          37,
          37,
          37,
          38,
          38,
          38,
          38,
          38,
          38,
          39,
          39,
          39,
          39,
          39,
          39,
          39,
          39,
          40,
          40,
          40,
          40,
          40,
          40,
          40,
          40,
          40,
          40,
          40,
          40,
          41,
          41,
          41,
          41,
          41,
          42,
          42,
          42,
          42,
          42,
          42,
          43,
          43,
          43,
          43,
          43,
          43,
          44,
          44,
          44,
          44,
          44,
          44,
          44,
          44,
          44,
          44,
          44,
          45,
          45,
          45,
          45,
          45,
          45,
          45,
          45,
          45,
          45,
          45,
          45,
          45,
          45,
          45,
          45,
          46,
          46,
          46,
          46,
          46,
          46,
          47,
          47,
          47,
          47,
          47,
          47,
          47,
          47,
          48,
          48,
          48,
          48,
          48,
          48,
          48,
          48,
          48,
          48,
          49,
          49,
          49,
          49,
          49,
          49,
          49,
          49,
          50,
          50,
          50,
          50,
          50,
          50,
          50,
          50,
          50,
          51,
          51,
          51,
          51,
          51,
          51,
          51,
          51,
          52,
          52,
          52,
          52,
          52,
          52,
          52,
          52,
          52,
          52,
          52,
          52,
          52,
          52,
          52,
          52,
          52,
          53,
          53,
          53,
          53,
          53,
          53,
          53,
          53,
          53,
          53,
          54,
          54,
          54,
          54,
          54,
          54,
          54,
          55,
          55,
          55,
          55,
          55,
          55,
          55,
          55,
          56,
          56,
          56,
          56,
          56,
          56,
          56,
          56,
          57,
          57,
          57,
          57,
          57,
          57,
          57,
          57,
          57,
          57,
          58,
          58,
          58,
          58,
          58,
          58,
          58,
          58,
          58,
          58,
          59,
          59,
          59,
          59,
          59,
          59,
          59,
          59,
          59,
          59,
          59,
          60,
          60,
          60,
          60,
          61,
          61,
          61,
          61,
          61,
          61,
          61,
          61,
          61,
          62,
          62,
          62,
          62,
          62,
          62,
          62,
          62,
          63,
          63,
          63,
          63,
          63,
          63,
          63,
          64,
          64,
          64,
          64,
          64,
          64,
          64,
          64,
          64,
          64,
          65,
          65,
          65,
          65,
          65,
          65,
          65,
          65,
          65,
          65,
          65,
          65,
          65,
          65,
          65,
          65,
          65,
          65,
          66,
          66,
          66,
          66,
          66,
          66,
          66,
          66,
          66,
          66,
          67,
          67,
          67,
          67,
          67,
          68,
          68,
          68,
          68,
          68,
          68,
          68,
          68,
          69,
          69,
          69,
          69,
          69,
          70,
          70,
          70,
          71,
          71,
          71,
          71,
          71,
          71,
          72,
          72,
          72,
          72,
          72,
          72,
          73,
          73,
          73,
          73,
          73,
          73,
          73,
          73,
          73,
          73,
          73,
          74,
          74,
          74,
          74,
          74,
          74,
          74,
          74,
          74,
          74,
          74,
          75,
          75,
          75,
          75,
          75,
          75,
          75,
          76,
          76,
          76,
          76,
          76,
          76,
          76,
          76,
          76,
          77,
          77,
          78,
          78,
          78,
          78,
          78,
          79,
          79,
          79,
          79,
          79,
          79,
          79,
          79,
          80,
          80,
          80,
          80,
          80,
          80,
          80,
          80,
          80,
          81,
          81,
          81,
          81,
          82,
          82,
          82,
          82,
          82,
          82,
          83,
          83,
          83,
          83,
          83,
          84,
          84,
          84,
          84,
          84,
          84,
          85,
          85,
          85,
          85,
          85,
          85,
          86,
          86,
          86,
          86,
          86,
          86,
          86,
          86,
          87,
          87,
          88,
          88,
          88,
          88,
          88,
          88,
          88,
          88,
          89,
          89,
          89,
          89,
          90,
          90,
          90,
          90,
          91,
          91,
          91,
          91,
          92,
          93,
          93,
          93,
          93,
          93,
          94,
          94,
          94,
          95,
          95,
          95,
          96,
          96,
          97,
          98
         ],
         "xaxis": "x",
         "y": [
          48.80919975331409,
          50.0017632676989,
          50.0017632676989,
          50.896185903487506,
          50.896185903487506,
          50.896185903487506,
          51.19432678208371,
          51.19432678208371,
          51.19432678208371,
          51.19432678208371,
          51.19432678208371,
          51.49246766067991,
          51.49246766067991,
          51.49246766067991,
          51.49246766067991,
          51.49246766067991,
          51.49246766067991,
          51.790608539276114,
          51.790608539276114,
          51.790608539276114,
          52.088749417872314,
          52.088749417872314,
          52.386890296468515,
          52.685031175064715,
          52.685031175064715,
          52.98317205366092,
          52.98317205366092,
          52.98317205366092,
          52.98317205366092,
          52.98317205366092,
          52.98317205366092,
          53.28131293225712,
          53.28131293225712,
          53.57945381085332,
          53.57945381085332,
          53.57945381085332,
          53.57945381085332,
          53.57945381085332,
          53.57945381085332,
          53.57945381085332,
          53.57945381085332,
          53.87759468944952,
          53.87759468944952,
          54.17573556804573,
          54.17573556804573,
          54.17573556804573,
          54.17573556804573,
          54.47387644664193,
          54.47387644664193,
          54.47387644664193,
          54.47387644664193,
          54.47387644664193,
          54.77201732523813,
          54.77201732523813,
          54.77201732523813,
          54.77201732523813,
          54.77201732523813,
          54.77201732523813,
          55.07015820383433,
          55.07015820383433,
          55.07015820383433,
          55.07015820383433,
          55.07015820383433,
          55.07015820383433,
          55.36829908243054,
          55.66643996102674,
          55.66643996102674,
          55.66643996102674,
          55.66643996102674,
          55.66643996102674,
          55.66643996102674,
          55.66643996102674,
          55.66643996102674,
          55.66643996102674,
          55.96458083962294,
          55.96458083962294,
          55.96458083962294,
          56.26272171821914,
          56.26272171821914,
          56.26272171821914,
          56.26272171821914,
          56.26272171821914,
          56.26272171821914,
          56.26272171821914,
          56.26272171821914,
          56.56086259681535,
          56.56086259681535,
          56.56086259681535,
          56.56086259681535,
          56.56086259681535,
          56.56086259681535,
          56.85900347541155,
          56.85900347541155,
          56.85900347541155,
          56.85900347541155,
          56.85900347541155,
          56.85900347541155,
          57.15714435400775,
          57.15714435400775,
          57.15714435400775,
          57.15714435400775,
          57.15714435400775,
          57.15714435400775,
          57.15714435400775,
          57.15714435400775,
          57.455285232603956,
          57.455285232603956,
          57.455285232603956,
          57.455285232603956,
          57.455285232603956,
          57.455285232603956,
          57.753426111200156,
          57.753426111200156,
          57.753426111200156,
          57.753426111200156,
          57.753426111200156,
          58.051566989796356,
          58.051566989796356,
          58.34970786839256,
          58.34970786839256,
          58.34970786839256,
          58.34970786839256,
          58.34970786839256,
          58.34970786839256,
          58.34970786839256,
          58.34970786839256,
          58.64784874698876,
          58.64784874698876,
          58.64784874698876,
          58.64784874698876,
          58.64784874698876,
          58.64784874698876,
          58.64784874698876,
          58.64784874698876,
          58.64784874698876,
          58.64784874698876,
          58.945989625584964,
          58.945989625584964,
          58.945989625584964,
          58.945989625584964,
          58.945989625584964,
          58.945989625584964,
          58.945989625584964,
          58.945989625584964,
          58.945989625584964,
          58.945989625584964,
          59.244130504181165,
          59.244130504181165,
          59.244130504181165,
          59.244130504181165,
          59.244130504181165,
          59.244130504181165,
          59.244130504181165,
          59.244130504181165,
          59.244130504181165,
          59.244130504181165,
          59.244130504181165,
          59.244130504181165,
          59.542271382777365,
          59.542271382777365,
          59.542271382777365,
          59.542271382777365,
          59.84041226137357,
          59.84041226137357,
          59.84041226137357,
          59.84041226137357,
          59.84041226137357,
          59.84041226137357,
          59.84041226137357,
          60.13855313996977,
          60.13855313996977,
          60.13855313996977,
          60.13855313996977,
          60.13855313996977,
          60.13855313996977,
          60.43669401856597,
          60.43669401856597,
          60.43669401856597,
          60.43669401856597,
          60.43669401856597,
          60.43669401856597,
          60.43669401856597,
          60.43669401856597,
          60.73483489716217,
          60.73483489716217,
          60.73483489716217,
          60.73483489716217,
          60.73483489716217,
          60.73483489716217,
          60.73483489716217,
          60.73483489716217,
          60.73483489716217,
          60.73483489716217,
          60.73483489716217,
          60.73483489716217,
          61.03297577575837,
          61.03297577575837,
          61.03297577575837,
          61.03297577575837,
          61.03297577575837,
          61.33111665435458,
          61.33111665435458,
          61.33111665435458,
          61.33111665435458,
          61.33111665435458,
          61.33111665435458,
          61.62925753295078,
          61.62925753295078,
          61.62925753295078,
          61.62925753295078,
          61.62925753295078,
          61.62925753295078,
          61.92739841154698,
          61.92739841154698,
          61.92739841154698,
          61.92739841154698,
          61.92739841154698,
          61.92739841154698,
          61.92739841154698,
          61.92739841154698,
          61.92739841154698,
          61.92739841154698,
          61.92739841154698,
          62.22553929014319,
          62.22553929014319,
          62.22553929014319,
          62.22553929014319,
          62.22553929014319,
          62.22553929014319,
          62.22553929014319,
          62.22553929014319,
          62.22553929014319,
          62.22553929014319,
          62.22553929014319,
          62.22553929014319,
          62.22553929014319,
          62.22553929014319,
          62.22553929014319,
          62.22553929014319,
          62.52368016873939,
          62.52368016873939,
          62.52368016873939,
          62.52368016873939,
          62.52368016873939,
          62.52368016873939,
          62.82182104733559,
          62.82182104733559,
          62.82182104733559,
          62.82182104733559,
          62.82182104733559,
          62.82182104733559,
          62.82182104733559,
          62.82182104733559,
          63.11996192593179,
          63.11996192593179,
          63.11996192593179,
          63.11996192593179,
          63.11996192593179,
          63.11996192593179,
          63.11996192593179,
          63.11996192593179,
          63.11996192593179,
          63.11996192593179,
          63.418102804528,
          63.418102804528,
          63.418102804528,
          63.418102804528,
          63.418102804528,
          63.418102804528,
          63.418102804528,
          63.418102804528,
          63.7162436831242,
          63.7162436831242,
          63.7162436831242,
          63.7162436831242,
          63.7162436831242,
          63.7162436831242,
          63.7162436831242,
          63.7162436831242,
          63.7162436831242,
          64.0143845617204,
          64.0143845617204,
          64.0143845617204,
          64.0143845617204,
          64.0143845617204,
          64.0143845617204,
          64.0143845617204,
          64.0143845617204,
          64.3125254403166,
          64.3125254403166,
          64.3125254403166,
          64.3125254403166,
          64.3125254403166,
          64.3125254403166,
          64.3125254403166,
          64.3125254403166,
          64.3125254403166,
          64.3125254403166,
          64.3125254403166,
          64.3125254403166,
          64.3125254403166,
          64.3125254403166,
          64.3125254403166,
          64.3125254403166,
          64.3125254403166,
          64.6106663189128,
          64.6106663189128,
          64.6106663189128,
          64.6106663189128,
          64.6106663189128,
          64.6106663189128,
          64.6106663189128,
          64.6106663189128,
          64.6106663189128,
          64.6106663189128,
          64.908807197509,
          64.908807197509,
          64.908807197509,
          64.908807197509,
          64.908807197509,
          64.908807197509,
          64.908807197509,
          65.2069480761052,
          65.2069480761052,
          65.2069480761052,
          65.2069480761052,
          65.2069480761052,
          65.2069480761052,
          65.2069480761052,
          65.2069480761052,
          65.5050889547014,
          65.5050889547014,
          65.5050889547014,
          65.5050889547014,
          65.5050889547014,
          65.5050889547014,
          65.5050889547014,
          65.5050889547014,
          65.8032298332976,
          65.8032298332976,
          65.8032298332976,
          65.8032298332976,
          65.8032298332976,
          65.8032298332976,
          65.8032298332976,
          65.8032298332976,
          65.8032298332976,
          65.8032298332976,
          66.10137071189382,
          66.10137071189382,
          66.10137071189382,
          66.10137071189382,
          66.10137071189382,
          66.10137071189382,
          66.10137071189382,
          66.10137071189382,
          66.10137071189382,
          66.10137071189382,
          66.39951159049002,
          66.39951159049002,
          66.39951159049002,
          66.39951159049002,
          66.39951159049002,
          66.39951159049002,
          66.39951159049002,
          66.39951159049002,
          66.39951159049002,
          66.39951159049002,
          66.39951159049002,
          66.69765246908622,
          66.69765246908622,
          66.69765246908622,
          66.69765246908622,
          66.99579334768242,
          66.99579334768242,
          66.99579334768242,
          66.99579334768242,
          66.99579334768242,
          66.99579334768242,
          66.99579334768242,
          66.99579334768242,
          66.99579334768242,
          67.29393422627862,
          67.29393422627862,
          67.29393422627862,
          67.29393422627862,
          67.29393422627862,
          67.29393422627862,
          67.29393422627862,
          67.29393422627862,
          67.59207510487482,
          67.59207510487482,
          67.59207510487482,
          67.59207510487482,
          67.59207510487482,
          67.59207510487482,
          67.59207510487482,
          67.89021598347102,
          67.89021598347102,
          67.89021598347102,
          67.89021598347102,
          67.89021598347102,
          67.89021598347102,
          67.89021598347102,
          67.89021598347102,
          67.89021598347102,
          67.89021598347102,
          68.18835686206722,
          68.18835686206722,
          68.18835686206722,
          68.18835686206722,
          68.18835686206722,
          68.18835686206722,
          68.18835686206722,
          68.18835686206722,
          68.18835686206722,
          68.18835686206722,
          68.18835686206722,
          68.18835686206722,
          68.18835686206722,
          68.18835686206722,
          68.18835686206722,
          68.18835686206722,
          68.18835686206722,
          68.18835686206722,
          68.48649774066342,
          68.48649774066342,
          68.48649774066342,
          68.48649774066342,
          68.48649774066342,
          68.48649774066342,
          68.48649774066342,
          68.48649774066342,
          68.48649774066342,
          68.48649774066342,
          68.78463861925964,
          68.78463861925964,
          68.78463861925964,
          68.78463861925964,
          68.78463861925964,
          69.08277949785584,
          69.08277949785584,
          69.08277949785584,
          69.08277949785584,
          69.08277949785584,
          69.08277949785584,
          69.08277949785584,
          69.08277949785584,
          69.38092037645204,
          69.38092037645204,
          69.38092037645204,
          69.38092037645204,
          69.38092037645204,
          69.67906125504824,
          69.67906125504824,
          69.67906125504824,
          69.97720213364444,
          69.97720213364444,
          69.97720213364444,
          69.97720213364444,
          69.97720213364444,
          69.97720213364444,
          70.27534301224064,
          70.27534301224064,
          70.27534301224064,
          70.27534301224064,
          70.27534301224064,
          70.27534301224064,
          70.57348389083685,
          70.57348389083685,
          70.57348389083685,
          70.57348389083685,
          70.57348389083685,
          70.57348389083685,
          70.57348389083685,
          70.57348389083685,
          70.57348389083685,
          70.57348389083685,
          70.57348389083685,
          70.87162476943305,
          70.87162476943305,
          70.87162476943305,
          70.87162476943305,
          70.87162476943305,
          70.87162476943305,
          70.87162476943305,
          70.87162476943305,
          70.87162476943305,
          70.87162476943305,
          70.87162476943305,
          71.16976564802926,
          71.16976564802926,
          71.16976564802926,
          71.16976564802926,
          71.16976564802926,
          71.16976564802926,
          71.16976564802926,
          71.46790652662546,
          71.46790652662546,
          71.46790652662546,
          71.46790652662546,
          71.46790652662546,
          71.46790652662546,
          71.46790652662546,
          71.46790652662546,
          71.46790652662546,
          71.76604740522166,
          71.76604740522166,
          72.06418828381786,
          72.06418828381786,
          72.06418828381786,
          72.06418828381786,
          72.06418828381786,
          72.36232916241406,
          72.36232916241406,
          72.36232916241406,
          72.36232916241406,
          72.36232916241406,
          72.36232916241406,
          72.36232916241406,
          72.36232916241406,
          72.66047004101026,
          72.66047004101026,
          72.66047004101026,
          72.66047004101026,
          72.66047004101026,
          72.66047004101026,
          72.66047004101026,
          72.66047004101026,
          72.66047004101026,
          72.95861091960646,
          72.95861091960646,
          72.95861091960646,
          72.95861091960646,
          73.25675179820266,
          73.25675179820266,
          73.25675179820266,
          73.25675179820266,
          73.25675179820266,
          73.25675179820266,
          73.55489267679887,
          73.55489267679887,
          73.55489267679887,
          73.55489267679887,
          73.55489267679887,
          73.85303355539507,
          73.85303355539507,
          73.85303355539507,
          73.85303355539507,
          73.85303355539507,
          73.85303355539507,
          74.15117443399127,
          74.15117443399127,
          74.15117443399127,
          74.15117443399127,
          74.15117443399127,
          74.15117443399127,
          74.44931531258747,
          74.44931531258747,
          74.44931531258747,
          74.44931531258747,
          74.44931531258747,
          74.44931531258747,
          74.44931531258747,
          74.44931531258747,
          74.74745619118367,
          74.74745619118367,
          75.04559706977987,
          75.04559706977987,
          75.04559706977987,
          75.04559706977987,
          75.04559706977987,
          75.04559706977987,
          75.04559706977987,
          75.04559706977987,
          75.34373794837609,
          75.34373794837609,
          75.34373794837609,
          75.34373794837609,
          75.64187882697229,
          75.64187882697229,
          75.64187882697229,
          75.64187882697229,
          75.94001970556849,
          75.94001970556849,
          75.94001970556849,
          75.94001970556849,
          76.23816058416469,
          76.53630146276089,
          76.53630146276089,
          76.53630146276089,
          76.53630146276089,
          76.53630146276089,
          76.83444234135709,
          76.83444234135709,
          76.83444234135709,
          77.13258321995329,
          77.13258321995329,
          77.13258321995329,
          77.43072409854949,
          77.43072409854949,
          77.72886497714569,
          78.0270058557419
         ],
         "yaxis": "y"
        }
       ],
       "layout": {
        "legend": {
         "tracegroupgap": 0
        },
        "template": {
         "data": {
          "bar": [
           {
            "error_x": {
             "color": "#2a3f5f"
            },
            "error_y": {
             "color": "#2a3f5f"
            },
            "marker": {
             "line": {
              "color": "#E5ECF6",
              "width": 0.5
             },
             "pattern": {
              "fillmode": "overlay",
              "size": 10,
              "solidity": 0.2
             }
            },
            "type": "bar"
           }
          ],
          "barpolar": [
           {
            "marker": {
             "line": {
              "color": "#E5ECF6",
              "width": 0.5
             },
             "pattern": {
              "fillmode": "overlay",
              "size": 10,
              "solidity": 0.2
             }
            },
            "type": "barpolar"
           }
          ],
          "carpet": [
           {
            "aaxis": {
             "endlinecolor": "#2a3f5f",
             "gridcolor": "white",
             "linecolor": "white",
             "minorgridcolor": "white",
             "startlinecolor": "#2a3f5f"
            },
            "baxis": {
             "endlinecolor": "#2a3f5f",
             "gridcolor": "white",
             "linecolor": "white",
             "minorgridcolor": "white",
             "startlinecolor": "#2a3f5f"
            },
            "type": "carpet"
           }
          ],
          "choropleth": [
           {
            "colorbar": {
             "outlinewidth": 0,
             "ticks": ""
            },
            "type": "choropleth"
           }
          ],
          "contour": [
           {
            "colorbar": {
             "outlinewidth": 0,
             "ticks": ""
            },
            "colorscale": [
             [
              0,
              "#0d0887"
             ],
             [
              0.1111111111111111,
              "#46039f"
             ],
             [
              0.2222222222222222,
              "#7201a8"
             ],
             [
              0.3333333333333333,
              "#9c179e"
             ],
             [
              0.4444444444444444,
              "#bd3786"
             ],
             [
              0.5555555555555556,
              "#d8576b"
             ],
             [
              0.6666666666666666,
              "#ed7953"
             ],
             [
              0.7777777777777778,
              "#fb9f3a"
             ],
             [
              0.8888888888888888,
              "#fdca26"
             ],
             [
              1,
              "#f0f921"
             ]
            ],
            "type": "contour"
           }
          ],
          "contourcarpet": [
           {
            "colorbar": {
             "outlinewidth": 0,
             "ticks": ""
            },
            "type": "contourcarpet"
           }
          ],
          "heatmap": [
           {
            "colorbar": {
             "outlinewidth": 0,
             "ticks": ""
            },
            "colorscale": [
             [
              0,
              "#0d0887"
             ],
             [
              0.1111111111111111,
              "#46039f"
             ],
             [
              0.2222222222222222,
              "#7201a8"
             ],
             [
              0.3333333333333333,
              "#9c179e"
             ],
             [
              0.4444444444444444,
              "#bd3786"
             ],
             [
              0.5555555555555556,
              "#d8576b"
             ],
             [
              0.6666666666666666,
              "#ed7953"
             ],
             [
              0.7777777777777778,
              "#fb9f3a"
             ],
             [
              0.8888888888888888,
              "#fdca26"
             ],
             [
              1,
              "#f0f921"
             ]
            ],
            "type": "heatmap"
           }
          ],
          "heatmapgl": [
           {
            "colorbar": {
             "outlinewidth": 0,
             "ticks": ""
            },
            "colorscale": [
             [
              0,
              "#0d0887"
             ],
             [
              0.1111111111111111,
              "#46039f"
             ],
             [
              0.2222222222222222,
              "#7201a8"
             ],
             [
              0.3333333333333333,
              "#9c179e"
             ],
             [
              0.4444444444444444,
              "#bd3786"
             ],
             [
              0.5555555555555556,
              "#d8576b"
             ],
             [
              0.6666666666666666,
              "#ed7953"
             ],
             [
              0.7777777777777778,
              "#fb9f3a"
             ],
             [
              0.8888888888888888,
              "#fdca26"
             ],
             [
              1,
              "#f0f921"
             ]
            ],
            "type": "heatmapgl"
           }
          ],
          "histogram": [
           {
            "marker": {
             "pattern": {
              "fillmode": "overlay",
              "size": 10,
              "solidity": 0.2
             }
            },
            "type": "histogram"
           }
          ],
          "histogram2d": [
           {
            "colorbar": {
             "outlinewidth": 0,
             "ticks": ""
            },
            "colorscale": [
             [
              0,
              "#0d0887"
             ],
             [
              0.1111111111111111,
              "#46039f"
             ],
             [
              0.2222222222222222,
              "#7201a8"
             ],
             [
              0.3333333333333333,
              "#9c179e"
             ],
             [
              0.4444444444444444,
              "#bd3786"
             ],
             [
              0.5555555555555556,
              "#d8576b"
             ],
             [
              0.6666666666666666,
              "#ed7953"
             ],
             [
              0.7777777777777778,
              "#fb9f3a"
             ],
             [
              0.8888888888888888,
              "#fdca26"
             ],
             [
              1,
              "#f0f921"
             ]
            ],
            "type": "histogram2d"
           }
          ],
          "histogram2dcontour": [
           {
            "colorbar": {
             "outlinewidth": 0,
             "ticks": ""
            },
            "colorscale": [
             [
              0,
              "#0d0887"
             ],
             [
              0.1111111111111111,
              "#46039f"
             ],
             [
              0.2222222222222222,
              "#7201a8"
             ],
             [
              0.3333333333333333,
              "#9c179e"
             ],
             [
              0.4444444444444444,
              "#bd3786"
             ],
             [
              0.5555555555555556,
              "#d8576b"
             ],
             [
              0.6666666666666666,
              "#ed7953"
             ],
             [
              0.7777777777777778,
              "#fb9f3a"
             ],
             [
              0.8888888888888888,
              "#fdca26"
             ],
             [
              1,
              "#f0f921"
             ]
            ],
            "type": "histogram2dcontour"
           }
          ],
          "mesh3d": [
           {
            "colorbar": {
             "outlinewidth": 0,
             "ticks": ""
            },
            "type": "mesh3d"
           }
          ],
          "parcoords": [
           {
            "line": {
             "colorbar": {
              "outlinewidth": 0,
              "ticks": ""
             }
            },
            "type": "parcoords"
           }
          ],
          "pie": [
           {
            "automargin": true,
            "type": "pie"
           }
          ],
          "scatter": [
           {
            "fillpattern": {
             "fillmode": "overlay",
             "size": 10,
             "solidity": 0.2
            },
            "type": "scatter"
           }
          ],
          "scatter3d": [
           {
            "line": {
             "colorbar": {
              "outlinewidth": 0,
              "ticks": ""
             }
            },
            "marker": {
             "colorbar": {
              "outlinewidth": 0,
              "ticks": ""
             }
            },
            "type": "scatter3d"
           }
          ],
          "scattercarpet": [
           {
            "marker": {
             "colorbar": {
              "outlinewidth": 0,
              "ticks": ""
             }
            },
            "type": "scattercarpet"
           }
          ],
          "scattergeo": [
           {
            "marker": {
             "colorbar": {
              "outlinewidth": 0,
              "ticks": ""
             }
            },
            "type": "scattergeo"
           }
          ],
          "scattergl": [
           {
            "marker": {
             "colorbar": {
              "outlinewidth": 0,
              "ticks": ""
             }
            },
            "type": "scattergl"
           }
          ],
          "scattermapbox": [
           {
            "marker": {
             "colorbar": {
              "outlinewidth": 0,
              "ticks": ""
             }
            },
            "type": "scattermapbox"
           }
          ],
          "scatterpolar": [
           {
            "marker": {
             "colorbar": {
              "outlinewidth": 0,
              "ticks": ""
             }
            },
            "type": "scatterpolar"
           }
          ],
          "scatterpolargl": [
           {
            "marker": {
             "colorbar": {
              "outlinewidth": 0,
              "ticks": ""
             }
            },
            "type": "scatterpolargl"
           }
          ],
          "scatterternary": [
           {
            "marker": {
             "colorbar": {
              "outlinewidth": 0,
              "ticks": ""
             }
            },
            "type": "scatterternary"
           }
          ],
          "surface": [
           {
            "colorbar": {
             "outlinewidth": 0,
             "ticks": ""
            },
            "colorscale": [
             [
              0,
              "#0d0887"
             ],
             [
              0.1111111111111111,
              "#46039f"
             ],
             [
              0.2222222222222222,
              "#7201a8"
             ],
             [
              0.3333333333333333,
              "#9c179e"
             ],
             [
              0.4444444444444444,
              "#bd3786"
             ],
             [
              0.5555555555555556,
              "#d8576b"
             ],
             [
              0.6666666666666666,
              "#ed7953"
             ],
             [
              0.7777777777777778,
              "#fb9f3a"
             ],
             [
              0.8888888888888888,
              "#fdca26"
             ],
             [
              1,
              "#f0f921"
             ]
            ],
            "type": "surface"
           }
          ],
          "table": [
           {
            "cells": {
             "fill": {
              "color": "#EBF0F8"
             },
             "line": {
              "color": "white"
             }
            },
            "header": {
             "fill": {
              "color": "#C8D4E3"
             },
             "line": {
              "color": "white"
             }
            },
            "type": "table"
           }
          ]
         },
         "layout": {
          "annotationdefaults": {
           "arrowcolor": "#2a3f5f",
           "arrowhead": 0,
           "arrowwidth": 1
          },
          "autotypenumbers": "strict",
          "coloraxis": {
           "colorbar": {
            "outlinewidth": 0,
            "ticks": ""
           }
          },
          "colorscale": {
           "diverging": [
            [
             0,
             "#8e0152"
            ],
            [
             0.1,
             "#c51b7d"
            ],
            [
             0.2,
             "#de77ae"
            ],
            [
             0.3,
             "#f1b6da"
            ],
            [
             0.4,
             "#fde0ef"
            ],
            [
             0.5,
             "#f7f7f7"
            ],
            [
             0.6,
             "#e6f5d0"
            ],
            [
             0.7,
             "#b8e186"
            ],
            [
             0.8,
             "#7fbc41"
            ],
            [
             0.9,
             "#4d9221"
            ],
            [
             1,
             "#276419"
            ]
           ],
           "sequential": [
            [
             0,
             "#0d0887"
            ],
            [
             0.1111111111111111,
             "#46039f"
            ],
            [
             0.2222222222222222,
             "#7201a8"
            ],
            [
             0.3333333333333333,
             "#9c179e"
            ],
            [
             0.4444444444444444,
             "#bd3786"
            ],
            [
             0.5555555555555556,
             "#d8576b"
            ],
            [
             0.6666666666666666,
             "#ed7953"
            ],
            [
             0.7777777777777778,
             "#fb9f3a"
            ],
            [
             0.8888888888888888,
             "#fdca26"
            ],
            [
             1,
             "#f0f921"
            ]
           ],
           "sequentialminus": [
            [
             0,
             "#0d0887"
            ],
            [
             0.1111111111111111,
             "#46039f"
            ],
            [
             0.2222222222222222,
             "#7201a8"
            ],
            [
             0.3333333333333333,
             "#9c179e"
            ],
            [
             0.4444444444444444,
             "#bd3786"
            ],
            [
             0.5555555555555556,
             "#d8576b"
            ],
            [
             0.6666666666666666,
             "#ed7953"
            ],
            [
             0.7777777777777778,
             "#fb9f3a"
            ],
            [
             0.8888888888888888,
             "#fdca26"
            ],
            [
             1,
             "#f0f921"
            ]
           ]
          },
          "colorway": [
           "#636efa",
           "#EF553B",
           "#00cc96",
           "#ab63fa",
           "#FFA15A",
           "#19d3f3",
           "#FF6692",
           "#B6E880",
           "#FF97FF",
           "#FECB52"
          ],
          "font": {
           "color": "#2a3f5f"
          },
          "geo": {
           "bgcolor": "white",
           "lakecolor": "white",
           "landcolor": "#E5ECF6",
           "showlakes": true,
           "showland": true,
           "subunitcolor": "white"
          },
          "hoverlabel": {
           "align": "left"
          },
          "hovermode": "closest",
          "mapbox": {
           "style": "light"
          },
          "paper_bgcolor": "white",
          "plot_bgcolor": "#E5ECF6",
          "polar": {
           "angularaxis": {
            "gridcolor": "white",
            "linecolor": "white",
            "ticks": ""
           },
           "bgcolor": "#E5ECF6",
           "radialaxis": {
            "gridcolor": "white",
            "linecolor": "white",
            "ticks": ""
           }
          },
          "scene": {
           "xaxis": {
            "backgroundcolor": "#E5ECF6",
            "gridcolor": "white",
            "gridwidth": 2,
            "linecolor": "white",
            "showbackground": true,
            "ticks": "",
            "zerolinecolor": "white"
           },
           "yaxis": {
            "backgroundcolor": "#E5ECF6",
            "gridcolor": "white",
            "gridwidth": 2,
            "linecolor": "white",
            "showbackground": true,
            "ticks": "",
            "zerolinecolor": "white"
           },
           "zaxis": {
            "backgroundcolor": "#E5ECF6",
            "gridcolor": "white",
            "gridwidth": 2,
            "linecolor": "white",
            "showbackground": true,
            "ticks": "",
            "zerolinecolor": "white"
           }
          },
          "shapedefaults": {
           "line": {
            "color": "#2a3f5f"
           }
          },
          "ternary": {
           "aaxis": {
            "gridcolor": "white",
            "linecolor": "white",
            "ticks": ""
           },
           "baxis": {
            "gridcolor": "white",
            "linecolor": "white",
            "ticks": ""
           },
           "bgcolor": "#E5ECF6",
           "caxis": {
            "gridcolor": "white",
            "linecolor": "white",
            "ticks": ""
           }
          },
          "title": {
           "x": 0.05
          },
          "xaxis": {
           "automargin": true,
           "gridcolor": "white",
           "linecolor": "white",
           "ticks": "",
           "title": {
            "standoff": 15
           },
           "zerolinecolor": "white",
           "zerolinewidth": 2
          },
          "yaxis": {
           "automargin": true,
           "gridcolor": "white",
           "linecolor": "white",
           "ticks": "",
           "title": {
            "standoff": 15
           },
           "zerolinecolor": "white",
           "zerolinewidth": 2
          }
         }
        },
        "title": {
         "text": "Valence vs Danceability"
        },
        "xaxis": {
         "anchor": "y",
         "domain": [
          0,
          1
         ],
         "title": {
          "text": "val"
         }
        },
        "yaxis": {
         "anchor": "x",
         "domain": [
          0,
          1
         ],
         "title": {
          "text": "dnce"
         }
        }
       }
      },
      "text/html": [
       "<div>                            <div id=\"9c798ba1-2c2f-4902-aede-7db892568b7d\" class=\"plotly-graph-div\" style=\"height:525px; width:100%;\"></div>            <script type=\"text/javascript\">                require([\"plotly\"], function(Plotly) {                    window.PLOTLYENV=window.PLOTLYENV || {};                                    if (document.getElementById(\"9c798ba1-2c2f-4902-aede-7db892568b7d\")) {                    Plotly.newPlot(                        \"9c798ba1-2c2f-4902-aede-7db892568b7d\",                        [{\"hovertemplate\":\"val=%{x}<br>dnce=%{y}<extra></extra>\",\"legendgroup\":\"\",\"marker\":{\"color\":\"#636efa\",\"symbol\":\"circle\"},\"mode\":\"markers\",\"name\":\"\",\"orientation\":\"v\",\"showlegend\":false,\"x\":[80,64,71,71,43,54,82,38,14,61,47,48,63,71,78,33,83,44,37,76,40,45,74,73,65,74,88,73,59,40,79,83,52,41,55,80,7,79,84,26,72,10,16,85,7,54,57,65,58,63,45,16,28,53,43,52,76,62,65,23,81,88,49,10,48,30,35,65,68,65,26,57,58,70,40,80,36,76,45,79,81,52,53,32,66,60,38,26,39,70,89,73,89,57,9,58,19,59,56,69,37,72,65,53,30,87,20,55,89,68,66,92,47,75,68,55,75,62,68,45,53,65,39,33,77,78,44,57,88,71,64,78,74,39,95,86,80,48,75,69,64,29,44,63,46,48,44,86,35,30,84,50,75,80,18,11,51,73,29,49,91,58,67,85,76,88,54,23,25,66,16,86,36,40,82,68,37,40,52,77,43,67,58,65,35,59,23,34,49,58,65,56,11,28,33,73,38,66,90,45,51,50,73,61,79,45,58,7,66,45,33,18,74,96,93,94,35,46,88,94,24,63,57,42,21,52,20,71,33,44,38,76,64,25,50,72,74,80,98,52,66,17,84,57,46,25,22,82,4,9,16,90,62,21,55,23,40,65,64,61,56,19,56,39,57,53,59,46,59,49,14,52,93,44,88,41,35,28,44,79,76,66,74,45,37,34,28,24,33,35,59,28,85,50,55,29,83,56,62,53,91,43,94,45,85,71,31,48,64,64,8,44,37,95,8,33,34,79,65,21,60,74,88,79,96,74,85,29,40,76,52,48,48,73,60,44,64,86,78,28,35,4,40,9,59,27,39,26,66,52,93,8,9,28,72,79,83,39,54,8,88,65,27,14,52,90,42,17,37,47,15,30,34,70,59,45,42,56,76,38,69,29,51,80,52,34,39,34,50,84,75,82,40,82,30,25,43,47,34,50,65,40,20,8,33,66,43,34,44,35,26,27,23,73,32,25,32,56,56,64,27,72,12,18,20,58,53,49,80,64,73,26,32,44,16,52,14,40,45,83,69,69,0,93,66,49,75,86,16,59,36,61,54,52,34,51,74,9,54,81,32,82,73,13,25,60,57,51,57,47,41,23,62,34,68,52,16,46,47,49,72,63,55,65,58,52,14,54,86,85,33,86,53,13,53,67,21,59,65,27,63,33,84,78,47,21,81,25,59,39,65,61,97,35,51,49,31,10,80,51,38,74,29,89,28,55,42,93,36,61,19,62,63,48,46,45,50,51,32,73,32,37,48,21,91,19,68,74,68,15,47,20,18,32,41,45,19,86,53,62,20,42,90,45,65,25,42,23,58,50,27,76,57,9,45,75,35,67,50,67,41,48,40,87,55,95,23,84,35,61,35,52,45,52,14,91,62,61,16,61,65,24,23],\"xaxis\":\"x\",\"y\":[67,75,76,70,64,73,75,52,48,79,62,62,77,83,44,78,72,82,63,83,80,44,73,70,53,48,61,65,72,79,70,68,75,60,50,81,29,65,72,50,51,71,31,80,23,76,64,66,45,67,67,42,56,67,64,73,73,72,65,71,69,58,59,63,62,55,75,74,64,63,66,73,69,71,61,71,58,62,69,70,75,52,66,65,70,73,61,30,65,59,71,58,82,64,35,45,30,77,68,73,50,65,64,80,60,73,45,74,73,62,78,86,61,63,56,67,75,72,56,72,60,67,67,72,68,76,72,51,69,79,59,68,38,56,72,70,65,58,60,51,53,60,78,42,55,61,61,79,53,38,85,50,63,71,51,57,54,47,77,65,63,57,83,63,55,63,67,56,66,78,52,65,80,80,71,72,66,68,76,85,56,47,56,58,67,58,45,55,61,55,69,55,28,63,59,67,70,62,68,68,36,72,69,60,77,53,67,51,71,65,42,42,60,65,77,65,65,55,74,87,51,66,68,69,50,50,58,78,56,49,91,76,72,44,56,70,72,69,71,76,79,41,72,62,60,50,47,69,35,45,55,93,29,47,60,41,59,96,68,80,68,53,63,78,56,64,74,59,78,68,58,61,86,57,75,65,58,26,66,85,75,78,69,83,67,74,58,47,28,41,88,69,81,42,80,48,66,75,62,60,63,59,82,68,71,83,57,49,69,63,32,67,58,78,36,38,59,69,68,53,62,81,75,67,81,70,79,63,71,77,38,67,39,71,71,51,64,74,76,69,52,47,65,54,60,48,67,69,57,47,68,64,26,57,72,85,80,62,88,28,72,90,48,58,61,77,53,50,62,63,67,67,77,67,80,57,63,73,75,76,66,66,73,77,61,59,79,71,61,93,75,76,65,55,66,70,59,81,59,63,56,76,67,32,38,61,59,55,55,55,63,47,56,59,61,56,60,69,93,71,38,68,37,58,62,70,60,57,74,73,63,52,83,65,37,75,39,57,75,83,70,80,0,83,75,68,44,85,65,77,56,65,69,64,57,61,72,74,82,61,58,65,67,61,65,33,74,74,84,45,69,53,53,59,63,70,31,93,40,69,71,82,87,71,65,80,76,72,77,74,55,65,73,74,64,70,37,69,74,51,70,77,68,57,60,27,76,43,79,77,82,76,87,70,84,62,72,26,78,59,51,66,52,71,57,65,80,70,59,68,59,74,67,70,66,66,47,77,53,97,63,71,69,52,64,46,77,84,63,65,76,92,54,57,63,66,39,77,53,48,68,73,76,75,75,63,58,79,75,58,97,58,76,51,50,76,48,86,62,69,72,67,69,80,64,84,67,80,90,81,53,73,85,59,70,72,84,74,61,75,53,60,70],\"yaxis\":\"y\",\"type\":\"scatter\"},{\"hovertemplate\":\"<b>OLS trendline</b><br>dnce = 0.298141 * val + 48.8092<br>R<sup>2</sup>=0.251699<br><br>val=%{x}<br>dnce=%{y} <b>(trend)</b><extra></extra>\",\"legendgroup\":\"\",\"marker\":{\"color\":\"#636efa\",\"symbol\":\"circle\"},\"mode\":\"lines\",\"name\":\"\",\"showlegend\":false,\"x\":[0,4,4,7,7,7,8,8,8,8,8,9,9,9,9,9,9,10,10,10,11,11,12,13,13,14,14,14,14,14,14,15,15,16,16,16,16,16,16,16,16,17,17,18,18,18,18,19,19,19,19,19,20,20,20,20,20,20,21,21,21,21,21,21,22,23,23,23,23,23,23,23,23,23,24,24,24,25,25,25,25,25,25,25,25,26,26,26,26,26,26,27,27,27,27,27,27,28,28,28,28,28,28,28,28,29,29,29,29,29,29,30,30,30,30,30,31,31,32,32,32,32,32,32,32,32,33,33,33,33,33,33,33,33,33,33,34,34,34,34,34,34,34,34,34,34,35,35,35,35,35,35,35,35,35,35,35,35,36,36,36,36,37,37,37,37,37,37,37,38,38,38,38,38,38,39,39,39,39,39,39,39,39,40,40,40,40,40,40,40,40,40,40,40,40,41,41,41,41,41,42,42,42,42,42,42,43,43,43,43,43,43,44,44,44,44,44,44,44,44,44,44,44,45,45,45,45,45,45,45,45,45,45,45,45,45,45,45,45,46,46,46,46,46,46,47,47,47,47,47,47,47,47,48,48,48,48,48,48,48,48,48,48,49,49,49,49,49,49,49,49,50,50,50,50,50,50,50,50,50,51,51,51,51,51,51,51,51,52,52,52,52,52,52,52,52,52,52,52,52,52,52,52,52,52,53,53,53,53,53,53,53,53,53,53,54,54,54,54,54,54,54,55,55,55,55,55,55,55,55,56,56,56,56,56,56,56,56,57,57,57,57,57,57,57,57,57,57,58,58,58,58,58,58,58,58,58,58,59,59,59,59,59,59,59,59,59,59,59,60,60,60,60,61,61,61,61,61,61,61,61,61,62,62,62,62,62,62,62,62,63,63,63,63,63,63,63,64,64,64,64,64,64,64,64,64,64,65,65,65,65,65,65,65,65,65,65,65,65,65,65,65,65,65,65,66,66,66,66,66,66,66,66,66,66,67,67,67,67,67,68,68,68,68,68,68,68,68,69,69,69,69,69,70,70,70,71,71,71,71,71,71,72,72,72,72,72,72,73,73,73,73,73,73,73,73,73,73,73,74,74,74,74,74,74,74,74,74,74,74,75,75,75,75,75,75,75,76,76,76,76,76,76,76,76,76,77,77,78,78,78,78,78,79,79,79,79,79,79,79,79,80,80,80,80,80,80,80,80,80,81,81,81,81,82,82,82,82,82,82,83,83,83,83,83,84,84,84,84,84,84,85,85,85,85,85,85,86,86,86,86,86,86,86,86,87,87,88,88,88,88,88,88,88,88,89,89,89,89,90,90,90,90,91,91,91,91,92,93,93,93,93,93,94,94,94,95,95,95,96,96,97,98],\"xaxis\":\"x\",\"y\":[48.80919975331409,50.0017632676989,50.0017632676989,50.896185903487506,50.896185903487506,50.896185903487506,51.19432678208371,51.19432678208371,51.19432678208371,51.19432678208371,51.19432678208371,51.49246766067991,51.49246766067991,51.49246766067991,51.49246766067991,51.49246766067991,51.49246766067991,51.790608539276114,51.790608539276114,51.790608539276114,52.088749417872314,52.088749417872314,52.386890296468515,52.685031175064715,52.685031175064715,52.98317205366092,52.98317205366092,52.98317205366092,52.98317205366092,52.98317205366092,52.98317205366092,53.28131293225712,53.28131293225712,53.57945381085332,53.57945381085332,53.57945381085332,53.57945381085332,53.57945381085332,53.57945381085332,53.57945381085332,53.57945381085332,53.87759468944952,53.87759468944952,54.17573556804573,54.17573556804573,54.17573556804573,54.17573556804573,54.47387644664193,54.47387644664193,54.47387644664193,54.47387644664193,54.47387644664193,54.77201732523813,54.77201732523813,54.77201732523813,54.77201732523813,54.77201732523813,54.77201732523813,55.07015820383433,55.07015820383433,55.07015820383433,55.07015820383433,55.07015820383433,55.07015820383433,55.36829908243054,55.66643996102674,55.66643996102674,55.66643996102674,55.66643996102674,55.66643996102674,55.66643996102674,55.66643996102674,55.66643996102674,55.66643996102674,55.96458083962294,55.96458083962294,55.96458083962294,56.26272171821914,56.26272171821914,56.26272171821914,56.26272171821914,56.26272171821914,56.26272171821914,56.26272171821914,56.26272171821914,56.56086259681535,56.56086259681535,56.56086259681535,56.56086259681535,56.56086259681535,56.56086259681535,56.85900347541155,56.85900347541155,56.85900347541155,56.85900347541155,56.85900347541155,56.85900347541155,57.15714435400775,57.15714435400775,57.15714435400775,57.15714435400775,57.15714435400775,57.15714435400775,57.15714435400775,57.15714435400775,57.455285232603956,57.455285232603956,57.455285232603956,57.455285232603956,57.455285232603956,57.455285232603956,57.753426111200156,57.753426111200156,57.753426111200156,57.753426111200156,57.753426111200156,58.051566989796356,58.051566989796356,58.34970786839256,58.34970786839256,58.34970786839256,58.34970786839256,58.34970786839256,58.34970786839256,58.34970786839256,58.34970786839256,58.64784874698876,58.64784874698876,58.64784874698876,58.64784874698876,58.64784874698876,58.64784874698876,58.64784874698876,58.64784874698876,58.64784874698876,58.64784874698876,58.945989625584964,58.945989625584964,58.945989625584964,58.945989625584964,58.945989625584964,58.945989625584964,58.945989625584964,58.945989625584964,58.945989625584964,58.945989625584964,59.244130504181165,59.244130504181165,59.244130504181165,59.244130504181165,59.244130504181165,59.244130504181165,59.244130504181165,59.244130504181165,59.244130504181165,59.244130504181165,59.244130504181165,59.244130504181165,59.542271382777365,59.542271382777365,59.542271382777365,59.542271382777365,59.84041226137357,59.84041226137357,59.84041226137357,59.84041226137357,59.84041226137357,59.84041226137357,59.84041226137357,60.13855313996977,60.13855313996977,60.13855313996977,60.13855313996977,60.13855313996977,60.13855313996977,60.43669401856597,60.43669401856597,60.43669401856597,60.43669401856597,60.43669401856597,60.43669401856597,60.43669401856597,60.43669401856597,60.73483489716217,60.73483489716217,60.73483489716217,60.73483489716217,60.73483489716217,60.73483489716217,60.73483489716217,60.73483489716217,60.73483489716217,60.73483489716217,60.73483489716217,60.73483489716217,61.03297577575837,61.03297577575837,61.03297577575837,61.03297577575837,61.03297577575837,61.33111665435458,61.33111665435458,61.33111665435458,61.33111665435458,61.33111665435458,61.33111665435458,61.62925753295078,61.62925753295078,61.62925753295078,61.62925753295078,61.62925753295078,61.62925753295078,61.92739841154698,61.92739841154698,61.92739841154698,61.92739841154698,61.92739841154698,61.92739841154698,61.92739841154698,61.92739841154698,61.92739841154698,61.92739841154698,61.92739841154698,62.22553929014319,62.22553929014319,62.22553929014319,62.22553929014319,62.22553929014319,62.22553929014319,62.22553929014319,62.22553929014319,62.22553929014319,62.22553929014319,62.22553929014319,62.22553929014319,62.22553929014319,62.22553929014319,62.22553929014319,62.22553929014319,62.52368016873939,62.52368016873939,62.52368016873939,62.52368016873939,62.52368016873939,62.52368016873939,62.82182104733559,62.82182104733559,62.82182104733559,62.82182104733559,62.82182104733559,62.82182104733559,62.82182104733559,62.82182104733559,63.11996192593179,63.11996192593179,63.11996192593179,63.11996192593179,63.11996192593179,63.11996192593179,63.11996192593179,63.11996192593179,63.11996192593179,63.11996192593179,63.418102804528,63.418102804528,63.418102804528,63.418102804528,63.418102804528,63.418102804528,63.418102804528,63.418102804528,63.7162436831242,63.7162436831242,63.7162436831242,63.7162436831242,63.7162436831242,63.7162436831242,63.7162436831242,63.7162436831242,63.7162436831242,64.0143845617204,64.0143845617204,64.0143845617204,64.0143845617204,64.0143845617204,64.0143845617204,64.0143845617204,64.0143845617204,64.3125254403166,64.3125254403166,64.3125254403166,64.3125254403166,64.3125254403166,64.3125254403166,64.3125254403166,64.3125254403166,64.3125254403166,64.3125254403166,64.3125254403166,64.3125254403166,64.3125254403166,64.3125254403166,64.3125254403166,64.3125254403166,64.3125254403166,64.6106663189128,64.6106663189128,64.6106663189128,64.6106663189128,64.6106663189128,64.6106663189128,64.6106663189128,64.6106663189128,64.6106663189128,64.6106663189128,64.908807197509,64.908807197509,64.908807197509,64.908807197509,64.908807197509,64.908807197509,64.908807197509,65.2069480761052,65.2069480761052,65.2069480761052,65.2069480761052,65.2069480761052,65.2069480761052,65.2069480761052,65.2069480761052,65.5050889547014,65.5050889547014,65.5050889547014,65.5050889547014,65.5050889547014,65.5050889547014,65.5050889547014,65.5050889547014,65.8032298332976,65.8032298332976,65.8032298332976,65.8032298332976,65.8032298332976,65.8032298332976,65.8032298332976,65.8032298332976,65.8032298332976,65.8032298332976,66.10137071189382,66.10137071189382,66.10137071189382,66.10137071189382,66.10137071189382,66.10137071189382,66.10137071189382,66.10137071189382,66.10137071189382,66.10137071189382,66.39951159049002,66.39951159049002,66.39951159049002,66.39951159049002,66.39951159049002,66.39951159049002,66.39951159049002,66.39951159049002,66.39951159049002,66.39951159049002,66.39951159049002,66.69765246908622,66.69765246908622,66.69765246908622,66.69765246908622,66.99579334768242,66.99579334768242,66.99579334768242,66.99579334768242,66.99579334768242,66.99579334768242,66.99579334768242,66.99579334768242,66.99579334768242,67.29393422627862,67.29393422627862,67.29393422627862,67.29393422627862,67.29393422627862,67.29393422627862,67.29393422627862,67.29393422627862,67.59207510487482,67.59207510487482,67.59207510487482,67.59207510487482,67.59207510487482,67.59207510487482,67.59207510487482,67.89021598347102,67.89021598347102,67.89021598347102,67.89021598347102,67.89021598347102,67.89021598347102,67.89021598347102,67.89021598347102,67.89021598347102,67.89021598347102,68.18835686206722,68.18835686206722,68.18835686206722,68.18835686206722,68.18835686206722,68.18835686206722,68.18835686206722,68.18835686206722,68.18835686206722,68.18835686206722,68.18835686206722,68.18835686206722,68.18835686206722,68.18835686206722,68.18835686206722,68.18835686206722,68.18835686206722,68.18835686206722,68.48649774066342,68.48649774066342,68.48649774066342,68.48649774066342,68.48649774066342,68.48649774066342,68.48649774066342,68.48649774066342,68.48649774066342,68.48649774066342,68.78463861925964,68.78463861925964,68.78463861925964,68.78463861925964,68.78463861925964,69.08277949785584,69.08277949785584,69.08277949785584,69.08277949785584,69.08277949785584,69.08277949785584,69.08277949785584,69.08277949785584,69.38092037645204,69.38092037645204,69.38092037645204,69.38092037645204,69.38092037645204,69.67906125504824,69.67906125504824,69.67906125504824,69.97720213364444,69.97720213364444,69.97720213364444,69.97720213364444,69.97720213364444,69.97720213364444,70.27534301224064,70.27534301224064,70.27534301224064,70.27534301224064,70.27534301224064,70.27534301224064,70.57348389083685,70.57348389083685,70.57348389083685,70.57348389083685,70.57348389083685,70.57348389083685,70.57348389083685,70.57348389083685,70.57348389083685,70.57348389083685,70.57348389083685,70.87162476943305,70.87162476943305,70.87162476943305,70.87162476943305,70.87162476943305,70.87162476943305,70.87162476943305,70.87162476943305,70.87162476943305,70.87162476943305,70.87162476943305,71.16976564802926,71.16976564802926,71.16976564802926,71.16976564802926,71.16976564802926,71.16976564802926,71.16976564802926,71.46790652662546,71.46790652662546,71.46790652662546,71.46790652662546,71.46790652662546,71.46790652662546,71.46790652662546,71.46790652662546,71.46790652662546,71.76604740522166,71.76604740522166,72.06418828381786,72.06418828381786,72.06418828381786,72.06418828381786,72.06418828381786,72.36232916241406,72.36232916241406,72.36232916241406,72.36232916241406,72.36232916241406,72.36232916241406,72.36232916241406,72.36232916241406,72.66047004101026,72.66047004101026,72.66047004101026,72.66047004101026,72.66047004101026,72.66047004101026,72.66047004101026,72.66047004101026,72.66047004101026,72.95861091960646,72.95861091960646,72.95861091960646,72.95861091960646,73.25675179820266,73.25675179820266,73.25675179820266,73.25675179820266,73.25675179820266,73.25675179820266,73.55489267679887,73.55489267679887,73.55489267679887,73.55489267679887,73.55489267679887,73.85303355539507,73.85303355539507,73.85303355539507,73.85303355539507,73.85303355539507,73.85303355539507,74.15117443399127,74.15117443399127,74.15117443399127,74.15117443399127,74.15117443399127,74.15117443399127,74.44931531258747,74.44931531258747,74.44931531258747,74.44931531258747,74.44931531258747,74.44931531258747,74.44931531258747,74.44931531258747,74.74745619118367,74.74745619118367,75.04559706977987,75.04559706977987,75.04559706977987,75.04559706977987,75.04559706977987,75.04559706977987,75.04559706977987,75.04559706977987,75.34373794837609,75.34373794837609,75.34373794837609,75.34373794837609,75.64187882697229,75.64187882697229,75.64187882697229,75.64187882697229,75.94001970556849,75.94001970556849,75.94001970556849,75.94001970556849,76.23816058416469,76.53630146276089,76.53630146276089,76.53630146276089,76.53630146276089,76.53630146276089,76.83444234135709,76.83444234135709,76.83444234135709,77.13258321995329,77.13258321995329,77.13258321995329,77.43072409854949,77.43072409854949,77.72886497714569,78.0270058557419],\"yaxis\":\"y\",\"type\":\"scatter\"}],                        {\"template\":{\"data\":{\"histogram2dcontour\":[{\"type\":\"histogram2dcontour\",\"colorbar\":{\"outlinewidth\":0,\"ticks\":\"\"},\"colorscale\":[[0.0,\"#0d0887\"],[0.1111111111111111,\"#46039f\"],[0.2222222222222222,\"#7201a8\"],[0.3333333333333333,\"#9c179e\"],[0.4444444444444444,\"#bd3786\"],[0.5555555555555556,\"#d8576b\"],[0.6666666666666666,\"#ed7953\"],[0.7777777777777778,\"#fb9f3a\"],[0.8888888888888888,\"#fdca26\"],[1.0,\"#f0f921\"]]}],\"choropleth\":[{\"type\":\"choropleth\",\"colorbar\":{\"outlinewidth\":0,\"ticks\":\"\"}}],\"histogram2d\":[{\"type\":\"histogram2d\",\"colorbar\":{\"outlinewidth\":0,\"ticks\":\"\"},\"colorscale\":[[0.0,\"#0d0887\"],[0.1111111111111111,\"#46039f\"],[0.2222222222222222,\"#7201a8\"],[0.3333333333333333,\"#9c179e\"],[0.4444444444444444,\"#bd3786\"],[0.5555555555555556,\"#d8576b\"],[0.6666666666666666,\"#ed7953\"],[0.7777777777777778,\"#fb9f3a\"],[0.8888888888888888,\"#fdca26\"],[1.0,\"#f0f921\"]]}],\"heatmap\":[{\"type\":\"heatmap\",\"colorbar\":{\"outlinewidth\":0,\"ticks\":\"\"},\"colorscale\":[[0.0,\"#0d0887\"],[0.1111111111111111,\"#46039f\"],[0.2222222222222222,\"#7201a8\"],[0.3333333333333333,\"#9c179e\"],[0.4444444444444444,\"#bd3786\"],[0.5555555555555556,\"#d8576b\"],[0.6666666666666666,\"#ed7953\"],[0.7777777777777778,\"#fb9f3a\"],[0.8888888888888888,\"#fdca26\"],[1.0,\"#f0f921\"]]}],\"heatmapgl\":[{\"type\":\"heatmapgl\",\"colorbar\":{\"outlinewidth\":0,\"ticks\":\"\"},\"colorscale\":[[0.0,\"#0d0887\"],[0.1111111111111111,\"#46039f\"],[0.2222222222222222,\"#7201a8\"],[0.3333333333333333,\"#9c179e\"],[0.4444444444444444,\"#bd3786\"],[0.5555555555555556,\"#d8576b\"],[0.6666666666666666,\"#ed7953\"],[0.7777777777777778,\"#fb9f3a\"],[0.8888888888888888,\"#fdca26\"],[1.0,\"#f0f921\"]]}],\"contourcarpet\":[{\"type\":\"contourcarpet\",\"colorbar\":{\"outlinewidth\":0,\"ticks\":\"\"}}],\"contour\":[{\"type\":\"contour\",\"colorbar\":{\"outlinewidth\":0,\"ticks\":\"\"},\"colorscale\":[[0.0,\"#0d0887\"],[0.1111111111111111,\"#46039f\"],[0.2222222222222222,\"#7201a8\"],[0.3333333333333333,\"#9c179e\"],[0.4444444444444444,\"#bd3786\"],[0.5555555555555556,\"#d8576b\"],[0.6666666666666666,\"#ed7953\"],[0.7777777777777778,\"#fb9f3a\"],[0.8888888888888888,\"#fdca26\"],[1.0,\"#f0f921\"]]}],\"surface\":[{\"type\":\"surface\",\"colorbar\":{\"outlinewidth\":0,\"ticks\":\"\"},\"colorscale\":[[0.0,\"#0d0887\"],[0.1111111111111111,\"#46039f\"],[0.2222222222222222,\"#7201a8\"],[0.3333333333333333,\"#9c179e\"],[0.4444444444444444,\"#bd3786\"],[0.5555555555555556,\"#d8576b\"],[0.6666666666666666,\"#ed7953\"],[0.7777777777777778,\"#fb9f3a\"],[0.8888888888888888,\"#fdca26\"],[1.0,\"#f0f921\"]]}],\"mesh3d\":[{\"type\":\"mesh3d\",\"colorbar\":{\"outlinewidth\":0,\"ticks\":\"\"}}],\"scatter\":[{\"fillpattern\":{\"fillmode\":\"overlay\",\"size\":10,\"solidity\":0.2},\"type\":\"scatter\"}],\"parcoords\":[{\"type\":\"parcoords\",\"line\":{\"colorbar\":{\"outlinewidth\":0,\"ticks\":\"\"}}}],\"scatterpolargl\":[{\"type\":\"scatterpolargl\",\"marker\":{\"colorbar\":{\"outlinewidth\":0,\"ticks\":\"\"}}}],\"bar\":[{\"error_x\":{\"color\":\"#2a3f5f\"},\"error_y\":{\"color\":\"#2a3f5f\"},\"marker\":{\"line\":{\"color\":\"#E5ECF6\",\"width\":0.5},\"pattern\":{\"fillmode\":\"overlay\",\"size\":10,\"solidity\":0.2}},\"type\":\"bar\"}],\"scattergeo\":[{\"type\":\"scattergeo\",\"marker\":{\"colorbar\":{\"outlinewidth\":0,\"ticks\":\"\"}}}],\"scatterpolar\":[{\"type\":\"scatterpolar\",\"marker\":{\"colorbar\":{\"outlinewidth\":0,\"ticks\":\"\"}}}],\"histogram\":[{\"marker\":{\"pattern\":{\"fillmode\":\"overlay\",\"size\":10,\"solidity\":0.2}},\"type\":\"histogram\"}],\"scattergl\":[{\"type\":\"scattergl\",\"marker\":{\"colorbar\":{\"outlinewidth\":0,\"ticks\":\"\"}}}],\"scatter3d\":[{\"type\":\"scatter3d\",\"line\":{\"colorbar\":{\"outlinewidth\":0,\"ticks\":\"\"}},\"marker\":{\"colorbar\":{\"outlinewidth\":0,\"ticks\":\"\"}}}],\"scattermapbox\":[{\"type\":\"scattermapbox\",\"marker\":{\"colorbar\":{\"outlinewidth\":0,\"ticks\":\"\"}}}],\"scatterternary\":[{\"type\":\"scatterternary\",\"marker\":{\"colorbar\":{\"outlinewidth\":0,\"ticks\":\"\"}}}],\"scattercarpet\":[{\"type\":\"scattercarpet\",\"marker\":{\"colorbar\":{\"outlinewidth\":0,\"ticks\":\"\"}}}],\"carpet\":[{\"aaxis\":{\"endlinecolor\":\"#2a3f5f\",\"gridcolor\":\"white\",\"linecolor\":\"white\",\"minorgridcolor\":\"white\",\"startlinecolor\":\"#2a3f5f\"},\"baxis\":{\"endlinecolor\":\"#2a3f5f\",\"gridcolor\":\"white\",\"linecolor\":\"white\",\"minorgridcolor\":\"white\",\"startlinecolor\":\"#2a3f5f\"},\"type\":\"carpet\"}],\"table\":[{\"cells\":{\"fill\":{\"color\":\"#EBF0F8\"},\"line\":{\"color\":\"white\"}},\"header\":{\"fill\":{\"color\":\"#C8D4E3\"},\"line\":{\"color\":\"white\"}},\"type\":\"table\"}],\"barpolar\":[{\"marker\":{\"line\":{\"color\":\"#E5ECF6\",\"width\":0.5},\"pattern\":{\"fillmode\":\"overlay\",\"size\":10,\"solidity\":0.2}},\"type\":\"barpolar\"}],\"pie\":[{\"automargin\":true,\"type\":\"pie\"}]},\"layout\":{\"autotypenumbers\":\"strict\",\"colorway\":[\"#636efa\",\"#EF553B\",\"#00cc96\",\"#ab63fa\",\"#FFA15A\",\"#19d3f3\",\"#FF6692\",\"#B6E880\",\"#FF97FF\",\"#FECB52\"],\"font\":{\"color\":\"#2a3f5f\"},\"hovermode\":\"closest\",\"hoverlabel\":{\"align\":\"left\"},\"paper_bgcolor\":\"white\",\"plot_bgcolor\":\"#E5ECF6\",\"polar\":{\"bgcolor\":\"#E5ECF6\",\"angularaxis\":{\"gridcolor\":\"white\",\"linecolor\":\"white\",\"ticks\":\"\"},\"radialaxis\":{\"gridcolor\":\"white\",\"linecolor\":\"white\",\"ticks\":\"\"}},\"ternary\":{\"bgcolor\":\"#E5ECF6\",\"aaxis\":{\"gridcolor\":\"white\",\"linecolor\":\"white\",\"ticks\":\"\"},\"baxis\":{\"gridcolor\":\"white\",\"linecolor\":\"white\",\"ticks\":\"\"},\"caxis\":{\"gridcolor\":\"white\",\"linecolor\":\"white\",\"ticks\":\"\"}},\"coloraxis\":{\"colorbar\":{\"outlinewidth\":0,\"ticks\":\"\"}},\"colorscale\":{\"sequential\":[[0.0,\"#0d0887\"],[0.1111111111111111,\"#46039f\"],[0.2222222222222222,\"#7201a8\"],[0.3333333333333333,\"#9c179e\"],[0.4444444444444444,\"#bd3786\"],[0.5555555555555556,\"#d8576b\"],[0.6666666666666666,\"#ed7953\"],[0.7777777777777778,\"#fb9f3a\"],[0.8888888888888888,\"#fdca26\"],[1.0,\"#f0f921\"]],\"sequentialminus\":[[0.0,\"#0d0887\"],[0.1111111111111111,\"#46039f\"],[0.2222222222222222,\"#7201a8\"],[0.3333333333333333,\"#9c179e\"],[0.4444444444444444,\"#bd3786\"],[0.5555555555555556,\"#d8576b\"],[0.6666666666666666,\"#ed7953\"],[0.7777777777777778,\"#fb9f3a\"],[0.8888888888888888,\"#fdca26\"],[1.0,\"#f0f921\"]],\"diverging\":[[0,\"#8e0152\"],[0.1,\"#c51b7d\"],[0.2,\"#de77ae\"],[0.3,\"#f1b6da\"],[0.4,\"#fde0ef\"],[0.5,\"#f7f7f7\"],[0.6,\"#e6f5d0\"],[0.7,\"#b8e186\"],[0.8,\"#7fbc41\"],[0.9,\"#4d9221\"],[1,\"#276419\"]]},\"xaxis\":{\"gridcolor\":\"white\",\"linecolor\":\"white\",\"ticks\":\"\",\"title\":{\"standoff\":15},\"zerolinecolor\":\"white\",\"automargin\":true,\"zerolinewidth\":2},\"yaxis\":{\"gridcolor\":\"white\",\"linecolor\":\"white\",\"ticks\":\"\",\"title\":{\"standoff\":15},\"zerolinecolor\":\"white\",\"automargin\":true,\"zerolinewidth\":2},\"scene\":{\"xaxis\":{\"backgroundcolor\":\"#E5ECF6\",\"gridcolor\":\"white\",\"linecolor\":\"white\",\"showbackground\":true,\"ticks\":\"\",\"zerolinecolor\":\"white\",\"gridwidth\":2},\"yaxis\":{\"backgroundcolor\":\"#E5ECF6\",\"gridcolor\":\"white\",\"linecolor\":\"white\",\"showbackground\":true,\"ticks\":\"\",\"zerolinecolor\":\"white\",\"gridwidth\":2},\"zaxis\":{\"backgroundcolor\":\"#E5ECF6\",\"gridcolor\":\"white\",\"linecolor\":\"white\",\"showbackground\":true,\"ticks\":\"\",\"zerolinecolor\":\"white\",\"gridwidth\":2}},\"shapedefaults\":{\"line\":{\"color\":\"#2a3f5f\"}},\"annotationdefaults\":{\"arrowcolor\":\"#2a3f5f\",\"arrowhead\":0,\"arrowwidth\":1},\"geo\":{\"bgcolor\":\"white\",\"landcolor\":\"#E5ECF6\",\"subunitcolor\":\"white\",\"showland\":true,\"showlakes\":true,\"lakecolor\":\"white\"},\"title\":{\"x\":0.05},\"mapbox\":{\"style\":\"light\"}}},\"xaxis\":{\"anchor\":\"y\",\"domain\":[0.0,1.0],\"title\":{\"text\":\"val\"}},\"yaxis\":{\"anchor\":\"x\",\"domain\":[0.0,1.0],\"title\":{\"text\":\"dnce\"}},\"legend\":{\"tracegroupgap\":0},\"title\":{\"text\":\"Valence vs Danceability\"}},                        {\"responsive\": true}                    ).then(function(){\n",
       "                            \n",
       "var gd = document.getElementById('9c798ba1-2c2f-4902-aede-7db892568b7d');\n",
       "var x = new MutationObserver(function (mutations, observer) {{\n",
       "        var display = window.getComputedStyle(gd).display;\n",
       "        if (!display || display === 'none') {{\n",
       "            console.log([gd, 'removed!']);\n",
       "            Plotly.purge(gd);\n",
       "            observer.disconnect();\n",
       "        }}\n",
       "}});\n",
       "\n",
       "// Listen for the removal of the full notebook cells\n",
       "var notebookContainer = gd.closest('#notebook-container');\n",
       "if (notebookContainer) {{\n",
       "    x.observe(notebookContainer, {childList: true});\n",
       "}}\n",
       "\n",
       "// Listen for the clearing of the current output cell\n",
       "var outputEl = gd.closest('.output');\n",
       "if (outputEl) {{\n",
       "    x.observe(outputEl, {childList: true});\n",
       "}}\n",
       "\n",
       "                        })                };                });            </script>        </div>"
      ]
     },
     "metadata": {},
     "output_type": "display_data"
    }
   ],
   "source": [
    "# Load the data\n",
    "df = pd.read_csv(\"spotify_top_music.csv\")\n",
    "\n",
    "fig = px.scatter(df, x='val', y='dnce', trendline='ols', title='Valence vs Danceability')\n",
    "\n",
    "# Show the plot\n",
    "fig.show()"
   ]
  },
  {
   "cell_type": "markdown",
   "id": "ea92e5a7",
   "metadata": {},
   "source": [
    "We can say that if a song is positive, it's also easier to dance to"
   ]
  },
  {
   "cell_type": "code",
   "execution_count": 33,
   "id": "36dbb174",
   "metadata": {},
   "outputs": [
    {
     "data": {
      "application/vnd.plotly.v1+json": {
       "config": {
        "plotlyServerURL": "https://plot.ly"
       },
       "data": [
        {
         "hovertemplate": "nrgy=%{x}<br>dB=%{y}<extra></extra>",
         "legendgroup": "",
         "marker": {
          "color": "#636efa",
          "symbol": "circle"
         },
         "mode": "markers",
         "name": "",
         "orientation": "v",
         "showlegend": false,
         "type": "scatter",
         "x": [
          89,
          93,
          84,
          92,
          84,
          86,
          78,
          76,
          37,
          72,
          87,
          83,
          82,
          83,
          84,
          75,
          61,
          81,
          80,
          61,
          63,
          68,
          68,
          81,
          95,
          83,
          90,
          94,
          80,
          75,
          71,
          89,
          84,
          52,
          82,
          63,
          41,
          91,
          91,
          81,
          85,
          41,
          75,
          87,
          39,
          81,
          95,
          86,
          86,
          90,
          98,
          41,
          33,
          94,
          84,
          76,
          90,
          76,
          75,
          56,
          78,
          93,
          83,
          69,
          83,
          65,
          74,
          82,
          83,
          69,
          63,
          78,
          79,
          88,
          61,
          86,
          77,
          87,
          71,
          55,
          73,
          70,
          93,
          89,
          88,
          77,
          88,
          38,
          72,
          75,
          81,
          91,
          81,
          95,
          35,
          86,
          38,
          74,
          64,
          88,
          88,
          81,
          83,
          72,
          79,
          70,
          59,
          75,
          79,
          47,
          58,
          68,
          68,
          68,
          94,
          63,
          72,
          82,
          87,
          85,
          84,
          86,
          74,
          55,
          92,
          55,
          85,
          68,
          80,
          86,
          84,
          80,
          64,
          71,
          96,
          72,
          80,
          84,
          92,
          81,
          78,
          66,
          55,
          87,
          77,
          62,
          84,
          81,
          42,
          70,
          60,
          79,
          68,
          70,
          78,
          81,
          92,
          92,
          41,
          88,
          93,
          93,
          66,
          82,
          84,
          93,
          76,
          52,
          68,
          53,
          75,
          88,
          60,
          61,
          91,
          87,
          67,
          78,
          62,
          74,
          82,
          96,
          52,
          60,
          80,
          86,
          23,
          81,
          68,
          79,
          73,
          94,
          45,
          78,
          66,
          78,
          78,
          88,
          98,
          76,
          95,
          75,
          57,
          79,
          70,
          74,
          83,
          34,
          84,
          78,
          26,
          42,
          86,
          82,
          76,
          80,
          59,
          78,
          71,
          69,
          54,
          81,
          72,
          58,
          89,
          73,
          66,
          72,
          78,
          95,
          72,
          65,
          54,
          49,
          75,
          62,
          93,
          64,
          92,
          62,
          92,
          44,
          67,
          92,
          74,
          66,
          71,
          81,
          77,
          15,
          68,
          80,
          78,
          79,
          94,
          14,
          62,
          60,
          81,
          82,
          34,
          35,
          58,
          50,
          82,
          54,
          73,
          73,
          45,
          49,
          56,
          38,
          61,
          66,
          79,
          76,
          27,
          61,
          38,
          57,
          75,
          68,
          70,
          51,
          52,
          87,
          73,
          71,
          74,
          86,
          77,
          70,
          61,
          79,
          59,
          45,
          78,
          71,
          79,
          73,
          80,
          80,
          67,
          71,
          73,
          61,
          89,
          80,
          85,
          70,
          85,
          59,
          85,
          83,
          61,
          82,
          85,
          94,
          94,
          81,
          81,
          87,
          79,
          88,
          88,
          71,
          67,
          67,
          95,
          36,
          26,
          75,
          75,
          75,
          70,
          76,
          82,
          78,
          89,
          48,
          75,
          60,
          82,
          55,
          87,
          59,
          79,
          55,
          82,
          76,
          85,
          67,
          43,
          78,
          80,
          88,
          78,
          84,
          80,
          37,
          90,
          53,
          39,
          56,
          38,
          75,
          87,
          52,
          73,
          93,
          42,
          31,
          47,
          83,
          59,
          74,
          53,
          53,
          75,
          67,
          71,
          60,
          62,
          75,
          80,
          75,
          65,
          80,
          80,
          69,
          88,
          68,
          62,
          79,
          59,
          67,
          80,
          50,
          28,
          70,
          80,
          88,
          69,
          85,
          82,
          86,
          70,
          84,
          64,
          69,
          74,
          34,
          83,
          80,
          89,
          72,
          88,
          52,
          82,
          78,
          59,
          77,
          57,
          64,
          54,
          70,
          78,
          79,
          71,
          78,
          95,
          4,
          75,
          87,
          65,
          69,
          17,
          76,
          70,
          71,
          81,
          47,
          0,
          65,
          52,
          59,
          82,
          56,
          72,
          82,
          66,
          74,
          62,
          53,
          78,
          65,
          76,
          45,
          91,
          67,
          39,
          82,
          73,
          64,
          64,
          62,
          79,
          80,
          71,
          80,
          72,
          37,
          91,
          28,
          59,
          51,
          54,
          72,
          87,
          88,
          87,
          80,
          50,
          91,
          81,
          79,
          57,
          93,
          74,
          42,
          87,
          69,
          64,
          53,
          75,
          82,
          50,
          76,
          90,
          67,
          83,
          59,
          53,
          81,
          84,
          46,
          77,
          88,
          86,
          52,
          73,
          70,
          81,
          71,
          54,
          71,
          80,
          44,
          61,
          67,
          64,
          71,
          76,
          64,
          33,
          81,
          60,
          86,
          30,
          75,
          73,
          73,
          67,
          46,
          81,
          58,
          59,
          71,
          60,
          41,
          80,
          63,
          73,
          57,
          81,
          57,
          62,
          62,
          59,
          59,
          72,
          73,
          80,
          69,
          79,
          60,
          59,
          74,
          61,
          44,
          41,
          69,
          87,
          64,
          58,
          69,
          48,
          55,
          76,
          84,
          59,
          77,
          32,
          34,
          41,
          54,
          68,
          62,
          46,
          79,
          62,
          89,
          68,
          50,
          65,
          73,
          88,
          68,
          40,
          89,
          51,
          86,
          54,
          70,
          45,
          82,
          80,
          87,
          66,
          79,
          76,
          79,
          44
         ],
         "xaxis": "x",
         "y": [
          -4,
          -5,
          -3,
          -4,
          -5,
          -5,
          -4,
          -6,
          -8,
          -4,
          -4,
          -5,
          -5,
          -6,
          -8,
          -6,
          -4,
          -8,
          -7,
          -4,
          -7,
          -5,
          -5,
          -5,
          -4,
          -6,
          -5,
          -3,
          -5,
          -4,
          -2,
          -4,
          -3,
          -7,
          -5,
          -5,
          -5,
          -4,
          -6,
          -5,
          -4,
          -7,
          -4,
          -4,
          -6,
          -5,
          -4,
          -3,
          -5,
          -5,
          -3,
          -7,
          -8,
          -3,
          -5,
          -5,
          -4,
          -4,
          -5,
          -7,
          -5,
          -4,
          -5,
          -6,
          -5,
          -4,
          -4,
          -5,
          -4,
          -8,
          -9,
          -5,
          -3,
          -3,
          -4,
          -4,
          -6,
          -5,
          -6,
          -7,
          -4,
          -5,
          -4,
          -4,
          -4,
          -4,
          -4,
          -7,
          -5,
          -4,
          -5,
          -4,
          -3,
          -4,
          -6,
          -5,
          -8,
          -7,
          -7,
          -4,
          -4,
          -4,
          -5,
          -5,
          -4,
          -4,
          -7,
          -5,
          -2,
          -7,
          -7,
          -4,
          -4,
          -6,
          -4,
          -7,
          -2,
          -3,
          -4,
          -4,
          -5,
          -3,
          -7,
          -6,
          -5,
          -5,
          -6,
          -5,
          -4,
          -5,
          -6,
          -6,
          -6,
          -5,
          -4,
          -5,
          -3,
          -7,
          -3,
          -5,
          -6,
          -6,
          -7,
          -4,
          -5,
          -6,
          -3,
          -9,
          -6,
          -5,
          -5,
          -5,
          -6,
          -5,
          -3,
          -6,
          -3,
          -4,
          -7,
          -3,
          -3,
          -4,
          -8,
          -7,
          -4,
          -4,
          -4,
          -6,
          -7,
          -7,
          -6,
          -3,
          -4,
          -6,
          -3,
          -3,
          -5,
          -6,
          -6,
          -5,
          -3,
          -3,
          -7,
          -6,
          -5,
          -4,
          -8,
          -6,
          -7,
          -4,
          -5,
          -4,
          -8,
          -7,
          -5,
          -4,
          -4,
          -5,
          -2,
          -5,
          -3,
          -4,
          -5,
          -5,
          -6,
          -6,
          -4,
          -11,
          -4,
          -5,
          -7,
          -6,
          -4,
          -5,
          -5,
          -5,
          -6,
          -5,
          -6,
          -5,
          -7,
          -5,
          -6,
          -7,
          -5,
          -5,
          -5,
          -6,
          -5,
          -4,
          -4,
          -7,
          -7,
          -6,
          -5,
          -7,
          -4,
          -6,
          -4,
          -6,
          -3,
          -12,
          -5,
          -3,
          -3,
          -6,
          -5,
          -4,
          -4,
          -9,
          -6,
          -6,
          -3,
          -9,
          -4,
          -10,
          -7,
          -6,
          -4,
          -5,
          -9,
          -9,
          -7,
          -7,
          -3,
          -9,
          -6,
          -6,
          -6,
          -6,
          -7,
          -10,
          -7,
          -5,
          -7,
          -4,
          -6,
          -7,
          -6,
          -8,
          -7,
          -6,
          -5,
          -9,
          -8,
          -4,
          -6,
          -4,
          -6,
          -4,
          -4,
          -5,
          -7,
          -5,
          -7,
          -6,
          -5,
          -5,
          -5,
          -4,
          -7,
          -5,
          -4,
          -4,
          -4,
          -4,
          -5,
          -4,
          -5,
          -5,
          -6,
          -4,
          -3,
          -5,
          -7,
          -4,
          -5,
          -5,
          -4,
          -6,
          -5,
          -5,
          -7,
          -6,
          -4,
          -7,
          -4,
          -7,
          -4,
          -11,
          -9,
          -7,
          -6,
          -4,
          -8,
          -4,
          -5,
          -6,
          -5,
          -8,
          -4,
          -6,
          -5,
          -7,
          -4,
          -6,
          -5,
          -5,
          -3,
          -6,
          -3,
          -6,
          -11,
          -4,
          -6,
          -5,
          -6,
          -5,
          -4,
          -7,
          -4,
          -5,
          -8,
          -7,
          -10,
          -5,
          -5,
          -6,
          -6,
          -3,
          -8,
          -8,
          -6,
          -6,
          -6,
          -6,
          -7,
          -6,
          -7,
          -7,
          -7,
          -5,
          -4,
          -4,
          -8,
          -6,
          -8,
          -7,
          -5,
          -6,
          -4,
          -6,
          -5,
          -6,
          -9,
          -6,
          -5,
          -7,
          -5,
          -6,
          -4,
          -5,
          -7,
          -6,
          -4,
          -5,
          -4,
          -7,
          -6,
          -6,
          -5,
          -6,
          -6,
          -5,
          -5,
          -6,
          -4,
          -8,
          -3,
          -5,
          -6,
          -5,
          -6,
          -8,
          -6,
          -7,
          -5,
          -3,
          -5,
          -5,
          -5,
          -15,
          -4,
          -5,
          -7,
          -5,
          -13,
          -6,
          -6,
          -7,
          -3,
          -10,
          -60,
          -3,
          -6,
          -7,
          -4,
          -5,
          -5,
          -6,
          -5,
          -6,
          -5,
          -7,
          -6,
          -7,
          -4,
          -8,
          -3,
          -4,
          -7,
          -4,
          -6,
          -8,
          -7,
          -6,
          -4,
          -3,
          -5,
          -5,
          -6,
          -11,
          -3,
          -5,
          -7,
          -5,
          -10,
          -6,
          -4,
          -4,
          -3,
          -4,
          -5,
          -3,
          -6,
          -6,
          -9,
          -4,
          -6,
          -7,
          -5,
          -5,
          -7,
          -6,
          -4,
          -5,
          -9,
          -4,
          -2,
          -9,
          -6,
          -10,
          -6,
          -5,
          -7,
          -4,
          -6,
          -5,
          -3,
          -4,
          -4,
          -6,
          -4,
          -6,
          -6,
          -7,
          -5,
          -7,
          -5,
          -6,
          -5,
          -4,
          -3,
          -7,
          -7,
          -4,
          -5,
          -5,
          -7,
          -4,
          -6,
          -5,
          -3,
          -8,
          -6,
          -8,
          -6,
          -6,
          -7,
          -6,
          -4,
          -7,
          -5,
          -5,
          -5,
          -6,
          -5,
          -7,
          -7,
          -6,
          -6,
          -7,
          -5,
          -5,
          -4,
          -5,
          -6,
          -6,
          -7,
          -10,
          -8,
          -4,
          -4,
          -5,
          -6,
          -4,
          -6,
          -7,
          -8,
          -5,
          -8,
          -5,
          -7,
          -9,
          -6,
          -6,
          -5,
          -6,
          -6,
          -3,
          -3,
          -3,
          -7,
          -6,
          -8,
          -5,
          -3,
          -5,
          -9,
          -4,
          -8,
          -5,
          -7,
          -6,
          -7,
          -5,
          -4,
          -3,
          -7,
          -6,
          -5,
          -6,
          -9
         ],
         "yaxis": "y"
        },
        {
         "hovertemplate": "<b>OLS trendline</b><br>dB = 0.0922105 * nrgy + -12.08<br>R<sup>2</sup>=0.288936<br><br>nrgy=%{x}<br>dB=%{y} <b>(trend)</b><extra></extra>",
         "legendgroup": "",
         "marker": {
          "color": "#636efa",
          "symbol": "circle"
         },
         "mode": "lines",
         "name": "",
         "showlegend": false,
         "type": "scatter",
         "x": [
          0,
          4,
          14,
          15,
          17,
          23,
          26,
          26,
          27,
          28,
          28,
          30,
          31,
          32,
          33,
          33,
          34,
          34,
          34,
          34,
          35,
          35,
          36,
          37,
          37,
          37,
          38,
          38,
          38,
          38,
          38,
          39,
          39,
          39,
          40,
          41,
          41,
          41,
          41,
          41,
          41,
          41,
          42,
          42,
          42,
          42,
          43,
          44,
          44,
          44,
          44,
          45,
          45,
          45,
          45,
          45,
          46,
          46,
          46,
          47,
          47,
          47,
          48,
          48,
          49,
          49,
          50,
          50,
          50,
          50,
          50,
          51,
          51,
          51,
          52,
          52,
          52,
          52,
          52,
          52,
          52,
          52,
          53,
          53,
          53,
          53,
          53,
          53,
          53,
          54,
          54,
          54,
          54,
          54,
          54,
          54,
          54,
          55,
          55,
          55,
          55,
          55,
          55,
          55,
          56,
          56,
          56,
          56,
          57,
          57,
          57,
          57,
          57,
          57,
          58,
          58,
          58,
          58,
          58,
          59,
          59,
          59,
          59,
          59,
          59,
          59,
          59,
          59,
          59,
          59,
          59,
          59,
          59,
          59,
          59,
          60,
          60,
          60,
          60,
          60,
          60,
          60,
          60,
          60,
          61,
          61,
          61,
          61,
          61,
          61,
          61,
          61,
          61,
          61,
          61,
          62,
          62,
          62,
          62,
          62,
          62,
          62,
          62,
          62,
          62,
          62,
          62,
          62,
          63,
          63,
          63,
          63,
          63,
          64,
          64,
          64,
          64,
          64,
          64,
          64,
          64,
          64,
          64,
          64,
          65,
          65,
          65,
          65,
          65,
          65,
          65,
          66,
          66,
          66,
          66,
          66,
          66,
          66,
          66,
          67,
          67,
          67,
          67,
          67,
          67,
          67,
          67,
          67,
          67,
          67,
          67,
          68,
          68,
          68,
          68,
          68,
          68,
          68,
          68,
          68,
          68,
          68,
          68,
          68,
          68,
          68,
          69,
          69,
          69,
          69,
          69,
          69,
          69,
          69,
          69,
          69,
          69,
          70,
          70,
          70,
          70,
          70,
          70,
          70,
          70,
          70,
          70,
          70,
          70,
          70,
          70,
          70,
          71,
          71,
          71,
          71,
          71,
          71,
          71,
          71,
          71,
          71,
          71,
          71,
          71,
          71,
          71,
          71,
          71,
          72,
          72,
          72,
          72,
          72,
          72,
          72,
          72,
          72,
          72,
          72,
          72,
          72,
          73,
          73,
          73,
          73,
          73,
          73,
          73,
          73,
          73,
          73,
          73,
          73,
          73,
          73,
          73,
          73,
          74,
          74,
          74,
          74,
          74,
          74,
          74,
          74,
          74,
          74,
          74,
          74,
          75,
          75,
          75,
          75,
          75,
          75,
          75,
          75,
          75,
          75,
          75,
          75,
          75,
          75,
          75,
          75,
          75,
          75,
          75,
          75,
          75,
          76,
          76,
          76,
          76,
          76,
          76,
          76,
          76,
          76,
          76,
          76,
          76,
          76,
          76,
          76,
          77,
          77,
          77,
          77,
          77,
          77,
          77,
          77,
          78,
          78,
          78,
          78,
          78,
          78,
          78,
          78,
          78,
          78,
          78,
          78,
          78,
          78,
          78,
          78,
          78,
          78,
          78,
          78,
          78,
          79,
          79,
          79,
          79,
          79,
          79,
          79,
          79,
          79,
          79,
          79,
          79,
          79,
          79,
          79,
          79,
          79,
          79,
          79,
          79,
          80,
          80,
          80,
          80,
          80,
          80,
          80,
          80,
          80,
          80,
          80,
          80,
          80,
          80,
          80,
          80,
          80,
          80,
          80,
          80,
          80,
          80,
          80,
          80,
          80,
          80,
          81,
          81,
          81,
          81,
          81,
          81,
          81,
          81,
          81,
          81,
          81,
          81,
          81,
          81,
          81,
          81,
          81,
          81,
          81,
          81,
          81,
          81,
          81,
          82,
          82,
          82,
          82,
          82,
          82,
          82,
          82,
          82,
          82,
          82,
          82,
          82,
          82,
          82,
          82,
          82,
          82,
          82,
          82,
          83,
          83,
          83,
          83,
          83,
          83,
          83,
          83,
          83,
          83,
          83,
          83,
          84,
          84,
          84,
          84,
          84,
          84,
          84,
          84,
          84,
          84,
          84,
          84,
          84,
          84,
          84,
          85,
          85,
          85,
          85,
          85,
          85,
          85,
          85,
          85,
          86,
          86,
          86,
          86,
          86,
          86,
          86,
          86,
          86,
          86,
          86,
          86,
          86,
          86,
          87,
          87,
          87,
          87,
          87,
          87,
          87,
          87,
          87,
          87,
          87,
          87,
          87,
          87,
          87,
          87,
          88,
          88,
          88,
          88,
          88,
          88,
          88,
          88,
          88,
          88,
          88,
          88,
          88,
          88,
          88,
          88,
          88,
          89,
          89,
          89,
          89,
          89,
          89,
          89,
          89,
          89,
          90,
          90,
          90,
          90,
          90,
          91,
          91,
          91,
          91,
          91,
          91,
          91,
          92,
          92,
          92,
          92,
          92,
          92,
          92,
          92,
          93,
          93,
          93,
          93,
          93,
          93,
          93,
          93,
          93,
          94,
          94,
          94,
          94,
          94,
          94,
          94,
          95,
          95,
          95,
          95,
          95,
          95,
          95,
          96,
          96,
          98,
          98
         ],
         "xaxis": "x",
         "y": [
          -12.079994608862313,
          -11.711152650999587,
          -10.789047756342775,
          -10.696837266877095,
          -10.512416287945731,
          -9.959153351151645,
          -9.682521882754601,
          -9.682521882754601,
          -9.59031139328892,
          -9.49810090382324,
          -9.49810090382324,
          -9.313679924891876,
          -9.221469435426194,
          -9.129258945960514,
          -9.037048456494833,
          -9.037048456494833,
          -8.944837967029152,
          -8.944837967029152,
          -8.944837967029152,
          -8.944837967029152,
          -8.85262747756347,
          -8.85262747756347,
          -8.760416988097788,
          -8.668206498632108,
          -8.668206498632108,
          -8.668206498632108,
          -8.575996009166426,
          -8.575996009166426,
          -8.575996009166426,
          -8.575996009166426,
          -8.575996009166426,
          -8.483785519700746,
          -8.483785519700746,
          -8.483785519700746,
          -8.391575030235064,
          -8.299364540769382,
          -8.299364540769382,
          -8.299364540769382,
          -8.299364540769382,
          -8.299364540769382,
          -8.299364540769382,
          -8.299364540769382,
          -8.207154051303702,
          -8.207154051303702,
          -8.207154051303702,
          -8.207154051303702,
          -8.11494356183802,
          -8.02273307237234,
          -8.02273307237234,
          -8.02273307237234,
          -8.02273307237234,
          -7.930522582906658,
          -7.930522582906658,
          -7.930522582906658,
          -7.930522582906658,
          -7.930522582906658,
          -7.838312093440976,
          -7.838312093440976,
          -7.838312093440976,
          -7.746101603975295,
          -7.746101603975295,
          -7.746101603975295,
          -7.653891114509614,
          -7.653891114509614,
          -7.561680625043933,
          -7.561680625043933,
          -7.469470135578252,
          -7.469470135578252,
          -7.469470135578252,
          -7.469470135578252,
          -7.469470135578252,
          -7.37725964611257,
          -7.37725964611257,
          -7.37725964611257,
          -7.285049156646889,
          -7.285049156646889,
          -7.285049156646889,
          -7.285049156646889,
          -7.285049156646889,
          -7.285049156646889,
          -7.285049156646889,
          -7.285049156646889,
          -7.192838667181208,
          -7.192838667181208,
          -7.192838667181208,
          -7.192838667181208,
          -7.192838667181208,
          -7.192838667181208,
          -7.192838667181208,
          -7.100628177715526,
          -7.100628177715526,
          -7.100628177715526,
          -7.100628177715526,
          -7.100628177715526,
          -7.100628177715526,
          -7.100628177715526,
          -7.100628177715526,
          -7.008417688249845,
          -7.008417688249845,
          -7.008417688249845,
          -7.008417688249845,
          -7.008417688249845,
          -7.008417688249845,
          -7.008417688249845,
          -6.916207198784164,
          -6.916207198784164,
          -6.916207198784164,
          -6.916207198784164,
          -6.823996709318483,
          -6.823996709318483,
          -6.823996709318483,
          -6.823996709318483,
          -6.823996709318483,
          -6.823996709318483,
          -6.731786219852802,
          -6.731786219852802,
          -6.731786219852802,
          -6.731786219852802,
          -6.731786219852802,
          -6.63957573038712,
          -6.63957573038712,
          -6.63957573038712,
          -6.63957573038712,
          -6.63957573038712,
          -6.63957573038712,
          -6.63957573038712,
          -6.63957573038712,
          -6.63957573038712,
          -6.63957573038712,
          -6.63957573038712,
          -6.63957573038712,
          -6.63957573038712,
          -6.63957573038712,
          -6.63957573038712,
          -6.63957573038712,
          -6.547365240921439,
          -6.547365240921439,
          -6.547365240921439,
          -6.547365240921439,
          -6.547365240921439,
          -6.547365240921439,
          -6.547365240921439,
          -6.547365240921439,
          -6.547365240921439,
          -6.455154751455758,
          -6.455154751455758,
          -6.455154751455758,
          -6.455154751455758,
          -6.455154751455758,
          -6.455154751455758,
          -6.455154751455758,
          -6.455154751455758,
          -6.455154751455758,
          -6.455154751455758,
          -6.455154751455758,
          -6.3629442619900765,
          -6.3629442619900765,
          -6.3629442619900765,
          -6.3629442619900765,
          -6.3629442619900765,
          -6.3629442619900765,
          -6.3629442619900765,
          -6.3629442619900765,
          -6.3629442619900765,
          -6.3629442619900765,
          -6.3629442619900765,
          -6.3629442619900765,
          -6.3629442619900765,
          -6.2707337725243955,
          -6.2707337725243955,
          -6.2707337725243955,
          -6.2707337725243955,
          -6.2707337725243955,
          -6.1785232830587145,
          -6.1785232830587145,
          -6.1785232830587145,
          -6.1785232830587145,
          -6.1785232830587145,
          -6.1785232830587145,
          -6.1785232830587145,
          -6.1785232830587145,
          -6.1785232830587145,
          -6.1785232830587145,
          -6.1785232830587145,
          -6.0863127935930335,
          -6.0863127935930335,
          -6.0863127935930335,
          -6.0863127935930335,
          -6.0863127935930335,
          -6.0863127935930335,
          -6.0863127935930335,
          -5.9941023041273525,
          -5.9941023041273525,
          -5.9941023041273525,
          -5.9941023041273525,
          -5.9941023041273525,
          -5.9941023041273525,
          -5.9941023041273525,
          -5.9941023041273525,
          -5.901891814661671,
          -5.901891814661671,
          -5.901891814661671,
          -5.901891814661671,
          -5.901891814661671,
          -5.901891814661671,
          -5.901891814661671,
          -5.901891814661671,
          -5.901891814661671,
          -5.901891814661671,
          -5.901891814661671,
          -5.901891814661671,
          -5.80968132519599,
          -5.80968132519599,
          -5.80968132519599,
          -5.80968132519599,
          -5.80968132519599,
          -5.80968132519599,
          -5.80968132519599,
          -5.80968132519599,
          -5.80968132519599,
          -5.80968132519599,
          -5.80968132519599,
          -5.80968132519599,
          -5.80968132519599,
          -5.80968132519599,
          -5.80968132519599,
          -5.717470835730309,
          -5.717470835730309,
          -5.717470835730309,
          -5.717470835730309,
          -5.717470835730309,
          -5.717470835730309,
          -5.717470835730309,
          -5.717470835730309,
          -5.717470835730309,
          -5.717470835730309,
          -5.717470835730309,
          -5.625260346264627,
          -5.625260346264627,
          -5.625260346264627,
          -5.625260346264627,
          -5.625260346264627,
          -5.625260346264627,
          -5.625260346264627,
          -5.625260346264627,
          -5.625260346264627,
          -5.625260346264627,
          -5.625260346264627,
          -5.625260346264627,
          -5.625260346264627,
          -5.625260346264627,
          -5.625260346264627,
          -5.533049856798946,
          -5.533049856798946,
          -5.533049856798946,
          -5.533049856798946,
          -5.533049856798946,
          -5.533049856798946,
          -5.533049856798946,
          -5.533049856798946,
          -5.533049856798946,
          -5.533049856798946,
          -5.533049856798946,
          -5.533049856798946,
          -5.533049856798946,
          -5.533049856798946,
          -5.533049856798946,
          -5.533049856798946,
          -5.533049856798946,
          -5.440839367333265,
          -5.440839367333265,
          -5.440839367333265,
          -5.440839367333265,
          -5.440839367333265,
          -5.440839367333265,
          -5.440839367333265,
          -5.440839367333265,
          -5.440839367333265,
          -5.440839367333265,
          -5.440839367333265,
          -5.440839367333265,
          -5.440839367333265,
          -5.348628877867584,
          -5.348628877867584,
          -5.348628877867584,
          -5.348628877867584,
          -5.348628877867584,
          -5.348628877867584,
          -5.348628877867584,
          -5.348628877867584,
          -5.348628877867584,
          -5.348628877867584,
          -5.348628877867584,
          -5.348628877867584,
          -5.348628877867584,
          -5.348628877867584,
          -5.348628877867584,
          -5.348628877867584,
          -5.256418388401903,
          -5.256418388401903,
          -5.256418388401903,
          -5.256418388401903,
          -5.256418388401903,
          -5.256418388401903,
          -5.256418388401903,
          -5.256418388401903,
          -5.256418388401903,
          -5.256418388401903,
          -5.256418388401903,
          -5.256418388401903,
          -5.164207898936221,
          -5.164207898936221,
          -5.164207898936221,
          -5.164207898936221,
          -5.164207898936221,
          -5.164207898936221,
          -5.164207898936221,
          -5.164207898936221,
          -5.164207898936221,
          -5.164207898936221,
          -5.164207898936221,
          -5.164207898936221,
          -5.164207898936221,
          -5.164207898936221,
          -5.164207898936221,
          -5.164207898936221,
          -5.164207898936221,
          -5.164207898936221,
          -5.164207898936221,
          -5.164207898936221,
          -5.164207898936221,
          -5.07199740947054,
          -5.07199740947054,
          -5.07199740947054,
          -5.07199740947054,
          -5.07199740947054,
          -5.07199740947054,
          -5.07199740947054,
          -5.07199740947054,
          -5.07199740947054,
          -5.07199740947054,
          -5.07199740947054,
          -5.07199740947054,
          -5.07199740947054,
          -5.07199740947054,
          -5.07199740947054,
          -4.979786920004859,
          -4.979786920004859,
          -4.979786920004859,
          -4.979786920004859,
          -4.979786920004859,
          -4.979786920004859,
          -4.979786920004859,
          -4.979786920004859,
          -4.887576430539177,
          -4.887576430539177,
          -4.887576430539177,
          -4.887576430539177,
          -4.887576430539177,
          -4.887576430539177,
          -4.887576430539177,
          -4.887576430539177,
          -4.887576430539177,
          -4.887576430539177,
          -4.887576430539177,
          -4.887576430539177,
          -4.887576430539177,
          -4.887576430539177,
          -4.887576430539177,
          -4.887576430539177,
          -4.887576430539177,
          -4.887576430539177,
          -4.887576430539177,
          -4.887576430539177,
          -4.887576430539177,
          -4.795365941073496,
          -4.795365941073496,
          -4.795365941073496,
          -4.795365941073496,
          -4.795365941073496,
          -4.795365941073496,
          -4.795365941073496,
          -4.795365941073496,
          -4.795365941073496,
          -4.795365941073496,
          -4.795365941073496,
          -4.795365941073496,
          -4.795365941073496,
          -4.795365941073496,
          -4.795365941073496,
          -4.795365941073496,
          -4.795365941073496,
          -4.795365941073496,
          -4.795365941073496,
          -4.795365941073496,
          -4.703155451607815,
          -4.703155451607815,
          -4.703155451607815,
          -4.703155451607815,
          -4.703155451607815,
          -4.703155451607815,
          -4.703155451607815,
          -4.703155451607815,
          -4.703155451607815,
          -4.703155451607815,
          -4.703155451607815,
          -4.703155451607815,
          -4.703155451607815,
          -4.703155451607815,
          -4.703155451607815,
          -4.703155451607815,
          -4.703155451607815,
          -4.703155451607815,
          -4.703155451607815,
          -4.703155451607815,
          -4.703155451607815,
          -4.703155451607815,
          -4.703155451607815,
          -4.703155451607815,
          -4.703155451607815,
          -4.703155451607815,
          -4.610944962142134,
          -4.610944962142134,
          -4.610944962142134,
          -4.610944962142134,
          -4.610944962142134,
          -4.610944962142134,
          -4.610944962142134,
          -4.610944962142134,
          -4.610944962142134,
          -4.610944962142134,
          -4.610944962142134,
          -4.610944962142134,
          -4.610944962142134,
          -4.610944962142134,
          -4.610944962142134,
          -4.610944962142134,
          -4.610944962142134,
          -4.610944962142134,
          -4.610944962142134,
          -4.610944962142134,
          -4.610944962142134,
          -4.610944962142134,
          -4.610944962142134,
          -4.518734472676453,
          -4.518734472676453,
          -4.518734472676453,
          -4.518734472676453,
          -4.518734472676453,
          -4.518734472676453,
          -4.518734472676453,
          -4.518734472676453,
          -4.518734472676453,
          -4.518734472676453,
          -4.518734472676453,
          -4.518734472676453,
          -4.518734472676453,
          -4.518734472676453,
          -4.518734472676453,
          -4.518734472676453,
          -4.518734472676453,
          -4.518734472676453,
          -4.518734472676453,
          -4.518734472676453,
          -4.426523983210771,
          -4.426523983210771,
          -4.426523983210771,
          -4.426523983210771,
          -4.426523983210771,
          -4.426523983210771,
          -4.426523983210771,
          -4.426523983210771,
          -4.426523983210771,
          -4.426523983210771,
          -4.426523983210771,
          -4.426523983210771,
          -4.33431349374509,
          -4.33431349374509,
          -4.33431349374509,
          -4.33431349374509,
          -4.33431349374509,
          -4.33431349374509,
          -4.33431349374509,
          -4.33431349374509,
          -4.33431349374509,
          -4.33431349374509,
          -4.33431349374509,
          -4.33431349374509,
          -4.33431349374509,
          -4.33431349374509,
          -4.33431349374509,
          -4.242103004279409,
          -4.242103004279409,
          -4.242103004279409,
          -4.242103004279409,
          -4.242103004279409,
          -4.242103004279409,
          -4.242103004279409,
          -4.242103004279409,
          -4.242103004279409,
          -4.149892514813727,
          -4.149892514813727,
          -4.149892514813727,
          -4.149892514813727,
          -4.149892514813727,
          -4.149892514813727,
          -4.149892514813727,
          -4.149892514813727,
          -4.149892514813727,
          -4.149892514813727,
          -4.149892514813727,
          -4.149892514813727,
          -4.149892514813727,
          -4.149892514813727,
          -4.057682025348047,
          -4.057682025348047,
          -4.057682025348047,
          -4.057682025348047,
          -4.057682025348047,
          -4.057682025348047,
          -4.057682025348047,
          -4.057682025348047,
          -4.057682025348047,
          -4.057682025348047,
          -4.057682025348047,
          -4.057682025348047,
          -4.057682025348047,
          -4.057682025348047,
          -4.057682025348047,
          -4.057682025348047,
          -3.965471535882365,
          -3.965471535882365,
          -3.965471535882365,
          -3.965471535882365,
          -3.965471535882365,
          -3.965471535882365,
          -3.965471535882365,
          -3.965471535882365,
          -3.965471535882365,
          -3.965471535882365,
          -3.965471535882365,
          -3.965471535882365,
          -3.965471535882365,
          -3.965471535882365,
          -3.965471535882365,
          -3.965471535882365,
          -3.965471535882365,
          -3.8732610464166832,
          -3.8732610464166832,
          -3.8732610464166832,
          -3.8732610464166832,
          -3.8732610464166832,
          -3.8732610464166832,
          -3.8732610464166832,
          -3.8732610464166832,
          -3.8732610464166832,
          -3.781050556951003,
          -3.781050556951003,
          -3.781050556951003,
          -3.781050556951003,
          -3.781050556951003,
          -3.6888400674853212,
          -3.6888400674853212,
          -3.6888400674853212,
          -3.6888400674853212,
          -3.6888400674853212,
          -3.6888400674853212,
          -3.6888400674853212,
          -3.5966295780196393,
          -3.5966295780196393,
          -3.5966295780196393,
          -3.5966295780196393,
          -3.5966295780196393,
          -3.5966295780196393,
          -3.5966295780196393,
          -3.5966295780196393,
          -3.5044190885539592,
          -3.5044190885539592,
          -3.5044190885539592,
          -3.5044190885539592,
          -3.5044190885539592,
          -3.5044190885539592,
          -3.5044190885539592,
          -3.5044190885539592,
          -3.5044190885539592,
          -3.4122085990882773,
          -3.4122085990882773,
          -3.4122085990882773,
          -3.4122085990882773,
          -3.4122085990882773,
          -3.4122085990882773,
          -3.4122085990882773,
          -3.3199981096225972,
          -3.3199981096225972,
          -3.3199981096225972,
          -3.3199981096225972,
          -3.3199981096225972,
          -3.3199981096225972,
          -3.3199981096225972,
          -3.2277876201569153,
          -3.2277876201569153,
          -3.0433666412255533,
          -3.0433666412255533
         ],
         "yaxis": "y"
        }
       ],
       "layout": {
        "legend": {
         "tracegroupgap": 0
        },
        "template": {
         "data": {
          "bar": [
           {
            "error_x": {
             "color": "#2a3f5f"
            },
            "error_y": {
             "color": "#2a3f5f"
            },
            "marker": {
             "line": {
              "color": "#E5ECF6",
              "width": 0.5
             },
             "pattern": {
              "fillmode": "overlay",
              "size": 10,
              "solidity": 0.2
             }
            },
            "type": "bar"
           }
          ],
          "barpolar": [
           {
            "marker": {
             "line": {
              "color": "#E5ECF6",
              "width": 0.5
             },
             "pattern": {
              "fillmode": "overlay",
              "size": 10,
              "solidity": 0.2
             }
            },
            "type": "barpolar"
           }
          ],
          "carpet": [
           {
            "aaxis": {
             "endlinecolor": "#2a3f5f",
             "gridcolor": "white",
             "linecolor": "white",
             "minorgridcolor": "white",
             "startlinecolor": "#2a3f5f"
            },
            "baxis": {
             "endlinecolor": "#2a3f5f",
             "gridcolor": "white",
             "linecolor": "white",
             "minorgridcolor": "white",
             "startlinecolor": "#2a3f5f"
            },
            "type": "carpet"
           }
          ],
          "choropleth": [
           {
            "colorbar": {
             "outlinewidth": 0,
             "ticks": ""
            },
            "type": "choropleth"
           }
          ],
          "contour": [
           {
            "colorbar": {
             "outlinewidth": 0,
             "ticks": ""
            },
            "colorscale": [
             [
              0,
              "#0d0887"
             ],
             [
              0.1111111111111111,
              "#46039f"
             ],
             [
              0.2222222222222222,
              "#7201a8"
             ],
             [
              0.3333333333333333,
              "#9c179e"
             ],
             [
              0.4444444444444444,
              "#bd3786"
             ],
             [
              0.5555555555555556,
              "#d8576b"
             ],
             [
              0.6666666666666666,
              "#ed7953"
             ],
             [
              0.7777777777777778,
              "#fb9f3a"
             ],
             [
              0.8888888888888888,
              "#fdca26"
             ],
             [
              1,
              "#f0f921"
             ]
            ],
            "type": "contour"
           }
          ],
          "contourcarpet": [
           {
            "colorbar": {
             "outlinewidth": 0,
             "ticks": ""
            },
            "type": "contourcarpet"
           }
          ],
          "heatmap": [
           {
            "colorbar": {
             "outlinewidth": 0,
             "ticks": ""
            },
            "colorscale": [
             [
              0,
              "#0d0887"
             ],
             [
              0.1111111111111111,
              "#46039f"
             ],
             [
              0.2222222222222222,
              "#7201a8"
             ],
             [
              0.3333333333333333,
              "#9c179e"
             ],
             [
              0.4444444444444444,
              "#bd3786"
             ],
             [
              0.5555555555555556,
              "#d8576b"
             ],
             [
              0.6666666666666666,
              "#ed7953"
             ],
             [
              0.7777777777777778,
              "#fb9f3a"
             ],
             [
              0.8888888888888888,
              "#fdca26"
             ],
             [
              1,
              "#f0f921"
             ]
            ],
            "type": "heatmap"
           }
          ],
          "heatmapgl": [
           {
            "colorbar": {
             "outlinewidth": 0,
             "ticks": ""
            },
            "colorscale": [
             [
              0,
              "#0d0887"
             ],
             [
              0.1111111111111111,
              "#46039f"
             ],
             [
              0.2222222222222222,
              "#7201a8"
             ],
             [
              0.3333333333333333,
              "#9c179e"
             ],
             [
              0.4444444444444444,
              "#bd3786"
             ],
             [
              0.5555555555555556,
              "#d8576b"
             ],
             [
              0.6666666666666666,
              "#ed7953"
             ],
             [
              0.7777777777777778,
              "#fb9f3a"
             ],
             [
              0.8888888888888888,
              "#fdca26"
             ],
             [
              1,
              "#f0f921"
             ]
            ],
            "type": "heatmapgl"
           }
          ],
          "histogram": [
           {
            "marker": {
             "pattern": {
              "fillmode": "overlay",
              "size": 10,
              "solidity": 0.2
             }
            },
            "type": "histogram"
           }
          ],
          "histogram2d": [
           {
            "colorbar": {
             "outlinewidth": 0,
             "ticks": ""
            },
            "colorscale": [
             [
              0,
              "#0d0887"
             ],
             [
              0.1111111111111111,
              "#46039f"
             ],
             [
              0.2222222222222222,
              "#7201a8"
             ],
             [
              0.3333333333333333,
              "#9c179e"
             ],
             [
              0.4444444444444444,
              "#bd3786"
             ],
             [
              0.5555555555555556,
              "#d8576b"
             ],
             [
              0.6666666666666666,
              "#ed7953"
             ],
             [
              0.7777777777777778,
              "#fb9f3a"
             ],
             [
              0.8888888888888888,
              "#fdca26"
             ],
             [
              1,
              "#f0f921"
             ]
            ],
            "type": "histogram2d"
           }
          ],
          "histogram2dcontour": [
           {
            "colorbar": {
             "outlinewidth": 0,
             "ticks": ""
            },
            "colorscale": [
             [
              0,
              "#0d0887"
             ],
             [
              0.1111111111111111,
              "#46039f"
             ],
             [
              0.2222222222222222,
              "#7201a8"
             ],
             [
              0.3333333333333333,
              "#9c179e"
             ],
             [
              0.4444444444444444,
              "#bd3786"
             ],
             [
              0.5555555555555556,
              "#d8576b"
             ],
             [
              0.6666666666666666,
              "#ed7953"
             ],
             [
              0.7777777777777778,
              "#fb9f3a"
             ],
             [
              0.8888888888888888,
              "#fdca26"
             ],
             [
              1,
              "#f0f921"
             ]
            ],
            "type": "histogram2dcontour"
           }
          ],
          "mesh3d": [
           {
            "colorbar": {
             "outlinewidth": 0,
             "ticks": ""
            },
            "type": "mesh3d"
           }
          ],
          "parcoords": [
           {
            "line": {
             "colorbar": {
              "outlinewidth": 0,
              "ticks": ""
             }
            },
            "type": "parcoords"
           }
          ],
          "pie": [
           {
            "automargin": true,
            "type": "pie"
           }
          ],
          "scatter": [
           {
            "fillpattern": {
             "fillmode": "overlay",
             "size": 10,
             "solidity": 0.2
            },
            "type": "scatter"
           }
          ],
          "scatter3d": [
           {
            "line": {
             "colorbar": {
              "outlinewidth": 0,
              "ticks": ""
             }
            },
            "marker": {
             "colorbar": {
              "outlinewidth": 0,
              "ticks": ""
             }
            },
            "type": "scatter3d"
           }
          ],
          "scattercarpet": [
           {
            "marker": {
             "colorbar": {
              "outlinewidth": 0,
              "ticks": ""
             }
            },
            "type": "scattercarpet"
           }
          ],
          "scattergeo": [
           {
            "marker": {
             "colorbar": {
              "outlinewidth": 0,
              "ticks": ""
             }
            },
            "type": "scattergeo"
           }
          ],
          "scattergl": [
           {
            "marker": {
             "colorbar": {
              "outlinewidth": 0,
              "ticks": ""
             }
            },
            "type": "scattergl"
           }
          ],
          "scattermapbox": [
           {
            "marker": {
             "colorbar": {
              "outlinewidth": 0,
              "ticks": ""
             }
            },
            "type": "scattermapbox"
           }
          ],
          "scatterpolar": [
           {
            "marker": {
             "colorbar": {
              "outlinewidth": 0,
              "ticks": ""
             }
            },
            "type": "scatterpolar"
           }
          ],
          "scatterpolargl": [
           {
            "marker": {
             "colorbar": {
              "outlinewidth": 0,
              "ticks": ""
             }
            },
            "type": "scatterpolargl"
           }
          ],
          "scatterternary": [
           {
            "marker": {
             "colorbar": {
              "outlinewidth": 0,
              "ticks": ""
             }
            },
            "type": "scatterternary"
           }
          ],
          "surface": [
           {
            "colorbar": {
             "outlinewidth": 0,
             "ticks": ""
            },
            "colorscale": [
             [
              0,
              "#0d0887"
             ],
             [
              0.1111111111111111,
              "#46039f"
             ],
             [
              0.2222222222222222,
              "#7201a8"
             ],
             [
              0.3333333333333333,
              "#9c179e"
             ],
             [
              0.4444444444444444,
              "#bd3786"
             ],
             [
              0.5555555555555556,
              "#d8576b"
             ],
             [
              0.6666666666666666,
              "#ed7953"
             ],
             [
              0.7777777777777778,
              "#fb9f3a"
             ],
             [
              0.8888888888888888,
              "#fdca26"
             ],
             [
              1,
              "#f0f921"
             ]
            ],
            "type": "surface"
           }
          ],
          "table": [
           {
            "cells": {
             "fill": {
              "color": "#EBF0F8"
             },
             "line": {
              "color": "white"
             }
            },
            "header": {
             "fill": {
              "color": "#C8D4E3"
             },
             "line": {
              "color": "white"
             }
            },
            "type": "table"
           }
          ]
         },
         "layout": {
          "annotationdefaults": {
           "arrowcolor": "#2a3f5f",
           "arrowhead": 0,
           "arrowwidth": 1
          },
          "autotypenumbers": "strict",
          "coloraxis": {
           "colorbar": {
            "outlinewidth": 0,
            "ticks": ""
           }
          },
          "colorscale": {
           "diverging": [
            [
             0,
             "#8e0152"
            ],
            [
             0.1,
             "#c51b7d"
            ],
            [
             0.2,
             "#de77ae"
            ],
            [
             0.3,
             "#f1b6da"
            ],
            [
             0.4,
             "#fde0ef"
            ],
            [
             0.5,
             "#f7f7f7"
            ],
            [
             0.6,
             "#e6f5d0"
            ],
            [
             0.7,
             "#b8e186"
            ],
            [
             0.8,
             "#7fbc41"
            ],
            [
             0.9,
             "#4d9221"
            ],
            [
             1,
             "#276419"
            ]
           ],
           "sequential": [
            [
             0,
             "#0d0887"
            ],
            [
             0.1111111111111111,
             "#46039f"
            ],
            [
             0.2222222222222222,
             "#7201a8"
            ],
            [
             0.3333333333333333,
             "#9c179e"
            ],
            [
             0.4444444444444444,
             "#bd3786"
            ],
            [
             0.5555555555555556,
             "#d8576b"
            ],
            [
             0.6666666666666666,
             "#ed7953"
            ],
            [
             0.7777777777777778,
             "#fb9f3a"
            ],
            [
             0.8888888888888888,
             "#fdca26"
            ],
            [
             1,
             "#f0f921"
            ]
           ],
           "sequentialminus": [
            [
             0,
             "#0d0887"
            ],
            [
             0.1111111111111111,
             "#46039f"
            ],
            [
             0.2222222222222222,
             "#7201a8"
            ],
            [
             0.3333333333333333,
             "#9c179e"
            ],
            [
             0.4444444444444444,
             "#bd3786"
            ],
            [
             0.5555555555555556,
             "#d8576b"
            ],
            [
             0.6666666666666666,
             "#ed7953"
            ],
            [
             0.7777777777777778,
             "#fb9f3a"
            ],
            [
             0.8888888888888888,
             "#fdca26"
            ],
            [
             1,
             "#f0f921"
            ]
           ]
          },
          "colorway": [
           "#636efa",
           "#EF553B",
           "#00cc96",
           "#ab63fa",
           "#FFA15A",
           "#19d3f3",
           "#FF6692",
           "#B6E880",
           "#FF97FF",
           "#FECB52"
          ],
          "font": {
           "color": "#2a3f5f"
          },
          "geo": {
           "bgcolor": "white",
           "lakecolor": "white",
           "landcolor": "#E5ECF6",
           "showlakes": true,
           "showland": true,
           "subunitcolor": "white"
          },
          "hoverlabel": {
           "align": "left"
          },
          "hovermode": "closest",
          "mapbox": {
           "style": "light"
          },
          "paper_bgcolor": "white",
          "plot_bgcolor": "#E5ECF6",
          "polar": {
           "angularaxis": {
            "gridcolor": "white",
            "linecolor": "white",
            "ticks": ""
           },
           "bgcolor": "#E5ECF6",
           "radialaxis": {
            "gridcolor": "white",
            "linecolor": "white",
            "ticks": ""
           }
          },
          "scene": {
           "xaxis": {
            "backgroundcolor": "#E5ECF6",
            "gridcolor": "white",
            "gridwidth": 2,
            "linecolor": "white",
            "showbackground": true,
            "ticks": "",
            "zerolinecolor": "white"
           },
           "yaxis": {
            "backgroundcolor": "#E5ECF6",
            "gridcolor": "white",
            "gridwidth": 2,
            "linecolor": "white",
            "showbackground": true,
            "ticks": "",
            "zerolinecolor": "white"
           },
           "zaxis": {
            "backgroundcolor": "#E5ECF6",
            "gridcolor": "white",
            "gridwidth": 2,
            "linecolor": "white",
            "showbackground": true,
            "ticks": "",
            "zerolinecolor": "white"
           }
          },
          "shapedefaults": {
           "line": {
            "color": "#2a3f5f"
           }
          },
          "ternary": {
           "aaxis": {
            "gridcolor": "white",
            "linecolor": "white",
            "ticks": ""
           },
           "baxis": {
            "gridcolor": "white",
            "linecolor": "white",
            "ticks": ""
           },
           "bgcolor": "#E5ECF6",
           "caxis": {
            "gridcolor": "white",
            "linecolor": "white",
            "ticks": ""
           }
          },
          "title": {
           "x": 0.05
          },
          "xaxis": {
           "automargin": true,
           "gridcolor": "white",
           "linecolor": "white",
           "ticks": "",
           "title": {
            "standoff": 15
           },
           "zerolinecolor": "white",
           "zerolinewidth": 2
          },
          "yaxis": {
           "automargin": true,
           "gridcolor": "white",
           "linecolor": "white",
           "ticks": "",
           "title": {
            "standoff": 15
           },
           "zerolinecolor": "white",
           "zerolinewidth": 2
          }
         }
        },
        "title": {
         "text": "Energy vs Loudness"
        },
        "xaxis": {
         "anchor": "y",
         "domain": [
          0,
          1
         ],
         "title": {
          "text": "nrgy"
         }
        },
        "yaxis": {
         "anchor": "x",
         "domain": [
          0,
          1
         ],
         "title": {
          "text": "dB"
         }
        }
       }
      },
      "text/html": [
       "<div>                            <div id=\"0862b394-5554-4aca-b451-6a5ef788e727\" class=\"plotly-graph-div\" style=\"height:525px; width:100%;\"></div>            <script type=\"text/javascript\">                require([\"plotly\"], function(Plotly) {                    window.PLOTLYENV=window.PLOTLYENV || {};                                    if (document.getElementById(\"0862b394-5554-4aca-b451-6a5ef788e727\")) {                    Plotly.newPlot(                        \"0862b394-5554-4aca-b451-6a5ef788e727\",                        [{\"hovertemplate\":\"nrgy=%{x}<br>dB=%{y}<extra></extra>\",\"legendgroup\":\"\",\"marker\":{\"color\":\"#636efa\",\"symbol\":\"circle\"},\"mode\":\"markers\",\"name\":\"\",\"orientation\":\"v\",\"showlegend\":false,\"x\":[89,93,84,92,84,86,78,76,37,72,87,83,82,83,84,75,61,81,80,61,63,68,68,81,95,83,90,94,80,75,71,89,84,52,82,63,41,91,91,81,85,41,75,87,39,81,95,86,86,90,98,41,33,94,84,76,90,76,75,56,78,93,83,69,83,65,74,82,83,69,63,78,79,88,61,86,77,87,71,55,73,70,93,89,88,77,88,38,72,75,81,91,81,95,35,86,38,74,64,88,88,81,83,72,79,70,59,75,79,47,58,68,68,68,94,63,72,82,87,85,84,86,74,55,92,55,85,68,80,86,84,80,64,71,96,72,80,84,92,81,78,66,55,87,77,62,84,81,42,70,60,79,68,70,78,81,92,92,41,88,93,93,66,82,84,93,76,52,68,53,75,88,60,61,91,87,67,78,62,74,82,96,52,60,80,86,23,81,68,79,73,94,45,78,66,78,78,88,98,76,95,75,57,79,70,74,83,34,84,78,26,42,86,82,76,80,59,78,71,69,54,81,72,58,89,73,66,72,78,95,72,65,54,49,75,62,93,64,92,62,92,44,67,92,74,66,71,81,77,15,68,80,78,79,94,14,62,60,81,82,34,35,58,50,82,54,73,73,45,49,56,38,61,66,79,76,27,61,38,57,75,68,70,51,52,87,73,71,74,86,77,70,61,79,59,45,78,71,79,73,80,80,67,71,73,61,89,80,85,70,85,59,85,83,61,82,85,94,94,81,81,87,79,88,88,71,67,67,95,36,26,75,75,75,70,76,82,78,89,48,75,60,82,55,87,59,79,55,82,76,85,67,43,78,80,88,78,84,80,37,90,53,39,56,38,75,87,52,73,93,42,31,47,83,59,74,53,53,75,67,71,60,62,75,80,75,65,80,80,69,88,68,62,79,59,67,80,50,28,70,80,88,69,85,82,86,70,84,64,69,74,34,83,80,89,72,88,52,82,78,59,77,57,64,54,70,78,79,71,78,95,4,75,87,65,69,17,76,70,71,81,47,0,65,52,59,82,56,72,82,66,74,62,53,78,65,76,45,91,67,39,82,73,64,64,62,79,80,71,80,72,37,91,28,59,51,54,72,87,88,87,80,50,91,81,79,57,93,74,42,87,69,64,53,75,82,50,76,90,67,83,59,53,81,84,46,77,88,86,52,73,70,81,71,54,71,80,44,61,67,64,71,76,64,33,81,60,86,30,75,73,73,67,46,81,58,59,71,60,41,80,63,73,57,81,57,62,62,59,59,72,73,80,69,79,60,59,74,61,44,41,69,87,64,58,69,48,55,76,84,59,77,32,34,41,54,68,62,46,79,62,89,68,50,65,73,88,68,40,89,51,86,54,70,45,82,80,87,66,79,76,79,44],\"xaxis\":\"x\",\"y\":[-4,-5,-3,-4,-5,-5,-4,-6,-8,-4,-4,-5,-5,-6,-8,-6,-4,-8,-7,-4,-7,-5,-5,-5,-4,-6,-5,-3,-5,-4,-2,-4,-3,-7,-5,-5,-5,-4,-6,-5,-4,-7,-4,-4,-6,-5,-4,-3,-5,-5,-3,-7,-8,-3,-5,-5,-4,-4,-5,-7,-5,-4,-5,-6,-5,-4,-4,-5,-4,-8,-9,-5,-3,-3,-4,-4,-6,-5,-6,-7,-4,-5,-4,-4,-4,-4,-4,-7,-5,-4,-5,-4,-3,-4,-6,-5,-8,-7,-7,-4,-4,-4,-5,-5,-4,-4,-7,-5,-2,-7,-7,-4,-4,-6,-4,-7,-2,-3,-4,-4,-5,-3,-7,-6,-5,-5,-6,-5,-4,-5,-6,-6,-6,-5,-4,-5,-3,-7,-3,-5,-6,-6,-7,-4,-5,-6,-3,-9,-6,-5,-5,-5,-6,-5,-3,-6,-3,-4,-7,-3,-3,-4,-8,-7,-4,-4,-4,-6,-7,-7,-6,-3,-4,-6,-3,-3,-5,-6,-6,-5,-3,-3,-7,-6,-5,-4,-8,-6,-7,-4,-5,-4,-8,-7,-5,-4,-4,-5,-2,-5,-3,-4,-5,-5,-6,-6,-4,-11,-4,-5,-7,-6,-4,-5,-5,-5,-6,-5,-6,-5,-7,-5,-6,-7,-5,-5,-5,-6,-5,-4,-4,-7,-7,-6,-5,-7,-4,-6,-4,-6,-3,-12,-5,-3,-3,-6,-5,-4,-4,-9,-6,-6,-3,-9,-4,-10,-7,-6,-4,-5,-9,-9,-7,-7,-3,-9,-6,-6,-6,-6,-7,-10,-7,-5,-7,-4,-6,-7,-6,-8,-7,-6,-5,-9,-8,-4,-6,-4,-6,-4,-4,-5,-7,-5,-7,-6,-5,-5,-5,-4,-7,-5,-4,-4,-4,-4,-5,-4,-5,-5,-6,-4,-3,-5,-7,-4,-5,-5,-4,-6,-5,-5,-7,-6,-4,-7,-4,-7,-4,-11,-9,-7,-6,-4,-8,-4,-5,-6,-5,-8,-4,-6,-5,-7,-4,-6,-5,-5,-3,-6,-3,-6,-11,-4,-6,-5,-6,-5,-4,-7,-4,-5,-8,-7,-10,-5,-5,-6,-6,-3,-8,-8,-6,-6,-6,-6,-7,-6,-7,-7,-7,-5,-4,-4,-8,-6,-8,-7,-5,-6,-4,-6,-5,-6,-9,-6,-5,-7,-5,-6,-4,-5,-7,-6,-4,-5,-4,-7,-6,-6,-5,-6,-6,-5,-5,-6,-4,-8,-3,-5,-6,-5,-6,-8,-6,-7,-5,-3,-5,-5,-5,-15,-4,-5,-7,-5,-13,-6,-6,-7,-3,-10,-60,-3,-6,-7,-4,-5,-5,-6,-5,-6,-5,-7,-6,-7,-4,-8,-3,-4,-7,-4,-6,-8,-7,-6,-4,-3,-5,-5,-6,-11,-3,-5,-7,-5,-10,-6,-4,-4,-3,-4,-5,-3,-6,-6,-9,-4,-6,-7,-5,-5,-7,-6,-4,-5,-9,-4,-2,-9,-6,-10,-6,-5,-7,-4,-6,-5,-3,-4,-4,-6,-4,-6,-6,-7,-5,-7,-5,-6,-5,-4,-3,-7,-7,-4,-5,-5,-7,-4,-6,-5,-3,-8,-6,-8,-6,-6,-7,-6,-4,-7,-5,-5,-5,-6,-5,-7,-7,-6,-6,-7,-5,-5,-4,-5,-6,-6,-7,-10,-8,-4,-4,-5,-6,-4,-6,-7,-8,-5,-8,-5,-7,-9,-6,-6,-5,-6,-6,-3,-3,-3,-7,-6,-8,-5,-3,-5,-9,-4,-8,-5,-7,-6,-7,-5,-4,-3,-7,-6,-5,-6,-9],\"yaxis\":\"y\",\"type\":\"scatter\"},{\"hovertemplate\":\"<b>OLS trendline</b><br>dB = 0.0922105 * nrgy + -12.08<br>R<sup>2</sup>=0.288936<br><br>nrgy=%{x}<br>dB=%{y} <b>(trend)</b><extra></extra>\",\"legendgroup\":\"\",\"marker\":{\"color\":\"#636efa\",\"symbol\":\"circle\"},\"mode\":\"lines\",\"name\":\"\",\"showlegend\":false,\"x\":[0,4,14,15,17,23,26,26,27,28,28,30,31,32,33,33,34,34,34,34,35,35,36,37,37,37,38,38,38,38,38,39,39,39,40,41,41,41,41,41,41,41,42,42,42,42,43,44,44,44,44,45,45,45,45,45,46,46,46,47,47,47,48,48,49,49,50,50,50,50,50,51,51,51,52,52,52,52,52,52,52,52,53,53,53,53,53,53,53,54,54,54,54,54,54,54,54,55,55,55,55,55,55,55,56,56,56,56,57,57,57,57,57,57,58,58,58,58,58,59,59,59,59,59,59,59,59,59,59,59,59,59,59,59,59,60,60,60,60,60,60,60,60,60,61,61,61,61,61,61,61,61,61,61,61,62,62,62,62,62,62,62,62,62,62,62,62,62,63,63,63,63,63,64,64,64,64,64,64,64,64,64,64,64,65,65,65,65,65,65,65,66,66,66,66,66,66,66,66,67,67,67,67,67,67,67,67,67,67,67,67,68,68,68,68,68,68,68,68,68,68,68,68,68,68,68,69,69,69,69,69,69,69,69,69,69,69,70,70,70,70,70,70,70,70,70,70,70,70,70,70,70,71,71,71,71,71,71,71,71,71,71,71,71,71,71,71,71,71,72,72,72,72,72,72,72,72,72,72,72,72,72,73,73,73,73,73,73,73,73,73,73,73,73,73,73,73,73,74,74,74,74,74,74,74,74,74,74,74,74,75,75,75,75,75,75,75,75,75,75,75,75,75,75,75,75,75,75,75,75,75,76,76,76,76,76,76,76,76,76,76,76,76,76,76,76,77,77,77,77,77,77,77,77,78,78,78,78,78,78,78,78,78,78,78,78,78,78,78,78,78,78,78,78,78,79,79,79,79,79,79,79,79,79,79,79,79,79,79,79,79,79,79,79,79,80,80,80,80,80,80,80,80,80,80,80,80,80,80,80,80,80,80,80,80,80,80,80,80,80,80,81,81,81,81,81,81,81,81,81,81,81,81,81,81,81,81,81,81,81,81,81,81,81,82,82,82,82,82,82,82,82,82,82,82,82,82,82,82,82,82,82,82,82,83,83,83,83,83,83,83,83,83,83,83,83,84,84,84,84,84,84,84,84,84,84,84,84,84,84,84,85,85,85,85,85,85,85,85,85,86,86,86,86,86,86,86,86,86,86,86,86,86,86,87,87,87,87,87,87,87,87,87,87,87,87,87,87,87,87,88,88,88,88,88,88,88,88,88,88,88,88,88,88,88,88,88,89,89,89,89,89,89,89,89,89,90,90,90,90,90,91,91,91,91,91,91,91,92,92,92,92,92,92,92,92,93,93,93,93,93,93,93,93,93,94,94,94,94,94,94,94,95,95,95,95,95,95,95,96,96,98,98],\"xaxis\":\"x\",\"y\":[-12.079994608862313,-11.711152650999587,-10.789047756342775,-10.696837266877095,-10.512416287945731,-9.959153351151645,-9.682521882754601,-9.682521882754601,-9.59031139328892,-9.49810090382324,-9.49810090382324,-9.313679924891876,-9.221469435426194,-9.129258945960514,-9.037048456494833,-9.037048456494833,-8.944837967029152,-8.944837967029152,-8.944837967029152,-8.944837967029152,-8.85262747756347,-8.85262747756347,-8.760416988097788,-8.668206498632108,-8.668206498632108,-8.668206498632108,-8.575996009166426,-8.575996009166426,-8.575996009166426,-8.575996009166426,-8.575996009166426,-8.483785519700746,-8.483785519700746,-8.483785519700746,-8.391575030235064,-8.299364540769382,-8.299364540769382,-8.299364540769382,-8.299364540769382,-8.299364540769382,-8.299364540769382,-8.299364540769382,-8.207154051303702,-8.207154051303702,-8.207154051303702,-8.207154051303702,-8.11494356183802,-8.02273307237234,-8.02273307237234,-8.02273307237234,-8.02273307237234,-7.930522582906658,-7.930522582906658,-7.930522582906658,-7.930522582906658,-7.930522582906658,-7.838312093440976,-7.838312093440976,-7.838312093440976,-7.746101603975295,-7.746101603975295,-7.746101603975295,-7.653891114509614,-7.653891114509614,-7.561680625043933,-7.561680625043933,-7.469470135578252,-7.469470135578252,-7.469470135578252,-7.469470135578252,-7.469470135578252,-7.37725964611257,-7.37725964611257,-7.37725964611257,-7.285049156646889,-7.285049156646889,-7.285049156646889,-7.285049156646889,-7.285049156646889,-7.285049156646889,-7.285049156646889,-7.285049156646889,-7.192838667181208,-7.192838667181208,-7.192838667181208,-7.192838667181208,-7.192838667181208,-7.192838667181208,-7.192838667181208,-7.100628177715526,-7.100628177715526,-7.100628177715526,-7.100628177715526,-7.100628177715526,-7.100628177715526,-7.100628177715526,-7.100628177715526,-7.008417688249845,-7.008417688249845,-7.008417688249845,-7.008417688249845,-7.008417688249845,-7.008417688249845,-7.008417688249845,-6.916207198784164,-6.916207198784164,-6.916207198784164,-6.916207198784164,-6.823996709318483,-6.823996709318483,-6.823996709318483,-6.823996709318483,-6.823996709318483,-6.823996709318483,-6.731786219852802,-6.731786219852802,-6.731786219852802,-6.731786219852802,-6.731786219852802,-6.63957573038712,-6.63957573038712,-6.63957573038712,-6.63957573038712,-6.63957573038712,-6.63957573038712,-6.63957573038712,-6.63957573038712,-6.63957573038712,-6.63957573038712,-6.63957573038712,-6.63957573038712,-6.63957573038712,-6.63957573038712,-6.63957573038712,-6.63957573038712,-6.547365240921439,-6.547365240921439,-6.547365240921439,-6.547365240921439,-6.547365240921439,-6.547365240921439,-6.547365240921439,-6.547365240921439,-6.547365240921439,-6.455154751455758,-6.455154751455758,-6.455154751455758,-6.455154751455758,-6.455154751455758,-6.455154751455758,-6.455154751455758,-6.455154751455758,-6.455154751455758,-6.455154751455758,-6.455154751455758,-6.3629442619900765,-6.3629442619900765,-6.3629442619900765,-6.3629442619900765,-6.3629442619900765,-6.3629442619900765,-6.3629442619900765,-6.3629442619900765,-6.3629442619900765,-6.3629442619900765,-6.3629442619900765,-6.3629442619900765,-6.3629442619900765,-6.2707337725243955,-6.2707337725243955,-6.2707337725243955,-6.2707337725243955,-6.2707337725243955,-6.1785232830587145,-6.1785232830587145,-6.1785232830587145,-6.1785232830587145,-6.1785232830587145,-6.1785232830587145,-6.1785232830587145,-6.1785232830587145,-6.1785232830587145,-6.1785232830587145,-6.1785232830587145,-6.0863127935930335,-6.0863127935930335,-6.0863127935930335,-6.0863127935930335,-6.0863127935930335,-6.0863127935930335,-6.0863127935930335,-5.9941023041273525,-5.9941023041273525,-5.9941023041273525,-5.9941023041273525,-5.9941023041273525,-5.9941023041273525,-5.9941023041273525,-5.9941023041273525,-5.901891814661671,-5.901891814661671,-5.901891814661671,-5.901891814661671,-5.901891814661671,-5.901891814661671,-5.901891814661671,-5.901891814661671,-5.901891814661671,-5.901891814661671,-5.901891814661671,-5.901891814661671,-5.80968132519599,-5.80968132519599,-5.80968132519599,-5.80968132519599,-5.80968132519599,-5.80968132519599,-5.80968132519599,-5.80968132519599,-5.80968132519599,-5.80968132519599,-5.80968132519599,-5.80968132519599,-5.80968132519599,-5.80968132519599,-5.80968132519599,-5.717470835730309,-5.717470835730309,-5.717470835730309,-5.717470835730309,-5.717470835730309,-5.717470835730309,-5.717470835730309,-5.717470835730309,-5.717470835730309,-5.717470835730309,-5.717470835730309,-5.625260346264627,-5.625260346264627,-5.625260346264627,-5.625260346264627,-5.625260346264627,-5.625260346264627,-5.625260346264627,-5.625260346264627,-5.625260346264627,-5.625260346264627,-5.625260346264627,-5.625260346264627,-5.625260346264627,-5.625260346264627,-5.625260346264627,-5.533049856798946,-5.533049856798946,-5.533049856798946,-5.533049856798946,-5.533049856798946,-5.533049856798946,-5.533049856798946,-5.533049856798946,-5.533049856798946,-5.533049856798946,-5.533049856798946,-5.533049856798946,-5.533049856798946,-5.533049856798946,-5.533049856798946,-5.533049856798946,-5.533049856798946,-5.440839367333265,-5.440839367333265,-5.440839367333265,-5.440839367333265,-5.440839367333265,-5.440839367333265,-5.440839367333265,-5.440839367333265,-5.440839367333265,-5.440839367333265,-5.440839367333265,-5.440839367333265,-5.440839367333265,-5.348628877867584,-5.348628877867584,-5.348628877867584,-5.348628877867584,-5.348628877867584,-5.348628877867584,-5.348628877867584,-5.348628877867584,-5.348628877867584,-5.348628877867584,-5.348628877867584,-5.348628877867584,-5.348628877867584,-5.348628877867584,-5.348628877867584,-5.348628877867584,-5.256418388401903,-5.256418388401903,-5.256418388401903,-5.256418388401903,-5.256418388401903,-5.256418388401903,-5.256418388401903,-5.256418388401903,-5.256418388401903,-5.256418388401903,-5.256418388401903,-5.256418388401903,-5.164207898936221,-5.164207898936221,-5.164207898936221,-5.164207898936221,-5.164207898936221,-5.164207898936221,-5.164207898936221,-5.164207898936221,-5.164207898936221,-5.164207898936221,-5.164207898936221,-5.164207898936221,-5.164207898936221,-5.164207898936221,-5.164207898936221,-5.164207898936221,-5.164207898936221,-5.164207898936221,-5.164207898936221,-5.164207898936221,-5.164207898936221,-5.07199740947054,-5.07199740947054,-5.07199740947054,-5.07199740947054,-5.07199740947054,-5.07199740947054,-5.07199740947054,-5.07199740947054,-5.07199740947054,-5.07199740947054,-5.07199740947054,-5.07199740947054,-5.07199740947054,-5.07199740947054,-5.07199740947054,-4.979786920004859,-4.979786920004859,-4.979786920004859,-4.979786920004859,-4.979786920004859,-4.979786920004859,-4.979786920004859,-4.979786920004859,-4.887576430539177,-4.887576430539177,-4.887576430539177,-4.887576430539177,-4.887576430539177,-4.887576430539177,-4.887576430539177,-4.887576430539177,-4.887576430539177,-4.887576430539177,-4.887576430539177,-4.887576430539177,-4.887576430539177,-4.887576430539177,-4.887576430539177,-4.887576430539177,-4.887576430539177,-4.887576430539177,-4.887576430539177,-4.887576430539177,-4.887576430539177,-4.795365941073496,-4.795365941073496,-4.795365941073496,-4.795365941073496,-4.795365941073496,-4.795365941073496,-4.795365941073496,-4.795365941073496,-4.795365941073496,-4.795365941073496,-4.795365941073496,-4.795365941073496,-4.795365941073496,-4.795365941073496,-4.795365941073496,-4.795365941073496,-4.795365941073496,-4.795365941073496,-4.795365941073496,-4.795365941073496,-4.703155451607815,-4.703155451607815,-4.703155451607815,-4.703155451607815,-4.703155451607815,-4.703155451607815,-4.703155451607815,-4.703155451607815,-4.703155451607815,-4.703155451607815,-4.703155451607815,-4.703155451607815,-4.703155451607815,-4.703155451607815,-4.703155451607815,-4.703155451607815,-4.703155451607815,-4.703155451607815,-4.703155451607815,-4.703155451607815,-4.703155451607815,-4.703155451607815,-4.703155451607815,-4.703155451607815,-4.703155451607815,-4.703155451607815,-4.610944962142134,-4.610944962142134,-4.610944962142134,-4.610944962142134,-4.610944962142134,-4.610944962142134,-4.610944962142134,-4.610944962142134,-4.610944962142134,-4.610944962142134,-4.610944962142134,-4.610944962142134,-4.610944962142134,-4.610944962142134,-4.610944962142134,-4.610944962142134,-4.610944962142134,-4.610944962142134,-4.610944962142134,-4.610944962142134,-4.610944962142134,-4.610944962142134,-4.610944962142134,-4.518734472676453,-4.518734472676453,-4.518734472676453,-4.518734472676453,-4.518734472676453,-4.518734472676453,-4.518734472676453,-4.518734472676453,-4.518734472676453,-4.518734472676453,-4.518734472676453,-4.518734472676453,-4.518734472676453,-4.518734472676453,-4.518734472676453,-4.518734472676453,-4.518734472676453,-4.518734472676453,-4.518734472676453,-4.518734472676453,-4.426523983210771,-4.426523983210771,-4.426523983210771,-4.426523983210771,-4.426523983210771,-4.426523983210771,-4.426523983210771,-4.426523983210771,-4.426523983210771,-4.426523983210771,-4.426523983210771,-4.426523983210771,-4.33431349374509,-4.33431349374509,-4.33431349374509,-4.33431349374509,-4.33431349374509,-4.33431349374509,-4.33431349374509,-4.33431349374509,-4.33431349374509,-4.33431349374509,-4.33431349374509,-4.33431349374509,-4.33431349374509,-4.33431349374509,-4.33431349374509,-4.242103004279409,-4.242103004279409,-4.242103004279409,-4.242103004279409,-4.242103004279409,-4.242103004279409,-4.242103004279409,-4.242103004279409,-4.242103004279409,-4.149892514813727,-4.149892514813727,-4.149892514813727,-4.149892514813727,-4.149892514813727,-4.149892514813727,-4.149892514813727,-4.149892514813727,-4.149892514813727,-4.149892514813727,-4.149892514813727,-4.149892514813727,-4.149892514813727,-4.149892514813727,-4.057682025348047,-4.057682025348047,-4.057682025348047,-4.057682025348047,-4.057682025348047,-4.057682025348047,-4.057682025348047,-4.057682025348047,-4.057682025348047,-4.057682025348047,-4.057682025348047,-4.057682025348047,-4.057682025348047,-4.057682025348047,-4.057682025348047,-4.057682025348047,-3.965471535882365,-3.965471535882365,-3.965471535882365,-3.965471535882365,-3.965471535882365,-3.965471535882365,-3.965471535882365,-3.965471535882365,-3.965471535882365,-3.965471535882365,-3.965471535882365,-3.965471535882365,-3.965471535882365,-3.965471535882365,-3.965471535882365,-3.965471535882365,-3.965471535882365,-3.8732610464166832,-3.8732610464166832,-3.8732610464166832,-3.8732610464166832,-3.8732610464166832,-3.8732610464166832,-3.8732610464166832,-3.8732610464166832,-3.8732610464166832,-3.781050556951003,-3.781050556951003,-3.781050556951003,-3.781050556951003,-3.781050556951003,-3.6888400674853212,-3.6888400674853212,-3.6888400674853212,-3.6888400674853212,-3.6888400674853212,-3.6888400674853212,-3.6888400674853212,-3.5966295780196393,-3.5966295780196393,-3.5966295780196393,-3.5966295780196393,-3.5966295780196393,-3.5966295780196393,-3.5966295780196393,-3.5966295780196393,-3.5044190885539592,-3.5044190885539592,-3.5044190885539592,-3.5044190885539592,-3.5044190885539592,-3.5044190885539592,-3.5044190885539592,-3.5044190885539592,-3.5044190885539592,-3.4122085990882773,-3.4122085990882773,-3.4122085990882773,-3.4122085990882773,-3.4122085990882773,-3.4122085990882773,-3.4122085990882773,-3.3199981096225972,-3.3199981096225972,-3.3199981096225972,-3.3199981096225972,-3.3199981096225972,-3.3199981096225972,-3.3199981096225972,-3.2277876201569153,-3.2277876201569153,-3.0433666412255533,-3.0433666412255533],\"yaxis\":\"y\",\"type\":\"scatter\"}],                        {\"template\":{\"data\":{\"histogram2dcontour\":[{\"type\":\"histogram2dcontour\",\"colorbar\":{\"outlinewidth\":0,\"ticks\":\"\"},\"colorscale\":[[0.0,\"#0d0887\"],[0.1111111111111111,\"#46039f\"],[0.2222222222222222,\"#7201a8\"],[0.3333333333333333,\"#9c179e\"],[0.4444444444444444,\"#bd3786\"],[0.5555555555555556,\"#d8576b\"],[0.6666666666666666,\"#ed7953\"],[0.7777777777777778,\"#fb9f3a\"],[0.8888888888888888,\"#fdca26\"],[1.0,\"#f0f921\"]]}],\"choropleth\":[{\"type\":\"choropleth\",\"colorbar\":{\"outlinewidth\":0,\"ticks\":\"\"}}],\"histogram2d\":[{\"type\":\"histogram2d\",\"colorbar\":{\"outlinewidth\":0,\"ticks\":\"\"},\"colorscale\":[[0.0,\"#0d0887\"],[0.1111111111111111,\"#46039f\"],[0.2222222222222222,\"#7201a8\"],[0.3333333333333333,\"#9c179e\"],[0.4444444444444444,\"#bd3786\"],[0.5555555555555556,\"#d8576b\"],[0.6666666666666666,\"#ed7953\"],[0.7777777777777778,\"#fb9f3a\"],[0.8888888888888888,\"#fdca26\"],[1.0,\"#f0f921\"]]}],\"heatmap\":[{\"type\":\"heatmap\",\"colorbar\":{\"outlinewidth\":0,\"ticks\":\"\"},\"colorscale\":[[0.0,\"#0d0887\"],[0.1111111111111111,\"#46039f\"],[0.2222222222222222,\"#7201a8\"],[0.3333333333333333,\"#9c179e\"],[0.4444444444444444,\"#bd3786\"],[0.5555555555555556,\"#d8576b\"],[0.6666666666666666,\"#ed7953\"],[0.7777777777777778,\"#fb9f3a\"],[0.8888888888888888,\"#fdca26\"],[1.0,\"#f0f921\"]]}],\"heatmapgl\":[{\"type\":\"heatmapgl\",\"colorbar\":{\"outlinewidth\":0,\"ticks\":\"\"},\"colorscale\":[[0.0,\"#0d0887\"],[0.1111111111111111,\"#46039f\"],[0.2222222222222222,\"#7201a8\"],[0.3333333333333333,\"#9c179e\"],[0.4444444444444444,\"#bd3786\"],[0.5555555555555556,\"#d8576b\"],[0.6666666666666666,\"#ed7953\"],[0.7777777777777778,\"#fb9f3a\"],[0.8888888888888888,\"#fdca26\"],[1.0,\"#f0f921\"]]}],\"contourcarpet\":[{\"type\":\"contourcarpet\",\"colorbar\":{\"outlinewidth\":0,\"ticks\":\"\"}}],\"contour\":[{\"type\":\"contour\",\"colorbar\":{\"outlinewidth\":0,\"ticks\":\"\"},\"colorscale\":[[0.0,\"#0d0887\"],[0.1111111111111111,\"#46039f\"],[0.2222222222222222,\"#7201a8\"],[0.3333333333333333,\"#9c179e\"],[0.4444444444444444,\"#bd3786\"],[0.5555555555555556,\"#d8576b\"],[0.6666666666666666,\"#ed7953\"],[0.7777777777777778,\"#fb9f3a\"],[0.8888888888888888,\"#fdca26\"],[1.0,\"#f0f921\"]]}],\"surface\":[{\"type\":\"surface\",\"colorbar\":{\"outlinewidth\":0,\"ticks\":\"\"},\"colorscale\":[[0.0,\"#0d0887\"],[0.1111111111111111,\"#46039f\"],[0.2222222222222222,\"#7201a8\"],[0.3333333333333333,\"#9c179e\"],[0.4444444444444444,\"#bd3786\"],[0.5555555555555556,\"#d8576b\"],[0.6666666666666666,\"#ed7953\"],[0.7777777777777778,\"#fb9f3a\"],[0.8888888888888888,\"#fdca26\"],[1.0,\"#f0f921\"]]}],\"mesh3d\":[{\"type\":\"mesh3d\",\"colorbar\":{\"outlinewidth\":0,\"ticks\":\"\"}}],\"scatter\":[{\"fillpattern\":{\"fillmode\":\"overlay\",\"size\":10,\"solidity\":0.2},\"type\":\"scatter\"}],\"parcoords\":[{\"type\":\"parcoords\",\"line\":{\"colorbar\":{\"outlinewidth\":0,\"ticks\":\"\"}}}],\"scatterpolargl\":[{\"type\":\"scatterpolargl\",\"marker\":{\"colorbar\":{\"outlinewidth\":0,\"ticks\":\"\"}}}],\"bar\":[{\"error_x\":{\"color\":\"#2a3f5f\"},\"error_y\":{\"color\":\"#2a3f5f\"},\"marker\":{\"line\":{\"color\":\"#E5ECF6\",\"width\":0.5},\"pattern\":{\"fillmode\":\"overlay\",\"size\":10,\"solidity\":0.2}},\"type\":\"bar\"}],\"scattergeo\":[{\"type\":\"scattergeo\",\"marker\":{\"colorbar\":{\"outlinewidth\":0,\"ticks\":\"\"}}}],\"scatterpolar\":[{\"type\":\"scatterpolar\",\"marker\":{\"colorbar\":{\"outlinewidth\":0,\"ticks\":\"\"}}}],\"histogram\":[{\"marker\":{\"pattern\":{\"fillmode\":\"overlay\",\"size\":10,\"solidity\":0.2}},\"type\":\"histogram\"}],\"scattergl\":[{\"type\":\"scattergl\",\"marker\":{\"colorbar\":{\"outlinewidth\":0,\"ticks\":\"\"}}}],\"scatter3d\":[{\"type\":\"scatter3d\",\"line\":{\"colorbar\":{\"outlinewidth\":0,\"ticks\":\"\"}},\"marker\":{\"colorbar\":{\"outlinewidth\":0,\"ticks\":\"\"}}}],\"scattermapbox\":[{\"type\":\"scattermapbox\",\"marker\":{\"colorbar\":{\"outlinewidth\":0,\"ticks\":\"\"}}}],\"scatterternary\":[{\"type\":\"scatterternary\",\"marker\":{\"colorbar\":{\"outlinewidth\":0,\"ticks\":\"\"}}}],\"scattercarpet\":[{\"type\":\"scattercarpet\",\"marker\":{\"colorbar\":{\"outlinewidth\":0,\"ticks\":\"\"}}}],\"carpet\":[{\"aaxis\":{\"endlinecolor\":\"#2a3f5f\",\"gridcolor\":\"white\",\"linecolor\":\"white\",\"minorgridcolor\":\"white\",\"startlinecolor\":\"#2a3f5f\"},\"baxis\":{\"endlinecolor\":\"#2a3f5f\",\"gridcolor\":\"white\",\"linecolor\":\"white\",\"minorgridcolor\":\"white\",\"startlinecolor\":\"#2a3f5f\"},\"type\":\"carpet\"}],\"table\":[{\"cells\":{\"fill\":{\"color\":\"#EBF0F8\"},\"line\":{\"color\":\"white\"}},\"header\":{\"fill\":{\"color\":\"#C8D4E3\"},\"line\":{\"color\":\"white\"}},\"type\":\"table\"}],\"barpolar\":[{\"marker\":{\"line\":{\"color\":\"#E5ECF6\",\"width\":0.5},\"pattern\":{\"fillmode\":\"overlay\",\"size\":10,\"solidity\":0.2}},\"type\":\"barpolar\"}],\"pie\":[{\"automargin\":true,\"type\":\"pie\"}]},\"layout\":{\"autotypenumbers\":\"strict\",\"colorway\":[\"#636efa\",\"#EF553B\",\"#00cc96\",\"#ab63fa\",\"#FFA15A\",\"#19d3f3\",\"#FF6692\",\"#B6E880\",\"#FF97FF\",\"#FECB52\"],\"font\":{\"color\":\"#2a3f5f\"},\"hovermode\":\"closest\",\"hoverlabel\":{\"align\":\"left\"},\"paper_bgcolor\":\"white\",\"plot_bgcolor\":\"#E5ECF6\",\"polar\":{\"bgcolor\":\"#E5ECF6\",\"angularaxis\":{\"gridcolor\":\"white\",\"linecolor\":\"white\",\"ticks\":\"\"},\"radialaxis\":{\"gridcolor\":\"white\",\"linecolor\":\"white\",\"ticks\":\"\"}},\"ternary\":{\"bgcolor\":\"#E5ECF6\",\"aaxis\":{\"gridcolor\":\"white\",\"linecolor\":\"white\",\"ticks\":\"\"},\"baxis\":{\"gridcolor\":\"white\",\"linecolor\":\"white\",\"ticks\":\"\"},\"caxis\":{\"gridcolor\":\"white\",\"linecolor\":\"white\",\"ticks\":\"\"}},\"coloraxis\":{\"colorbar\":{\"outlinewidth\":0,\"ticks\":\"\"}},\"colorscale\":{\"sequential\":[[0.0,\"#0d0887\"],[0.1111111111111111,\"#46039f\"],[0.2222222222222222,\"#7201a8\"],[0.3333333333333333,\"#9c179e\"],[0.4444444444444444,\"#bd3786\"],[0.5555555555555556,\"#d8576b\"],[0.6666666666666666,\"#ed7953\"],[0.7777777777777778,\"#fb9f3a\"],[0.8888888888888888,\"#fdca26\"],[1.0,\"#f0f921\"]],\"sequentialminus\":[[0.0,\"#0d0887\"],[0.1111111111111111,\"#46039f\"],[0.2222222222222222,\"#7201a8\"],[0.3333333333333333,\"#9c179e\"],[0.4444444444444444,\"#bd3786\"],[0.5555555555555556,\"#d8576b\"],[0.6666666666666666,\"#ed7953\"],[0.7777777777777778,\"#fb9f3a\"],[0.8888888888888888,\"#fdca26\"],[1.0,\"#f0f921\"]],\"diverging\":[[0,\"#8e0152\"],[0.1,\"#c51b7d\"],[0.2,\"#de77ae\"],[0.3,\"#f1b6da\"],[0.4,\"#fde0ef\"],[0.5,\"#f7f7f7\"],[0.6,\"#e6f5d0\"],[0.7,\"#b8e186\"],[0.8,\"#7fbc41\"],[0.9,\"#4d9221\"],[1,\"#276419\"]]},\"xaxis\":{\"gridcolor\":\"white\",\"linecolor\":\"white\",\"ticks\":\"\",\"title\":{\"standoff\":15},\"zerolinecolor\":\"white\",\"automargin\":true,\"zerolinewidth\":2},\"yaxis\":{\"gridcolor\":\"white\",\"linecolor\":\"white\",\"ticks\":\"\",\"title\":{\"standoff\":15},\"zerolinecolor\":\"white\",\"automargin\":true,\"zerolinewidth\":2},\"scene\":{\"xaxis\":{\"backgroundcolor\":\"#E5ECF6\",\"gridcolor\":\"white\",\"linecolor\":\"white\",\"showbackground\":true,\"ticks\":\"\",\"zerolinecolor\":\"white\",\"gridwidth\":2},\"yaxis\":{\"backgroundcolor\":\"#E5ECF6\",\"gridcolor\":\"white\",\"linecolor\":\"white\",\"showbackground\":true,\"ticks\":\"\",\"zerolinecolor\":\"white\",\"gridwidth\":2},\"zaxis\":{\"backgroundcolor\":\"#E5ECF6\",\"gridcolor\":\"white\",\"linecolor\":\"white\",\"showbackground\":true,\"ticks\":\"\",\"zerolinecolor\":\"white\",\"gridwidth\":2}},\"shapedefaults\":{\"line\":{\"color\":\"#2a3f5f\"}},\"annotationdefaults\":{\"arrowcolor\":\"#2a3f5f\",\"arrowhead\":0,\"arrowwidth\":1},\"geo\":{\"bgcolor\":\"white\",\"landcolor\":\"#E5ECF6\",\"subunitcolor\":\"white\",\"showland\":true,\"showlakes\":true,\"lakecolor\":\"white\"},\"title\":{\"x\":0.05},\"mapbox\":{\"style\":\"light\"}}},\"xaxis\":{\"anchor\":\"y\",\"domain\":[0.0,1.0],\"title\":{\"text\":\"nrgy\"}},\"yaxis\":{\"anchor\":\"x\",\"domain\":[0.0,1.0],\"title\":{\"text\":\"dB\"}},\"legend\":{\"tracegroupgap\":0},\"title\":{\"text\":\"Energy vs Loudness\"}},                        {\"responsive\": true}                    ).then(function(){\n",
       "                            \n",
       "var gd = document.getElementById('0862b394-5554-4aca-b451-6a5ef788e727');\n",
       "var x = new MutationObserver(function (mutations, observer) {{\n",
       "        var display = window.getComputedStyle(gd).display;\n",
       "        if (!display || display === 'none') {{\n",
       "            console.log([gd, 'removed!']);\n",
       "            Plotly.purge(gd);\n",
       "            observer.disconnect();\n",
       "        }}\n",
       "}});\n",
       "\n",
       "// Listen for the removal of the full notebook cells\n",
       "var notebookContainer = gd.closest('#notebook-container');\n",
       "if (notebookContainer) {{\n",
       "    x.observe(notebookContainer, {childList: true});\n",
       "}}\n",
       "\n",
       "// Listen for the clearing of the current output cell\n",
       "var outputEl = gd.closest('.output');\n",
       "if (outputEl) {{\n",
       "    x.observe(outputEl, {childList: true});\n",
       "}}\n",
       "\n",
       "                        })                };                });            </script>        </div>"
      ]
     },
     "metadata": {},
     "output_type": "display_data"
    }
   ],
   "source": [
    "# Load the data\n",
    "df = pd.read_csv(\"spotify_top_music.csv\")\n",
    "\n",
    "fig = px.scatter(df, x='nrgy', y='dB', trendline='ols', title='Energy vs Loudness')\n",
    "\n",
    "# Show the plot\n",
    "fig.show()"
   ]
  },
  {
   "cell_type": "markdown",
   "id": "45ba2cb0",
   "metadata": {},
   "source": [
    "We can say that if a song has a high energy, it's louder"
   ]
  },
  {
   "cell_type": "code",
   "execution_count": 34,
   "id": "cc1c8687",
   "metadata": {},
   "outputs": [
    {
     "data": {
      "application/vnd.plotly.v1+json": {
       "config": {
        "plotlyServerURL": "https://plot.ly"
       },
       "data": [
        {
         "hovertemplate": "acous=%{x}<br>nrgy=%{y}<extra></extra>",
         "legendgroup": "",
         "marker": {
          "color": "#636efa",
          "symbol": "circle"
         },
         "mode": "markers",
         "name": "",
         "orientation": "v",
         "showlegend": false,
         "type": "scatter",
         "x": [
          19,
          24,
          10,
          0,
          2,
          4,
          0,
          7,
          74,
          13,
          3,
          33,
          18,
          1,
          1,
          20,
          5,
          7,
          0,
          1,
          0,
          1,
          0,
          0,
          26,
          0,
          2,
          2,
          2,
          0,
          5,
          1,
          8,
          18,
          16,
          8,
          83,
          1,
          2,
          3,
          47,
          4,
          1,
          19,
          85,
          0,
          6,
          3,
          7,
          0,
          1,
          31,
          89,
          19,
          2,
          13,
          0,
          1,
          8,
          15,
          8,
          0,
          0,
          0,
          33,
          14,
          2,
          1,
          3,
          8,
          19,
          11,
          23,
          0,
          23,
          10,
          0,
          2,
          2,
          0,
          0,
          9,
          0,
          3,
          0,
          3,
          0,
          38,
          1,
          2,
          13,
          2,
          5,
          6,
          73,
          7,
          91,
          6,
          0,
          2,
          39,
          0,
          14,
          56,
          7,
          5,
          5,
          2,
          1,
          0,
          1,
          8,
          0,
          1,
          5,
          0,
          14,
          6,
          2,
          3,
          0,
          1,
          2,
          4,
          0,
          1,
          0,
          7,
          0,
          2,
          0,
          3,
          2,
          0,
          1,
          50,
          3,
          34,
          0,
          0,
          0,
          23,
          35,
          7,
          0,
          1,
          11,
          4,
          41,
          14,
          0,
          7,
          1,
          0,
          4,
          2,
          13,
          0,
          0,
          2,
          2,
          20,
          8,
          16,
          1,
          3,
          4,
          23,
          25,
          6,
          26,
          29,
          10,
          0,
          1,
          4,
          0,
          13,
          1,
          0,
          1,
          1,
          14,
          14,
          9,
          0,
          92,
          9,
          1,
          1,
          1,
          1,
          63,
          0,
          4,
          3,
          43,
          1,
          7,
          29,
          9,
          4,
          2,
          4,
          1,
          0,
          10,
          23,
          16,
          13,
          92,
          59,
          2,
          22,
          4,
          6,
          0,
          3,
          2,
          4,
          39,
          2,
          8,
          17,
          0,
          2,
          11,
          13,
          31,
          0,
          9,
          3,
          45,
          13,
          46,
          8,
          17,
          2,
          0,
          1,
          1,
          3,
          9,
          1,
          11,
          3,
          8,
          12,
          6,
          87,
          1,
          27,
          2,
          17,
          0,
          97,
          1,
          7,
          7,
          18,
          84,
          28,
          28,
          15,
          2,
          10,
          45,
          27,
          47,
          53,
          7,
          84,
          1,
          63,
          6,
          8,
          88,
          25,
          39,
          59,
          2,
          1,
          2,
          1,
          86,
          4,
          0,
          1,
          0,
          3,
          6,
          1,
          1,
          1,
          16,
          34,
          38,
          1,
          5,
          24,
          21,
          13,
          30,
          1,
          12,
          9,
          10,
          1,
          2,
          56,
          1,
          2,
          1,
          5,
          5,
          8,
          7,
          9,
          18,
          8,
          1,
          1,
          6,
          27,
          5,
          26,
          21,
          5,
          0,
          79,
          88,
          14,
          5,
          27,
          2,
          25,
          2,
          2,
          2,
          37,
          4,
          33,
          6,
          4,
          5,
          20,
          4,
          1,
          6,
          0,
          1,
          43,
          75,
          2,
          9,
          4,
          1,
          2,
          8,
          45,
          1,
          0,
          2,
          7,
          84,
          15,
          16,
          11,
          2,
          20,
          49,
          11,
          29,
          1,
          10,
          3,
          40,
          8,
          2,
          2,
          4,
          5,
          38,
          2,
          1,
          0,
          5,
          4,
          7,
          10,
          4,
          5,
          25,
          12,
          10,
          1,
          13,
          1,
          88,
          1,
          1,
          1,
          31,
          1,
          8,
          0,
          10,
          0,
          5,
          9,
          0,
          60,
          2,
          6,
          5,
          1,
          2,
          4,
          2,
          30,
          35,
          11,
          72,
          2,
          68,
          16,
          16,
          40,
          4,
          0,
          0,
          99,
          22,
          1,
          3,
          26,
          91,
          0,
          1,
          5,
          9,
          25,
          0,
          58,
          41,
          14,
          11,
          1,
          9,
          43,
          13,
          5,
          25,
          12,
          8,
          3,
          41,
          6,
          9,
          6,
          49,
          23,
          1,
          12,
          2,
          33,
          10,
          50,
          2,
          8,
          14,
          49,
          15,
          88,
          20,
          8,
          16,
          7,
          17,
          4,
          3,
          3,
          20,
          1,
          12,
          13,
          2,
          3,
          5,
          1,
          0,
          0,
          2,
          0,
          4,
          49,
          6,
          8,
          7,
          58,
          28,
          10,
          14,
          2,
          2,
          85,
          8,
          0,
          4,
          18,
          10,
          0,
          38,
          4,
          4,
          6,
          12,
          10,
          11,
          1,
          7,
          3,
          26,
          2,
          42,
          19,
          8,
          2,
          78,
          6,
          5,
          0,
          3,
          0,
          3,
          11,
          3,
          20,
          56,
          19,
          4,
          10,
          28,
          3,
          2,
          24,
          6,
          4,
          20,
          1,
          2,
          0,
          2,
          8,
          5,
          10,
          3,
          5,
          23,
          81,
          70,
          2,
          3,
          25,
          4,
          16,
          2,
          1,
          0,
          13,
          5,
          5,
          84,
          58,
          75,
          4,
          15,
          15,
          56,
          19,
          11,
          30,
          2,
          11,
          12,
          4,
          30,
          9,
          5,
          2,
          13,
          48,
          57,
          20,
          12,
          13,
          16,
          17,
          1,
          21,
          7,
          1,
          6
         ],
         "xaxis": "x",
         "y": [
          89,
          93,
          84,
          92,
          84,
          86,
          78,
          76,
          37,
          72,
          87,
          83,
          82,
          83,
          84,
          75,
          61,
          81,
          80,
          61,
          63,
          68,
          68,
          81,
          95,
          83,
          90,
          94,
          80,
          75,
          71,
          89,
          84,
          52,
          82,
          63,
          41,
          91,
          91,
          81,
          85,
          41,
          75,
          87,
          39,
          81,
          95,
          86,
          86,
          90,
          98,
          41,
          33,
          94,
          84,
          76,
          90,
          76,
          75,
          56,
          78,
          93,
          83,
          69,
          83,
          65,
          74,
          82,
          83,
          69,
          63,
          78,
          79,
          88,
          61,
          86,
          77,
          87,
          71,
          55,
          73,
          70,
          93,
          89,
          88,
          77,
          88,
          38,
          72,
          75,
          81,
          91,
          81,
          95,
          35,
          86,
          38,
          74,
          64,
          88,
          88,
          81,
          83,
          72,
          79,
          70,
          59,
          75,
          79,
          47,
          58,
          68,
          68,
          68,
          94,
          63,
          72,
          82,
          87,
          85,
          84,
          86,
          74,
          55,
          92,
          55,
          85,
          68,
          80,
          86,
          84,
          80,
          64,
          71,
          96,
          72,
          80,
          84,
          92,
          81,
          78,
          66,
          55,
          87,
          77,
          62,
          84,
          81,
          42,
          70,
          60,
          79,
          68,
          70,
          78,
          81,
          92,
          92,
          41,
          88,
          93,
          93,
          66,
          82,
          84,
          93,
          76,
          52,
          68,
          53,
          75,
          88,
          60,
          61,
          91,
          87,
          67,
          78,
          62,
          74,
          82,
          96,
          52,
          60,
          80,
          86,
          23,
          81,
          68,
          79,
          73,
          94,
          45,
          78,
          66,
          78,
          78,
          88,
          98,
          76,
          95,
          75,
          57,
          79,
          70,
          74,
          83,
          34,
          84,
          78,
          26,
          42,
          86,
          82,
          76,
          80,
          59,
          78,
          71,
          69,
          54,
          81,
          72,
          58,
          89,
          73,
          66,
          72,
          78,
          95,
          72,
          65,
          54,
          49,
          75,
          62,
          93,
          64,
          92,
          62,
          92,
          44,
          67,
          92,
          74,
          66,
          71,
          81,
          77,
          15,
          68,
          80,
          78,
          79,
          94,
          14,
          62,
          60,
          81,
          82,
          34,
          35,
          58,
          50,
          82,
          54,
          73,
          73,
          45,
          49,
          56,
          38,
          61,
          66,
          79,
          76,
          27,
          61,
          38,
          57,
          75,
          68,
          70,
          51,
          52,
          87,
          73,
          71,
          74,
          86,
          77,
          70,
          61,
          79,
          59,
          45,
          78,
          71,
          79,
          73,
          80,
          80,
          67,
          71,
          73,
          61,
          89,
          80,
          85,
          70,
          85,
          59,
          85,
          83,
          61,
          82,
          85,
          94,
          94,
          81,
          81,
          87,
          79,
          88,
          88,
          71,
          67,
          67,
          95,
          36,
          26,
          75,
          75,
          75,
          70,
          76,
          82,
          78,
          89,
          48,
          75,
          60,
          82,
          55,
          87,
          59,
          79,
          55,
          82,
          76,
          85,
          67,
          43,
          78,
          80,
          88,
          78,
          84,
          80,
          37,
          90,
          53,
          39,
          56,
          38,
          75,
          87,
          52,
          73,
          93,
          42,
          31,
          47,
          83,
          59,
          74,
          53,
          53,
          75,
          67,
          71,
          60,
          62,
          75,
          80,
          75,
          65,
          80,
          80,
          69,
          88,
          68,
          62,
          79,
          59,
          67,
          80,
          50,
          28,
          70,
          80,
          88,
          69,
          85,
          82,
          86,
          70,
          84,
          64,
          69,
          74,
          34,
          83,
          80,
          89,
          72,
          88,
          52,
          82,
          78,
          59,
          77,
          57,
          64,
          54,
          70,
          78,
          79,
          71,
          78,
          95,
          4,
          75,
          87,
          65,
          69,
          17,
          76,
          70,
          71,
          81,
          47,
          0,
          65,
          52,
          59,
          82,
          56,
          72,
          82,
          66,
          74,
          62,
          53,
          78,
          65,
          76,
          45,
          91,
          67,
          39,
          82,
          73,
          64,
          64,
          62,
          79,
          80,
          71,
          80,
          72,
          37,
          91,
          28,
          59,
          51,
          54,
          72,
          87,
          88,
          87,
          80,
          50,
          91,
          81,
          79,
          57,
          93,
          74,
          42,
          87,
          69,
          64,
          53,
          75,
          82,
          50,
          76,
          90,
          67,
          83,
          59,
          53,
          81,
          84,
          46,
          77,
          88,
          86,
          52,
          73,
          70,
          81,
          71,
          54,
          71,
          80,
          44,
          61,
          67,
          64,
          71,
          76,
          64,
          33,
          81,
          60,
          86,
          30,
          75,
          73,
          73,
          67,
          46,
          81,
          58,
          59,
          71,
          60,
          41,
          80,
          63,
          73,
          57,
          81,
          57,
          62,
          62,
          59,
          59,
          72,
          73,
          80,
          69,
          79,
          60,
          59,
          74,
          61,
          44,
          41,
          69,
          87,
          64,
          58,
          69,
          48,
          55,
          76,
          84,
          59,
          77,
          32,
          34,
          41,
          54,
          68,
          62,
          46,
          79,
          62,
          89,
          68,
          50,
          65,
          73,
          88,
          68,
          40,
          89,
          51,
          86,
          54,
          70,
          45,
          82,
          80,
          87,
          66,
          79,
          76,
          79,
          44
         ],
         "yaxis": "y"
        },
        {
         "hovertemplate": "<b>OLS trendline</b><br>nrgy = -0.441645 * acous + 76.8315<br>R<sup>2</sup>=0.316167<br><br>acous=%{x}<br>nrgy=%{y} <b>(trend)</b><extra></extra>",
         "legendgroup": "",
         "marker": {
          "color": "#636efa",
          "symbol": "circle"
         },
         "mode": "lines",
         "name": "",
         "showlegend": false,
         "type": "scatter",
         "x": [
          0,
          0,
          0,
          0,
          0,
          0,
          0,
          0,
          0,
          0,
          0,
          0,
          0,
          0,
          0,
          0,
          0,
          0,
          0,
          0,
          0,
          0,
          0,
          0,
          0,
          0,
          0,
          0,
          0,
          0,
          0,
          0,
          0,
          0,
          0,
          0,
          0,
          0,
          0,
          0,
          0,
          0,
          0,
          0,
          0,
          0,
          0,
          0,
          0,
          0,
          0,
          0,
          0,
          0,
          0,
          0,
          0,
          0,
          0,
          0,
          0,
          0,
          0,
          0,
          0,
          0,
          0,
          0,
          0,
          0,
          0,
          0,
          0,
          1,
          1,
          1,
          1,
          1,
          1,
          1,
          1,
          1,
          1,
          1,
          1,
          1,
          1,
          1,
          1,
          1,
          1,
          1,
          1,
          1,
          1,
          1,
          1,
          1,
          1,
          1,
          1,
          1,
          1,
          1,
          1,
          1,
          1,
          1,
          1,
          1,
          1,
          1,
          1,
          1,
          1,
          1,
          1,
          1,
          1,
          1,
          1,
          1,
          1,
          1,
          1,
          1,
          1,
          1,
          1,
          1,
          1,
          1,
          1,
          1,
          1,
          1,
          1,
          1,
          1,
          1,
          1,
          1,
          1,
          1,
          1,
          1,
          2,
          2,
          2,
          2,
          2,
          2,
          2,
          2,
          2,
          2,
          2,
          2,
          2,
          2,
          2,
          2,
          2,
          2,
          2,
          2,
          2,
          2,
          2,
          2,
          2,
          2,
          2,
          2,
          2,
          2,
          2,
          2,
          2,
          2,
          2,
          2,
          2,
          2,
          2,
          2,
          2,
          2,
          2,
          2,
          2,
          2,
          2,
          2,
          2,
          2,
          2,
          2,
          2,
          2,
          2,
          2,
          2,
          2,
          2,
          2,
          2,
          2,
          3,
          3,
          3,
          3,
          3,
          3,
          3,
          3,
          3,
          3,
          3,
          3,
          3,
          3,
          3,
          3,
          3,
          3,
          3,
          3,
          3,
          3,
          3,
          3,
          3,
          3,
          3,
          3,
          3,
          4,
          4,
          4,
          4,
          4,
          4,
          4,
          4,
          4,
          4,
          4,
          4,
          4,
          4,
          4,
          4,
          4,
          4,
          4,
          4,
          4,
          4,
          4,
          4,
          4,
          4,
          4,
          4,
          4,
          4,
          4,
          4,
          5,
          5,
          5,
          5,
          5,
          5,
          5,
          5,
          5,
          5,
          5,
          5,
          5,
          5,
          5,
          5,
          5,
          5,
          5,
          5,
          5,
          5,
          5,
          5,
          5,
          5,
          5,
          6,
          6,
          6,
          6,
          6,
          6,
          6,
          6,
          6,
          6,
          6,
          6,
          6,
          6,
          6,
          6,
          6,
          6,
          6,
          6,
          7,
          7,
          7,
          7,
          7,
          7,
          7,
          7,
          7,
          7,
          7,
          7,
          7,
          7,
          7,
          7,
          7,
          7,
          7,
          8,
          8,
          8,
          8,
          8,
          8,
          8,
          8,
          8,
          8,
          8,
          8,
          8,
          8,
          8,
          8,
          8,
          8,
          8,
          8,
          8,
          8,
          8,
          9,
          9,
          9,
          9,
          9,
          9,
          9,
          9,
          9,
          9,
          9,
          9,
          9,
          9,
          10,
          10,
          10,
          10,
          10,
          10,
          10,
          10,
          10,
          10,
          10,
          10,
          10,
          10,
          10,
          10,
          11,
          11,
          11,
          11,
          11,
          11,
          11,
          11,
          11,
          11,
          11,
          11,
          12,
          12,
          12,
          12,
          12,
          12,
          12,
          12,
          12,
          13,
          13,
          13,
          13,
          13,
          13,
          13,
          13,
          13,
          13,
          13,
          13,
          13,
          13,
          13,
          14,
          14,
          14,
          14,
          14,
          14,
          14,
          14,
          14,
          14,
          15,
          15,
          15,
          15,
          15,
          15,
          16,
          16,
          16,
          16,
          16,
          16,
          16,
          16,
          16,
          16,
          17,
          17,
          17,
          17,
          17,
          18,
          18,
          18,
          18,
          18,
          19,
          19,
          19,
          19,
          19,
          19,
          19,
          20,
          20,
          20,
          20,
          20,
          20,
          20,
          20,
          20,
          21,
          21,
          21,
          22,
          22,
          23,
          23,
          23,
          23,
          23,
          23,
          23,
          24,
          24,
          24,
          25,
          25,
          25,
          25,
          25,
          25,
          25,
          26,
          26,
          26,
          26,
          26,
          27,
          27,
          27,
          27,
          28,
          28,
          28,
          28,
          29,
          29,
          29,
          30,
          30,
          30,
          30,
          31,
          31,
          31,
          33,
          33,
          33,
          33,
          34,
          34,
          35,
          35,
          37,
          38,
          38,
          38,
          38,
          39,
          39,
          39,
          40,
          40,
          41,
          41,
          41,
          42,
          43,
          43,
          43,
          45,
          45,
          45,
          46,
          47,
          47,
          48,
          49,
          49,
          49,
          49,
          50,
          50,
          53,
          56,
          56,
          56,
          56,
          57,
          58,
          58,
          58,
          59,
          59,
          60,
          63,
          63,
          68,
          70,
          72,
          73,
          74,
          75,
          75,
          78,
          79,
          81,
          83,
          84,
          84,
          84,
          84,
          85,
          85,
          86,
          87,
          88,
          88,
          88,
          88,
          89,
          91,
          91,
          92,
          92,
          97,
          99
         ],
         "xaxis": "x",
         "y": [
          76.83146728673077,
          76.83146728673077,
          76.83146728673077,
          76.83146728673077,
          76.83146728673077,
          76.83146728673077,
          76.83146728673077,
          76.83146728673077,
          76.83146728673077,
          76.83146728673077,
          76.83146728673077,
          76.83146728673077,
          76.83146728673077,
          76.83146728673077,
          76.83146728673077,
          76.83146728673077,
          76.83146728673077,
          76.83146728673077,
          76.83146728673077,
          76.83146728673077,
          76.83146728673077,
          76.83146728673077,
          76.83146728673077,
          76.83146728673077,
          76.83146728673077,
          76.83146728673077,
          76.83146728673077,
          76.83146728673077,
          76.83146728673077,
          76.83146728673077,
          76.83146728673077,
          76.83146728673077,
          76.83146728673077,
          76.83146728673077,
          76.83146728673077,
          76.83146728673077,
          76.83146728673077,
          76.83146728673077,
          76.83146728673077,
          76.83146728673077,
          76.83146728673077,
          76.83146728673077,
          76.83146728673077,
          76.83146728673077,
          76.83146728673077,
          76.83146728673077,
          76.83146728673077,
          76.83146728673077,
          76.83146728673077,
          76.83146728673077,
          76.83146728673077,
          76.83146728673077,
          76.83146728673077,
          76.83146728673077,
          76.83146728673077,
          76.83146728673077,
          76.83146728673077,
          76.83146728673077,
          76.83146728673077,
          76.83146728673077,
          76.83146728673077,
          76.83146728673077,
          76.83146728673077,
          76.83146728673077,
          76.83146728673077,
          76.83146728673077,
          76.83146728673077,
          76.83146728673077,
          76.83146728673077,
          76.83146728673077,
          76.83146728673077,
          76.83146728673077,
          76.83146728673077,
          76.38982186782827,
          76.38982186782827,
          76.38982186782827,
          76.38982186782827,
          76.38982186782827,
          76.38982186782827,
          76.38982186782827,
          76.38982186782827,
          76.38982186782827,
          76.38982186782827,
          76.38982186782827,
          76.38982186782827,
          76.38982186782827,
          76.38982186782827,
          76.38982186782827,
          76.38982186782827,
          76.38982186782827,
          76.38982186782827,
          76.38982186782827,
          76.38982186782827,
          76.38982186782827,
          76.38982186782827,
          76.38982186782827,
          76.38982186782827,
          76.38982186782827,
          76.38982186782827,
          76.38982186782827,
          76.38982186782827,
          76.38982186782827,
          76.38982186782827,
          76.38982186782827,
          76.38982186782827,
          76.38982186782827,
          76.38982186782827,
          76.38982186782827,
          76.38982186782827,
          76.38982186782827,
          76.38982186782827,
          76.38982186782827,
          76.38982186782827,
          76.38982186782827,
          76.38982186782827,
          76.38982186782827,
          76.38982186782827,
          76.38982186782827,
          76.38982186782827,
          76.38982186782827,
          76.38982186782827,
          76.38982186782827,
          76.38982186782827,
          76.38982186782827,
          76.38982186782827,
          76.38982186782827,
          76.38982186782827,
          76.38982186782827,
          76.38982186782827,
          76.38982186782827,
          76.38982186782827,
          76.38982186782827,
          76.38982186782827,
          76.38982186782827,
          76.38982186782827,
          76.38982186782827,
          76.38982186782827,
          76.38982186782827,
          76.38982186782827,
          76.38982186782827,
          76.38982186782827,
          76.38982186782827,
          76.38982186782827,
          76.38982186782827,
          76.38982186782827,
          76.38982186782827,
          75.94817644892579,
          75.94817644892579,
          75.94817644892579,
          75.94817644892579,
          75.94817644892579,
          75.94817644892579,
          75.94817644892579,
          75.94817644892579,
          75.94817644892579,
          75.94817644892579,
          75.94817644892579,
          75.94817644892579,
          75.94817644892579,
          75.94817644892579,
          75.94817644892579,
          75.94817644892579,
          75.94817644892579,
          75.94817644892579,
          75.94817644892579,
          75.94817644892579,
          75.94817644892579,
          75.94817644892579,
          75.94817644892579,
          75.94817644892579,
          75.94817644892579,
          75.94817644892579,
          75.94817644892579,
          75.94817644892579,
          75.94817644892579,
          75.94817644892579,
          75.94817644892579,
          75.94817644892579,
          75.94817644892579,
          75.94817644892579,
          75.94817644892579,
          75.94817644892579,
          75.94817644892579,
          75.94817644892579,
          75.94817644892579,
          75.94817644892579,
          75.94817644892579,
          75.94817644892579,
          75.94817644892579,
          75.94817644892579,
          75.94817644892579,
          75.94817644892579,
          75.94817644892579,
          75.94817644892579,
          75.94817644892579,
          75.94817644892579,
          75.94817644892579,
          75.94817644892579,
          75.94817644892579,
          75.94817644892579,
          75.94817644892579,
          75.94817644892579,
          75.94817644892579,
          75.94817644892579,
          75.94817644892579,
          75.94817644892579,
          75.94817644892579,
          75.94817644892579,
          75.5065310300233,
          75.5065310300233,
          75.5065310300233,
          75.5065310300233,
          75.5065310300233,
          75.5065310300233,
          75.5065310300233,
          75.5065310300233,
          75.5065310300233,
          75.5065310300233,
          75.5065310300233,
          75.5065310300233,
          75.5065310300233,
          75.5065310300233,
          75.5065310300233,
          75.5065310300233,
          75.5065310300233,
          75.5065310300233,
          75.5065310300233,
          75.5065310300233,
          75.5065310300233,
          75.5065310300233,
          75.5065310300233,
          75.5065310300233,
          75.5065310300233,
          75.5065310300233,
          75.5065310300233,
          75.5065310300233,
          75.5065310300233,
          75.06488561112081,
          75.06488561112081,
          75.06488561112081,
          75.06488561112081,
          75.06488561112081,
          75.06488561112081,
          75.06488561112081,
          75.06488561112081,
          75.06488561112081,
          75.06488561112081,
          75.06488561112081,
          75.06488561112081,
          75.06488561112081,
          75.06488561112081,
          75.06488561112081,
          75.06488561112081,
          75.06488561112081,
          75.06488561112081,
          75.06488561112081,
          75.06488561112081,
          75.06488561112081,
          75.06488561112081,
          75.06488561112081,
          75.06488561112081,
          75.06488561112081,
          75.06488561112081,
          75.06488561112081,
          75.06488561112081,
          75.06488561112081,
          75.06488561112081,
          75.06488561112081,
          75.06488561112081,
          74.62324019221832,
          74.62324019221832,
          74.62324019221832,
          74.62324019221832,
          74.62324019221832,
          74.62324019221832,
          74.62324019221832,
          74.62324019221832,
          74.62324019221832,
          74.62324019221832,
          74.62324019221832,
          74.62324019221832,
          74.62324019221832,
          74.62324019221832,
          74.62324019221832,
          74.62324019221832,
          74.62324019221832,
          74.62324019221832,
          74.62324019221832,
          74.62324019221832,
          74.62324019221832,
          74.62324019221832,
          74.62324019221832,
          74.62324019221832,
          74.62324019221832,
          74.62324019221832,
          74.62324019221832,
          74.18159477331584,
          74.18159477331584,
          74.18159477331584,
          74.18159477331584,
          74.18159477331584,
          74.18159477331584,
          74.18159477331584,
          74.18159477331584,
          74.18159477331584,
          74.18159477331584,
          74.18159477331584,
          74.18159477331584,
          74.18159477331584,
          74.18159477331584,
          74.18159477331584,
          74.18159477331584,
          74.18159477331584,
          74.18159477331584,
          74.18159477331584,
          74.18159477331584,
          73.73994935441334,
          73.73994935441334,
          73.73994935441334,
          73.73994935441334,
          73.73994935441334,
          73.73994935441334,
          73.73994935441334,
          73.73994935441334,
          73.73994935441334,
          73.73994935441334,
          73.73994935441334,
          73.73994935441334,
          73.73994935441334,
          73.73994935441334,
          73.73994935441334,
          73.73994935441334,
          73.73994935441334,
          73.73994935441334,
          73.73994935441334,
          73.29830393551084,
          73.29830393551084,
          73.29830393551084,
          73.29830393551084,
          73.29830393551084,
          73.29830393551084,
          73.29830393551084,
          73.29830393551084,
          73.29830393551084,
          73.29830393551084,
          73.29830393551084,
          73.29830393551084,
          73.29830393551084,
          73.29830393551084,
          73.29830393551084,
          73.29830393551084,
          73.29830393551084,
          73.29830393551084,
          73.29830393551084,
          73.29830393551084,
          73.29830393551084,
          73.29830393551084,
          73.29830393551084,
          72.85665851660836,
          72.85665851660836,
          72.85665851660836,
          72.85665851660836,
          72.85665851660836,
          72.85665851660836,
          72.85665851660836,
          72.85665851660836,
          72.85665851660836,
          72.85665851660836,
          72.85665851660836,
          72.85665851660836,
          72.85665851660836,
          72.85665851660836,
          72.41501309770587,
          72.41501309770587,
          72.41501309770587,
          72.41501309770587,
          72.41501309770587,
          72.41501309770587,
          72.41501309770587,
          72.41501309770587,
          72.41501309770587,
          72.41501309770587,
          72.41501309770587,
          72.41501309770587,
          72.41501309770587,
          72.41501309770587,
          72.41501309770587,
          72.41501309770587,
          71.97336767880338,
          71.97336767880338,
          71.97336767880338,
          71.97336767880338,
          71.97336767880338,
          71.97336767880338,
          71.97336767880338,
          71.97336767880338,
          71.97336767880338,
          71.97336767880338,
          71.97336767880338,
          71.97336767880338,
          71.53172225990089,
          71.53172225990089,
          71.53172225990089,
          71.53172225990089,
          71.53172225990089,
          71.53172225990089,
          71.53172225990089,
          71.53172225990089,
          71.53172225990089,
          71.0900768409984,
          71.0900768409984,
          71.0900768409984,
          71.0900768409984,
          71.0900768409984,
          71.0900768409984,
          71.0900768409984,
          71.0900768409984,
          71.0900768409984,
          71.0900768409984,
          71.0900768409984,
          71.0900768409984,
          71.0900768409984,
          71.0900768409984,
          71.0900768409984,
          70.64843142209591,
          70.64843142209591,
          70.64843142209591,
          70.64843142209591,
          70.64843142209591,
          70.64843142209591,
          70.64843142209591,
          70.64843142209591,
          70.64843142209591,
          70.64843142209591,
          70.20678600319341,
          70.20678600319341,
          70.20678600319341,
          70.20678600319341,
          70.20678600319341,
          70.20678600319341,
          69.76514058429093,
          69.76514058429093,
          69.76514058429093,
          69.76514058429093,
          69.76514058429093,
          69.76514058429093,
          69.76514058429093,
          69.76514058429093,
          69.76514058429093,
          69.76514058429093,
          69.32349516538844,
          69.32349516538844,
          69.32349516538844,
          69.32349516538844,
          69.32349516538844,
          68.88184974648595,
          68.88184974648595,
          68.88184974648595,
          68.88184974648595,
          68.88184974648595,
          68.44020432758346,
          68.44020432758346,
          68.44020432758346,
          68.44020432758346,
          68.44020432758346,
          68.44020432758346,
          68.44020432758346,
          67.99855890868096,
          67.99855890868096,
          67.99855890868096,
          67.99855890868096,
          67.99855890868096,
          67.99855890868096,
          67.99855890868096,
          67.99855890868096,
          67.99855890868096,
          67.55691348977848,
          67.55691348977848,
          67.55691348977848,
          67.11526807087598,
          67.11526807087598,
          66.6736226519735,
          66.6736226519735,
          66.6736226519735,
          66.6736226519735,
          66.6736226519735,
          66.6736226519735,
          66.6736226519735,
          66.231977233071,
          66.231977233071,
          66.231977233071,
          65.79033181416852,
          65.79033181416852,
          65.79033181416852,
          65.79033181416852,
          65.79033181416852,
          65.79033181416852,
          65.79033181416852,
          65.34868639526603,
          65.34868639526603,
          65.34868639526603,
          65.34868639526603,
          65.34868639526603,
          64.90704097636353,
          64.90704097636353,
          64.90704097636353,
          64.90704097636353,
          64.46539555746105,
          64.46539555746105,
          64.46539555746105,
          64.46539555746105,
          64.02375013855855,
          64.02375013855855,
          64.02375013855855,
          63.58210471965607,
          63.58210471965607,
          63.58210471965607,
          63.58210471965607,
          63.14045930075358,
          63.14045930075358,
          63.14045930075358,
          62.2571684629486,
          62.2571684629486,
          62.2571684629486,
          62.2571684629486,
          61.81552304404611,
          61.81552304404611,
          61.37387762514362,
          61.37387762514362,
          60.49058678733864,
          60.04894136843615,
          60.04894136843615,
          60.04894136843615,
          60.04894136843615,
          59.60729594953366,
          59.60729594953366,
          59.60729594953366,
          59.16565053063117,
          59.16565053063117,
          58.72400511172868,
          58.72400511172868,
          58.72400511172868,
          58.28235969282619,
          57.840714273923695,
          57.840714273923695,
          57.840714273923695,
          56.95742343611872,
          56.95742343611872,
          56.95742343611872,
          56.51577801721623,
          56.07413259831374,
          56.07413259831374,
          55.63248717941125,
          55.19084176050876,
          55.19084176050876,
          55.19084176050876,
          55.19084176050876,
          54.749196341606265,
          54.749196341606265,
          53.4242600848988,
          52.09932382819133,
          52.09932382819133,
          52.09932382819133,
          52.09932382819133,
          51.657678409288835,
          51.21603299038635,
          51.21603299038635,
          51.21603299038635,
          50.77438757148386,
          50.77438757148386,
          50.33274215258137,
          49.0078058958739,
          49.0078058958739,
          46.79957880136145,
          45.91628796355647,
          45.03299712575149,
          44.591351706849,
          44.14970628794651,
          43.70806086904402,
          43.70806086904402,
          42.383124612336545,
          41.941479193434056,
          41.05818835562908,
          40.1748975178241,
          39.73325209892161,
          39.73325209892161,
          39.73325209892161,
          39.73325209892161,
          39.291606680019115,
          39.291606680019115,
          38.849961261116626,
          38.40831584221414,
          37.96667042331165,
          37.96667042331165,
          37.96667042331165,
          37.96667042331165,
          37.52502500440916,
          36.641734166604174,
          36.641734166604174,
          36.200088747701685,
          36.200088747701685,
          33.99186165318924,
          33.108570815384255
         ],
         "yaxis": "y"
        }
       ],
       "layout": {
        "legend": {
         "tracegroupgap": 0
        },
        "template": {
         "data": {
          "bar": [
           {
            "error_x": {
             "color": "#2a3f5f"
            },
            "error_y": {
             "color": "#2a3f5f"
            },
            "marker": {
             "line": {
              "color": "#E5ECF6",
              "width": 0.5
             },
             "pattern": {
              "fillmode": "overlay",
              "size": 10,
              "solidity": 0.2
             }
            },
            "type": "bar"
           }
          ],
          "barpolar": [
           {
            "marker": {
             "line": {
              "color": "#E5ECF6",
              "width": 0.5
             },
             "pattern": {
              "fillmode": "overlay",
              "size": 10,
              "solidity": 0.2
             }
            },
            "type": "barpolar"
           }
          ],
          "carpet": [
           {
            "aaxis": {
             "endlinecolor": "#2a3f5f",
             "gridcolor": "white",
             "linecolor": "white",
             "minorgridcolor": "white",
             "startlinecolor": "#2a3f5f"
            },
            "baxis": {
             "endlinecolor": "#2a3f5f",
             "gridcolor": "white",
             "linecolor": "white",
             "minorgridcolor": "white",
             "startlinecolor": "#2a3f5f"
            },
            "type": "carpet"
           }
          ],
          "choropleth": [
           {
            "colorbar": {
             "outlinewidth": 0,
             "ticks": ""
            },
            "type": "choropleth"
           }
          ],
          "contour": [
           {
            "colorbar": {
             "outlinewidth": 0,
             "ticks": ""
            },
            "colorscale": [
             [
              0,
              "#0d0887"
             ],
             [
              0.1111111111111111,
              "#46039f"
             ],
             [
              0.2222222222222222,
              "#7201a8"
             ],
             [
              0.3333333333333333,
              "#9c179e"
             ],
             [
              0.4444444444444444,
              "#bd3786"
             ],
             [
              0.5555555555555556,
              "#d8576b"
             ],
             [
              0.6666666666666666,
              "#ed7953"
             ],
             [
              0.7777777777777778,
              "#fb9f3a"
             ],
             [
              0.8888888888888888,
              "#fdca26"
             ],
             [
              1,
              "#f0f921"
             ]
            ],
            "type": "contour"
           }
          ],
          "contourcarpet": [
           {
            "colorbar": {
             "outlinewidth": 0,
             "ticks": ""
            },
            "type": "contourcarpet"
           }
          ],
          "heatmap": [
           {
            "colorbar": {
             "outlinewidth": 0,
             "ticks": ""
            },
            "colorscale": [
             [
              0,
              "#0d0887"
             ],
             [
              0.1111111111111111,
              "#46039f"
             ],
             [
              0.2222222222222222,
              "#7201a8"
             ],
             [
              0.3333333333333333,
              "#9c179e"
             ],
             [
              0.4444444444444444,
              "#bd3786"
             ],
             [
              0.5555555555555556,
              "#d8576b"
             ],
             [
              0.6666666666666666,
              "#ed7953"
             ],
             [
              0.7777777777777778,
              "#fb9f3a"
             ],
             [
              0.8888888888888888,
              "#fdca26"
             ],
             [
              1,
              "#f0f921"
             ]
            ],
            "type": "heatmap"
           }
          ],
          "heatmapgl": [
           {
            "colorbar": {
             "outlinewidth": 0,
             "ticks": ""
            },
            "colorscale": [
             [
              0,
              "#0d0887"
             ],
             [
              0.1111111111111111,
              "#46039f"
             ],
             [
              0.2222222222222222,
              "#7201a8"
             ],
             [
              0.3333333333333333,
              "#9c179e"
             ],
             [
              0.4444444444444444,
              "#bd3786"
             ],
             [
              0.5555555555555556,
              "#d8576b"
             ],
             [
              0.6666666666666666,
              "#ed7953"
             ],
             [
              0.7777777777777778,
              "#fb9f3a"
             ],
             [
              0.8888888888888888,
              "#fdca26"
             ],
             [
              1,
              "#f0f921"
             ]
            ],
            "type": "heatmapgl"
           }
          ],
          "histogram": [
           {
            "marker": {
             "pattern": {
              "fillmode": "overlay",
              "size": 10,
              "solidity": 0.2
             }
            },
            "type": "histogram"
           }
          ],
          "histogram2d": [
           {
            "colorbar": {
             "outlinewidth": 0,
             "ticks": ""
            },
            "colorscale": [
             [
              0,
              "#0d0887"
             ],
             [
              0.1111111111111111,
              "#46039f"
             ],
             [
              0.2222222222222222,
              "#7201a8"
             ],
             [
              0.3333333333333333,
              "#9c179e"
             ],
             [
              0.4444444444444444,
              "#bd3786"
             ],
             [
              0.5555555555555556,
              "#d8576b"
             ],
             [
              0.6666666666666666,
              "#ed7953"
             ],
             [
              0.7777777777777778,
              "#fb9f3a"
             ],
             [
              0.8888888888888888,
              "#fdca26"
             ],
             [
              1,
              "#f0f921"
             ]
            ],
            "type": "histogram2d"
           }
          ],
          "histogram2dcontour": [
           {
            "colorbar": {
             "outlinewidth": 0,
             "ticks": ""
            },
            "colorscale": [
             [
              0,
              "#0d0887"
             ],
             [
              0.1111111111111111,
              "#46039f"
             ],
             [
              0.2222222222222222,
              "#7201a8"
             ],
             [
              0.3333333333333333,
              "#9c179e"
             ],
             [
              0.4444444444444444,
              "#bd3786"
             ],
             [
              0.5555555555555556,
              "#d8576b"
             ],
             [
              0.6666666666666666,
              "#ed7953"
             ],
             [
              0.7777777777777778,
              "#fb9f3a"
             ],
             [
              0.8888888888888888,
              "#fdca26"
             ],
             [
              1,
              "#f0f921"
             ]
            ],
            "type": "histogram2dcontour"
           }
          ],
          "mesh3d": [
           {
            "colorbar": {
             "outlinewidth": 0,
             "ticks": ""
            },
            "type": "mesh3d"
           }
          ],
          "parcoords": [
           {
            "line": {
             "colorbar": {
              "outlinewidth": 0,
              "ticks": ""
             }
            },
            "type": "parcoords"
           }
          ],
          "pie": [
           {
            "automargin": true,
            "type": "pie"
           }
          ],
          "scatter": [
           {
            "fillpattern": {
             "fillmode": "overlay",
             "size": 10,
             "solidity": 0.2
            },
            "type": "scatter"
           }
          ],
          "scatter3d": [
           {
            "line": {
             "colorbar": {
              "outlinewidth": 0,
              "ticks": ""
             }
            },
            "marker": {
             "colorbar": {
              "outlinewidth": 0,
              "ticks": ""
             }
            },
            "type": "scatter3d"
           }
          ],
          "scattercarpet": [
           {
            "marker": {
             "colorbar": {
              "outlinewidth": 0,
              "ticks": ""
             }
            },
            "type": "scattercarpet"
           }
          ],
          "scattergeo": [
           {
            "marker": {
             "colorbar": {
              "outlinewidth": 0,
              "ticks": ""
             }
            },
            "type": "scattergeo"
           }
          ],
          "scattergl": [
           {
            "marker": {
             "colorbar": {
              "outlinewidth": 0,
              "ticks": ""
             }
            },
            "type": "scattergl"
           }
          ],
          "scattermapbox": [
           {
            "marker": {
             "colorbar": {
              "outlinewidth": 0,
              "ticks": ""
             }
            },
            "type": "scattermapbox"
           }
          ],
          "scatterpolar": [
           {
            "marker": {
             "colorbar": {
              "outlinewidth": 0,
              "ticks": ""
             }
            },
            "type": "scatterpolar"
           }
          ],
          "scatterpolargl": [
           {
            "marker": {
             "colorbar": {
              "outlinewidth": 0,
              "ticks": ""
             }
            },
            "type": "scatterpolargl"
           }
          ],
          "scatterternary": [
           {
            "marker": {
             "colorbar": {
              "outlinewidth": 0,
              "ticks": ""
             }
            },
            "type": "scatterternary"
           }
          ],
          "surface": [
           {
            "colorbar": {
             "outlinewidth": 0,
             "ticks": ""
            },
            "colorscale": [
             [
              0,
              "#0d0887"
             ],
             [
              0.1111111111111111,
              "#46039f"
             ],
             [
              0.2222222222222222,
              "#7201a8"
             ],
             [
              0.3333333333333333,
              "#9c179e"
             ],
             [
              0.4444444444444444,
              "#bd3786"
             ],
             [
              0.5555555555555556,
              "#d8576b"
             ],
             [
              0.6666666666666666,
              "#ed7953"
             ],
             [
              0.7777777777777778,
              "#fb9f3a"
             ],
             [
              0.8888888888888888,
              "#fdca26"
             ],
             [
              1,
              "#f0f921"
             ]
            ],
            "type": "surface"
           }
          ],
          "table": [
           {
            "cells": {
             "fill": {
              "color": "#EBF0F8"
             },
             "line": {
              "color": "white"
             }
            },
            "header": {
             "fill": {
              "color": "#C8D4E3"
             },
             "line": {
              "color": "white"
             }
            },
            "type": "table"
           }
          ]
         },
         "layout": {
          "annotationdefaults": {
           "arrowcolor": "#2a3f5f",
           "arrowhead": 0,
           "arrowwidth": 1
          },
          "autotypenumbers": "strict",
          "coloraxis": {
           "colorbar": {
            "outlinewidth": 0,
            "ticks": ""
           }
          },
          "colorscale": {
           "diverging": [
            [
             0,
             "#8e0152"
            ],
            [
             0.1,
             "#c51b7d"
            ],
            [
             0.2,
             "#de77ae"
            ],
            [
             0.3,
             "#f1b6da"
            ],
            [
             0.4,
             "#fde0ef"
            ],
            [
             0.5,
             "#f7f7f7"
            ],
            [
             0.6,
             "#e6f5d0"
            ],
            [
             0.7,
             "#b8e186"
            ],
            [
             0.8,
             "#7fbc41"
            ],
            [
             0.9,
             "#4d9221"
            ],
            [
             1,
             "#276419"
            ]
           ],
           "sequential": [
            [
             0,
             "#0d0887"
            ],
            [
             0.1111111111111111,
             "#46039f"
            ],
            [
             0.2222222222222222,
             "#7201a8"
            ],
            [
             0.3333333333333333,
             "#9c179e"
            ],
            [
             0.4444444444444444,
             "#bd3786"
            ],
            [
             0.5555555555555556,
             "#d8576b"
            ],
            [
             0.6666666666666666,
             "#ed7953"
            ],
            [
             0.7777777777777778,
             "#fb9f3a"
            ],
            [
             0.8888888888888888,
             "#fdca26"
            ],
            [
             1,
             "#f0f921"
            ]
           ],
           "sequentialminus": [
            [
             0,
             "#0d0887"
            ],
            [
             0.1111111111111111,
             "#46039f"
            ],
            [
             0.2222222222222222,
             "#7201a8"
            ],
            [
             0.3333333333333333,
             "#9c179e"
            ],
            [
             0.4444444444444444,
             "#bd3786"
            ],
            [
             0.5555555555555556,
             "#d8576b"
            ],
            [
             0.6666666666666666,
             "#ed7953"
            ],
            [
             0.7777777777777778,
             "#fb9f3a"
            ],
            [
             0.8888888888888888,
             "#fdca26"
            ],
            [
             1,
             "#f0f921"
            ]
           ]
          },
          "colorway": [
           "#636efa",
           "#EF553B",
           "#00cc96",
           "#ab63fa",
           "#FFA15A",
           "#19d3f3",
           "#FF6692",
           "#B6E880",
           "#FF97FF",
           "#FECB52"
          ],
          "font": {
           "color": "#2a3f5f"
          },
          "geo": {
           "bgcolor": "white",
           "lakecolor": "white",
           "landcolor": "#E5ECF6",
           "showlakes": true,
           "showland": true,
           "subunitcolor": "white"
          },
          "hoverlabel": {
           "align": "left"
          },
          "hovermode": "closest",
          "mapbox": {
           "style": "light"
          },
          "paper_bgcolor": "white",
          "plot_bgcolor": "#E5ECF6",
          "polar": {
           "angularaxis": {
            "gridcolor": "white",
            "linecolor": "white",
            "ticks": ""
           },
           "bgcolor": "#E5ECF6",
           "radialaxis": {
            "gridcolor": "white",
            "linecolor": "white",
            "ticks": ""
           }
          },
          "scene": {
           "xaxis": {
            "backgroundcolor": "#E5ECF6",
            "gridcolor": "white",
            "gridwidth": 2,
            "linecolor": "white",
            "showbackground": true,
            "ticks": "",
            "zerolinecolor": "white"
           },
           "yaxis": {
            "backgroundcolor": "#E5ECF6",
            "gridcolor": "white",
            "gridwidth": 2,
            "linecolor": "white",
            "showbackground": true,
            "ticks": "",
            "zerolinecolor": "white"
           },
           "zaxis": {
            "backgroundcolor": "#E5ECF6",
            "gridcolor": "white",
            "gridwidth": 2,
            "linecolor": "white",
            "showbackground": true,
            "ticks": "",
            "zerolinecolor": "white"
           }
          },
          "shapedefaults": {
           "line": {
            "color": "#2a3f5f"
           }
          },
          "ternary": {
           "aaxis": {
            "gridcolor": "white",
            "linecolor": "white",
            "ticks": ""
           },
           "baxis": {
            "gridcolor": "white",
            "linecolor": "white",
            "ticks": ""
           },
           "bgcolor": "#E5ECF6",
           "caxis": {
            "gridcolor": "white",
            "linecolor": "white",
            "ticks": ""
           }
          },
          "title": {
           "x": 0.05
          },
          "xaxis": {
           "automargin": true,
           "gridcolor": "white",
           "linecolor": "white",
           "ticks": "",
           "title": {
            "standoff": 15
           },
           "zerolinecolor": "white",
           "zerolinewidth": 2
          },
          "yaxis": {
           "automargin": true,
           "gridcolor": "white",
           "linecolor": "white",
           "ticks": "",
           "title": {
            "standoff": 15
           },
           "zerolinecolor": "white",
           "zerolinewidth": 2
          }
         }
        },
        "title": {
         "text": "Acousticness vs Energy"
        },
        "xaxis": {
         "anchor": "y",
         "domain": [
          0,
          1
         ],
         "title": {
          "text": "acous"
         }
        },
        "yaxis": {
         "anchor": "x",
         "domain": [
          0,
          1
         ],
         "title": {
          "text": "nrgy"
         }
        }
       }
      },
      "text/html": [
       "<div>                            <div id=\"b32a5a1d-2f07-4577-8052-8b2c5ee842f6\" class=\"plotly-graph-div\" style=\"height:525px; width:100%;\"></div>            <script type=\"text/javascript\">                require([\"plotly\"], function(Plotly) {                    window.PLOTLYENV=window.PLOTLYENV || {};                                    if (document.getElementById(\"b32a5a1d-2f07-4577-8052-8b2c5ee842f6\")) {                    Plotly.newPlot(                        \"b32a5a1d-2f07-4577-8052-8b2c5ee842f6\",                        [{\"hovertemplate\":\"acous=%{x}<br>nrgy=%{y}<extra></extra>\",\"legendgroup\":\"\",\"marker\":{\"color\":\"#636efa\",\"symbol\":\"circle\"},\"mode\":\"markers\",\"name\":\"\",\"orientation\":\"v\",\"showlegend\":false,\"x\":[19,24,10,0,2,4,0,7,74,13,3,33,18,1,1,20,5,7,0,1,0,1,0,0,26,0,2,2,2,0,5,1,8,18,16,8,83,1,2,3,47,4,1,19,85,0,6,3,7,0,1,31,89,19,2,13,0,1,8,15,8,0,0,0,33,14,2,1,3,8,19,11,23,0,23,10,0,2,2,0,0,9,0,3,0,3,0,38,1,2,13,2,5,6,73,7,91,6,0,2,39,0,14,56,7,5,5,2,1,0,1,8,0,1,5,0,14,6,2,3,0,1,2,4,0,1,0,7,0,2,0,3,2,0,1,50,3,34,0,0,0,23,35,7,0,1,11,4,41,14,0,7,1,0,4,2,13,0,0,2,2,20,8,16,1,3,4,23,25,6,26,29,10,0,1,4,0,13,1,0,1,1,14,14,9,0,92,9,1,1,1,1,63,0,4,3,43,1,7,29,9,4,2,4,1,0,10,23,16,13,92,59,2,22,4,6,0,3,2,4,39,2,8,17,0,2,11,13,31,0,9,3,45,13,46,8,17,2,0,1,1,3,9,1,11,3,8,12,6,87,1,27,2,17,0,97,1,7,7,18,84,28,28,15,2,10,45,27,47,53,7,84,1,63,6,8,88,25,39,59,2,1,2,1,86,4,0,1,0,3,6,1,1,1,16,34,38,1,5,24,21,13,30,1,12,9,10,1,2,56,1,2,1,5,5,8,7,9,18,8,1,1,6,27,5,26,21,5,0,79,88,14,5,27,2,25,2,2,2,37,4,33,6,4,5,20,4,1,6,0,1,43,75,2,9,4,1,2,8,45,1,0,2,7,84,15,16,11,2,20,49,11,29,1,10,3,40,8,2,2,4,5,38,2,1,0,5,4,7,10,4,5,25,12,10,1,13,1,88,1,1,1,31,1,8,0,10,0,5,9,0,60,2,6,5,1,2,4,2,30,35,11,72,2,68,16,16,40,4,0,0,99,22,1,3,26,91,0,1,5,9,25,0,58,41,14,11,1,9,43,13,5,25,12,8,3,41,6,9,6,49,23,1,12,2,33,10,50,2,8,14,49,15,88,20,8,16,7,17,4,3,3,20,1,12,13,2,3,5,1,0,0,2,0,4,49,6,8,7,58,28,10,14,2,2,85,8,0,4,18,10,0,38,4,4,6,12,10,11,1,7,3,26,2,42,19,8,2,78,6,5,0,3,0,3,11,3,20,56,19,4,10,28,3,2,24,6,4,20,1,2,0,2,8,5,10,3,5,23,81,70,2,3,25,4,16,2,1,0,13,5,5,84,58,75,4,15,15,56,19,11,30,2,11,12,4,30,9,5,2,13,48,57,20,12,13,16,17,1,21,7,1,6],\"xaxis\":\"x\",\"y\":[89,93,84,92,84,86,78,76,37,72,87,83,82,83,84,75,61,81,80,61,63,68,68,81,95,83,90,94,80,75,71,89,84,52,82,63,41,91,91,81,85,41,75,87,39,81,95,86,86,90,98,41,33,94,84,76,90,76,75,56,78,93,83,69,83,65,74,82,83,69,63,78,79,88,61,86,77,87,71,55,73,70,93,89,88,77,88,38,72,75,81,91,81,95,35,86,38,74,64,88,88,81,83,72,79,70,59,75,79,47,58,68,68,68,94,63,72,82,87,85,84,86,74,55,92,55,85,68,80,86,84,80,64,71,96,72,80,84,92,81,78,66,55,87,77,62,84,81,42,70,60,79,68,70,78,81,92,92,41,88,93,93,66,82,84,93,76,52,68,53,75,88,60,61,91,87,67,78,62,74,82,96,52,60,80,86,23,81,68,79,73,94,45,78,66,78,78,88,98,76,95,75,57,79,70,74,83,34,84,78,26,42,86,82,76,80,59,78,71,69,54,81,72,58,89,73,66,72,78,95,72,65,54,49,75,62,93,64,92,62,92,44,67,92,74,66,71,81,77,15,68,80,78,79,94,14,62,60,81,82,34,35,58,50,82,54,73,73,45,49,56,38,61,66,79,76,27,61,38,57,75,68,70,51,52,87,73,71,74,86,77,70,61,79,59,45,78,71,79,73,80,80,67,71,73,61,89,80,85,70,85,59,85,83,61,82,85,94,94,81,81,87,79,88,88,71,67,67,95,36,26,75,75,75,70,76,82,78,89,48,75,60,82,55,87,59,79,55,82,76,85,67,43,78,80,88,78,84,80,37,90,53,39,56,38,75,87,52,73,93,42,31,47,83,59,74,53,53,75,67,71,60,62,75,80,75,65,80,80,69,88,68,62,79,59,67,80,50,28,70,80,88,69,85,82,86,70,84,64,69,74,34,83,80,89,72,88,52,82,78,59,77,57,64,54,70,78,79,71,78,95,4,75,87,65,69,17,76,70,71,81,47,0,65,52,59,82,56,72,82,66,74,62,53,78,65,76,45,91,67,39,82,73,64,64,62,79,80,71,80,72,37,91,28,59,51,54,72,87,88,87,80,50,91,81,79,57,93,74,42,87,69,64,53,75,82,50,76,90,67,83,59,53,81,84,46,77,88,86,52,73,70,81,71,54,71,80,44,61,67,64,71,76,64,33,81,60,86,30,75,73,73,67,46,81,58,59,71,60,41,80,63,73,57,81,57,62,62,59,59,72,73,80,69,79,60,59,74,61,44,41,69,87,64,58,69,48,55,76,84,59,77,32,34,41,54,68,62,46,79,62,89,68,50,65,73,88,68,40,89,51,86,54,70,45,82,80,87,66,79,76,79,44],\"yaxis\":\"y\",\"type\":\"scatter\"},{\"hovertemplate\":\"<b>OLS trendline</b><br>nrgy = -0.441645 * acous + 76.8315<br>R<sup>2</sup>=0.316167<br><br>acous=%{x}<br>nrgy=%{y} <b>(trend)</b><extra></extra>\",\"legendgroup\":\"\",\"marker\":{\"color\":\"#636efa\",\"symbol\":\"circle\"},\"mode\":\"lines\",\"name\":\"\",\"showlegend\":false,\"x\":[0,0,0,0,0,0,0,0,0,0,0,0,0,0,0,0,0,0,0,0,0,0,0,0,0,0,0,0,0,0,0,0,0,0,0,0,0,0,0,0,0,0,0,0,0,0,0,0,0,0,0,0,0,0,0,0,0,0,0,0,0,0,0,0,0,0,0,0,0,0,0,0,0,1,1,1,1,1,1,1,1,1,1,1,1,1,1,1,1,1,1,1,1,1,1,1,1,1,1,1,1,1,1,1,1,1,1,1,1,1,1,1,1,1,1,1,1,1,1,1,1,1,1,1,1,1,1,1,1,1,1,1,1,1,1,1,1,1,1,1,1,1,1,1,1,1,2,2,2,2,2,2,2,2,2,2,2,2,2,2,2,2,2,2,2,2,2,2,2,2,2,2,2,2,2,2,2,2,2,2,2,2,2,2,2,2,2,2,2,2,2,2,2,2,2,2,2,2,2,2,2,2,2,2,2,2,2,2,3,3,3,3,3,3,3,3,3,3,3,3,3,3,3,3,3,3,3,3,3,3,3,3,3,3,3,3,3,4,4,4,4,4,4,4,4,4,4,4,4,4,4,4,4,4,4,4,4,4,4,4,4,4,4,4,4,4,4,4,4,5,5,5,5,5,5,5,5,5,5,5,5,5,5,5,5,5,5,5,5,5,5,5,5,5,5,5,6,6,6,6,6,6,6,6,6,6,6,6,6,6,6,6,6,6,6,6,7,7,7,7,7,7,7,7,7,7,7,7,7,7,7,7,7,7,7,8,8,8,8,8,8,8,8,8,8,8,8,8,8,8,8,8,8,8,8,8,8,8,9,9,9,9,9,9,9,9,9,9,9,9,9,9,10,10,10,10,10,10,10,10,10,10,10,10,10,10,10,10,11,11,11,11,11,11,11,11,11,11,11,11,12,12,12,12,12,12,12,12,12,13,13,13,13,13,13,13,13,13,13,13,13,13,13,13,14,14,14,14,14,14,14,14,14,14,15,15,15,15,15,15,16,16,16,16,16,16,16,16,16,16,17,17,17,17,17,18,18,18,18,18,19,19,19,19,19,19,19,20,20,20,20,20,20,20,20,20,21,21,21,22,22,23,23,23,23,23,23,23,24,24,24,25,25,25,25,25,25,25,26,26,26,26,26,27,27,27,27,28,28,28,28,29,29,29,30,30,30,30,31,31,31,33,33,33,33,34,34,35,35,37,38,38,38,38,39,39,39,40,40,41,41,41,42,43,43,43,45,45,45,46,47,47,48,49,49,49,49,50,50,53,56,56,56,56,57,58,58,58,59,59,60,63,63,68,70,72,73,74,75,75,78,79,81,83,84,84,84,84,85,85,86,87,88,88,88,88,89,91,91,92,92,97,99],\"xaxis\":\"x\",\"y\":[76.83146728673077,76.83146728673077,76.83146728673077,76.83146728673077,76.83146728673077,76.83146728673077,76.83146728673077,76.83146728673077,76.83146728673077,76.83146728673077,76.83146728673077,76.83146728673077,76.83146728673077,76.83146728673077,76.83146728673077,76.83146728673077,76.83146728673077,76.83146728673077,76.83146728673077,76.83146728673077,76.83146728673077,76.83146728673077,76.83146728673077,76.83146728673077,76.83146728673077,76.83146728673077,76.83146728673077,76.83146728673077,76.83146728673077,76.83146728673077,76.83146728673077,76.83146728673077,76.83146728673077,76.83146728673077,76.83146728673077,76.83146728673077,76.83146728673077,76.83146728673077,76.83146728673077,76.83146728673077,76.83146728673077,76.83146728673077,76.83146728673077,76.83146728673077,76.83146728673077,76.83146728673077,76.83146728673077,76.83146728673077,76.83146728673077,76.83146728673077,76.83146728673077,76.83146728673077,76.83146728673077,76.83146728673077,76.83146728673077,76.83146728673077,76.83146728673077,76.83146728673077,76.83146728673077,76.83146728673077,76.83146728673077,76.83146728673077,76.83146728673077,76.83146728673077,76.83146728673077,76.83146728673077,76.83146728673077,76.83146728673077,76.83146728673077,76.83146728673077,76.83146728673077,76.83146728673077,76.83146728673077,76.38982186782827,76.38982186782827,76.38982186782827,76.38982186782827,76.38982186782827,76.38982186782827,76.38982186782827,76.38982186782827,76.38982186782827,76.38982186782827,76.38982186782827,76.38982186782827,76.38982186782827,76.38982186782827,76.38982186782827,76.38982186782827,76.38982186782827,76.38982186782827,76.38982186782827,76.38982186782827,76.38982186782827,76.38982186782827,76.38982186782827,76.38982186782827,76.38982186782827,76.38982186782827,76.38982186782827,76.38982186782827,76.38982186782827,76.38982186782827,76.38982186782827,76.38982186782827,76.38982186782827,76.38982186782827,76.38982186782827,76.38982186782827,76.38982186782827,76.38982186782827,76.38982186782827,76.38982186782827,76.38982186782827,76.38982186782827,76.38982186782827,76.38982186782827,76.38982186782827,76.38982186782827,76.38982186782827,76.38982186782827,76.38982186782827,76.38982186782827,76.38982186782827,76.38982186782827,76.38982186782827,76.38982186782827,76.38982186782827,76.38982186782827,76.38982186782827,76.38982186782827,76.38982186782827,76.38982186782827,76.38982186782827,76.38982186782827,76.38982186782827,76.38982186782827,76.38982186782827,76.38982186782827,76.38982186782827,76.38982186782827,76.38982186782827,76.38982186782827,76.38982186782827,76.38982186782827,76.38982186782827,75.94817644892579,75.94817644892579,75.94817644892579,75.94817644892579,75.94817644892579,75.94817644892579,75.94817644892579,75.94817644892579,75.94817644892579,75.94817644892579,75.94817644892579,75.94817644892579,75.94817644892579,75.94817644892579,75.94817644892579,75.94817644892579,75.94817644892579,75.94817644892579,75.94817644892579,75.94817644892579,75.94817644892579,75.94817644892579,75.94817644892579,75.94817644892579,75.94817644892579,75.94817644892579,75.94817644892579,75.94817644892579,75.94817644892579,75.94817644892579,75.94817644892579,75.94817644892579,75.94817644892579,75.94817644892579,75.94817644892579,75.94817644892579,75.94817644892579,75.94817644892579,75.94817644892579,75.94817644892579,75.94817644892579,75.94817644892579,75.94817644892579,75.94817644892579,75.94817644892579,75.94817644892579,75.94817644892579,75.94817644892579,75.94817644892579,75.94817644892579,75.94817644892579,75.94817644892579,75.94817644892579,75.94817644892579,75.94817644892579,75.94817644892579,75.94817644892579,75.94817644892579,75.94817644892579,75.94817644892579,75.94817644892579,75.94817644892579,75.5065310300233,75.5065310300233,75.5065310300233,75.5065310300233,75.5065310300233,75.5065310300233,75.5065310300233,75.5065310300233,75.5065310300233,75.5065310300233,75.5065310300233,75.5065310300233,75.5065310300233,75.5065310300233,75.5065310300233,75.5065310300233,75.5065310300233,75.5065310300233,75.5065310300233,75.5065310300233,75.5065310300233,75.5065310300233,75.5065310300233,75.5065310300233,75.5065310300233,75.5065310300233,75.5065310300233,75.5065310300233,75.5065310300233,75.06488561112081,75.06488561112081,75.06488561112081,75.06488561112081,75.06488561112081,75.06488561112081,75.06488561112081,75.06488561112081,75.06488561112081,75.06488561112081,75.06488561112081,75.06488561112081,75.06488561112081,75.06488561112081,75.06488561112081,75.06488561112081,75.06488561112081,75.06488561112081,75.06488561112081,75.06488561112081,75.06488561112081,75.06488561112081,75.06488561112081,75.06488561112081,75.06488561112081,75.06488561112081,75.06488561112081,75.06488561112081,75.06488561112081,75.06488561112081,75.06488561112081,75.06488561112081,74.62324019221832,74.62324019221832,74.62324019221832,74.62324019221832,74.62324019221832,74.62324019221832,74.62324019221832,74.62324019221832,74.62324019221832,74.62324019221832,74.62324019221832,74.62324019221832,74.62324019221832,74.62324019221832,74.62324019221832,74.62324019221832,74.62324019221832,74.62324019221832,74.62324019221832,74.62324019221832,74.62324019221832,74.62324019221832,74.62324019221832,74.62324019221832,74.62324019221832,74.62324019221832,74.62324019221832,74.18159477331584,74.18159477331584,74.18159477331584,74.18159477331584,74.18159477331584,74.18159477331584,74.18159477331584,74.18159477331584,74.18159477331584,74.18159477331584,74.18159477331584,74.18159477331584,74.18159477331584,74.18159477331584,74.18159477331584,74.18159477331584,74.18159477331584,74.18159477331584,74.18159477331584,74.18159477331584,73.73994935441334,73.73994935441334,73.73994935441334,73.73994935441334,73.73994935441334,73.73994935441334,73.73994935441334,73.73994935441334,73.73994935441334,73.73994935441334,73.73994935441334,73.73994935441334,73.73994935441334,73.73994935441334,73.73994935441334,73.73994935441334,73.73994935441334,73.73994935441334,73.73994935441334,73.29830393551084,73.29830393551084,73.29830393551084,73.29830393551084,73.29830393551084,73.29830393551084,73.29830393551084,73.29830393551084,73.29830393551084,73.29830393551084,73.29830393551084,73.29830393551084,73.29830393551084,73.29830393551084,73.29830393551084,73.29830393551084,73.29830393551084,73.29830393551084,73.29830393551084,73.29830393551084,73.29830393551084,73.29830393551084,73.29830393551084,72.85665851660836,72.85665851660836,72.85665851660836,72.85665851660836,72.85665851660836,72.85665851660836,72.85665851660836,72.85665851660836,72.85665851660836,72.85665851660836,72.85665851660836,72.85665851660836,72.85665851660836,72.85665851660836,72.41501309770587,72.41501309770587,72.41501309770587,72.41501309770587,72.41501309770587,72.41501309770587,72.41501309770587,72.41501309770587,72.41501309770587,72.41501309770587,72.41501309770587,72.41501309770587,72.41501309770587,72.41501309770587,72.41501309770587,72.41501309770587,71.97336767880338,71.97336767880338,71.97336767880338,71.97336767880338,71.97336767880338,71.97336767880338,71.97336767880338,71.97336767880338,71.97336767880338,71.97336767880338,71.97336767880338,71.97336767880338,71.53172225990089,71.53172225990089,71.53172225990089,71.53172225990089,71.53172225990089,71.53172225990089,71.53172225990089,71.53172225990089,71.53172225990089,71.0900768409984,71.0900768409984,71.0900768409984,71.0900768409984,71.0900768409984,71.0900768409984,71.0900768409984,71.0900768409984,71.0900768409984,71.0900768409984,71.0900768409984,71.0900768409984,71.0900768409984,71.0900768409984,71.0900768409984,70.64843142209591,70.64843142209591,70.64843142209591,70.64843142209591,70.64843142209591,70.64843142209591,70.64843142209591,70.64843142209591,70.64843142209591,70.64843142209591,70.20678600319341,70.20678600319341,70.20678600319341,70.20678600319341,70.20678600319341,70.20678600319341,69.76514058429093,69.76514058429093,69.76514058429093,69.76514058429093,69.76514058429093,69.76514058429093,69.76514058429093,69.76514058429093,69.76514058429093,69.76514058429093,69.32349516538844,69.32349516538844,69.32349516538844,69.32349516538844,69.32349516538844,68.88184974648595,68.88184974648595,68.88184974648595,68.88184974648595,68.88184974648595,68.44020432758346,68.44020432758346,68.44020432758346,68.44020432758346,68.44020432758346,68.44020432758346,68.44020432758346,67.99855890868096,67.99855890868096,67.99855890868096,67.99855890868096,67.99855890868096,67.99855890868096,67.99855890868096,67.99855890868096,67.99855890868096,67.55691348977848,67.55691348977848,67.55691348977848,67.11526807087598,67.11526807087598,66.6736226519735,66.6736226519735,66.6736226519735,66.6736226519735,66.6736226519735,66.6736226519735,66.6736226519735,66.231977233071,66.231977233071,66.231977233071,65.79033181416852,65.79033181416852,65.79033181416852,65.79033181416852,65.79033181416852,65.79033181416852,65.79033181416852,65.34868639526603,65.34868639526603,65.34868639526603,65.34868639526603,65.34868639526603,64.90704097636353,64.90704097636353,64.90704097636353,64.90704097636353,64.46539555746105,64.46539555746105,64.46539555746105,64.46539555746105,64.02375013855855,64.02375013855855,64.02375013855855,63.58210471965607,63.58210471965607,63.58210471965607,63.58210471965607,63.14045930075358,63.14045930075358,63.14045930075358,62.2571684629486,62.2571684629486,62.2571684629486,62.2571684629486,61.81552304404611,61.81552304404611,61.37387762514362,61.37387762514362,60.49058678733864,60.04894136843615,60.04894136843615,60.04894136843615,60.04894136843615,59.60729594953366,59.60729594953366,59.60729594953366,59.16565053063117,59.16565053063117,58.72400511172868,58.72400511172868,58.72400511172868,58.28235969282619,57.840714273923695,57.840714273923695,57.840714273923695,56.95742343611872,56.95742343611872,56.95742343611872,56.51577801721623,56.07413259831374,56.07413259831374,55.63248717941125,55.19084176050876,55.19084176050876,55.19084176050876,55.19084176050876,54.749196341606265,54.749196341606265,53.4242600848988,52.09932382819133,52.09932382819133,52.09932382819133,52.09932382819133,51.657678409288835,51.21603299038635,51.21603299038635,51.21603299038635,50.77438757148386,50.77438757148386,50.33274215258137,49.0078058958739,49.0078058958739,46.79957880136145,45.91628796355647,45.03299712575149,44.591351706849,44.14970628794651,43.70806086904402,43.70806086904402,42.383124612336545,41.941479193434056,41.05818835562908,40.1748975178241,39.73325209892161,39.73325209892161,39.73325209892161,39.73325209892161,39.291606680019115,39.291606680019115,38.849961261116626,38.40831584221414,37.96667042331165,37.96667042331165,37.96667042331165,37.96667042331165,37.52502500440916,36.641734166604174,36.641734166604174,36.200088747701685,36.200088747701685,33.99186165318924,33.108570815384255],\"yaxis\":\"y\",\"type\":\"scatter\"}],                        {\"template\":{\"data\":{\"histogram2dcontour\":[{\"type\":\"histogram2dcontour\",\"colorbar\":{\"outlinewidth\":0,\"ticks\":\"\"},\"colorscale\":[[0.0,\"#0d0887\"],[0.1111111111111111,\"#46039f\"],[0.2222222222222222,\"#7201a8\"],[0.3333333333333333,\"#9c179e\"],[0.4444444444444444,\"#bd3786\"],[0.5555555555555556,\"#d8576b\"],[0.6666666666666666,\"#ed7953\"],[0.7777777777777778,\"#fb9f3a\"],[0.8888888888888888,\"#fdca26\"],[1.0,\"#f0f921\"]]}],\"choropleth\":[{\"type\":\"choropleth\",\"colorbar\":{\"outlinewidth\":0,\"ticks\":\"\"}}],\"histogram2d\":[{\"type\":\"histogram2d\",\"colorbar\":{\"outlinewidth\":0,\"ticks\":\"\"},\"colorscale\":[[0.0,\"#0d0887\"],[0.1111111111111111,\"#46039f\"],[0.2222222222222222,\"#7201a8\"],[0.3333333333333333,\"#9c179e\"],[0.4444444444444444,\"#bd3786\"],[0.5555555555555556,\"#d8576b\"],[0.6666666666666666,\"#ed7953\"],[0.7777777777777778,\"#fb9f3a\"],[0.8888888888888888,\"#fdca26\"],[1.0,\"#f0f921\"]]}],\"heatmap\":[{\"type\":\"heatmap\",\"colorbar\":{\"outlinewidth\":0,\"ticks\":\"\"},\"colorscale\":[[0.0,\"#0d0887\"],[0.1111111111111111,\"#46039f\"],[0.2222222222222222,\"#7201a8\"],[0.3333333333333333,\"#9c179e\"],[0.4444444444444444,\"#bd3786\"],[0.5555555555555556,\"#d8576b\"],[0.6666666666666666,\"#ed7953\"],[0.7777777777777778,\"#fb9f3a\"],[0.8888888888888888,\"#fdca26\"],[1.0,\"#f0f921\"]]}],\"heatmapgl\":[{\"type\":\"heatmapgl\",\"colorbar\":{\"outlinewidth\":0,\"ticks\":\"\"},\"colorscale\":[[0.0,\"#0d0887\"],[0.1111111111111111,\"#46039f\"],[0.2222222222222222,\"#7201a8\"],[0.3333333333333333,\"#9c179e\"],[0.4444444444444444,\"#bd3786\"],[0.5555555555555556,\"#d8576b\"],[0.6666666666666666,\"#ed7953\"],[0.7777777777777778,\"#fb9f3a\"],[0.8888888888888888,\"#fdca26\"],[1.0,\"#f0f921\"]]}],\"contourcarpet\":[{\"type\":\"contourcarpet\",\"colorbar\":{\"outlinewidth\":0,\"ticks\":\"\"}}],\"contour\":[{\"type\":\"contour\",\"colorbar\":{\"outlinewidth\":0,\"ticks\":\"\"},\"colorscale\":[[0.0,\"#0d0887\"],[0.1111111111111111,\"#46039f\"],[0.2222222222222222,\"#7201a8\"],[0.3333333333333333,\"#9c179e\"],[0.4444444444444444,\"#bd3786\"],[0.5555555555555556,\"#d8576b\"],[0.6666666666666666,\"#ed7953\"],[0.7777777777777778,\"#fb9f3a\"],[0.8888888888888888,\"#fdca26\"],[1.0,\"#f0f921\"]]}],\"surface\":[{\"type\":\"surface\",\"colorbar\":{\"outlinewidth\":0,\"ticks\":\"\"},\"colorscale\":[[0.0,\"#0d0887\"],[0.1111111111111111,\"#46039f\"],[0.2222222222222222,\"#7201a8\"],[0.3333333333333333,\"#9c179e\"],[0.4444444444444444,\"#bd3786\"],[0.5555555555555556,\"#d8576b\"],[0.6666666666666666,\"#ed7953\"],[0.7777777777777778,\"#fb9f3a\"],[0.8888888888888888,\"#fdca26\"],[1.0,\"#f0f921\"]]}],\"mesh3d\":[{\"type\":\"mesh3d\",\"colorbar\":{\"outlinewidth\":0,\"ticks\":\"\"}}],\"scatter\":[{\"fillpattern\":{\"fillmode\":\"overlay\",\"size\":10,\"solidity\":0.2},\"type\":\"scatter\"}],\"parcoords\":[{\"type\":\"parcoords\",\"line\":{\"colorbar\":{\"outlinewidth\":0,\"ticks\":\"\"}}}],\"scatterpolargl\":[{\"type\":\"scatterpolargl\",\"marker\":{\"colorbar\":{\"outlinewidth\":0,\"ticks\":\"\"}}}],\"bar\":[{\"error_x\":{\"color\":\"#2a3f5f\"},\"error_y\":{\"color\":\"#2a3f5f\"},\"marker\":{\"line\":{\"color\":\"#E5ECF6\",\"width\":0.5},\"pattern\":{\"fillmode\":\"overlay\",\"size\":10,\"solidity\":0.2}},\"type\":\"bar\"}],\"scattergeo\":[{\"type\":\"scattergeo\",\"marker\":{\"colorbar\":{\"outlinewidth\":0,\"ticks\":\"\"}}}],\"scatterpolar\":[{\"type\":\"scatterpolar\",\"marker\":{\"colorbar\":{\"outlinewidth\":0,\"ticks\":\"\"}}}],\"histogram\":[{\"marker\":{\"pattern\":{\"fillmode\":\"overlay\",\"size\":10,\"solidity\":0.2}},\"type\":\"histogram\"}],\"scattergl\":[{\"type\":\"scattergl\",\"marker\":{\"colorbar\":{\"outlinewidth\":0,\"ticks\":\"\"}}}],\"scatter3d\":[{\"type\":\"scatter3d\",\"line\":{\"colorbar\":{\"outlinewidth\":0,\"ticks\":\"\"}},\"marker\":{\"colorbar\":{\"outlinewidth\":0,\"ticks\":\"\"}}}],\"scattermapbox\":[{\"type\":\"scattermapbox\",\"marker\":{\"colorbar\":{\"outlinewidth\":0,\"ticks\":\"\"}}}],\"scatterternary\":[{\"type\":\"scatterternary\",\"marker\":{\"colorbar\":{\"outlinewidth\":0,\"ticks\":\"\"}}}],\"scattercarpet\":[{\"type\":\"scattercarpet\",\"marker\":{\"colorbar\":{\"outlinewidth\":0,\"ticks\":\"\"}}}],\"carpet\":[{\"aaxis\":{\"endlinecolor\":\"#2a3f5f\",\"gridcolor\":\"white\",\"linecolor\":\"white\",\"minorgridcolor\":\"white\",\"startlinecolor\":\"#2a3f5f\"},\"baxis\":{\"endlinecolor\":\"#2a3f5f\",\"gridcolor\":\"white\",\"linecolor\":\"white\",\"minorgridcolor\":\"white\",\"startlinecolor\":\"#2a3f5f\"},\"type\":\"carpet\"}],\"table\":[{\"cells\":{\"fill\":{\"color\":\"#EBF0F8\"},\"line\":{\"color\":\"white\"}},\"header\":{\"fill\":{\"color\":\"#C8D4E3\"},\"line\":{\"color\":\"white\"}},\"type\":\"table\"}],\"barpolar\":[{\"marker\":{\"line\":{\"color\":\"#E5ECF6\",\"width\":0.5},\"pattern\":{\"fillmode\":\"overlay\",\"size\":10,\"solidity\":0.2}},\"type\":\"barpolar\"}],\"pie\":[{\"automargin\":true,\"type\":\"pie\"}]},\"layout\":{\"autotypenumbers\":\"strict\",\"colorway\":[\"#636efa\",\"#EF553B\",\"#00cc96\",\"#ab63fa\",\"#FFA15A\",\"#19d3f3\",\"#FF6692\",\"#B6E880\",\"#FF97FF\",\"#FECB52\"],\"font\":{\"color\":\"#2a3f5f\"},\"hovermode\":\"closest\",\"hoverlabel\":{\"align\":\"left\"},\"paper_bgcolor\":\"white\",\"plot_bgcolor\":\"#E5ECF6\",\"polar\":{\"bgcolor\":\"#E5ECF6\",\"angularaxis\":{\"gridcolor\":\"white\",\"linecolor\":\"white\",\"ticks\":\"\"},\"radialaxis\":{\"gridcolor\":\"white\",\"linecolor\":\"white\",\"ticks\":\"\"}},\"ternary\":{\"bgcolor\":\"#E5ECF6\",\"aaxis\":{\"gridcolor\":\"white\",\"linecolor\":\"white\",\"ticks\":\"\"},\"baxis\":{\"gridcolor\":\"white\",\"linecolor\":\"white\",\"ticks\":\"\"},\"caxis\":{\"gridcolor\":\"white\",\"linecolor\":\"white\",\"ticks\":\"\"}},\"coloraxis\":{\"colorbar\":{\"outlinewidth\":0,\"ticks\":\"\"}},\"colorscale\":{\"sequential\":[[0.0,\"#0d0887\"],[0.1111111111111111,\"#46039f\"],[0.2222222222222222,\"#7201a8\"],[0.3333333333333333,\"#9c179e\"],[0.4444444444444444,\"#bd3786\"],[0.5555555555555556,\"#d8576b\"],[0.6666666666666666,\"#ed7953\"],[0.7777777777777778,\"#fb9f3a\"],[0.8888888888888888,\"#fdca26\"],[1.0,\"#f0f921\"]],\"sequentialminus\":[[0.0,\"#0d0887\"],[0.1111111111111111,\"#46039f\"],[0.2222222222222222,\"#7201a8\"],[0.3333333333333333,\"#9c179e\"],[0.4444444444444444,\"#bd3786\"],[0.5555555555555556,\"#d8576b\"],[0.6666666666666666,\"#ed7953\"],[0.7777777777777778,\"#fb9f3a\"],[0.8888888888888888,\"#fdca26\"],[1.0,\"#f0f921\"]],\"diverging\":[[0,\"#8e0152\"],[0.1,\"#c51b7d\"],[0.2,\"#de77ae\"],[0.3,\"#f1b6da\"],[0.4,\"#fde0ef\"],[0.5,\"#f7f7f7\"],[0.6,\"#e6f5d0\"],[0.7,\"#b8e186\"],[0.8,\"#7fbc41\"],[0.9,\"#4d9221\"],[1,\"#276419\"]]},\"xaxis\":{\"gridcolor\":\"white\",\"linecolor\":\"white\",\"ticks\":\"\",\"title\":{\"standoff\":15},\"zerolinecolor\":\"white\",\"automargin\":true,\"zerolinewidth\":2},\"yaxis\":{\"gridcolor\":\"white\",\"linecolor\":\"white\",\"ticks\":\"\",\"title\":{\"standoff\":15},\"zerolinecolor\":\"white\",\"automargin\":true,\"zerolinewidth\":2},\"scene\":{\"xaxis\":{\"backgroundcolor\":\"#E5ECF6\",\"gridcolor\":\"white\",\"linecolor\":\"white\",\"showbackground\":true,\"ticks\":\"\",\"zerolinecolor\":\"white\",\"gridwidth\":2},\"yaxis\":{\"backgroundcolor\":\"#E5ECF6\",\"gridcolor\":\"white\",\"linecolor\":\"white\",\"showbackground\":true,\"ticks\":\"\",\"zerolinecolor\":\"white\",\"gridwidth\":2},\"zaxis\":{\"backgroundcolor\":\"#E5ECF6\",\"gridcolor\":\"white\",\"linecolor\":\"white\",\"showbackground\":true,\"ticks\":\"\",\"zerolinecolor\":\"white\",\"gridwidth\":2}},\"shapedefaults\":{\"line\":{\"color\":\"#2a3f5f\"}},\"annotationdefaults\":{\"arrowcolor\":\"#2a3f5f\",\"arrowhead\":0,\"arrowwidth\":1},\"geo\":{\"bgcolor\":\"white\",\"landcolor\":\"#E5ECF6\",\"subunitcolor\":\"white\",\"showland\":true,\"showlakes\":true,\"lakecolor\":\"white\"},\"title\":{\"x\":0.05},\"mapbox\":{\"style\":\"light\"}}},\"xaxis\":{\"anchor\":\"y\",\"domain\":[0.0,1.0],\"title\":{\"text\":\"acous\"}},\"yaxis\":{\"anchor\":\"x\",\"domain\":[0.0,1.0],\"title\":{\"text\":\"nrgy\"}},\"legend\":{\"tracegroupgap\":0},\"title\":{\"text\":\"Acousticness vs Energy\"}},                        {\"responsive\": true}                    ).then(function(){\n",
       "                            \n",
       "var gd = document.getElementById('b32a5a1d-2f07-4577-8052-8b2c5ee842f6');\n",
       "var x = new MutationObserver(function (mutations, observer) {{\n",
       "        var display = window.getComputedStyle(gd).display;\n",
       "        if (!display || display === 'none') {{\n",
       "            console.log([gd, 'removed!']);\n",
       "            Plotly.purge(gd);\n",
       "            observer.disconnect();\n",
       "        }}\n",
       "}});\n",
       "\n",
       "// Listen for the removal of the full notebook cells\n",
       "var notebookContainer = gd.closest('#notebook-container');\n",
       "if (notebookContainer) {{\n",
       "    x.observe(notebookContainer, {childList: true});\n",
       "}}\n",
       "\n",
       "// Listen for the clearing of the current output cell\n",
       "var outputEl = gd.closest('.output');\n",
       "if (outputEl) {{\n",
       "    x.observe(outputEl, {childList: true});\n",
       "}}\n",
       "\n",
       "                        })                };                });            </script>        </div>"
      ]
     },
     "metadata": {},
     "output_type": "display_data"
    }
   ],
   "source": [
    "# Load the data\n",
    "df = pd.read_csv(\"spotify_top_music.csv\")\n",
    "\n",
    "fig = px.scatter(df, x='acous', y='nrgy', trendline='ols', title='Acousticness vs Energy')\n",
    "\n",
    "# Show the plot\n",
    "fig.show()"
   ]
  },
  {
   "cell_type": "markdown",
   "id": "9cba5013",
   "metadata": {},
   "source": [
    "We can say that if a song is acoustic (high value) it also has low energy levels"
   ]
  },
  {
   "cell_type": "markdown",
   "id": "a31e7abd",
   "metadata": {},
   "source": [
    "# ML model to predict the genre"
   ]
  },
  {
   "cell_type": "code",
   "execution_count": 51,
   "id": "f93af50e",
   "metadata": {},
   "outputs": [
    {
     "name": "stdout",
     "output_type": "stream",
     "text": [
      "Accuracy:  0.9090909090909091\n",
      "F1 Score:  0.8808035220027483\n"
     ]
    }
   ],
   "source": [
    "from sklearn.model_selection import train_test_split\n",
    "from sklearn.ensemble import RandomForestClassifier\n",
    "from sklearn.metrics import accuracy_score, f1_score\n",
    "from sklearn.preprocessing import StandardScaler, OneHotEncoder\n",
    "from sklearn.compose import ColumnTransformer\n",
    "from sklearn.pipeline import Pipeline\n",
    "\n",
    "df = pd.read_csv(\"spotify_top_music.csv\")\n",
    "\n",
    "features = df.drop(['top genre', 'title'], axis=1)\n",
    "target = df['top genre']\n",
    "\n",
    "# the categorical feature to be encoded\n",
    "categorical_features = ['artist']\n",
    "\n",
    "categorical_transformer = OneHotEncoder(handle_unknown='ignore')\n",
    "\n",
    "# Bundle preprocessing for numerical and categorical data\n",
    "preprocessor = ColumnTransformer(\n",
    "    transformers=[\n",
    "        ('cat', categorical_transformer, categorical_features)])\n",
    "\n",
    "# Split the data\n",
    "X_train, X_test, y_train, y_test = train_test_split(features, target, test_size=0.2, random_state=42)\n",
    "\n",
    "# Create the pipeline\n",
    "rfc_pipeline = Pipeline(steps=[('preprocessor', preprocessor),\n",
    "                               ('classifier', RandomForestClassifier())])\n",
    "\n",
    "# Fit the model\n",
    "rfc_pipeline.fit(X_train, y_train)\n",
    "\n",
    "# Make predictions\n",
    "y_pred = rfc_pipeline.predict(X_test)\n",
    "\n",
    "print(\"Accuracy: \", accuracy_score(y_test, y_pred))\n",
    "print(\"F1 Score: \", f1_score(y_test, y_pred, average='weighted'))"
   ]
  },
  {
   "cell_type": "code",
   "execution_count": 52,
   "id": "537da8da",
   "metadata": {},
   "outputs": [
    {
     "data": {
      "application/vnd.plotly.v1+json": {
       "config": {
        "plotlyServerURL": "https://plot.ly"
       },
       "data": [
        {
         "alignmentgroup": "True",
         "hovertemplate": "Importance=%{x}<br>Feature=%{y}<extra></extra>",
         "legendgroup": "",
         "marker": {
          "color": "#636efa",
          "pattern": {
           "shape": ""
          }
         },
         "name": "",
         "offsetgroup": "",
         "orientation": "h",
         "showlegend": false,
         "textposition": "auto",
         "type": "bar",
         "x": [
          0.05482212280181987,
          0.0523980348014364,
          0.049529708130891276,
          0.04305587948662679,
          0.03783083664121773,
          0.03569544706329703,
          0.03490760582951547,
          0.026528309979514764,
          0.02529810339569803,
          0.024764432422054342
         ],
         "xaxis": "x",
         "y": [
          "artist_Justin Bieber",
          "artist_Rihanna",
          "artist_Maroon 5",
          "artist_The Chainsmokers",
          "artist_Shawn Mendes",
          "artist_Adele",
          "artist_Bruno Mars",
          "artist_Alicia Keys",
          "artist_Ed Sheeran",
          "artist_Taylor Swift"
         ],
         "yaxis": "y"
        }
       ],
       "layout": {
        "autosize": false,
        "barmode": "relative",
        "height": 600,
        "legend": {
         "tracegroupgap": 0
        },
        "template": {
         "data": {
          "bar": [
           {
            "error_x": {
             "color": "#2a3f5f"
            },
            "error_y": {
             "color": "#2a3f5f"
            },
            "marker": {
             "line": {
              "color": "#E5ECF6",
              "width": 0.5
             },
             "pattern": {
              "fillmode": "overlay",
              "size": 10,
              "solidity": 0.2
             }
            },
            "type": "bar"
           }
          ],
          "barpolar": [
           {
            "marker": {
             "line": {
              "color": "#E5ECF6",
              "width": 0.5
             },
             "pattern": {
              "fillmode": "overlay",
              "size": 10,
              "solidity": 0.2
             }
            },
            "type": "barpolar"
           }
          ],
          "carpet": [
           {
            "aaxis": {
             "endlinecolor": "#2a3f5f",
             "gridcolor": "white",
             "linecolor": "white",
             "minorgridcolor": "white",
             "startlinecolor": "#2a3f5f"
            },
            "baxis": {
             "endlinecolor": "#2a3f5f",
             "gridcolor": "white",
             "linecolor": "white",
             "minorgridcolor": "white",
             "startlinecolor": "#2a3f5f"
            },
            "type": "carpet"
           }
          ],
          "choropleth": [
           {
            "colorbar": {
             "outlinewidth": 0,
             "ticks": ""
            },
            "type": "choropleth"
           }
          ],
          "contour": [
           {
            "colorbar": {
             "outlinewidth": 0,
             "ticks": ""
            },
            "colorscale": [
             [
              0,
              "#0d0887"
             ],
             [
              0.1111111111111111,
              "#46039f"
             ],
             [
              0.2222222222222222,
              "#7201a8"
             ],
             [
              0.3333333333333333,
              "#9c179e"
             ],
             [
              0.4444444444444444,
              "#bd3786"
             ],
             [
              0.5555555555555556,
              "#d8576b"
             ],
             [
              0.6666666666666666,
              "#ed7953"
             ],
             [
              0.7777777777777778,
              "#fb9f3a"
             ],
             [
              0.8888888888888888,
              "#fdca26"
             ],
             [
              1,
              "#f0f921"
             ]
            ],
            "type": "contour"
           }
          ],
          "contourcarpet": [
           {
            "colorbar": {
             "outlinewidth": 0,
             "ticks": ""
            },
            "type": "contourcarpet"
           }
          ],
          "heatmap": [
           {
            "colorbar": {
             "outlinewidth": 0,
             "ticks": ""
            },
            "colorscale": [
             [
              0,
              "#0d0887"
             ],
             [
              0.1111111111111111,
              "#46039f"
             ],
             [
              0.2222222222222222,
              "#7201a8"
             ],
             [
              0.3333333333333333,
              "#9c179e"
             ],
             [
              0.4444444444444444,
              "#bd3786"
             ],
             [
              0.5555555555555556,
              "#d8576b"
             ],
             [
              0.6666666666666666,
              "#ed7953"
             ],
             [
              0.7777777777777778,
              "#fb9f3a"
             ],
             [
              0.8888888888888888,
              "#fdca26"
             ],
             [
              1,
              "#f0f921"
             ]
            ],
            "type": "heatmap"
           }
          ],
          "heatmapgl": [
           {
            "colorbar": {
             "outlinewidth": 0,
             "ticks": ""
            },
            "colorscale": [
             [
              0,
              "#0d0887"
             ],
             [
              0.1111111111111111,
              "#46039f"
             ],
             [
              0.2222222222222222,
              "#7201a8"
             ],
             [
              0.3333333333333333,
              "#9c179e"
             ],
             [
              0.4444444444444444,
              "#bd3786"
             ],
             [
              0.5555555555555556,
              "#d8576b"
             ],
             [
              0.6666666666666666,
              "#ed7953"
             ],
             [
              0.7777777777777778,
              "#fb9f3a"
             ],
             [
              0.8888888888888888,
              "#fdca26"
             ],
             [
              1,
              "#f0f921"
             ]
            ],
            "type": "heatmapgl"
           }
          ],
          "histogram": [
           {
            "marker": {
             "pattern": {
              "fillmode": "overlay",
              "size": 10,
              "solidity": 0.2
             }
            },
            "type": "histogram"
           }
          ],
          "histogram2d": [
           {
            "colorbar": {
             "outlinewidth": 0,
             "ticks": ""
            },
            "colorscale": [
             [
              0,
              "#0d0887"
             ],
             [
              0.1111111111111111,
              "#46039f"
             ],
             [
              0.2222222222222222,
              "#7201a8"
             ],
             [
              0.3333333333333333,
              "#9c179e"
             ],
             [
              0.4444444444444444,
              "#bd3786"
             ],
             [
              0.5555555555555556,
              "#d8576b"
             ],
             [
              0.6666666666666666,
              "#ed7953"
             ],
             [
              0.7777777777777778,
              "#fb9f3a"
             ],
             [
              0.8888888888888888,
              "#fdca26"
             ],
             [
              1,
              "#f0f921"
             ]
            ],
            "type": "histogram2d"
           }
          ],
          "histogram2dcontour": [
           {
            "colorbar": {
             "outlinewidth": 0,
             "ticks": ""
            },
            "colorscale": [
             [
              0,
              "#0d0887"
             ],
             [
              0.1111111111111111,
              "#46039f"
             ],
             [
              0.2222222222222222,
              "#7201a8"
             ],
             [
              0.3333333333333333,
              "#9c179e"
             ],
             [
              0.4444444444444444,
              "#bd3786"
             ],
             [
              0.5555555555555556,
              "#d8576b"
             ],
             [
              0.6666666666666666,
              "#ed7953"
             ],
             [
              0.7777777777777778,
              "#fb9f3a"
             ],
             [
              0.8888888888888888,
              "#fdca26"
             ],
             [
              1,
              "#f0f921"
             ]
            ],
            "type": "histogram2dcontour"
           }
          ],
          "mesh3d": [
           {
            "colorbar": {
             "outlinewidth": 0,
             "ticks": ""
            },
            "type": "mesh3d"
           }
          ],
          "parcoords": [
           {
            "line": {
             "colorbar": {
              "outlinewidth": 0,
              "ticks": ""
             }
            },
            "type": "parcoords"
           }
          ],
          "pie": [
           {
            "automargin": true,
            "type": "pie"
           }
          ],
          "scatter": [
           {
            "fillpattern": {
             "fillmode": "overlay",
             "size": 10,
             "solidity": 0.2
            },
            "type": "scatter"
           }
          ],
          "scatter3d": [
           {
            "line": {
             "colorbar": {
              "outlinewidth": 0,
              "ticks": ""
             }
            },
            "marker": {
             "colorbar": {
              "outlinewidth": 0,
              "ticks": ""
             }
            },
            "type": "scatter3d"
           }
          ],
          "scattercarpet": [
           {
            "marker": {
             "colorbar": {
              "outlinewidth": 0,
              "ticks": ""
             }
            },
            "type": "scattercarpet"
           }
          ],
          "scattergeo": [
           {
            "marker": {
             "colorbar": {
              "outlinewidth": 0,
              "ticks": ""
             }
            },
            "type": "scattergeo"
           }
          ],
          "scattergl": [
           {
            "marker": {
             "colorbar": {
              "outlinewidth": 0,
              "ticks": ""
             }
            },
            "type": "scattergl"
           }
          ],
          "scattermapbox": [
           {
            "marker": {
             "colorbar": {
              "outlinewidth": 0,
              "ticks": ""
             }
            },
            "type": "scattermapbox"
           }
          ],
          "scatterpolar": [
           {
            "marker": {
             "colorbar": {
              "outlinewidth": 0,
              "ticks": ""
             }
            },
            "type": "scatterpolar"
           }
          ],
          "scatterpolargl": [
           {
            "marker": {
             "colorbar": {
              "outlinewidth": 0,
              "ticks": ""
             }
            },
            "type": "scatterpolargl"
           }
          ],
          "scatterternary": [
           {
            "marker": {
             "colorbar": {
              "outlinewidth": 0,
              "ticks": ""
             }
            },
            "type": "scatterternary"
           }
          ],
          "surface": [
           {
            "colorbar": {
             "outlinewidth": 0,
             "ticks": ""
            },
            "colorscale": [
             [
              0,
              "#0d0887"
             ],
             [
              0.1111111111111111,
              "#46039f"
             ],
             [
              0.2222222222222222,
              "#7201a8"
             ],
             [
              0.3333333333333333,
              "#9c179e"
             ],
             [
              0.4444444444444444,
              "#bd3786"
             ],
             [
              0.5555555555555556,
              "#d8576b"
             ],
             [
              0.6666666666666666,
              "#ed7953"
             ],
             [
              0.7777777777777778,
              "#fb9f3a"
             ],
             [
              0.8888888888888888,
              "#fdca26"
             ],
             [
              1,
              "#f0f921"
             ]
            ],
            "type": "surface"
           }
          ],
          "table": [
           {
            "cells": {
             "fill": {
              "color": "#EBF0F8"
             },
             "line": {
              "color": "white"
             }
            },
            "header": {
             "fill": {
              "color": "#C8D4E3"
             },
             "line": {
              "color": "white"
             }
            },
            "type": "table"
           }
          ]
         },
         "layout": {
          "annotationdefaults": {
           "arrowcolor": "#2a3f5f",
           "arrowhead": 0,
           "arrowwidth": 1
          },
          "autotypenumbers": "strict",
          "coloraxis": {
           "colorbar": {
            "outlinewidth": 0,
            "ticks": ""
           }
          },
          "colorscale": {
           "diverging": [
            [
             0,
             "#8e0152"
            ],
            [
             0.1,
             "#c51b7d"
            ],
            [
             0.2,
             "#de77ae"
            ],
            [
             0.3,
             "#f1b6da"
            ],
            [
             0.4,
             "#fde0ef"
            ],
            [
             0.5,
             "#f7f7f7"
            ],
            [
             0.6,
             "#e6f5d0"
            ],
            [
             0.7,
             "#b8e186"
            ],
            [
             0.8,
             "#7fbc41"
            ],
            [
             0.9,
             "#4d9221"
            ],
            [
             1,
             "#276419"
            ]
           ],
           "sequential": [
            [
             0,
             "#0d0887"
            ],
            [
             0.1111111111111111,
             "#46039f"
            ],
            [
             0.2222222222222222,
             "#7201a8"
            ],
            [
             0.3333333333333333,
             "#9c179e"
            ],
            [
             0.4444444444444444,
             "#bd3786"
            ],
            [
             0.5555555555555556,
             "#d8576b"
            ],
            [
             0.6666666666666666,
             "#ed7953"
            ],
            [
             0.7777777777777778,
             "#fb9f3a"
            ],
            [
             0.8888888888888888,
             "#fdca26"
            ],
            [
             1,
             "#f0f921"
            ]
           ],
           "sequentialminus": [
            [
             0,
             "#0d0887"
            ],
            [
             0.1111111111111111,
             "#46039f"
            ],
            [
             0.2222222222222222,
             "#7201a8"
            ],
            [
             0.3333333333333333,
             "#9c179e"
            ],
            [
             0.4444444444444444,
             "#bd3786"
            ],
            [
             0.5555555555555556,
             "#d8576b"
            ],
            [
             0.6666666666666666,
             "#ed7953"
            ],
            [
             0.7777777777777778,
             "#fb9f3a"
            ],
            [
             0.8888888888888888,
             "#fdca26"
            ],
            [
             1,
             "#f0f921"
            ]
           ]
          },
          "colorway": [
           "#636efa",
           "#EF553B",
           "#00cc96",
           "#ab63fa",
           "#FFA15A",
           "#19d3f3",
           "#FF6692",
           "#B6E880",
           "#FF97FF",
           "#FECB52"
          ],
          "font": {
           "color": "#2a3f5f"
          },
          "geo": {
           "bgcolor": "white",
           "lakecolor": "white",
           "landcolor": "#E5ECF6",
           "showlakes": true,
           "showland": true,
           "subunitcolor": "white"
          },
          "hoverlabel": {
           "align": "left"
          },
          "hovermode": "closest",
          "mapbox": {
           "style": "light"
          },
          "paper_bgcolor": "white",
          "plot_bgcolor": "#E5ECF6",
          "polar": {
           "angularaxis": {
            "gridcolor": "white",
            "linecolor": "white",
            "ticks": ""
           },
           "bgcolor": "#E5ECF6",
           "radialaxis": {
            "gridcolor": "white",
            "linecolor": "white",
            "ticks": ""
           }
          },
          "scene": {
           "xaxis": {
            "backgroundcolor": "#E5ECF6",
            "gridcolor": "white",
            "gridwidth": 2,
            "linecolor": "white",
            "showbackground": true,
            "ticks": "",
            "zerolinecolor": "white"
           },
           "yaxis": {
            "backgroundcolor": "#E5ECF6",
            "gridcolor": "white",
            "gridwidth": 2,
            "linecolor": "white",
            "showbackground": true,
            "ticks": "",
            "zerolinecolor": "white"
           },
           "zaxis": {
            "backgroundcolor": "#E5ECF6",
            "gridcolor": "white",
            "gridwidth": 2,
            "linecolor": "white",
            "showbackground": true,
            "ticks": "",
            "zerolinecolor": "white"
           }
          },
          "shapedefaults": {
           "line": {
            "color": "#2a3f5f"
           }
          },
          "ternary": {
           "aaxis": {
            "gridcolor": "white",
            "linecolor": "white",
            "ticks": ""
           },
           "baxis": {
            "gridcolor": "white",
            "linecolor": "white",
            "ticks": ""
           },
           "bgcolor": "#E5ECF6",
           "caxis": {
            "gridcolor": "white",
            "linecolor": "white",
            "ticks": ""
           }
          },
          "title": {
           "x": 0.05
          },
          "xaxis": {
           "automargin": true,
           "gridcolor": "white",
           "linecolor": "white",
           "ticks": "",
           "title": {
            "standoff": 15
           },
           "zerolinecolor": "white",
           "zerolinewidth": 2
          },
          "yaxis": {
           "automargin": true,
           "gridcolor": "white",
           "linecolor": "white",
           "ticks": "",
           "title": {
            "standoff": 15
           },
           "zerolinecolor": "white",
           "zerolinewidth": 2
          }
         }
        },
        "title": {
         "text": "Feature Importance in RandomForest Classifier"
        },
        "width": 800,
        "xaxis": {
         "anchor": "y",
         "domain": [
          0,
          1
         ],
         "title": {
          "text": "Importance"
         }
        },
        "yaxis": {
         "anchor": "x",
         "categoryorder": "total ascending",
         "domain": [
          0,
          1
         ],
         "title": {
          "text": "Feature"
         }
        }
       }
      },
      "text/html": [
       "<div>                            <div id=\"f7e98213-876a-4f3e-9028-27cb5a67b2c3\" class=\"plotly-graph-div\" style=\"height:600px; width:800px;\"></div>            <script type=\"text/javascript\">                require([\"plotly\"], function(Plotly) {                    window.PLOTLYENV=window.PLOTLYENV || {};                                    if (document.getElementById(\"f7e98213-876a-4f3e-9028-27cb5a67b2c3\")) {                    Plotly.newPlot(                        \"f7e98213-876a-4f3e-9028-27cb5a67b2c3\",                        [{\"alignmentgroup\":\"True\",\"hovertemplate\":\"Importance=%{x}<br>Feature=%{y}<extra></extra>\",\"legendgroup\":\"\",\"marker\":{\"color\":\"#636efa\",\"pattern\":{\"shape\":\"\"}},\"name\":\"\",\"offsetgroup\":\"\",\"orientation\":\"h\",\"showlegend\":false,\"textposition\":\"auto\",\"x\":[0.05482212280181987,0.0523980348014364,0.049529708130891276,0.04305587948662679,0.03783083664121773,0.03569544706329703,0.03490760582951547,0.026528309979514764,0.02529810339569803,0.024764432422054342],\"xaxis\":\"x\",\"y\":[\"artist_Justin Bieber\",\"artist_Rihanna\",\"artist_Maroon 5\",\"artist_The Chainsmokers\",\"artist_Shawn Mendes\",\"artist_Adele\",\"artist_Bruno Mars\",\"artist_Alicia Keys\",\"artist_Ed Sheeran\",\"artist_Taylor Swift\"],\"yaxis\":\"y\",\"type\":\"bar\"}],                        {\"template\":{\"data\":{\"histogram2dcontour\":[{\"type\":\"histogram2dcontour\",\"colorbar\":{\"outlinewidth\":0,\"ticks\":\"\"},\"colorscale\":[[0.0,\"#0d0887\"],[0.1111111111111111,\"#46039f\"],[0.2222222222222222,\"#7201a8\"],[0.3333333333333333,\"#9c179e\"],[0.4444444444444444,\"#bd3786\"],[0.5555555555555556,\"#d8576b\"],[0.6666666666666666,\"#ed7953\"],[0.7777777777777778,\"#fb9f3a\"],[0.8888888888888888,\"#fdca26\"],[1.0,\"#f0f921\"]]}],\"choropleth\":[{\"type\":\"choropleth\",\"colorbar\":{\"outlinewidth\":0,\"ticks\":\"\"}}],\"histogram2d\":[{\"type\":\"histogram2d\",\"colorbar\":{\"outlinewidth\":0,\"ticks\":\"\"},\"colorscale\":[[0.0,\"#0d0887\"],[0.1111111111111111,\"#46039f\"],[0.2222222222222222,\"#7201a8\"],[0.3333333333333333,\"#9c179e\"],[0.4444444444444444,\"#bd3786\"],[0.5555555555555556,\"#d8576b\"],[0.6666666666666666,\"#ed7953\"],[0.7777777777777778,\"#fb9f3a\"],[0.8888888888888888,\"#fdca26\"],[1.0,\"#f0f921\"]]}],\"heatmap\":[{\"type\":\"heatmap\",\"colorbar\":{\"outlinewidth\":0,\"ticks\":\"\"},\"colorscale\":[[0.0,\"#0d0887\"],[0.1111111111111111,\"#46039f\"],[0.2222222222222222,\"#7201a8\"],[0.3333333333333333,\"#9c179e\"],[0.4444444444444444,\"#bd3786\"],[0.5555555555555556,\"#d8576b\"],[0.6666666666666666,\"#ed7953\"],[0.7777777777777778,\"#fb9f3a\"],[0.8888888888888888,\"#fdca26\"],[1.0,\"#f0f921\"]]}],\"heatmapgl\":[{\"type\":\"heatmapgl\",\"colorbar\":{\"outlinewidth\":0,\"ticks\":\"\"},\"colorscale\":[[0.0,\"#0d0887\"],[0.1111111111111111,\"#46039f\"],[0.2222222222222222,\"#7201a8\"],[0.3333333333333333,\"#9c179e\"],[0.4444444444444444,\"#bd3786\"],[0.5555555555555556,\"#d8576b\"],[0.6666666666666666,\"#ed7953\"],[0.7777777777777778,\"#fb9f3a\"],[0.8888888888888888,\"#fdca26\"],[1.0,\"#f0f921\"]]}],\"contourcarpet\":[{\"type\":\"contourcarpet\",\"colorbar\":{\"outlinewidth\":0,\"ticks\":\"\"}}],\"contour\":[{\"type\":\"contour\",\"colorbar\":{\"outlinewidth\":0,\"ticks\":\"\"},\"colorscale\":[[0.0,\"#0d0887\"],[0.1111111111111111,\"#46039f\"],[0.2222222222222222,\"#7201a8\"],[0.3333333333333333,\"#9c179e\"],[0.4444444444444444,\"#bd3786\"],[0.5555555555555556,\"#d8576b\"],[0.6666666666666666,\"#ed7953\"],[0.7777777777777778,\"#fb9f3a\"],[0.8888888888888888,\"#fdca26\"],[1.0,\"#f0f921\"]]}],\"surface\":[{\"type\":\"surface\",\"colorbar\":{\"outlinewidth\":0,\"ticks\":\"\"},\"colorscale\":[[0.0,\"#0d0887\"],[0.1111111111111111,\"#46039f\"],[0.2222222222222222,\"#7201a8\"],[0.3333333333333333,\"#9c179e\"],[0.4444444444444444,\"#bd3786\"],[0.5555555555555556,\"#d8576b\"],[0.6666666666666666,\"#ed7953\"],[0.7777777777777778,\"#fb9f3a\"],[0.8888888888888888,\"#fdca26\"],[1.0,\"#f0f921\"]]}],\"mesh3d\":[{\"type\":\"mesh3d\",\"colorbar\":{\"outlinewidth\":0,\"ticks\":\"\"}}],\"scatter\":[{\"fillpattern\":{\"fillmode\":\"overlay\",\"size\":10,\"solidity\":0.2},\"type\":\"scatter\"}],\"parcoords\":[{\"type\":\"parcoords\",\"line\":{\"colorbar\":{\"outlinewidth\":0,\"ticks\":\"\"}}}],\"scatterpolargl\":[{\"type\":\"scatterpolargl\",\"marker\":{\"colorbar\":{\"outlinewidth\":0,\"ticks\":\"\"}}}],\"bar\":[{\"error_x\":{\"color\":\"#2a3f5f\"},\"error_y\":{\"color\":\"#2a3f5f\"},\"marker\":{\"line\":{\"color\":\"#E5ECF6\",\"width\":0.5},\"pattern\":{\"fillmode\":\"overlay\",\"size\":10,\"solidity\":0.2}},\"type\":\"bar\"}],\"scattergeo\":[{\"type\":\"scattergeo\",\"marker\":{\"colorbar\":{\"outlinewidth\":0,\"ticks\":\"\"}}}],\"scatterpolar\":[{\"type\":\"scatterpolar\",\"marker\":{\"colorbar\":{\"outlinewidth\":0,\"ticks\":\"\"}}}],\"histogram\":[{\"marker\":{\"pattern\":{\"fillmode\":\"overlay\",\"size\":10,\"solidity\":0.2}},\"type\":\"histogram\"}],\"scattergl\":[{\"type\":\"scattergl\",\"marker\":{\"colorbar\":{\"outlinewidth\":0,\"ticks\":\"\"}}}],\"scatter3d\":[{\"type\":\"scatter3d\",\"line\":{\"colorbar\":{\"outlinewidth\":0,\"ticks\":\"\"}},\"marker\":{\"colorbar\":{\"outlinewidth\":0,\"ticks\":\"\"}}}],\"scattermapbox\":[{\"type\":\"scattermapbox\",\"marker\":{\"colorbar\":{\"outlinewidth\":0,\"ticks\":\"\"}}}],\"scatterternary\":[{\"type\":\"scatterternary\",\"marker\":{\"colorbar\":{\"outlinewidth\":0,\"ticks\":\"\"}}}],\"scattercarpet\":[{\"type\":\"scattercarpet\",\"marker\":{\"colorbar\":{\"outlinewidth\":0,\"ticks\":\"\"}}}],\"carpet\":[{\"aaxis\":{\"endlinecolor\":\"#2a3f5f\",\"gridcolor\":\"white\",\"linecolor\":\"white\",\"minorgridcolor\":\"white\",\"startlinecolor\":\"#2a3f5f\"},\"baxis\":{\"endlinecolor\":\"#2a3f5f\",\"gridcolor\":\"white\",\"linecolor\":\"white\",\"minorgridcolor\":\"white\",\"startlinecolor\":\"#2a3f5f\"},\"type\":\"carpet\"}],\"table\":[{\"cells\":{\"fill\":{\"color\":\"#EBF0F8\"},\"line\":{\"color\":\"white\"}},\"header\":{\"fill\":{\"color\":\"#C8D4E3\"},\"line\":{\"color\":\"white\"}},\"type\":\"table\"}],\"barpolar\":[{\"marker\":{\"line\":{\"color\":\"#E5ECF6\",\"width\":0.5},\"pattern\":{\"fillmode\":\"overlay\",\"size\":10,\"solidity\":0.2}},\"type\":\"barpolar\"}],\"pie\":[{\"automargin\":true,\"type\":\"pie\"}]},\"layout\":{\"autotypenumbers\":\"strict\",\"colorway\":[\"#636efa\",\"#EF553B\",\"#00cc96\",\"#ab63fa\",\"#FFA15A\",\"#19d3f3\",\"#FF6692\",\"#B6E880\",\"#FF97FF\",\"#FECB52\"],\"font\":{\"color\":\"#2a3f5f\"},\"hovermode\":\"closest\",\"hoverlabel\":{\"align\":\"left\"},\"paper_bgcolor\":\"white\",\"plot_bgcolor\":\"#E5ECF6\",\"polar\":{\"bgcolor\":\"#E5ECF6\",\"angularaxis\":{\"gridcolor\":\"white\",\"linecolor\":\"white\",\"ticks\":\"\"},\"radialaxis\":{\"gridcolor\":\"white\",\"linecolor\":\"white\",\"ticks\":\"\"}},\"ternary\":{\"bgcolor\":\"#E5ECF6\",\"aaxis\":{\"gridcolor\":\"white\",\"linecolor\":\"white\",\"ticks\":\"\"},\"baxis\":{\"gridcolor\":\"white\",\"linecolor\":\"white\",\"ticks\":\"\"},\"caxis\":{\"gridcolor\":\"white\",\"linecolor\":\"white\",\"ticks\":\"\"}},\"coloraxis\":{\"colorbar\":{\"outlinewidth\":0,\"ticks\":\"\"}},\"colorscale\":{\"sequential\":[[0.0,\"#0d0887\"],[0.1111111111111111,\"#46039f\"],[0.2222222222222222,\"#7201a8\"],[0.3333333333333333,\"#9c179e\"],[0.4444444444444444,\"#bd3786\"],[0.5555555555555556,\"#d8576b\"],[0.6666666666666666,\"#ed7953\"],[0.7777777777777778,\"#fb9f3a\"],[0.8888888888888888,\"#fdca26\"],[1.0,\"#f0f921\"]],\"sequentialminus\":[[0.0,\"#0d0887\"],[0.1111111111111111,\"#46039f\"],[0.2222222222222222,\"#7201a8\"],[0.3333333333333333,\"#9c179e\"],[0.4444444444444444,\"#bd3786\"],[0.5555555555555556,\"#d8576b\"],[0.6666666666666666,\"#ed7953\"],[0.7777777777777778,\"#fb9f3a\"],[0.8888888888888888,\"#fdca26\"],[1.0,\"#f0f921\"]],\"diverging\":[[0,\"#8e0152\"],[0.1,\"#c51b7d\"],[0.2,\"#de77ae\"],[0.3,\"#f1b6da\"],[0.4,\"#fde0ef\"],[0.5,\"#f7f7f7\"],[0.6,\"#e6f5d0\"],[0.7,\"#b8e186\"],[0.8,\"#7fbc41\"],[0.9,\"#4d9221\"],[1,\"#276419\"]]},\"xaxis\":{\"gridcolor\":\"white\",\"linecolor\":\"white\",\"ticks\":\"\",\"title\":{\"standoff\":15},\"zerolinecolor\":\"white\",\"automargin\":true,\"zerolinewidth\":2},\"yaxis\":{\"gridcolor\":\"white\",\"linecolor\":\"white\",\"ticks\":\"\",\"title\":{\"standoff\":15},\"zerolinecolor\":\"white\",\"automargin\":true,\"zerolinewidth\":2},\"scene\":{\"xaxis\":{\"backgroundcolor\":\"#E5ECF6\",\"gridcolor\":\"white\",\"linecolor\":\"white\",\"showbackground\":true,\"ticks\":\"\",\"zerolinecolor\":\"white\",\"gridwidth\":2},\"yaxis\":{\"backgroundcolor\":\"#E5ECF6\",\"gridcolor\":\"white\",\"linecolor\":\"white\",\"showbackground\":true,\"ticks\":\"\",\"zerolinecolor\":\"white\",\"gridwidth\":2},\"zaxis\":{\"backgroundcolor\":\"#E5ECF6\",\"gridcolor\":\"white\",\"linecolor\":\"white\",\"showbackground\":true,\"ticks\":\"\",\"zerolinecolor\":\"white\",\"gridwidth\":2}},\"shapedefaults\":{\"line\":{\"color\":\"#2a3f5f\"}},\"annotationdefaults\":{\"arrowcolor\":\"#2a3f5f\",\"arrowhead\":0,\"arrowwidth\":1},\"geo\":{\"bgcolor\":\"white\",\"landcolor\":\"#E5ECF6\",\"subunitcolor\":\"white\",\"showland\":true,\"showlakes\":true,\"lakecolor\":\"white\"},\"title\":{\"x\":0.05},\"mapbox\":{\"style\":\"light\"}}},\"xaxis\":{\"anchor\":\"y\",\"domain\":[0.0,1.0],\"title\":{\"text\":\"Importance\"}},\"yaxis\":{\"anchor\":\"x\",\"domain\":[0.0,1.0],\"title\":{\"text\":\"Feature\"},\"categoryorder\":\"total ascending\"},\"legend\":{\"tracegroupgap\":0},\"title\":{\"text\":\"Feature Importance in RandomForest Classifier\"},\"barmode\":\"relative\",\"autosize\":false,\"width\":800,\"height\":600},                        {\"responsive\": true}                    ).then(function(){\n",
       "                            \n",
       "var gd = document.getElementById('f7e98213-876a-4f3e-9028-27cb5a67b2c3');\n",
       "var x = new MutationObserver(function (mutations, observer) {{\n",
       "        var display = window.getComputedStyle(gd).display;\n",
       "        if (!display || display === 'none') {{\n",
       "            console.log([gd, 'removed!']);\n",
       "            Plotly.purge(gd);\n",
       "            observer.disconnect();\n",
       "        }}\n",
       "}});\n",
       "\n",
       "// Listen for the removal of the full notebook cells\n",
       "var notebookContainer = gd.closest('#notebook-container');\n",
       "if (notebookContainer) {{\n",
       "    x.observe(notebookContainer, {childList: true});\n",
       "}}\n",
       "\n",
       "// Listen for the clearing of the current output cell\n",
       "var outputEl = gd.closest('.output');\n",
       "if (outputEl) {{\n",
       "    x.observe(outputEl, {childList: true});\n",
       "}}\n",
       "\n",
       "                        })                };                });            </script>        </div>"
      ]
     },
     "metadata": {},
     "output_type": "display_data"
    }
   ],
   "source": [
    "import plotly.express as px\n",
    "\n",
    "# Get the feature importances from the random forest classifier\n",
    "feature_importances = rfc_pipeline.named_steps['classifier'].feature_importances_\n",
    "\n",
    "# Get feature names from the OneHotEncoder\n",
    "ohe_feature_names = rfc_pipeline.named_steps['preprocessor'].transformers_[0][1].get_feature_names_out(categorical_features)\n",
    "\n",
    "# Combine the OneHotEncoded feature names with the remaining feature names\n",
    "all_feature_names = np.concatenate([ohe_feature_names, features.drop(categorical_features, axis=1).columns])\n",
    "\n",
    "# Sort features and their importances\n",
    "sorted_idx = np.argsort(feature_importances)[::-1]\n",
    "sorted_feature_importances = feature_importances[sorted_idx]\n",
    "sorted_feature_names = all_feature_names[sorted_idx]\n",
    "\n",
    "# Create a dataframe to plot\n",
    "df_plot = pd.DataFrame({'Feature': sorted_feature_names[:10], 'Importance': sorted_feature_importances[:10]})\n",
    "\n",
    "# Create the interactive bar chart\n",
    "fig = px.bar(df_plot, y='Feature', x='Importance', orientation='h', title=\"Feature Importance in RandomForest Classifier\")\n",
    "\n",
    "fig.update_layout(\n",
    "    autosize=False,\n",
    "    width=800,\n",
    "    height=600,\n",
    "    yaxis={'categoryorder':'total ascending'}\n",
    ")\n",
    "\n",
    "fig.show()"
   ]
  },
  {
   "cell_type": "code",
   "execution_count": 54,
   "id": "bc7c8f34",
   "metadata": {},
   "outputs": [
    {
     "name": "stdout",
     "output_type": "stream",
     "text": [
      "Accuracy:  0.5619834710743802\n",
      "F1 Score:  0.44664830119375576\n"
     ]
    }
   ],
   "source": [
    "from sklearn.model_selection import train_test_split\n",
    "from sklearn.ensemble import RandomForestClassifier\n",
    "from sklearn.metrics import accuracy_score, f1_score\n",
    "from sklearn.preprocessing import StandardScaler, OneHotEncoder\n",
    "from sklearn.compose import ColumnTransformer\n",
    "from sklearn.pipeline import Pipeline\n",
    "\n",
    "df = pd.read_csv(\"spotify_top_music.csv\")\n",
    "\n",
    "features = df.drop(['top genre', 'artist', 'title'], axis=1)\n",
    "target = df['top genre']\n",
    "\n",
    "# Split the data\n",
    "X_train, X_test, y_train, y_test = train_test_split(features, target, test_size=0.2, random_state=42)\n",
    "\n",
    "# Fit the RandomForestClassifier\n",
    "classifier = RandomForestClassifier()\n",
    "classifier.fit(X_train, y_train)\n",
    "\n",
    "# Make predictions\n",
    "y_pred = classifier.predict(X_test)\n",
    "\n",
    "# Print the metrics\n",
    "print(\"Accuracy: \", accuracy_score(y_test, y_pred))\n",
    "print(\"F1 Score: \", f1_score(y_test, y_pred, average='weighted'))"
   ]
  },
  {
   "cell_type": "code",
   "execution_count": 55,
   "id": "3693f088",
   "metadata": {},
   "outputs": [
    {
     "data": {
      "application/vnd.plotly.v1+json": {
       "config": {
        "plotlyServerURL": "https://plot.ly"
       },
       "data": [
        {
         "alignmentgroup": "True",
         "hovertemplate": "Importance=%{x}<br>Feature=%{y}<extra></extra>",
         "legendgroup": "",
         "marker": {
          "color": "#636efa",
          "pattern": {
           "shape": ""
          }
         },
         "name": "",
         "offsetgroup": "",
         "orientation": "h",
         "showlegend": false,
         "textposition": "auto",
         "type": "bar",
         "x": [
          0.10501278934348245,
          0.1025122585863441,
          0.10236915171588133,
          0.10104575765672079,
          0.097400242614356,
          0.09296248005593956,
          0.08875180281047212,
          0.08408620120542591,
          0.07884015566112335,
          0.07509980466799503,
          0.0719193556822594
         ],
         "xaxis": "x",
         "y": [
          "dur",
          "bpm",
          "val",
          "pop",
          "dnce",
          "nrgy",
          "acous",
          "live",
          "dB",
          "year",
          "spch"
         ],
         "yaxis": "y"
        }
       ],
       "layout": {
        "autosize": false,
        "barmode": "relative",
        "height": 600,
        "legend": {
         "tracegroupgap": 0
        },
        "template": {
         "data": {
          "bar": [
           {
            "error_x": {
             "color": "#2a3f5f"
            },
            "error_y": {
             "color": "#2a3f5f"
            },
            "marker": {
             "line": {
              "color": "#E5ECF6",
              "width": 0.5
             },
             "pattern": {
              "fillmode": "overlay",
              "size": 10,
              "solidity": 0.2
             }
            },
            "type": "bar"
           }
          ],
          "barpolar": [
           {
            "marker": {
             "line": {
              "color": "#E5ECF6",
              "width": 0.5
             },
             "pattern": {
              "fillmode": "overlay",
              "size": 10,
              "solidity": 0.2
             }
            },
            "type": "barpolar"
           }
          ],
          "carpet": [
           {
            "aaxis": {
             "endlinecolor": "#2a3f5f",
             "gridcolor": "white",
             "linecolor": "white",
             "minorgridcolor": "white",
             "startlinecolor": "#2a3f5f"
            },
            "baxis": {
             "endlinecolor": "#2a3f5f",
             "gridcolor": "white",
             "linecolor": "white",
             "minorgridcolor": "white",
             "startlinecolor": "#2a3f5f"
            },
            "type": "carpet"
           }
          ],
          "choropleth": [
           {
            "colorbar": {
             "outlinewidth": 0,
             "ticks": ""
            },
            "type": "choropleth"
           }
          ],
          "contour": [
           {
            "colorbar": {
             "outlinewidth": 0,
             "ticks": ""
            },
            "colorscale": [
             [
              0,
              "#0d0887"
             ],
             [
              0.1111111111111111,
              "#46039f"
             ],
             [
              0.2222222222222222,
              "#7201a8"
             ],
             [
              0.3333333333333333,
              "#9c179e"
             ],
             [
              0.4444444444444444,
              "#bd3786"
             ],
             [
              0.5555555555555556,
              "#d8576b"
             ],
             [
              0.6666666666666666,
              "#ed7953"
             ],
             [
              0.7777777777777778,
              "#fb9f3a"
             ],
             [
              0.8888888888888888,
              "#fdca26"
             ],
             [
              1,
              "#f0f921"
             ]
            ],
            "type": "contour"
           }
          ],
          "contourcarpet": [
           {
            "colorbar": {
             "outlinewidth": 0,
             "ticks": ""
            },
            "type": "contourcarpet"
           }
          ],
          "heatmap": [
           {
            "colorbar": {
             "outlinewidth": 0,
             "ticks": ""
            },
            "colorscale": [
             [
              0,
              "#0d0887"
             ],
             [
              0.1111111111111111,
              "#46039f"
             ],
             [
              0.2222222222222222,
              "#7201a8"
             ],
             [
              0.3333333333333333,
              "#9c179e"
             ],
             [
              0.4444444444444444,
              "#bd3786"
             ],
             [
              0.5555555555555556,
              "#d8576b"
             ],
             [
              0.6666666666666666,
              "#ed7953"
             ],
             [
              0.7777777777777778,
              "#fb9f3a"
             ],
             [
              0.8888888888888888,
              "#fdca26"
             ],
             [
              1,
              "#f0f921"
             ]
            ],
            "type": "heatmap"
           }
          ],
          "heatmapgl": [
           {
            "colorbar": {
             "outlinewidth": 0,
             "ticks": ""
            },
            "colorscale": [
             [
              0,
              "#0d0887"
             ],
             [
              0.1111111111111111,
              "#46039f"
             ],
             [
              0.2222222222222222,
              "#7201a8"
             ],
             [
              0.3333333333333333,
              "#9c179e"
             ],
             [
              0.4444444444444444,
              "#bd3786"
             ],
             [
              0.5555555555555556,
              "#d8576b"
             ],
             [
              0.6666666666666666,
              "#ed7953"
             ],
             [
              0.7777777777777778,
              "#fb9f3a"
             ],
             [
              0.8888888888888888,
              "#fdca26"
             ],
             [
              1,
              "#f0f921"
             ]
            ],
            "type": "heatmapgl"
           }
          ],
          "histogram": [
           {
            "marker": {
             "pattern": {
              "fillmode": "overlay",
              "size": 10,
              "solidity": 0.2
             }
            },
            "type": "histogram"
           }
          ],
          "histogram2d": [
           {
            "colorbar": {
             "outlinewidth": 0,
             "ticks": ""
            },
            "colorscale": [
             [
              0,
              "#0d0887"
             ],
             [
              0.1111111111111111,
              "#46039f"
             ],
             [
              0.2222222222222222,
              "#7201a8"
             ],
             [
              0.3333333333333333,
              "#9c179e"
             ],
             [
              0.4444444444444444,
              "#bd3786"
             ],
             [
              0.5555555555555556,
              "#d8576b"
             ],
             [
              0.6666666666666666,
              "#ed7953"
             ],
             [
              0.7777777777777778,
              "#fb9f3a"
             ],
             [
              0.8888888888888888,
              "#fdca26"
             ],
             [
              1,
              "#f0f921"
             ]
            ],
            "type": "histogram2d"
           }
          ],
          "histogram2dcontour": [
           {
            "colorbar": {
             "outlinewidth": 0,
             "ticks": ""
            },
            "colorscale": [
             [
              0,
              "#0d0887"
             ],
             [
              0.1111111111111111,
              "#46039f"
             ],
             [
              0.2222222222222222,
              "#7201a8"
             ],
             [
              0.3333333333333333,
              "#9c179e"
             ],
             [
              0.4444444444444444,
              "#bd3786"
             ],
             [
              0.5555555555555556,
              "#d8576b"
             ],
             [
              0.6666666666666666,
              "#ed7953"
             ],
             [
              0.7777777777777778,
              "#fb9f3a"
             ],
             [
              0.8888888888888888,
              "#fdca26"
             ],
             [
              1,
              "#f0f921"
             ]
            ],
            "type": "histogram2dcontour"
           }
          ],
          "mesh3d": [
           {
            "colorbar": {
             "outlinewidth": 0,
             "ticks": ""
            },
            "type": "mesh3d"
           }
          ],
          "parcoords": [
           {
            "line": {
             "colorbar": {
              "outlinewidth": 0,
              "ticks": ""
             }
            },
            "type": "parcoords"
           }
          ],
          "pie": [
           {
            "automargin": true,
            "type": "pie"
           }
          ],
          "scatter": [
           {
            "fillpattern": {
             "fillmode": "overlay",
             "size": 10,
             "solidity": 0.2
            },
            "type": "scatter"
           }
          ],
          "scatter3d": [
           {
            "line": {
             "colorbar": {
              "outlinewidth": 0,
              "ticks": ""
             }
            },
            "marker": {
             "colorbar": {
              "outlinewidth": 0,
              "ticks": ""
             }
            },
            "type": "scatter3d"
           }
          ],
          "scattercarpet": [
           {
            "marker": {
             "colorbar": {
              "outlinewidth": 0,
              "ticks": ""
             }
            },
            "type": "scattercarpet"
           }
          ],
          "scattergeo": [
           {
            "marker": {
             "colorbar": {
              "outlinewidth": 0,
              "ticks": ""
             }
            },
            "type": "scattergeo"
           }
          ],
          "scattergl": [
           {
            "marker": {
             "colorbar": {
              "outlinewidth": 0,
              "ticks": ""
             }
            },
            "type": "scattergl"
           }
          ],
          "scattermapbox": [
           {
            "marker": {
             "colorbar": {
              "outlinewidth": 0,
              "ticks": ""
             }
            },
            "type": "scattermapbox"
           }
          ],
          "scatterpolar": [
           {
            "marker": {
             "colorbar": {
              "outlinewidth": 0,
              "ticks": ""
             }
            },
            "type": "scatterpolar"
           }
          ],
          "scatterpolargl": [
           {
            "marker": {
             "colorbar": {
              "outlinewidth": 0,
              "ticks": ""
             }
            },
            "type": "scatterpolargl"
           }
          ],
          "scatterternary": [
           {
            "marker": {
             "colorbar": {
              "outlinewidth": 0,
              "ticks": ""
             }
            },
            "type": "scatterternary"
           }
          ],
          "surface": [
           {
            "colorbar": {
             "outlinewidth": 0,
             "ticks": ""
            },
            "colorscale": [
             [
              0,
              "#0d0887"
             ],
             [
              0.1111111111111111,
              "#46039f"
             ],
             [
              0.2222222222222222,
              "#7201a8"
             ],
             [
              0.3333333333333333,
              "#9c179e"
             ],
             [
              0.4444444444444444,
              "#bd3786"
             ],
             [
              0.5555555555555556,
              "#d8576b"
             ],
             [
              0.6666666666666666,
              "#ed7953"
             ],
             [
              0.7777777777777778,
              "#fb9f3a"
             ],
             [
              0.8888888888888888,
              "#fdca26"
             ],
             [
              1,
              "#f0f921"
             ]
            ],
            "type": "surface"
           }
          ],
          "table": [
           {
            "cells": {
             "fill": {
              "color": "#EBF0F8"
             },
             "line": {
              "color": "white"
             }
            },
            "header": {
             "fill": {
              "color": "#C8D4E3"
             },
             "line": {
              "color": "white"
             }
            },
            "type": "table"
           }
          ]
         },
         "layout": {
          "annotationdefaults": {
           "arrowcolor": "#2a3f5f",
           "arrowhead": 0,
           "arrowwidth": 1
          },
          "autotypenumbers": "strict",
          "coloraxis": {
           "colorbar": {
            "outlinewidth": 0,
            "ticks": ""
           }
          },
          "colorscale": {
           "diverging": [
            [
             0,
             "#8e0152"
            ],
            [
             0.1,
             "#c51b7d"
            ],
            [
             0.2,
             "#de77ae"
            ],
            [
             0.3,
             "#f1b6da"
            ],
            [
             0.4,
             "#fde0ef"
            ],
            [
             0.5,
             "#f7f7f7"
            ],
            [
             0.6,
             "#e6f5d0"
            ],
            [
             0.7,
             "#b8e186"
            ],
            [
             0.8,
             "#7fbc41"
            ],
            [
             0.9,
             "#4d9221"
            ],
            [
             1,
             "#276419"
            ]
           ],
           "sequential": [
            [
             0,
             "#0d0887"
            ],
            [
             0.1111111111111111,
             "#46039f"
            ],
            [
             0.2222222222222222,
             "#7201a8"
            ],
            [
             0.3333333333333333,
             "#9c179e"
            ],
            [
             0.4444444444444444,
             "#bd3786"
            ],
            [
             0.5555555555555556,
             "#d8576b"
            ],
            [
             0.6666666666666666,
             "#ed7953"
            ],
            [
             0.7777777777777778,
             "#fb9f3a"
            ],
            [
             0.8888888888888888,
             "#fdca26"
            ],
            [
             1,
             "#f0f921"
            ]
           ],
           "sequentialminus": [
            [
             0,
             "#0d0887"
            ],
            [
             0.1111111111111111,
             "#46039f"
            ],
            [
             0.2222222222222222,
             "#7201a8"
            ],
            [
             0.3333333333333333,
             "#9c179e"
            ],
            [
             0.4444444444444444,
             "#bd3786"
            ],
            [
             0.5555555555555556,
             "#d8576b"
            ],
            [
             0.6666666666666666,
             "#ed7953"
            ],
            [
             0.7777777777777778,
             "#fb9f3a"
            ],
            [
             0.8888888888888888,
             "#fdca26"
            ],
            [
             1,
             "#f0f921"
            ]
           ]
          },
          "colorway": [
           "#636efa",
           "#EF553B",
           "#00cc96",
           "#ab63fa",
           "#FFA15A",
           "#19d3f3",
           "#FF6692",
           "#B6E880",
           "#FF97FF",
           "#FECB52"
          ],
          "font": {
           "color": "#2a3f5f"
          },
          "geo": {
           "bgcolor": "white",
           "lakecolor": "white",
           "landcolor": "#E5ECF6",
           "showlakes": true,
           "showland": true,
           "subunitcolor": "white"
          },
          "hoverlabel": {
           "align": "left"
          },
          "hovermode": "closest",
          "mapbox": {
           "style": "light"
          },
          "paper_bgcolor": "white",
          "plot_bgcolor": "#E5ECF6",
          "polar": {
           "angularaxis": {
            "gridcolor": "white",
            "linecolor": "white",
            "ticks": ""
           },
           "bgcolor": "#E5ECF6",
           "radialaxis": {
            "gridcolor": "white",
            "linecolor": "white",
            "ticks": ""
           }
          },
          "scene": {
           "xaxis": {
            "backgroundcolor": "#E5ECF6",
            "gridcolor": "white",
            "gridwidth": 2,
            "linecolor": "white",
            "showbackground": true,
            "ticks": "",
            "zerolinecolor": "white"
           },
           "yaxis": {
            "backgroundcolor": "#E5ECF6",
            "gridcolor": "white",
            "gridwidth": 2,
            "linecolor": "white",
            "showbackground": true,
            "ticks": "",
            "zerolinecolor": "white"
           },
           "zaxis": {
            "backgroundcolor": "#E5ECF6",
            "gridcolor": "white",
            "gridwidth": 2,
            "linecolor": "white",
            "showbackground": true,
            "ticks": "",
            "zerolinecolor": "white"
           }
          },
          "shapedefaults": {
           "line": {
            "color": "#2a3f5f"
           }
          },
          "ternary": {
           "aaxis": {
            "gridcolor": "white",
            "linecolor": "white",
            "ticks": ""
           },
           "baxis": {
            "gridcolor": "white",
            "linecolor": "white",
            "ticks": ""
           },
           "bgcolor": "#E5ECF6",
           "caxis": {
            "gridcolor": "white",
            "linecolor": "white",
            "ticks": ""
           }
          },
          "title": {
           "x": 0.05
          },
          "xaxis": {
           "automargin": true,
           "gridcolor": "white",
           "linecolor": "white",
           "ticks": "",
           "title": {
            "standoff": 15
           },
           "zerolinecolor": "white",
           "zerolinewidth": 2
          },
          "yaxis": {
           "automargin": true,
           "gridcolor": "white",
           "linecolor": "white",
           "ticks": "",
           "title": {
            "standoff": 15
           },
           "zerolinecolor": "white",
           "zerolinewidth": 2
          }
         }
        },
        "title": {
         "text": "Feature Importance in RandomForest Classifier"
        },
        "width": 800,
        "xaxis": {
         "anchor": "y",
         "domain": [
          0,
          1
         ],
         "title": {
          "text": "Importance"
         }
        },
        "yaxis": {
         "anchor": "x",
         "categoryorder": "total ascending",
         "domain": [
          0,
          1
         ],
         "title": {
          "text": "Feature"
         }
        }
       }
      },
      "text/html": [
       "<div>                            <div id=\"fb5ea24a-5fc7-450f-aa61-3540c7407e8a\" class=\"plotly-graph-div\" style=\"height:600px; width:800px;\"></div>            <script type=\"text/javascript\">                require([\"plotly\"], function(Plotly) {                    window.PLOTLYENV=window.PLOTLYENV || {};                                    if (document.getElementById(\"fb5ea24a-5fc7-450f-aa61-3540c7407e8a\")) {                    Plotly.newPlot(                        \"fb5ea24a-5fc7-450f-aa61-3540c7407e8a\",                        [{\"alignmentgroup\":\"True\",\"hovertemplate\":\"Importance=%{x}<br>Feature=%{y}<extra></extra>\",\"legendgroup\":\"\",\"marker\":{\"color\":\"#636efa\",\"pattern\":{\"shape\":\"\"}},\"name\":\"\",\"offsetgroup\":\"\",\"orientation\":\"h\",\"showlegend\":false,\"textposition\":\"auto\",\"x\":[0.10501278934348245,0.1025122585863441,0.10236915171588133,0.10104575765672079,0.097400242614356,0.09296248005593956,0.08875180281047212,0.08408620120542591,0.07884015566112335,0.07509980466799503,0.0719193556822594],\"xaxis\":\"x\",\"y\":[\"dur\",\"bpm\",\"val\",\"pop\",\"dnce\",\"nrgy\",\"acous\",\"live\",\"dB\",\"year\",\"spch\"],\"yaxis\":\"y\",\"type\":\"bar\"}],                        {\"template\":{\"data\":{\"histogram2dcontour\":[{\"type\":\"histogram2dcontour\",\"colorbar\":{\"outlinewidth\":0,\"ticks\":\"\"},\"colorscale\":[[0.0,\"#0d0887\"],[0.1111111111111111,\"#46039f\"],[0.2222222222222222,\"#7201a8\"],[0.3333333333333333,\"#9c179e\"],[0.4444444444444444,\"#bd3786\"],[0.5555555555555556,\"#d8576b\"],[0.6666666666666666,\"#ed7953\"],[0.7777777777777778,\"#fb9f3a\"],[0.8888888888888888,\"#fdca26\"],[1.0,\"#f0f921\"]]}],\"choropleth\":[{\"type\":\"choropleth\",\"colorbar\":{\"outlinewidth\":0,\"ticks\":\"\"}}],\"histogram2d\":[{\"type\":\"histogram2d\",\"colorbar\":{\"outlinewidth\":0,\"ticks\":\"\"},\"colorscale\":[[0.0,\"#0d0887\"],[0.1111111111111111,\"#46039f\"],[0.2222222222222222,\"#7201a8\"],[0.3333333333333333,\"#9c179e\"],[0.4444444444444444,\"#bd3786\"],[0.5555555555555556,\"#d8576b\"],[0.6666666666666666,\"#ed7953\"],[0.7777777777777778,\"#fb9f3a\"],[0.8888888888888888,\"#fdca26\"],[1.0,\"#f0f921\"]]}],\"heatmap\":[{\"type\":\"heatmap\",\"colorbar\":{\"outlinewidth\":0,\"ticks\":\"\"},\"colorscale\":[[0.0,\"#0d0887\"],[0.1111111111111111,\"#46039f\"],[0.2222222222222222,\"#7201a8\"],[0.3333333333333333,\"#9c179e\"],[0.4444444444444444,\"#bd3786\"],[0.5555555555555556,\"#d8576b\"],[0.6666666666666666,\"#ed7953\"],[0.7777777777777778,\"#fb9f3a\"],[0.8888888888888888,\"#fdca26\"],[1.0,\"#f0f921\"]]}],\"heatmapgl\":[{\"type\":\"heatmapgl\",\"colorbar\":{\"outlinewidth\":0,\"ticks\":\"\"},\"colorscale\":[[0.0,\"#0d0887\"],[0.1111111111111111,\"#46039f\"],[0.2222222222222222,\"#7201a8\"],[0.3333333333333333,\"#9c179e\"],[0.4444444444444444,\"#bd3786\"],[0.5555555555555556,\"#d8576b\"],[0.6666666666666666,\"#ed7953\"],[0.7777777777777778,\"#fb9f3a\"],[0.8888888888888888,\"#fdca26\"],[1.0,\"#f0f921\"]]}],\"contourcarpet\":[{\"type\":\"contourcarpet\",\"colorbar\":{\"outlinewidth\":0,\"ticks\":\"\"}}],\"contour\":[{\"type\":\"contour\",\"colorbar\":{\"outlinewidth\":0,\"ticks\":\"\"},\"colorscale\":[[0.0,\"#0d0887\"],[0.1111111111111111,\"#46039f\"],[0.2222222222222222,\"#7201a8\"],[0.3333333333333333,\"#9c179e\"],[0.4444444444444444,\"#bd3786\"],[0.5555555555555556,\"#d8576b\"],[0.6666666666666666,\"#ed7953\"],[0.7777777777777778,\"#fb9f3a\"],[0.8888888888888888,\"#fdca26\"],[1.0,\"#f0f921\"]]}],\"surface\":[{\"type\":\"surface\",\"colorbar\":{\"outlinewidth\":0,\"ticks\":\"\"},\"colorscale\":[[0.0,\"#0d0887\"],[0.1111111111111111,\"#46039f\"],[0.2222222222222222,\"#7201a8\"],[0.3333333333333333,\"#9c179e\"],[0.4444444444444444,\"#bd3786\"],[0.5555555555555556,\"#d8576b\"],[0.6666666666666666,\"#ed7953\"],[0.7777777777777778,\"#fb9f3a\"],[0.8888888888888888,\"#fdca26\"],[1.0,\"#f0f921\"]]}],\"mesh3d\":[{\"type\":\"mesh3d\",\"colorbar\":{\"outlinewidth\":0,\"ticks\":\"\"}}],\"scatter\":[{\"fillpattern\":{\"fillmode\":\"overlay\",\"size\":10,\"solidity\":0.2},\"type\":\"scatter\"}],\"parcoords\":[{\"type\":\"parcoords\",\"line\":{\"colorbar\":{\"outlinewidth\":0,\"ticks\":\"\"}}}],\"scatterpolargl\":[{\"type\":\"scatterpolargl\",\"marker\":{\"colorbar\":{\"outlinewidth\":0,\"ticks\":\"\"}}}],\"bar\":[{\"error_x\":{\"color\":\"#2a3f5f\"},\"error_y\":{\"color\":\"#2a3f5f\"},\"marker\":{\"line\":{\"color\":\"#E5ECF6\",\"width\":0.5},\"pattern\":{\"fillmode\":\"overlay\",\"size\":10,\"solidity\":0.2}},\"type\":\"bar\"}],\"scattergeo\":[{\"type\":\"scattergeo\",\"marker\":{\"colorbar\":{\"outlinewidth\":0,\"ticks\":\"\"}}}],\"scatterpolar\":[{\"type\":\"scatterpolar\",\"marker\":{\"colorbar\":{\"outlinewidth\":0,\"ticks\":\"\"}}}],\"histogram\":[{\"marker\":{\"pattern\":{\"fillmode\":\"overlay\",\"size\":10,\"solidity\":0.2}},\"type\":\"histogram\"}],\"scattergl\":[{\"type\":\"scattergl\",\"marker\":{\"colorbar\":{\"outlinewidth\":0,\"ticks\":\"\"}}}],\"scatter3d\":[{\"type\":\"scatter3d\",\"line\":{\"colorbar\":{\"outlinewidth\":0,\"ticks\":\"\"}},\"marker\":{\"colorbar\":{\"outlinewidth\":0,\"ticks\":\"\"}}}],\"scattermapbox\":[{\"type\":\"scattermapbox\",\"marker\":{\"colorbar\":{\"outlinewidth\":0,\"ticks\":\"\"}}}],\"scatterternary\":[{\"type\":\"scatterternary\",\"marker\":{\"colorbar\":{\"outlinewidth\":0,\"ticks\":\"\"}}}],\"scattercarpet\":[{\"type\":\"scattercarpet\",\"marker\":{\"colorbar\":{\"outlinewidth\":0,\"ticks\":\"\"}}}],\"carpet\":[{\"aaxis\":{\"endlinecolor\":\"#2a3f5f\",\"gridcolor\":\"white\",\"linecolor\":\"white\",\"minorgridcolor\":\"white\",\"startlinecolor\":\"#2a3f5f\"},\"baxis\":{\"endlinecolor\":\"#2a3f5f\",\"gridcolor\":\"white\",\"linecolor\":\"white\",\"minorgridcolor\":\"white\",\"startlinecolor\":\"#2a3f5f\"},\"type\":\"carpet\"}],\"table\":[{\"cells\":{\"fill\":{\"color\":\"#EBF0F8\"},\"line\":{\"color\":\"white\"}},\"header\":{\"fill\":{\"color\":\"#C8D4E3\"},\"line\":{\"color\":\"white\"}},\"type\":\"table\"}],\"barpolar\":[{\"marker\":{\"line\":{\"color\":\"#E5ECF6\",\"width\":0.5},\"pattern\":{\"fillmode\":\"overlay\",\"size\":10,\"solidity\":0.2}},\"type\":\"barpolar\"}],\"pie\":[{\"automargin\":true,\"type\":\"pie\"}]},\"layout\":{\"autotypenumbers\":\"strict\",\"colorway\":[\"#636efa\",\"#EF553B\",\"#00cc96\",\"#ab63fa\",\"#FFA15A\",\"#19d3f3\",\"#FF6692\",\"#B6E880\",\"#FF97FF\",\"#FECB52\"],\"font\":{\"color\":\"#2a3f5f\"},\"hovermode\":\"closest\",\"hoverlabel\":{\"align\":\"left\"},\"paper_bgcolor\":\"white\",\"plot_bgcolor\":\"#E5ECF6\",\"polar\":{\"bgcolor\":\"#E5ECF6\",\"angularaxis\":{\"gridcolor\":\"white\",\"linecolor\":\"white\",\"ticks\":\"\"},\"radialaxis\":{\"gridcolor\":\"white\",\"linecolor\":\"white\",\"ticks\":\"\"}},\"ternary\":{\"bgcolor\":\"#E5ECF6\",\"aaxis\":{\"gridcolor\":\"white\",\"linecolor\":\"white\",\"ticks\":\"\"},\"baxis\":{\"gridcolor\":\"white\",\"linecolor\":\"white\",\"ticks\":\"\"},\"caxis\":{\"gridcolor\":\"white\",\"linecolor\":\"white\",\"ticks\":\"\"}},\"coloraxis\":{\"colorbar\":{\"outlinewidth\":0,\"ticks\":\"\"}},\"colorscale\":{\"sequential\":[[0.0,\"#0d0887\"],[0.1111111111111111,\"#46039f\"],[0.2222222222222222,\"#7201a8\"],[0.3333333333333333,\"#9c179e\"],[0.4444444444444444,\"#bd3786\"],[0.5555555555555556,\"#d8576b\"],[0.6666666666666666,\"#ed7953\"],[0.7777777777777778,\"#fb9f3a\"],[0.8888888888888888,\"#fdca26\"],[1.0,\"#f0f921\"]],\"sequentialminus\":[[0.0,\"#0d0887\"],[0.1111111111111111,\"#46039f\"],[0.2222222222222222,\"#7201a8\"],[0.3333333333333333,\"#9c179e\"],[0.4444444444444444,\"#bd3786\"],[0.5555555555555556,\"#d8576b\"],[0.6666666666666666,\"#ed7953\"],[0.7777777777777778,\"#fb9f3a\"],[0.8888888888888888,\"#fdca26\"],[1.0,\"#f0f921\"]],\"diverging\":[[0,\"#8e0152\"],[0.1,\"#c51b7d\"],[0.2,\"#de77ae\"],[0.3,\"#f1b6da\"],[0.4,\"#fde0ef\"],[0.5,\"#f7f7f7\"],[0.6,\"#e6f5d0\"],[0.7,\"#b8e186\"],[0.8,\"#7fbc41\"],[0.9,\"#4d9221\"],[1,\"#276419\"]]},\"xaxis\":{\"gridcolor\":\"white\",\"linecolor\":\"white\",\"ticks\":\"\",\"title\":{\"standoff\":15},\"zerolinecolor\":\"white\",\"automargin\":true,\"zerolinewidth\":2},\"yaxis\":{\"gridcolor\":\"white\",\"linecolor\":\"white\",\"ticks\":\"\",\"title\":{\"standoff\":15},\"zerolinecolor\":\"white\",\"automargin\":true,\"zerolinewidth\":2},\"scene\":{\"xaxis\":{\"backgroundcolor\":\"#E5ECF6\",\"gridcolor\":\"white\",\"linecolor\":\"white\",\"showbackground\":true,\"ticks\":\"\",\"zerolinecolor\":\"white\",\"gridwidth\":2},\"yaxis\":{\"backgroundcolor\":\"#E5ECF6\",\"gridcolor\":\"white\",\"linecolor\":\"white\",\"showbackground\":true,\"ticks\":\"\",\"zerolinecolor\":\"white\",\"gridwidth\":2},\"zaxis\":{\"backgroundcolor\":\"#E5ECF6\",\"gridcolor\":\"white\",\"linecolor\":\"white\",\"showbackground\":true,\"ticks\":\"\",\"zerolinecolor\":\"white\",\"gridwidth\":2}},\"shapedefaults\":{\"line\":{\"color\":\"#2a3f5f\"}},\"annotationdefaults\":{\"arrowcolor\":\"#2a3f5f\",\"arrowhead\":0,\"arrowwidth\":1},\"geo\":{\"bgcolor\":\"white\",\"landcolor\":\"#E5ECF6\",\"subunitcolor\":\"white\",\"showland\":true,\"showlakes\":true,\"lakecolor\":\"white\"},\"title\":{\"x\":0.05},\"mapbox\":{\"style\":\"light\"}}},\"xaxis\":{\"anchor\":\"y\",\"domain\":[0.0,1.0],\"title\":{\"text\":\"Importance\"}},\"yaxis\":{\"anchor\":\"x\",\"domain\":[0.0,1.0],\"title\":{\"text\":\"Feature\"},\"categoryorder\":\"total ascending\"},\"legend\":{\"tracegroupgap\":0},\"title\":{\"text\":\"Feature Importance in RandomForest Classifier\"},\"barmode\":\"relative\",\"autosize\":false,\"width\":800,\"height\":600},                        {\"responsive\": true}                    ).then(function(){\n",
       "                            \n",
       "var gd = document.getElementById('fb5ea24a-5fc7-450f-aa61-3540c7407e8a');\n",
       "var x = new MutationObserver(function (mutations, observer) {{\n",
       "        var display = window.getComputedStyle(gd).display;\n",
       "        if (!display || display === 'none') {{\n",
       "            console.log([gd, 'removed!']);\n",
       "            Plotly.purge(gd);\n",
       "            observer.disconnect();\n",
       "        }}\n",
       "}});\n",
       "\n",
       "// Listen for the removal of the full notebook cells\n",
       "var notebookContainer = gd.closest('#notebook-container');\n",
       "if (notebookContainer) {{\n",
       "    x.observe(notebookContainer, {childList: true});\n",
       "}}\n",
       "\n",
       "// Listen for the clearing of the current output cell\n",
       "var outputEl = gd.closest('.output');\n",
       "if (outputEl) {{\n",
       "    x.observe(outputEl, {childList: true});\n",
       "}}\n",
       "\n",
       "                        })                };                });            </script>        </div>"
      ]
     },
     "metadata": {},
     "output_type": "display_data"
    }
   ],
   "source": [
    "import plotly.express as px\n",
    "\n",
    "# Get feature importances from the RandomForestClassifier\n",
    "feature_importances = classifier.feature_importances_\n",
    "\n",
    "# Sort features and their importances\n",
    "sorted_idx = np.argsort(feature_importances)[::-1]\n",
    "sorted_feature_importances = feature_importances[sorted_idx]\n",
    "sorted_feature_names = features.columns[sorted_idx]\n",
    "\n",
    "# Create a dataframe to plot\n",
    "df_plot = pd.DataFrame({'Feature': sorted_feature_names, 'Importance': sorted_feature_importances})\n",
    "\n",
    "# Create the interactive bar chart\n",
    "fig = px.bar(df_plot, y='Feature', x='Importance', orientation='h', title=\"Feature Importance in RandomForest Classifier\")\n",
    "\n",
    "fig.update_layout(\n",
    "    autosize=False,\n",
    "    width=800,\n",
    "    height=600,\n",
    "    yaxis={'categoryorder':'total ascending'}\n",
    ")\n",
    "\n",
    "fig.show()\n"
   ]
  },
  {
   "cell_type": "code",
   "execution_count": null,
   "id": "4b5515f8",
   "metadata": {},
   "outputs": [],
   "source": []
  }
 ],
 "metadata": {
  "kernelspec": {
   "display_name": "Python 3 (ipykernel)",
   "language": "python",
   "name": "python3"
  },
  "language_info": {
   "codemirror_mode": {
    "name": "ipython",
    "version": 3
   },
   "file_extension": ".py",
   "mimetype": "text/x-python",
   "name": "python",
   "nbconvert_exporter": "python",
   "pygments_lexer": "ipython3",
   "version": "3.11.3"
  }
 },
 "nbformat": 4,
 "nbformat_minor": 5
}
